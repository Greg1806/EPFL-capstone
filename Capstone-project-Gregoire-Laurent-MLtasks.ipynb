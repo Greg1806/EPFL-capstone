{
 "cells": [
  {
   "cell_type": "code",
   "execution_count": 1,
   "metadata": {},
   "outputs": [],
   "source": [
    "import numpy as np\n",
    "import pandas as pd\n",
    "import zipfile\n",
    "import matplotlib.pyplot as plt"
   ]
  },
  {
   "cell_type": "code",
   "execution_count": 2,
   "metadata": {},
   "outputs": [],
   "source": [
    "# timing codes\n",
    "import time\n",
    "# start = time.time()\n",
    "# ..code here..\n",
    "# end = time.time()\n",
    "# print('{:.3} seconds'.format(end-start))\n",
    "from tqdm import tqdm\n",
    "from time import sleep\n",
    "#for i in tqdm(range(0, 100), desc =\"Text You Want\"):\n",
    "#    sleep(.1)\n",
    "#print('done')"
   ]
  },
  {
   "cell_type": "markdown",
   "metadata": {},
   "source": [
    "## Raw data if needed"
   ]
  },
  {
   "cell_type": "code",
   "execution_count": 3,
   "metadata": {},
   "outputs": [
    {
     "name": "stdout",
     "output_type": "stream",
     "text": [
      "['df_merged_train', 'df_merged_train_columns', 'df_merged_train_dep', 'df_merged_train_dep_columns', 'df_merged_train_arr', 'df_merged_train_arr_columns', 'df_merged', 'df_merged_columns', 'df_clean_final', 'df_clean_final_columns', 'df_stops_clean', 'df_stops_clean_columns']\n"
     ]
    }
   ],
   "source": [
    "# Load the npz file\n",
    "with np.load('capstone_sbb.npz', allow_pickle=False) as npz_file:\n",
    "    # It's a dictionary-like object\n",
    "    print(list(npz_file.keys()))"
   ]
  },
  {
   "cell_type": "code",
   "execution_count": 4,
   "metadata": {},
   "outputs": [
    {
     "name": "stdout",
     "output_type": "stream",
     "text": [
      "df_merged_final: (158121, 39)\n",
      "df_merged_final_columns: (39,)\n",
      "df_merged_final_departure: (144111, 39)\n",
      "df_merged_final_departure_columns: (39,)\n",
      "df_merged_final_arrival: (144117, 39)\n",
      "df_merged_final_arrival_columns: (39,)\n",
      "df_merged: (1854124, 38)\n",
      "df_merged_columns: (38,)\n",
      "df_clean_final: (1854124, 27)\n",
      "df_clean_final_columns: (27,)\n",
      "df_stops_clean: (27738, 10)\n",
      "df_stops_clean_columns: (10,)\n"
     ]
    }
   ],
   "source": [
    "with np.load('capstone_sbb.npz', allow_pickle=True) as npz_file:\n",
    "    # Load the arrays\n",
    "    df_merged_zug_x = npz_file['df_merged_train']\n",
    "    df_merged_zug_columns_x = npz_file['df_merged_train_columns']\n",
    "    \n",
    "    df_merged_zug_dep_x = npz_file['df_merged_train_dep']\n",
    "    df_merged_zug_dep_columns_x = npz_file['df_merged_train_dep_columns']\n",
    "    df_merged_zug_arr_x = npz_file['df_merged_train_arr']\n",
    "    df_merged_zug_arr_columns_x = npz_file['df_merged_train_arr_columns']\n",
    "    \n",
    "    df_merged_x = npz_file['df_merged']\n",
    "    df_merged_columns_x = npz_file['df_merged_columns']\n",
    "    df_clean_final_x = npz_file['df_clean_final']\n",
    "    df_clean_final_columns_x = npz_file['df_clean_final_columns']\n",
    "    df_stops_clean_x = npz_file['df_stops_clean']\n",
    "    df_stops_clean_columns_x = npz_file['df_stops_clean_columns']\n",
    "\n",
    "\n",
    "print('df_merged_final:', df_merged_zug_x.shape)\n",
    "print('df_merged_final_columns:', df_merged_zug_columns_x.shape)\n",
    "print('df_merged_final_departure:', df_merged_zug_dep_x.shape)\n",
    "print('df_merged_final_departure_columns:', df_merged_zug_dep_columns_x.shape)\n",
    "print('df_merged_final_arrival:', df_merged_zug_arr_x.shape)\n",
    "print('df_merged_final_arrival_columns:', df_merged_zug_arr_columns_x.shape)\n",
    "print('df_merged:', df_merged_x.shape)\n",
    "print('df_merged_columns:', df_merged_columns_x.shape)\n",
    "print('df_clean_final:', df_clean_final_x.shape)\n",
    "print('df_clean_final_columns:', df_clean_final_columns_x.shape)\n",
    "print('df_stops_clean:', df_stops_clean_x.shape)\n",
    "print('df_stops_clean_columns:', df_stops_clean_columns_x.shape)"
   ]
  },
  {
   "cell_type": "code",
   "execution_count": 5,
   "metadata": {},
   "outputs": [],
   "source": [
    "df_merged_zug = pd.DataFrame(df_merged_zug_x, columns=df_merged_zug_columns_x)\n",
    "df_merged_zug_dep = pd.DataFrame(df_merged_zug_dep_x, columns=df_merged_zug_dep_columns_x)\n",
    "df_merged_zug_arr = pd.DataFrame(df_merged_zug_arr_x, columns=df_merged_zug_arr_columns_x)\n",
    "df_merged = pd.DataFrame(df_merged_x, columns=df_merged_columns_x)\n",
    "df_clean_final = pd.DataFrame(df_clean_final_x, columns=df_clean_final_columns_x)\n",
    "df_stops_clean = pd.DataFrame(df_stops_clean_x, columns=df_stops_clean_columns_x)"
   ]
  },
  {
   "cell_type": "markdown",
   "metadata": {},
   "source": [
    "## Input and Output features"
   ]
  },
  {
   "cell_type": "code",
   "execution_count": 3,
   "metadata": {},
   "outputs": [
    {
     "name": "stdout",
     "output_type": "stream",
     "text": [
      "['df_tr_arr_input', 'df_tr_arr_input_columns', 'X_tr_arr', 'X_va_arr_reindex', 'X_te_arr_reindex', 'y_tr_arr_delay', 'y_tr_arr_imp_delay', 'y_va_arr_delay', 'y_va_arr_imp_delay', 'y_te_arr_delay', 'y_te_arr_imp_delay', 'X_tr_dep', 'X_va_dep_reindex', 'X_te_dep_reindex', 'y_tr_dep_delay', 'y_tr_dep_imp_delay', 'y_va_dep_delay', 'y_va_dep_imp_delay', 'y_te_dep_delay', 'y_te_dep_imp_delay']\n"
     ]
    }
   ],
   "source": [
    "# Load the npz file\n",
    "import numpy as np\n",
    "with np.load('capstone_inputoutput.npz', allow_pickle=False) as npz_file:\n",
    "    # It's a dictionary-like object\n",
    "    print(list(npz_file.keys()))"
   ]
  },
  {
   "cell_type": "code",
   "execution_count": 4,
   "metadata": {},
   "outputs": [
    {
     "name": "stdout",
     "output_type": "stream",
     "text": [
      "df_merged_final: (215050, 434)\n"
     ]
    }
   ],
   "source": [
    "import numpy as np\n",
    "with np.load('capstone_inputoutput.npz', allow_pickle=True) as npz_file:\n",
    "    # Load the arrays\n",
    "    # arrival set\n",
    "    df_tr_arr_input=npz_file['df_tr_arr_input']\n",
    "    df_tr_arr_input_columns=npz_file['df_tr_arr_input_columns']\n",
    "    \n",
    "    X_tr_arr = npz_file['X_tr_arr']\n",
    "    X_va_arr_reindex = npz_file['X_va_arr_reindex']\n",
    "    X_te_arr_reindex = npz_file['X_te_arr_reindex']\n",
    "    \n",
    "    y_tr_arr_delay = npz_file['y_tr_arr_delay']\n",
    "    y_tr_arr_imp_delay = npz_file['y_tr_arr_imp_delay']\n",
    "    y_va_arr_delay = npz_file['y_va_arr_delay']\n",
    "    y_va_arr_imp_delay = npz_file['y_va_arr_imp_delay']\n",
    "    y_te_arr_delay = npz_file['y_te_arr_delay']\n",
    "    y_te_arr_imp_delay = npz_file['y_te_arr_imp_delay']\n",
    "    \n",
    "    # departure set (commented out as not needed)\n",
    "    #X_tr_dep = npz_file['X_tr_dep']\n",
    "    #X_va_dep_reindex = npz_file['X_va_dep_reindex']\n",
    "    #X_te_dep_reindex = npz_file['X_te_dep_reindex']\n",
    "    \n",
    "    #y_tr_dep_delay = npz_file['y_tr_dep_delay']\n",
    "    #y_tr_dep_imp_delay = npz_file['y_tr_dep_imp_delay']\n",
    "    #y_va_dep_delay = npz_file['y_va_dep_delay']\n",
    "    #y_va_dep_imp_delay = npz_file['y_va_dep_imp_delay']\n",
    "    #y_te_dep_delay = npz_file['y_te_dep_delay']\n",
    "    #y_te_dep_imp_delay = npz_file['y_te_dep_imp_delay']\n",
    "\n",
    "# create binary output\n",
    "y_tr_arr_delay_binary = (y_tr_arr_delay == 'delay')*1\n",
    "y_va_arr_delay_binary = (y_va_arr_delay == 'delay')*1\n",
    "y_te_arr_delay_binary = (y_te_arr_delay == 'delay')*1\n",
    "y_tr_arr_imp_delay_binary = (y_tr_arr_imp_delay == 'important_delay')*1\n",
    "y_va_arr_imp_delay_binary = (y_va_arr_imp_delay == 'important_delay')*1\n",
    "y_te_arr_imp_delay_binary = (y_te_arr_imp_delay == 'important_delay')*1\n",
    "\n",
    "print('df_merged_final:', X_tr_arr.shape)"
   ]
  },
  {
   "cell_type": "markdown",
   "metadata": {},
   "source": [
    "## Machine learning models <a name='top' />\n",
    "0. **<a href=#baseline>Baseline</a>** (show 'accuracy score' irrelevant => use Confusion matrix scores)\n",
    "    * Delay and Important delay\n",
    "        - <a href=#base_score>Accuracy score</a>\n",
    "        - <a href=#base_conf_matrix>Confusion matrix</a> and <a href=#base_class_report>Classification report</a>\n",
    "1. **<a href=#logreg>Logistic Regression</a>** (tune regularization wit GridSearch CV)\n",
    "    * <a href=#logreg_a>Delay and Important delay (no tuning)</a>\n",
    "        - <a href=#logreg_a_conf_matrix>Confusion matrix</a> and <a href=#logreg_a_class_report>Classification report</a>\n",
    "        - <a href=#logreg_a_roc>ROC curve</a> x <a href=#logreg_a_pr>PR curve</a> (including Areas under & optimized thresholds)\n",
    "            * <a href=#logreg_a_curves_class_report>Classification report</a> using best threshold\n",
    "    * <a href=#logreg_b>Delay and Important delay (with class_weight)</a>\n",
    "        - <a href=#logreg_b_class_report>Classification report</a>\n",
    "    * <a href=#logreg_c>Delay and Important delay (tuning hyper-parameters to optimize for AUPRC and F1 score)</a>\n",
    "        - <a href=#logreg_c_delay>Delay</a> (<a href=#logreg_c_delay_grid>GridSearch</a>, <a href=#logreg_c_delay_thres>optimized threshold</a> and <a href=#logreg_c_delay_report>Classification report</a>)\n",
    "        - <a href=#logreg_c_imp_delay>Important delay</a> (<a href=#logreg_c_imp_delay_grid>GridSearch</a>, <a href=#logreg_c_imp_delay_thres>optimized threshold</a> and <a href=#logreg_c_imp_delay_report>Classification report</a>)\n",
    "    * <a href=#logreg_test>Performance on test set</a>\n",
    "2. **<a href=#knn>K-NN</a>** (tune number of neighbors, weights, distance with ParameterGrid)\n",
    "    * <a href=#knn_delay>Delay</a> and <a href=#knn_imp_delay>Important delay</a> (no tuning - too slow for tuning due to large data sets and high number of categorical input features)\n",
    "    * <a href=#knn_test>Performance on test set</a>\n",
    "3. **<a href=#svms>SVMs</a>** (tune C and class_weight)\n",
    "    * <a href=#svm_lin>Linear</a>:\n",
    "        - <a href=#svm_delay>Delay</a>: <a href=#svm_delay_grid>gridsearch with loop</a>, <a href=#svm_delay_thres>best threshold on pr curve</a> and <a href=#svm_delay_report>classification report</a>\n",
    "        - <a href=#svm_imp_delay>Important delay</a>: <a href=#svm_imp_delay_grid>gridsearch with loop</a>, <a href=#svm_imp_delay_thres>best threshold on pr curve</a> and <a href=#svm_imp_delay_report>classification report</a>\n",
    "        - <a href=#svm_test>Performance on test set</a>\n",
    "    * <a href=#svm_rbf>RBF</a> (Too slow for large data sets and high number of input features)\n",
    "4. **<a href=#trees>Trees</a>** (tune class_weight, max_depth and n_estimators)\n",
    "    * <a href=#dt>DecisionTree</a>: \n",
    "        - <a href=#dt_delay>Delay (binary)</a>: <a href=#dt_delay_grid>gridsearch</a>, <a href=#dt_delay_report>classification report</a> and <a href=#dt_delay_viz>visualization</a> \n",
    "        - <a href=#dt_imp_delay>Important delay (binary)</a>: <a href=#dt_imp_delay_grid>gridsearch</a>, <a href=#dt_imp_delay_report>classification report</a> and <a href=#dt_imp_delay_viz>visualization</a> \n",
    "        - <a href=#dt_test>Performance on test set</a>\n",
    "    * <a href=#rf>RandomForest Nonlinear</a>:\n",
    "        - <a href=#rf_delay>Delay (binary)</a>: <a href=#rf_delay_grid>gridsearch</a>, <a href=#rf_delay_thres>optimze threshold</a>, <a href=#rf_delay_report>classification report</a> and <a href=#rf_delay_matrix>confusion matrix</a>\n",
    "        - <a href=#rf_imp_delay>Important delay (binary)</a>: <a href=#rf_imp_delay_grid>gridsearch</a>, <a href=#rf_imp_delay_thres>optimize threshold</a>, <a href=#rf_imp_delay_report>classification report</a> and <a href=#rf_imp_delay_matrix>confusion matrix</a>\n",
    "        - <a href=#rf_multi_report>Multi-class</a>: <a href=#rf_multi_grid>gridsearch</a>, <a href=#rf_multi_report>classification report</a> and <a href=#rf_multi_matrix>confusion matrix</a>\n",
    "        - <a href=#rf_test>Performance on test set</a>\n",
    "5. **<a href=#keras>Keras</a>** (2 dense layers and 1 dropout)\n",
    "    * <a href=#keras_delay>Delay</a>: <a href=#keras_delay_fit>fit model</a>, <a href=#keras_delay_thres>optimized threshold</a>, <a href=#keras_delay_report>classification report</a> and <a href=#keras_delay_matrix>confusion matrix</a>\n",
    "    * <a href=#keras_imp_delay>Important delay</a>: <a href=#keras_imp_delay_fit>fit model</a>, <a href=#keras_imp_delay_thres>optimized threshold</a>, <a href=#keras_imp_delay_report>classification report</a> and <a href=#keras_imp_delay_matrix>confusion matrix</a>\n",
    "    * <a href=#keras_test>Performance on test set</a> \n",
    "\n",
    "**<a href=#final>Final comparisons and comments</a>**\n",
    "   * <a href=#final_f1>F1 scores</a>\n",
    "   * <a href=#final_bar>Bar charts (f1 score, precision, recall)</a>\n",
    "   * <a href=#final_auprc>Area under PR curve</a>"
   ]
  },
  {
   "cell_type": "markdown",
   "metadata": {},
   "source": [
    "### X) Baseline <a name='baseline' /><a name='base_score' /> \n",
    "*<a href=#top>Back to top</a>*"
   ]
  },
  {
   "cell_type": "code",
   "execution_count": 5,
   "metadata": {},
   "outputs": [
    {
     "name": "stdout",
     "output_type": "stream",
     "text": [
      "Score baseline delay: 0.797\n",
      "Score baseline important delay: 0.952\n"
     ]
    }
   ],
   "source": [
    "from sklearn.dummy import DummyClassifier\n",
    "\n",
    "# create dummy classifier\n",
    "dummy_d = DummyClassifier(strategy='most_frequent')\n",
    "dummy_i = DummyClassifier(strategy='most_frequent')\n",
    "\n",
    "# fit\n",
    "dummy_d.fit(X_tr_arr, y_tr_arr_delay_binary)\n",
    "dummy_i.fit(X_tr_arr, y_tr_arr_imp_delay_binary)\n",
    "\n",
    "# evaluate (accuracy)\n",
    "score_base_arr_d = dummy_d.score(X_va_arr_reindex, y_va_arr_delay_binary)\n",
    "score_base_arr_i = dummy_i.score(X_va_arr_reindex, y_va_arr_imp_delay_binary)\n",
    "\n",
    "# print\n",
    "print('Score baseline delay: {:.3f}'.format(score_base_arr_d))\n",
    "print('Score baseline important delay: {:.3f}'.format(score_base_arr_i))"
   ]
  },
  {
   "cell_type": "code",
   "execution_count": 6,
   "metadata": {},
   "outputs": [
    {
     "name": "stdout",
     "output_type": "stream",
     "text": [
      "Delay (training set):\n",
      "    Total: 215050\n",
      "    Positive: 49154 (22.86% of total)\n",
      "\n",
      "Important delay (training set):\n",
      "    Total: 215050\n",
      "    Positive: 11217 (5.22% of total)\n",
      "\n"
     ]
    }
   ],
   "source": [
    "neg_d, pos_d = np.bincount(y_tr_arr_delay_binary)\n",
    "total_d = neg_d + pos_d\n",
    "print('Delay (training set):\\n    Total: {}\\n    Positive: {} ({:.2f}% of total)\\n'.format(\n",
    "    total_d, pos_d, 100 * pos_d / total_d))\n",
    "neg_i, pos_i = np.bincount(y_tr_arr_imp_delay_binary)\n",
    "total_i = neg_i + pos_i\n",
    "print('Important delay (training set):\\n    Total: {}\\n    Positive: {} ({:.2f}% of total)\\n'.format(\n",
    "    total_i, pos_i, 100 * pos_i / total_i))"
   ]
  },
  {
   "cell_type": "markdown",
   "metadata": {},
   "source": [
    "### How to assess classifiers?\n",
    "Based on baseline accuracy we can determine that classes are imbalanced and therefore wouldn't make sense to use 'Accuracy' to assess performance of classifier. We shall rather use Confusion matrix/Clasisfication report as well as ROC/PR (Receiver operating characteristic/Precision-Recall) curves to compare classifiers performance on positive class ('delay' or 'important_delay')\n",
    "\n",
    "**CONFUSION MATRIX and CLASSIFICATION REPORT METRICS** *(Source: Unit 4.2 K-nearest + [Medium article](https://link.medium.com/Oiri21ldCfb))*\n",
    "\n",
    "**Precision:** Intuitively, the precision answers **\"How many times are we correct when we predict positive?\"**. The formula is simply \n",
    "'precision = tp/(tp+fp)'\n",
    "*<br>We can compute it in Scikit-learn using 'precision_score()'*\n",
    "\n",
    "**Recall** Intuitively, the recall measures **\"How many times do we predict positive when it is?\"**. The formula is simply 'recall = tp/(tp+fn)\n",
    "*<br>We can compute it in Scikit-learn using 'recall_score()'*\n",
    "\n",
    "**F1 score** The F1 score is a way to combine the precision and recall metrics into a single score. The formula is: 'f1_score = 2 * (precision * recall) / (precision + recall)\n",
    "*<br> we can compute it in Scikit-learn using 'f1_score()'*\n",
    "\n",
    "**ROC, PRECISION-RECALL and AREA UNDER CURVES** *(Source: [how to effectively predict imbalanced classes](https://towardsdatascience.com/how-to-effectively-predict-imbalanced-classes-in-python-e8cd3b5720c4))*\n",
    "\n",
    "**ROC** Receiver Operating Characteristic plots a binary classifier's Flase Positive Rate (FPR) on the x-axis and True Positive Rate (TPR, Recall) on the y-axis with all possible threshold values between 0 and 1. Default probability threshold value for any classifier is usually 0.5, that is, classify a sample as belonging to the positive class if its predicted > 0.5. However, this default assumption should not be used for imbalanced datasets.\n",
    "*<br> we can compute it and its area under the curve in scikit-learn using 'roc_curve' and 'roc_auc_score'*\n",
    "\n",
    "**Precision-Recall** A PR curve plots Recall on the x-axis against Precision on the y-axis for all the possible probability threshold.**In contrast with the ROC curve, a perfectly skilled model bows towards the top right axis with coordinates (1,1). Since both Precision and Recall are concerned with true positives (the minority class), it makes it an effective tool for imbalanced classification problems.**\n",
    "*<br> we can compute it and its area under the curve in scikit-learn using 'precision_recall_curve' and 'auc'*\n",
    "\n",
    "**When to Use ROC vs. Precision-Recall Curves?**  *(Source: [roc curves and precision-recall curves for classification](https://machinelearningmastery.com/roc-curves-and-precision-recall-curves-for-classification-in-python/))*\n",
    "<br>Generally, the use of ROC curves and precision-recall curves are as follows:\n",
    "\n",
    "* ROC curves should be used when there are roughly equal numbers of observations for each class.\n",
    "* Precision-Recall curves should be used when there is a moderate to large class imbalance.\n",
    "\n",
    "**CONCLUSION:** For this project we wil work on optimizing first **'Area under PRC'** and then when possible find [best threshold](https://machinelearningmastery.com/threshold-moving-for-imbalanced-classification/) to optimize **F1 Score** for the positive classes\n",
    "\n",
    "***"
   ]
  },
  {
   "cell_type": "markdown",
   "metadata": {},
   "source": [
    "#### Import all necessary packages"
   ]
  },
  {
   "cell_type": "code",
   "execution_count": 7,
   "metadata": {},
   "outputs": [],
   "source": [
    "# Confusion Matrix\n",
    "from sklearn.metrics import confusion_matrix\n",
    "from sklearn.metrics import precision_score\n",
    "from sklearn.metrics import recall_score\n",
    "from sklearn.metrics import f1_score\n",
    "from sklearn.metrics import fbeta_score\n",
    "# classification report\n",
    "from sklearn.metrics import classification_report\n",
    "# ROC curve\n",
    "from sklearn.metrics import roc_curve\n",
    "from sklearn.metrics import roc_auc_score\n",
    "# Precision-Recal curve\n",
    "from sklearn.metrics import precision_recall_curve\n",
    "from sklearn.metrics import auc"
   ]
  },
  {
   "cell_type": "markdown",
   "metadata": {},
   "source": [
    "#### Confusion Matrix (baseline) <a name='base_conf_matrix' />\n",
    "*<a href=#top>Back to top</a>*"
   ]
  },
  {
   "cell_type": "code",
   "execution_count": 8,
   "metadata": {},
   "outputs": [
    {
     "name": "stdout",
     "output_type": "stream",
     "text": [
      "Precision score: 0.0\n",
      "Recall score: 0.0\n",
      "F1 score: 0.0\n"
     ]
    },
    {
     "name": "stderr",
     "output_type": "stream",
     "text": [
      "C:\\Users\\glaurent\\AppData\\Local\\Continuum\\anaconda3\\envs\\exts-ml\\lib\\site-packages\\sklearn\\metrics\\_classification.py:1245: UndefinedMetricWarning: Precision is ill-defined and being set to 0.0 due to no predicted samples. Use `zero_division` parameter to control this behavior.\n",
      "  _warn_prf(average, modifier, msg_start, len(result))\n"
     ]
    },
    {
     "data": {
      "text/html": [
       "<div>\n",
       "<style scoped>\n",
       "    .dataframe tbody tr th:only-of-type {\n",
       "        vertical-align: middle;\n",
       "    }\n",
       "\n",
       "    .dataframe tbody tr th {\n",
       "        vertical-align: top;\n",
       "    }\n",
       "\n",
       "    .dataframe thead th {\n",
       "        text-align: right;\n",
       "    }\n",
       "</style>\n",
       "<table border=\"1\" class=\"dataframe\">\n",
       "  <thead>\n",
       "    <tr style=\"text-align: right;\">\n",
       "      <th></th>\n",
       "      <th>pred: no delay</th>\n",
       "      <th>pred: delay</th>\n",
       "    </tr>\n",
       "  </thead>\n",
       "  <tbody>\n",
       "    <tr>\n",
       "      <th>true: no delay</th>\n",
       "      <td>86652</td>\n",
       "      <td>0</td>\n",
       "    </tr>\n",
       "    <tr>\n",
       "      <th>true: delay</th>\n",
       "      <td>22068</td>\n",
       "      <td>0</td>\n",
       "    </tr>\n",
       "  </tbody>\n",
       "</table>\n",
       "</div>"
      ],
      "text/plain": [
       "                pred: no delay  pred: delay\n",
       "true: no delay           86652            0\n",
       "true: delay              22068            0"
      ]
     },
     "execution_count": 8,
     "metadata": {},
     "output_type": "execute_result"
    }
   ],
   "source": [
    "# Confusion matrix 'baseline' (buildling for 'delay' only as proof-of-concept, but would be same results (even more extreme) for 'important_delay')\n",
    "y_pred_va_arr_d = dummy_d.predict(X_va_arr_reindex)\n",
    "matrix_base = confusion_matrix(y_true=y_va_arr_delay_binary, y_pred=y_pred_va_arr_d)\n",
    "matrix_base = pd.DataFrame(\n",
    "    matrix_base, \n",
    "    columns=['pred: no delay', 'pred: delay'],\n",
    "    index=['true: no delay', 'true: delay']\n",
    ")\n",
    "# evaluate\n",
    "precision_base_arr_d = precision_score(y_true=y_va_arr_delay_binary, y_pred=y_pred_va_arr_d, pos_label=1)\n",
    "recall_base_arr_d = recall_score(y_true=y_va_arr_delay_binary, y_pred=y_pred_va_arr_d, pos_label=1)\n",
    "f1_base_arr_d = f1_score(y_true=y_va_arr_delay_binary, y_pred=y_pred_va_arr_d, pos_label=1)\n",
    "\n",
    "# print\n",
    "print('Precision score:',precision_base_arr_d)\n",
    "print('Recall score:',recall_base_arr_d)\n",
    "print('F1 score:',f1_base_arr_d)\n",
    "#print('FBeta {:.1f} score: {:.3f}'.format(2,fbeta_score(y_true=y_va_arr_delay, beta=2, y_pred=dummy_d.predict(X_va_arr_reindex), pos_label='delay'))) # https://scikit-learn.org/stable/modules/generated/sklearn.metrics.fbeta_score.html\n",
    "matrix_base"
   ]
  },
  {
   "cell_type": "markdown",
   "metadata": {},
   "source": [
    "#### Classification report (baseline) <a name='base_class_report' />\n",
    "*<a href=#top>Back to top</a>*"
   ]
  },
  {
   "cell_type": "code",
   "execution_count": 9,
   "metadata": {},
   "outputs": [
    {
     "name": "stderr",
     "output_type": "stream",
     "text": [
      "C:\\Users\\glaurent\\AppData\\Local\\Continuum\\anaconda3\\envs\\exts-ml\\lib\\site-packages\\sklearn\\metrics\\_classification.py:1245: UndefinedMetricWarning: Precision and F-score are ill-defined and being set to 0.0 in labels with no predicted samples. Use `zero_division` parameter to control this behavior.\n",
      "  _warn_prf(average, modifier, msg_start, len(result))\n",
      "C:\\Users\\glaurent\\AppData\\Local\\Continuum\\anaconda3\\envs\\exts-ml\\lib\\site-packages\\sklearn\\metrics\\_classification.py:1245: UndefinedMetricWarning: Precision and F-score are ill-defined and being set to 0.0 in labels with no predicted samples. Use `zero_division` parameter to control this behavior.\n",
      "  _warn_prf(average, modifier, msg_start, len(result))\n",
      "C:\\Users\\glaurent\\AppData\\Local\\Continuum\\anaconda3\\envs\\exts-ml\\lib\\site-packages\\sklearn\\metrics\\_classification.py:1245: UndefinedMetricWarning: Precision and F-score are ill-defined and being set to 0.0 in labels with no predicted samples. Use `zero_division` parameter to control this behavior.\n",
      "  _warn_prf(average, modifier, msg_start, len(result))\n"
     ]
    },
    {
     "name": "stdout",
     "output_type": "stream",
     "text": [
      "              precision    recall  f1-score   support\n",
      "\n",
      "    no_delay       0.80      1.00      0.89     86652\n",
      "       delay       0.00      0.00      0.00     22068\n",
      "\n",
      "    accuracy                           0.80    108720\n",
      "   macro avg       0.40      0.50      0.44    108720\n",
      "weighted avg       0.64      0.80      0.71    108720\n",
      "\n"
     ]
    }
   ],
   "source": [
    "report_base = classification_report(y_true=y_va_arr_delay_binary, y_pred=y_pred_va_arr_d, target_names=('no_delay','delay'))\n",
    "print(report_base)"
   ]
  },
  {
   "cell_type": "markdown",
   "metadata": {},
   "source": [
    "### i) Logistic Regression <a name='logreg' />\n",
    "*<a href=#top>Back to top</a>*\n",
    "#### a) Logisitic Regresison with default hyper-parameters (simple comparison to Baseline) <a name='logreg_a' />"
   ]
  },
  {
   "cell_type": "code",
   "execution_count": 10,
   "metadata": {},
   "outputs": [
    {
     "name": "stdout",
     "output_type": "stream",
     "text": [
      "Logistic Regression: delay\n",
      "Score LogReg delay: 0.8200\n",
      "Precision LogReg delay: 0.5748\n",
      "Recall LogReg delay: 0.4354\n",
      "F1 score LogReg delay: 0.4955\n",
      "***\n",
      "Logistic Regression: important delay\n",
      "Score LogReg important delay: 0.9534\n",
      "Precision LogReg important delay: 0.7660\n",
      "Recall LogReg important delay: 0.0481\n",
      "F1 score LogReg important delay: 0.0905\n"
     ]
    }
   ],
   "source": [
    "from sklearn.linear_model import LogisticRegression\n",
    "\n",
    "# create logisitic Regression\n",
    "logreg_d = LogisticRegression(multi_class='ovr',solver='liblinear')\n",
    "logreg_i = LogisticRegression(multi_class='ovr',solver='liblinear')\n",
    "\n",
    "# fit\n",
    "logreg_d.fit(X_tr_arr, y_tr_arr_delay_binary)\n",
    "logreg_i.fit(X_tr_arr, y_tr_arr_imp_delay_binary)\n",
    "\n",
    "# evaluate\n",
    "score_logreg_arr_d = logreg_d.score(X_va_arr_reindex, y_va_arr_delay_binary)\n",
    "score_logreg_arr_i = logreg_i.score(X_va_arr_reindex, y_va_arr_imp_delay_binary)\n",
    "\n",
    "y_pred_logreg_va_arr_d = logreg_d.predict(X_va_arr_reindex) # prediction delay\n",
    "precision_logreg_arr_d = precision_score(y_true=y_va_arr_delay_binary, y_pred=y_pred_logreg_va_arr_d, pos_label=1)\n",
    "recall_logreg_arr_d = recall_score(y_true=y_va_arr_delay_binary, y_pred=y_pred_logreg_va_arr_d, pos_label=1)\n",
    "f1_logreg_arr_d = f1_score(y_true=y_va_arr_delay_binary, y_pred=y_pred_logreg_va_arr_d, pos_label=1)\n",
    "\n",
    "y_pred_logreg_va_arr_i = logreg_i.predict(X_va_arr_reindex) # prediction important delay\n",
    "precision_logreg_arr_i = precision_score(y_true=y_va_arr_imp_delay_binary, y_pred=y_pred_logreg_va_arr_i, pos_label=1)\n",
    "recall_logreg_arr_i = recall_score(y_true=y_va_arr_imp_delay_binary, y_pred=y_pred_logreg_va_arr_i, pos_label=1)\n",
    "f1_logreg_arr_i = f1_score(y_true=y_va_arr_imp_delay_binary, y_pred=y_pred_logreg_va_arr_i, pos_label=1)\n",
    "\n",
    "# print\n",
    "print('Logistic Regression: delay')\n",
    "print('Score LogReg delay: {:.4f}'.format(score_logreg_arr_d))\n",
    "print('Precision LogReg delay: {:.4f}'.format(precision_logreg_arr_d))\n",
    "print('Recall LogReg delay: {:.4f}'.format(recall_logreg_arr_d))\n",
    "print('F1 score LogReg delay: {:.4f}'.format(f1_logreg_arr_d))\n",
    "print('***')\n",
    "print('Logistic Regression: important delay')\n",
    "print('Score LogReg important delay: {:.4f}'.format(score_logreg_arr_i))\n",
    "print('Precision LogReg important delay: {:.4f}'.format(precision_logreg_arr_i))\n",
    "print('Recall LogReg important delay: {:.4f}'.format(recall_logreg_arr_i))\n",
    "print('F1 score LogReg important delay: {:.4f}'.format(f1_logreg_arr_i))"
   ]
  },
  {
   "cell_type": "markdown",
   "metadata": {},
   "source": [
    "#### Confusion matrix (Logistic Regression (a)) <a name='logreg_a_conf_matrix' />\n",
    "*<a href=#top>Back to top</a>*"
   ]
  },
  {
   "cell_type": "code",
   "execution_count": 11,
   "metadata": {},
   "outputs": [
    {
     "name": "stdout",
     "output_type": "stream",
     "text": [
      "Confusion matrix (normalized): Logistic Regression delay\n"
     ]
    },
    {
     "data": {
      "text/html": [
       "<div>\n",
       "<style scoped>\n",
       "    .dataframe tbody tr th:only-of-type {\n",
       "        vertical-align: middle;\n",
       "    }\n",
       "\n",
       "    .dataframe tbody tr th {\n",
       "        vertical-align: top;\n",
       "    }\n",
       "\n",
       "    .dataframe thead th {\n",
       "        text-align: right;\n",
       "    }\n",
       "</style>\n",
       "<table border=\"1\" class=\"dataframe\">\n",
       "  <thead>\n",
       "    <tr style=\"text-align: right;\">\n",
       "      <th></th>\n",
       "      <th>pred: no delay</th>\n",
       "      <th>pred: delay</th>\n",
       "    </tr>\n",
       "  </thead>\n",
       "  <tbody>\n",
       "    <tr>\n",
       "      <th>true: no delay</th>\n",
       "      <td>0.731650</td>\n",
       "      <td>0.065370</td>\n",
       "    </tr>\n",
       "    <tr>\n",
       "      <th>true: delay</th>\n",
       "      <td>0.114597</td>\n",
       "      <td>0.088383</td>\n",
       "    </tr>\n",
       "  </tbody>\n",
       "</table>\n",
       "</div>"
      ],
      "text/plain": [
       "                pred: no delay  pred: delay\n",
       "true: no delay        0.731650     0.065370\n",
       "true: delay           0.114597     0.088383"
      ]
     },
     "execution_count": 11,
     "metadata": {},
     "output_type": "execute_result"
    }
   ],
   "source": [
    "# Confusion matrix 'Logistic Regression delay'\n",
    "matrix_logreg_d = confusion_matrix(y_true=y_va_arr_delay_binary, y_pred=y_pred_logreg_va_arr_d,normalize='all') # normalize either on columns/rows or all\n",
    "matrix_logreg_d = pd.DataFrame(\n",
    "    matrix_logreg_d, \n",
    "    columns=['pred: no delay', 'pred: delay'],\n",
    "    index=['true: no delay', 'true: delay']\n",
    ")\n",
    "print('Confusion matrix (normalized): Logistic Regression delay')\n",
    "matrix_logreg_d"
   ]
  },
  {
   "cell_type": "code",
   "execution_count": 12,
   "metadata": {},
   "outputs": [
    {
     "name": "stdout",
     "output_type": "stream",
     "text": [
      "Confusion matrix (normalized): Logistic Regression important delay\n"
     ]
    },
    {
     "data": {
      "text/html": [
       "<div>\n",
       "<style scoped>\n",
       "    .dataframe tbody tr th:only-of-type {\n",
       "        vertical-align: middle;\n",
       "    }\n",
       "\n",
       "    .dataframe tbody tr th {\n",
       "        vertical-align: top;\n",
       "    }\n",
       "\n",
       "    .dataframe thead th {\n",
       "        text-align: right;\n",
       "    }\n",
       "</style>\n",
       "<table border=\"1\" class=\"dataframe\">\n",
       "  <thead>\n",
       "    <tr style=\"text-align: right;\">\n",
       "      <th></th>\n",
       "      <th>pred: no delay</th>\n",
       "      <th>pred: delay</th>\n",
       "    </tr>\n",
       "  </thead>\n",
       "  <tbody>\n",
       "    <tr>\n",
       "      <th>true: no delay</th>\n",
       "      <td>0.951104</td>\n",
       "      <td>0.000708</td>\n",
       "    </tr>\n",
       "    <tr>\n",
       "      <th>true: delay</th>\n",
       "      <td>0.045870</td>\n",
       "      <td>0.002318</td>\n",
       "    </tr>\n",
       "  </tbody>\n",
       "</table>\n",
       "</div>"
      ],
      "text/plain": [
       "                pred: no delay  pred: delay\n",
       "true: no delay        0.951104     0.000708\n",
       "true: delay           0.045870     0.002318"
      ]
     },
     "execution_count": 12,
     "metadata": {},
     "output_type": "execute_result"
    }
   ],
   "source": [
    "# Confusion matrix 'Logistic Regression important delay'\n",
    "matrix_logreg_i = confusion_matrix(y_true=y_va_arr_imp_delay_binary, y_pred=y_pred_logreg_va_arr_i,normalize='all') # normalize either on columns/rows or all\n",
    "matrix_logreg_i = pd.DataFrame(\n",
    "    matrix_logreg_i, \n",
    "    columns=['pred: no delay', 'pred: delay'],\n",
    "    index=['true: no delay', 'true: delay']\n",
    ")\n",
    "print('Confusion matrix (normalized): Logistic Regression important delay')\n",
    "matrix_logreg_i"
   ]
  },
  {
   "cell_type": "markdown",
   "metadata": {},
   "source": [
    "#### Classification report (Logistic Regression (a)) <a name='logreg_a_class_report' />\n",
    "*<a href=#top>Back to top</a>*"
   ]
  },
  {
   "cell_type": "code",
   "execution_count": 13,
   "metadata": {},
   "outputs": [
    {
     "name": "stdout",
     "output_type": "stream",
     "text": [
      "Classification report: Logistic Regression delay\n",
      "              precision    recall  f1-score   support\n",
      "\n",
      "    no_delay       0.86      0.92      0.89     86652\n",
      "       delay       0.57      0.44      0.50     22068\n",
      "\n",
      "    accuracy                           0.82    108720\n",
      "   macro avg       0.72      0.68      0.69    108720\n",
      "weighted avg       0.81      0.82      0.81    108720\n",
      "\n"
     ]
    }
   ],
   "source": [
    "# Classification report 'Logistic Regression delay'\n",
    "print('Classification report: Logistic Regression delay')\n",
    "report_logreg_d = classification_report(y_true=y_va_arr_delay_binary, y_pred=y_pred_logreg_va_arr_d, target_names=('no_delay','delay'))\n",
    "print(report_logreg_d)"
   ]
  },
  {
   "cell_type": "code",
   "execution_count": 14,
   "metadata": {},
   "outputs": [
    {
     "name": "stdout",
     "output_type": "stream",
     "text": [
      "Classification report: Logistic Regression important delay\n",
      "                 precision    recall  f1-score   support\n",
      "\n",
      "       no_delay       0.95      1.00      0.98    103481\n",
      "important_delay       0.77      0.05      0.09      5239\n",
      "\n",
      "       accuracy                           0.95    108720\n",
      "      macro avg       0.86      0.52      0.53    108720\n",
      "   weighted avg       0.94      0.95      0.93    108720\n",
      "\n"
     ]
    }
   ],
   "source": [
    "# Classification report 'Logistic Regression important delay'\n",
    "print('Classification report: Logistic Regression important delay')\n",
    "report_logreg_i = classification_report(y_true=y_va_arr_imp_delay_binary, y_pred=y_pred_logreg_va_arr_i, target_names=('no_delay','important_delay'))\n",
    "print(report_logreg_i)"
   ]
  },
  {
   "cell_type": "markdown",
   "metadata": {},
   "source": [
    "#### ROC and AUROC (incl. optimized threshold) <a name='logreg_a_roc' />\n",
    "*<a href=#top>Back to top</a>*"
   ]
  },
  {
   "cell_type": "code",
   "execution_count": 15,
   "metadata": {},
   "outputs": [
    {
     "name": "stdout",
     "output_type": "stream",
     "text": [
      "Probabilities: [0.27350894 0.24693641 0.33556728 0.3055009  0.76082611]\n",
      "Predictions: [0 0 0 0 1]\n",
      "Probabilities: [0.09997347 0.08493804 0.2455714  0.21384152 0.24596633]\n",
      "Predictions: [0 0 0 0 0]\n",
      "Logistic delay: ROC AUC=0.853\n",
      "Dummy delay: ROC AUC=0.500\n",
      "Logistic important delay: ROC AUC=0.808\n",
      "Dummy important delay: ROC AUC=0.500\n"
     ]
    },
    {
     "data": {
      "image/png": "[encoded data removed]",
      "text/plain": [
       "<Figure size 864x360 with 2 Axes>"
      ]
     },
     "metadata": {
      "needs_background": "light"
     },
     "output_type": "display_data"
    }
   ],
   "source": [
    "# ROC and AUROC\n",
    "# predict probabilities\n",
    "lr_probs_d = logreg_d.predict_proba(X_va_arr_reindex)\n",
    "dummy_probs_d = dummy_d.predict_proba(X_va_arr_reindex)\n",
    "\n",
    "lr_probs_i = logreg_i.predict_proba(X_va_arr_reindex)\n",
    "dummy_probs_i = dummy_i.predict_proba(X_va_arr_reindex)\n",
    "\n",
    "# check probabilities and compare to predicttions\n",
    "print('Probabilities:',lr_probs_d[0:5,1])\n",
    "print('Predictions:',y_pred_logreg_va_arr_d[0:5])\n",
    "\n",
    "print('Probabilities:',lr_probs_i[0:5,1])\n",
    "print('Predictions:',y_pred_logreg_va_arr_i[0:5])\n",
    "\n",
    "# keep probabilities for the positive outcome only\n",
    "lr_probs_pos_d = lr_probs_d[:,1]\n",
    "dummy_probs_pos_d = dummy_probs_d[:,1]\n",
    "\n",
    "lr_probs_pos_i = lr_probs_i[:,1]\n",
    "dummy_probs_pos_i = dummy_probs_i[:,1]\n",
    "\n",
    "# calculate scores\n",
    "lr_auc_d = roc_auc_score(y_va_arr_delay_binary, lr_probs_pos_d)\n",
    "dummy_auc_d = roc_auc_score(y_va_arr_delay_binary, dummy_probs_pos_d)\n",
    "\n",
    "lr_auc_i = roc_auc_score(y_va_arr_imp_delay_binary, lr_probs_pos_i)\n",
    "dummy_auc_i = roc_auc_score(y_va_arr_imp_delay_binary, dummy_probs_pos_i)\n",
    "\n",
    "# summarize scores\n",
    "print('Logistic delay: ROC AUC={:.3f}'.format(lr_auc_d))\n",
    "print('Dummy delay: ROC AUC={:.3f}'.format(dummy_auc_d))\n",
    "\n",
    "print('Logistic important delay: ROC AUC={:.3f}'.format(lr_auc_i))\n",
    "print('Dummy important delay: ROC AUC={:.3f}'.format(dummy_auc_i))\n",
    "\n",
    "# calculate roc curves\n",
    "lr_fpr_d, lr_tpr_d, thres_d = roc_curve(y_va_arr_delay_binary, lr_probs_pos_d, pos_label=1)\n",
    "dummy_fpr_d, dummy_tpr_d, _= roc_curve(y_va_arr_delay_binary, dummy_probs_pos_d, pos_label=1)\n",
    "\n",
    "lr_fpr_i, lr_tpr_i, thres_i = roc_curve(y_va_arr_imp_delay_binary, lr_probs_pos_i, pos_label=1)\n",
    "dummy_fpr_i, dummy_tpr_i, _= roc_curve(y_va_arr_imp_delay_binary, dummy_probs_pos_i, pos_label=1)\n",
    "\n",
    "# plot the roc curves for both models\n",
    "fig, (ax1, ax2) = plt.subplots(1, 2, figsize=(12,5))\n",
    "\n",
    "ax1.plot(lr_fpr_d, lr_tpr_d, marker='.', label='logistic, {:.3f}'.format(lr_auc_d))\n",
    "ax1.plot(dummy_fpr_d, dummy_tpr_d, marker='.', label='dummy, {:.3f}'.format(dummy_auc_d))\n",
    "ax1.set_xlabel('False Positive Rate')\n",
    "ax1.set_ylabel('True Positive Rate')\n",
    "ax1.set_title('ROC curve Logistic Regression: Delay')\n",
    "ax1.legend(title='Area under curve')\n",
    "\n",
    "ax2.plot(lr_fpr_i, lr_tpr_i, marker='.', label='logistic, {:.3f}'.format(lr_auc_i))\n",
    "ax2.plot(dummy_fpr_i, dummy_tpr_i, marker='.', label='dummy, {:.3f}'.format(dummy_auc_i))\n",
    "ax2.set_xlabel('False Positive Rate')\n",
    "ax2.set_ylabel('True Positive Rate')\n",
    "ax2.set_title('ROC curve Logistic Regression: Important delay')\n",
    "ax2.legend(title='Area under curve')\n",
    "\n",
    "plt.show()"
   ]
  },
  {
   "cell_type": "code",
   "execution_count": 16,
   "metadata": {},
   "outputs": [
    {
     "name": "stdout",
     "output_type": "stream",
     "text": [
      "Delay\n",
      "Best Threshold: 0.238755\n",
      "Probabilities: [0.27350894 0.24693641 0.33556728 0.3055009  0.76082611 0.21161996\n",
      " 0.65118221 0.77315453 0.40700482 0.31054733]\n",
      "Predictions: [1 1 1 1 1 0 1 1 1 1]\n",
      "***\n",
      "Important delay\n",
      "Best Threshold: 0.298757\n",
      "Probabilities: [0.09997347 0.08493804 0.2455714  0.21384152 0.24596633 0.08046971\n",
      " 0.21105443 0.22884169 0.14053175 0.14351464]\n",
      "Predictions: [0 0 0 0 0 0 0 0 0 0]\n"
     ]
    }
   ],
   "source": [
    "# define optimized threshold\n",
    "from numpy import argmax\n",
    "print('Delay')\n",
    "# calculate inputs for the roc curve\n",
    "lr_J_d = lr_tpr_d -lr_fpr_d\n",
    "lr_bt_d = thres_d[argmax(lr_J_d)] # best threshold\n",
    "print('Best Threshold: %f' % (lr_bt_d))\n",
    "\n",
    "# use threshold in model\n",
    "lr_preds_d = np.where(logreg_d.predict_proba(X_va_arr_reindex)[:,1] > lr_bt_d, 1,0)\n",
    "print('Probabilities:',logreg_d.predict_proba(X_va_arr_reindex)[0:10,1])\n",
    "print('Predictions:',lr_preds_d[0:10])\n",
    "\n",
    "print('***')\n",
    "print('Important delay')\n",
    "# calculate inputs for the roc curve\n",
    "lr_J_i= lr_tpr_i -lr_fpr_i\n",
    "lr_bt_i = thres_d[argmax(lr_J_i)] # best threshold\n",
    "print('Best Threshold: %f' % (lr_bt_i))\n",
    "\n",
    "# use threshold in model\n",
    "lr_preds_i = np.where(logreg_i.predict_proba(X_va_arr_reindex)[:,1] > lr_bt_i, 1,0)\n",
    "print('Probabilities:',logreg_i.predict_proba(X_va_arr_reindex)[0:10,1])\n",
    "print('Predictions:',lr_preds_i[0:10])"
   ]
  },
  {
   "cell_type": "code",
   "execution_count": 17,
   "metadata": {},
   "outputs": [
    {
     "name": "stdout",
     "output_type": "stream",
     "text": [
      "Classification report: Logistic Regression delay - optimized threshold at 0.239 on ROC\n",
      "              precision    recall  f1-score   support\n",
      "\n",
      "    no_delay       0.95      0.68      0.79     86652\n",
      "       delay       0.41      0.87      0.55     22068\n",
      "\n",
      "    accuracy                           0.72    108720\n",
      "   macro avg       0.68      0.77      0.67    108720\n",
      "weighted avg       0.84      0.72      0.74    108720\n",
      "\n"
     ]
    }
   ],
   "source": [
    "print('Classification report: Logistic Regression delay - optimized threshold at {:.3f} on ROC'.format(lr_bt_d))\n",
    "report_logreg_preds_d = classification_report(y_true=y_va_arr_delay_binary, y_pred=lr_preds_d, target_names=['no_delay','delay'])\n",
    "f1_logreg_arr_d_opt = classification_report(y_true=y_va_arr_delay_binary, y_pred=lr_preds_d, target_names=['no_delay','delay'], output_dict=True)['delay']['f1-score']\n",
    "print(report_logreg_preds_d)"
   ]
  },
  {
   "cell_type": "code",
   "execution_count": 18,
   "metadata": {},
   "outputs": [
    {
     "name": "stdout",
     "output_type": "stream",
     "text": [
      "Classification report: Logistic Regression important delay - optimized threshold at 0.299 on ROC\n",
      "                 precision    recall  f1-score   support\n",
      "\n",
      "       no_delay       0.96      0.99      0.97    103481\n",
      "important_delay       0.41      0.09      0.15      5239\n",
      "\n",
      "       accuracy                           0.95    108720\n",
      "      macro avg       0.68      0.54      0.56    108720\n",
      "   weighted avg       0.93      0.95      0.93    108720\n",
      "\n"
     ]
    }
   ],
   "source": [
    "print('Classification report: Logistic Regression important delay - optimized threshold at {:.3f} on ROC'.format(lr_bt_i))\n",
    "report_logreg_preds_i = classification_report(y_true=y_va_arr_imp_delay_binary, y_pred=lr_preds_i, target_names=['no_delay','important_delay'])\n",
    "f1_logreg_arr_i_opt = classification_report(y_true=y_va_arr_imp_delay_binary, y_pred=lr_preds_i, target_names=['no_delay','important_delay'], output_dict=True)['important_delay']['f1-score']\n",
    "print(report_logreg_preds_i)"
   ]
  },
  {
   "cell_type": "code",
   "execution_count": 19,
   "metadata": {},
   "outputs": [
    {
     "name": "stdout",
     "output_type": "stream",
     "text": [
      "Logistic Regression delay optimized f1 score: 0.553\n",
      "Logistic Regression important delay optimized f1 score: 0.149\n"
     ]
    }
   ],
   "source": [
    "print('Logistic Regression delay optimized f1 score: {:.3f}'.format(f1_logreg_arr_d_opt))\n",
    "print('Logistic Regression important delay optimized f1 score: {:.3f}'.format(f1_logreg_arr_i_opt))"
   ]
  },
  {
   "cell_type": "markdown",
   "metadata": {},
   "source": [
    "#### PR and AUPR (incl. optimized threshold) <a name='logreg_a_pr' />\n",
    "*<a href=#top>Back to top</a>*"
   ]
  },
  {
   "cell_type": "code",
   "execution_count": 20,
   "metadata": {},
   "outputs": [
    {
     "data": {
      "image/png": "[encoded data removed]",
      "text/plain": [
       "<Figure size 864x360 with 2 Axes>"
      ]
     },
     "metadata": {
      "needs_background": "light"
     },
     "output_type": "display_data"
    }
   ],
   "source": [
    "# Precision-Recall Curves\n",
    "# predict class values\n",
    "lr_precision_d, lr_recall_d, thres_pr_d = precision_recall_curve(y_va_arr_delay_binary, lr_probs_pos_d, pos_label=1)\n",
    "lr_auc_pr_d = auc(lr_recall_d, lr_precision_d)\n",
    "\n",
    "lr_precision_i, lr_recall_i, thres_pr_i = precision_recall_curve(y_va_arr_imp_delay_binary, lr_probs_pos_i, pos_label=1)\n",
    "lr_auc_pr_i = auc(lr_recall_i, lr_precision_i)\n",
    "\n",
    "# summarize scores\n",
    "#print('Logistic Delay: auc={:.3f}'.format(lr_auc_pr_d))\n",
    "#print('Logistic Important delay: auc={:.3f}'.format(lr_auc_pr_i))\n",
    "\n",
    "# plot the precision-recall curves for both models\n",
    "fig, (ax1, ax2) = plt.subplots(1, 2, figsize=(12,5))\n",
    "\n",
    "ax1.plot([0,1], [(22068/108720),(22068/108720)], linestyle='--', label='Dummy, {:.3f}'.format(22068/108720))  # baseline is share of positive classes\n",
    "ax1.plot(lr_recall_d, lr_precision_d, marker='.', label='logistic, {:.3f}'.format(lr_auc_pr_d))\n",
    "ax1.set_xlabel('Recall')\n",
    "ax1.set_ylabel('Precision')\n",
    "ax1.legend(title='Area under curve')\n",
    "ax1.set_title('PR curve Logistic Regression: Delay')\n",
    "\n",
    "ax2.plot([0,1], [(5239/108720),(5239/108720)], linestyle='--', label='Dummy, {:.3f}'.format(5239/108720))  # baseline is share of positive classes\n",
    "ax2.plot(lr_recall_i, lr_precision_i, marker='.', label='logistic, {:.3f}'.format(lr_auc_pr_i))\n",
    "ax2.set_xlabel('Recall')\n",
    "ax2.set_ylabel('Precision')\n",
    "ax2.legend(title='Area under curve')\n",
    "ax2.set_title('PR curve Logistic Regression: Important delay')\n",
    "\n",
    "plt.show()"
   ]
  },
  {
   "cell_type": "code",
   "execution_count": 21,
   "metadata": {},
   "outputs": [
    {
     "name": "stdout",
     "output_type": "stream",
     "text": [
      "Delay\n",
      "Best Threshold: 0.297\n",
      "Probabilities: [0.27350894 0.24693641 0.33556728 0.3055009  0.76082611 0.21161996\n",
      " 0.65118221 0.77315453 0.40700482 0.31054733]\n",
      "Predictions: [1 1 1 1 1 0 1 1 1 1]\n",
      "***\n",
      "Important delay\n",
      "Best Threshold: 0.147\n",
      "Probabilities: [0.09997347 0.08493804 0.2455714  0.21384152 0.24596633 0.08046971\n",
      " 0.21105443 0.22884169 0.14053175 0.14351464]\n",
      "Predictions: [0 0 0 0 0 0 0 0 0 0]\n"
     ]
    }
   ],
   "source": [
    "print('Delay')\n",
    "fscores_d = (2 * lr_precision_d * lr_recall_d) / (lr_precision_d + lr_recall_d)\n",
    "lr_bt_pr_d = thres_pr_d[argmax(fscores_d)]\n",
    "print('Best Threshold: {:.3f}'.format(lr_bt_pr_d))\n",
    "# use threshold in model\n",
    "lr_curve_d = np.where(logreg_d.predict_proba(X_va_arr_reindex)[:,1] > lr_bt_pr_d, 1,0)\n",
    "print('Probabilities:',logreg_d.predict_proba(X_va_arr_reindex)[0:10,1])\n",
    "print('Predictions:',lr_preds_d[0:10])\n",
    "\n",
    "print('***')\n",
    "\n",
    "print('Important delay')\n",
    "fscores_i = (2 * lr_precision_i * lr_recall_i) / (lr_precision_i + lr_recall_i)\n",
    "lr_bt_pr_i = thres_pr_i[argmax(fscores_i)]\n",
    "print('Best Threshold: {:.3f}'.format(lr_bt_pr_i))\n",
    "# use threshold in model\n",
    "lr_curve_i = np.where(logreg_i.predict_proba(X_va_arr_reindex)[:,1] > lr_bt_pr_i, 1,0)\n",
    "print('Probabilities:',logreg_i.predict_proba(X_va_arr_reindex)[0:10,1])\n",
    "print('Predictions:',lr_preds_i[0:10])"
   ]
  },
  {
   "cell_type": "markdown",
   "metadata": {},
   "source": [
    "#### Classification report (optimized threshold) <a name='logreg_a_curves_class_report' />\n",
    "*<a href=#top>Back to top</a>*"
   ]
  },
  {
   "cell_type": "code",
   "execution_count": 22,
   "metadata": {},
   "outputs": [
    {
     "name": "stdout",
     "output_type": "stream",
     "text": [
      "Classification report: Logistic Regression delay - optimzed threshold at 0.297 on PR curve\n",
      "              precision    recall  f1-score   support\n",
      "\n",
      "    no_delay       0.93      0.75      0.83     86652\n",
      "       delay       0.44      0.77      0.56     22068\n",
      "\n",
      "    accuracy                           0.75    108720\n",
      "   macro avg       0.68      0.76      0.69    108720\n",
      "weighted avg       0.83      0.75      0.77    108720\n",
      "\n"
     ]
    }
   ],
   "source": [
    "print('Classification report: Logistic Regression delay - optimzed threshold at {:.3f} on PR curve'.format(lr_bt_pr_d))\n",
    "report_logreg_preds_pr_d = classification_report(y_true=y_va_arr_delay_binary, y_pred=lr_curve_d, target_names=['no_delay','delay'])\n",
    "f1_logreg_pr_d = classification_report(y_true=y_va_arr_delay_binary, y_pred=lr_curve_d, target_names=['no_delay','delay'], output_dict=True)['delay']['f1-score']\n",
    "print(report_logreg_preds_pr_d)"
   ]
  },
  {
   "cell_type": "code",
   "execution_count": 23,
   "metadata": {},
   "outputs": [
    {
     "name": "stdout",
     "output_type": "stream",
     "text": [
      "Classification report: Logistic Regression importat delay - optimzed threshold at 0.147 on PR curve\n",
      "                 precision    recall  f1-score   support\n",
      "\n",
      "       no_delay       0.97      0.93      0.95    103481\n",
      "important_delay       0.21      0.34      0.26      5239\n",
      "\n",
      "       accuracy                           0.91    108720\n",
      "      macro avg       0.59      0.64      0.60    108720\n",
      "   weighted avg       0.93      0.91      0.92    108720\n",
      "\n"
     ]
    }
   ],
   "source": [
    "print('Classification report: Logistic Regression importat delay - optimzed threshold at {:.3f} on PR curve'.format(lr_bt_pr_i))\n",
    "report_logreg_preds_pr_i = classification_report(y_true=y_va_arr_imp_delay_binary, y_pred=lr_curve_i, target_names=['no_delay','important_delay'])\n",
    "f1_logreg_pr_i = classification_report(y_true=y_va_arr_imp_delay_binary, y_pred=lr_curve_i, target_names=['no_delay','important_delay'], output_dict=True)['important_delay']['f1-score']\n",
    "print(report_logreg_preds_pr_i)"
   ]
  },
  {
   "cell_type": "code",
   "execution_count": 24,
   "metadata": {},
   "outputs": [
    {
     "name": "stdout",
     "output_type": "stream",
     "text": [
      "Logistic Regression delay optimized f1 score: 0.561\n",
      "Logistic Regression important delay optimized f1 score: 0.256\n"
     ]
    }
   ],
   "source": [
    "print('Logistic Regression delay optimized f1 score: {:.3f}'.format(f1_logreg_pr_d))\n",
    "print('Logistic Regression important delay optimized f1 score: {:.3f}'.format(f1_logreg_pr_i))"
   ]
  },
  {
   "cell_type": "markdown",
   "metadata": {},
   "source": [
    "**Comments:** *Logistic regression (a)*\n",
    "* **Delay:** \n",
    "    - Basic: f1 score of 0.50 with relatively balanced performance in precision (0.57) and recall (0.44)\n",
    "    - ROC: optimizing threshold (~0.24) we get to improved f1 score of 0.55 mostly from improvements in recall (0.87)\n",
    "    - PR: optimizing threshold (~0.30) we get to highest f1 score of 0.56 (precision at 0.44 and recall at 0.77)\n",
    "* **Important delay:** \n",
    "    - Basic: f1 score very low at 0.09 with decent precision (0.77) but bad recall (0.05) => although some important delays are possible to identify and recurring, most cases seem very hard to predict, probably a sign that there is no clear pattern to be detected in the data\n",
    "    - ROC: optimizing threshold (~0.30) we improve f1 score to 0.15 (precision 0.41 and recall at 0.09)\n",
    "    - PR: optimizing threshold (~0.15) we get to highest f1 score of 0.26 (precision at 0.21 and recall at 0.34)"
   ]
  },
  {
   "cell_type": "markdown",
   "metadata": {},
   "source": [
    "#### b) Logistic Regression with *'class_weight = 'balanced'* (Cost sensitive learning) <a name='logreg_b' />\n",
    "*<a href=#top>Back to top</a>*\n",
    "* **Note:** *decide to not use over- or under-sampling for this project and focus on other technics (e.g.: class_weight, thresholds optimization, ...)*"
   ]
  },
  {
   "cell_type": "code",
   "execution_count": 25,
   "metadata": {},
   "outputs": [
    {
     "data": {
      "text/plain": [
       "LogisticRegression(class_weight='balanced', multi_class='ovr',\n",
       "                   solver='liblinear')"
      ]
     },
     "execution_count": 25,
     "metadata": {},
     "output_type": "execute_result"
    }
   ],
   "source": [
    "logreg_cw_d = LogisticRegression(multi_class='ovr',solver='liblinear', class_weight='balanced')\n",
    "logreg_cw_d.fit(X_tr_arr, y_tr_arr_delay_binary)\n",
    "\n",
    "logreg_cw_i = LogisticRegression(multi_class='ovr',solver='liblinear', class_weight='balanced')\n",
    "logreg_cw_i.fit(X_tr_arr, y_tr_arr_imp_delay_binary)\n"
   ]
  },
  {
   "cell_type": "markdown",
   "metadata": {},
   "source": [
    "#### Classification report (Logistic Regression (b)) <a name='logreg_b_class_report' />\n",
    "*<a href=#top>Back to top</a>*"
   ]
  },
  {
   "cell_type": "code",
   "execution_count": 26,
   "metadata": {},
   "outputs": [
    {
     "name": "stdout",
     "output_type": "stream",
     "text": [
      "Classification report: Logistic Regression delay\n",
      "              precision    recall  f1-score   support\n",
      "\n",
      "    no_delay       0.96      0.66      0.78     86652\n",
      "       delay       0.40      0.88      0.55     22068\n",
      "\n",
      "    accuracy                           0.71    108720\n",
      "   macro avg       0.68      0.77      0.67    108720\n",
      "weighted avg       0.84      0.71      0.74    108720\n",
      "\n",
      "***\n",
      "Classification report: Logistic Regression important delay\n",
      "                 precision    recall  f1-score   support\n",
      "\n",
      "       no_delay       0.98      0.66      0.79    103481\n",
      "important_delay       0.11      0.79      0.19      5239\n",
      "\n",
      "       accuracy                           0.67    108720\n",
      "      macro avg       0.54      0.72      0.49    108720\n",
      "   weighted avg       0.94      0.67      0.76    108720\n",
      "\n"
     ]
    }
   ],
   "source": [
    "print('Classification report: Logistic Regression delay')\n",
    "report_logreg_cw_d = classification_report(y_true=y_va_arr_delay_binary, y_pred=logreg_cw_d.predict(X_va_arr_reindex), target_names=['no_delay','delay'])\n",
    "f1_logreg_cw_d = classification_report(y_true=y_va_arr_delay_binary, y_pred=logreg_cw_d.predict(X_va_arr_reindex), target_names=['no_delay','delay'], output_dict=True)['delay']['f1-score']\n",
    "print(report_logreg_cw_d)\n",
    "\n",
    "print('***')\n",
    "\n",
    "print('Classification report: Logistic Regression important delay')\n",
    "report_logreg_cw_i = classification_report(y_true=y_va_arr_imp_delay_binary, y_pred=logreg_cw_i.predict(X_va_arr_reindex), target_names=['no_delay','important_delay'])\n",
    "f1_logreg_cw_i = classification_report(y_true=y_va_arr_imp_delay_binary, y_pred=logreg_cw_i.predict(X_va_arr_reindex), target_names=['no_delay','important_delay'], output_dict=True)['important_delay']['f1-score']\n",
    "print(report_logreg_cw_i)\n",
    "# interesting to see how recall has increased significantly"
   ]
  },
  {
   "cell_type": "code",
   "execution_count": 27,
   "metadata": {},
   "outputs": [
    {
     "name": "stdout",
     "output_type": "stream",
     "text": [
      "Logistic Regression delay \"balanced\" class weight f1 score: 0.550\n",
      "Logistic Regression important delay \"balanced\" class weight f1 score: 0.186\n"
     ]
    }
   ],
   "source": [
    "print('Logistic Regression delay \"balanced\" class weight f1 score: {:.3f}'.format(f1_logreg_cw_d))\n",
    "print('Logistic Regression important delay \"balanced\" class weight f1 score: {:.3f}'.format(f1_logreg_cw_i))"
   ]
  },
  {
   "cell_type": "markdown",
   "metadata": {},
   "source": [
    "**Comments:** *Logistic regression (b)*\n",
    "* **Delay:** \n",
    "    - class weight \"balanced\": f1 score of 0.55 close to performance of ROC and PR threshold improvements with especially high recall (0.88). Printing confusion matrix would show high share of false positive\n",
    "* **Important delay:** \n",
    "    - class weight \"balanced\": f1 score of 0.19 between performance of ROC and PR threshold improvements and especially high recall (0.79): Printing confusion matrix would also show high share of false positive here"
   ]
  },
  {
   "cell_type": "markdown",
   "metadata": {},
   "source": [
    "#### c) Logistic Regression with hyper-parameters tuning (using Gridsearch and cross-validation) <a name='logreg_c' />\n",
    "*<a href=#top>Back to top</a>*\n",
    "\n",
    "1. Tune hyper-parameters in GridSearch (incl. class_weight)\n",
    "2. Optimize for Area Under PR curve\n",
    "3. Once set of hyper-parameters selected optimize thresholds on PR curve to get best f1 score\n",
    "\n",
    "**Notes on GridSearch:**\n",
    "* **Cross-validation:** the k-fold cross-validation technique is quite efficient and effective in assessing a classifier for balanced or even slightly skewed datasets. However, it fails in case of imbalanced datasets since the training data is usually split into folds assuming a uniform probability distribution. In the case of imbalanced data, this has the potential of resulting in certain folds either completely missing out on the positive (minority) class or having very few examples of it. Accordingly, this is likely to result in misleading model evaluations. A modified k-fold cross-validation, called **stratified k-fold cross-validation**, is **more suitable for imbalanced classification problems**. **Stratified k-fold or Repeated Stratified k-fold preserves the imbalanced class distribution in each fold. In GridSearch object stratified k-fold is per default for classifiers**\n",
    "* **AP (average precision):** AUPRC is not a metric available in GridSearch but AP is a very close approximation. We will be using both AUPRC and F1 scores to assess performance of combinations\n",
    "\n",
    "\n"
   ]
  },
  {
   "cell_type": "markdown",
   "metadata": {},
   "source": [
    "#### Tuning hyperparameters with GridSearchCV (grid search and cross validation) <a name='logreg_c_delay' />\n",
    "*<a href=#top>Back to top</a>*"
   ]
  },
  {
   "cell_type": "code",
   "execution_count": 28,
   "metadata": {},
   "outputs": [],
   "source": [
    "from sklearn.model_selection import GridSearchCV"
   ]
  },
  {
   "cell_type": "code",
   "execution_count": 29,
   "metadata": {},
   "outputs": [],
   "source": [
    "# merging train and validation sets for the use of cross-validation\n",
    "X_tr_va = np.concatenate((X_tr_arr,X_va_arr_reindex))\n",
    "y_tr_va_d = np.concatenate((y_tr_arr_delay_binary, y_va_arr_delay_binary))\n",
    "y_tr_va_i = np.concatenate((y_tr_arr_imp_delay_binary, y_va_arr_imp_delay_binary))\n",
    "\n",
    "#imgs_tr_va = np.concatenate((imgs_tr, imgs_va))\n",
    "#labels_tr_va = np.concatenate((labels_tr, labels_va))"
   ]
  },
  {
   "cell_type": "code",
   "execution_count": 30,
   "metadata": {},
   "outputs": [
    {
     "name": "stdout",
     "output_type": "stream",
     "text": [
      "Shape train/valid input: (323770, 434)\n",
      "Shape train/valid output: (323770,)\n",
      "Shape train/valid output: (323770,)\n"
     ]
    }
   ],
   "source": [
    "print('Shape train/valid input:',X_tr_va.shape)\n",
    "print('Shape train/valid output:',y_tr_va_d.shape)\n",
    "print('Shape train/valid output:',y_tr_va_i.shape)\n",
    "#print('Shape train/valid imgs:',imgs_tr_va.shape)\n",
    "#print('Shape train/valid labels:',labels_tr_va.shape)"
   ]
  },
  {
   "cell_type": "code",
   "execution_count": 31,
   "metadata": {},
   "outputs": [
    {
     "name": "stdout",
     "output_type": "stream",
     "text": [
      "Pipeline(steps=[('logistic',\n",
      "                 LogisticRegression(multi_class='ovr', solver='liblinear'))])\n",
      "Pipeline(steps=[('logistic',\n",
      "                 LogisticRegression(multi_class='ovr', solver='liblinear'))])\n"
     ]
    }
   ],
   "source": [
    "from sklearn.pipeline import Pipeline\n",
    "# Create the estimator\n",
    "logreg_tune_d = Pipeline([\n",
    "    #('scaler',StandardScaler()),\n",
    "    ('logistic',LogisticRegression(multi_class='ovr',solver='liblinear'))\n",
    "])\n",
    "logreg_tune_i = Pipeline([\n",
    "    #('scaler',StandardScaler()),\n",
    "    ('logistic',LogisticRegression(multi_class='ovr',solver='liblinear'))\n",
    "])\n",
    "\n",
    "# Fit on the train/validation set\n",
    "print(logreg_tune_d.fit(X_tr_va,y_tr_va_d))\n",
    "print(logreg_tune_i.fit(X_tr_va,y_tr_va_i))\n",
    "\n",
    "# How can I do the same without Pipeline (as I already scaled before)"
   ]
  },
  {
   "cell_type": "code",
   "execution_count": 32,
   "metadata": {},
   "outputs": [
    {
     "name": "stdout",
     "output_type": "stream",
     "text": [
      "<bound method Pipeline.get_params of Pipeline(steps=[('logistic',\n",
      "                 LogisticRegression(multi_class='ovr', solver='liblinear'))])>\n",
      "<bound method Pipeline.get_params of Pipeline(steps=[('logistic',\n",
      "                 LogisticRegression(multi_class='ovr', solver='liblinear'))])>\n"
     ]
    }
   ],
   "source": [
    "print(logreg_tune_d.get_params)\n",
    "print(logreg_tune_i.get_params)"
   ]
  },
  {
   "cell_type": "markdown",
   "metadata": {},
   "source": [
    "#### GridSearch (delay) <a name='logreg_c_delay_grid' />\n",
    "*<a href=#top>Back to top</a>*"
   ]
  },
  {
   "cell_type": "code",
   "execution_count": 33,
   "metadata": {},
   "outputs": [],
   "source": [
    "# Create grid\n",
    "grid = [{\n",
    "    'logistic__C':np.logspace(-4,4,3),\n",
    "    'logistic__multi_class':['ovr'],\n",
    "    'logistic__solver':['liblinear'],\n",
    "    'logistic__class_weight':[None,'balanced']\n",
    "},{\n",
    "    'logistic__C':np.logspace(-4,4,3),\n",
    "    'logistic__multi_class':['multinomial'],\n",
    "    'logistic__solver':['saga'],\n",
    "    'logistic__class_weight':[None,'balanced']\n",
    "}]\n",
    "\n",
    "# Create cross validation object\n",
    "# planning to use AP (average_precision') for scoring on AUPRC (https://glassboxmedicine.com/2019/03/02/measuring-performance-auprc/)\n",
    "scoring = ['precision','recall','average_precision','f1'] # replace in below GridSearchCV\n",
    "# not that for classifiers the CV is per-default stratified\n",
    "grid_cv_d = GridSearchCV(estimator=logreg_tune_d, param_grid=grid, n_jobs=4, cv=10, refit=False,verbose=1, return_train_score=True, scoring=['precision','recall','average_precision','f1'])\n",
    "grid_cv_i = GridSearchCV(estimator=logreg_tune_i, param_grid=grid, n_jobs=4, cv=10, refit=False,verbose=1, return_train_score=True, scoring=['precision','recall','average_precision','f1'])"
   ]
  },
  {
   "cell_type": "code",
   "execution_count": 34,
   "metadata": {},
   "outputs": [
    {
     "name": "stdout",
     "output_type": "stream",
     "text": [
      "Fitting 10 folds for each of 12 candidates, totalling 120 fits\n",
      "6775.045025587082\n"
     ]
    }
   ],
   "source": [
    "start = time.time()\n",
    "grid_cv_d.fit(X_tr_va,y_tr_va_d)\n",
    "end = time.time()\n",
    "print(end-start)"
   ]
  },
  {
   "cell_type": "code",
   "execution_count": 35,
   "metadata": {},
   "outputs": [
    {
     "data": {
      "text/plain": [
       "dict_keys(['mean_fit_time', 'std_fit_time', 'mean_score_time', 'std_score_time', 'param_logistic__C', 'param_logistic__class_weight', 'param_logistic__multi_class', 'param_logistic__solver', 'params', 'split0_test_precision', 'split1_test_precision', 'split2_test_precision', 'split3_test_precision', 'split4_test_precision', 'split5_test_precision', 'split6_test_precision', 'split7_test_precision', 'split8_test_precision', 'split9_test_precision', 'mean_test_precision', 'std_test_precision', 'rank_test_precision', 'split0_train_precision', 'split1_train_precision', 'split2_train_precision', 'split3_train_precision', 'split4_train_precision', 'split5_train_precision', 'split6_train_precision', 'split7_train_precision', 'split8_train_precision', 'split9_train_precision', 'mean_train_precision', 'std_train_precision', 'split0_test_recall', 'split1_test_recall', 'split2_test_recall', 'split3_test_recall', 'split4_test_recall', 'split5_test_recall', 'split6_test_recall', 'split7_test_recall', 'split8_test_recall', 'split9_test_recall', 'mean_test_recall', 'std_test_recall', 'rank_test_recall', 'split0_train_recall', 'split1_train_recall', 'split2_train_recall', 'split3_train_recall', 'split4_train_recall', 'split5_train_recall', 'split6_train_recall', 'split7_train_recall', 'split8_train_recall', 'split9_train_recall', 'mean_train_recall', 'std_train_recall', 'split0_test_average_precision', 'split1_test_average_precision', 'split2_test_average_precision', 'split3_test_average_precision', 'split4_test_average_precision', 'split5_test_average_precision', 'split6_test_average_precision', 'split7_test_average_precision', 'split8_test_average_precision', 'split9_test_average_precision', 'mean_test_average_precision', 'std_test_average_precision', 'rank_test_average_precision', 'split0_train_average_precision', 'split1_train_average_precision', 'split2_train_average_precision', 'split3_train_average_precision', 'split4_train_average_precision', 'split5_train_average_precision', 'split6_train_average_precision', 'split7_train_average_precision', 'split8_train_average_precision', 'split9_train_average_precision', 'mean_train_average_precision', 'std_train_average_precision', 'split0_test_f1', 'split1_test_f1', 'split2_test_f1', 'split3_test_f1', 'split4_test_f1', 'split5_test_f1', 'split6_test_f1', 'split7_test_f1', 'split8_test_f1', 'split9_test_f1', 'mean_test_f1', 'std_test_f1', 'rank_test_f1', 'split0_train_f1', 'split1_train_f1', 'split2_train_f1', 'split3_train_f1', 'split4_train_f1', 'split5_train_f1', 'split6_train_f1', 'split7_train_f1', 'split8_train_f1', 'split9_train_f1', 'mean_train_f1', 'std_train_f1'])"
      ]
     },
     "execution_count": 35,
     "metadata": {},
     "output_type": "execute_result"
    }
   ],
   "source": [
    "# Get the results with \"cv_results\"\n",
    "grid_cv_d.cv_results_.keys()"
   ]
  },
  {
   "cell_type": "code",
   "execution_count": 36,
   "metadata": {},
   "outputs": [
    {
     "data": {
      "text/plain": [
       "array([0.03139478, 0.89404944, 0.37013911, 0.86443844, 0.37078493,\n",
       "       0.86415762, 0.06420756, 0.89410558, 0.37039183, 0.8643542 ,\n",
       "       0.37078493, 0.86415762])"
      ]
     },
     "execution_count": 36,
     "metadata": {},
     "output_type": "execute_result"
    }
   ],
   "source": [
    "grid_cv_d.cv_results_['mean_test_recall']"
   ]
  },
  {
   "cell_type": "code",
   "execution_count": 37,
   "metadata": {},
   "outputs": [
    {
     "data": {
      "text/html": [
       "<div>\n",
       "<style scoped>\n",
       "    .dataframe tbody tr th:only-of-type {\n",
       "        vertical-align: middle;\n",
       "    }\n",
       "\n",
       "    .dataframe tbody tr th {\n",
       "        vertical-align: top;\n",
       "    }\n",
       "\n",
       "    .dataframe thead th {\n",
       "        text-align: right;\n",
       "    }\n",
       "</style>\n",
       "<table border=\"1\" class=\"dataframe\">\n",
       "  <thead>\n",
       "    <tr style=\"text-align: right;\">\n",
       "      <th></th>\n",
       "      <th>mean_test_average_precision</th>\n",
       "      <th>mean_train_average_precision</th>\n",
       "      <th>std_test_average_precision</th>\n",
       "      <th>mean_test_f1</th>\n",
       "      <th>mean_train_f1</th>\n",
       "      <th>mean_test_recall</th>\n",
       "      <th>mean_train_recall</th>\n",
       "      <th>mean_test_precision</th>\n",
       "      <th>mean_train_precision</th>\n",
       "      <th>param_logistic__C</th>\n",
       "      <th>param_logistic__multi_class</th>\n",
       "      <th>param_logistic__class_weight</th>\n",
       "      <th>mean_fit_time</th>\n",
       "      <th>mean_score_time</th>\n",
       "    </tr>\n",
       "  </thead>\n",
       "  <tbody>\n",
       "    <tr>\n",
       "      <th>4</th>\n",
       "      <td>0.552158</td>\n",
       "      <td>0.621584</td>\n",
       "      <td>0.044233</td>\n",
       "      <td>0.446960</td>\n",
       "      <td>0.498237</td>\n",
       "      <td>0.370785</td>\n",
       "      <td>0.406140</td>\n",
       "      <td>0.576028</td>\n",
       "      <td>0.644511</td>\n",
       "      <td>10000</td>\n",
       "      <td>ovr</td>\n",
       "      <td>None</td>\n",
       "      <td>31.540013</td>\n",
       "      <td>0.162915</td>\n",
       "    </tr>\n",
       "    <tr>\n",
       "      <th>10</th>\n",
       "      <td>0.552151</td>\n",
       "      <td>0.621583</td>\n",
       "      <td>0.044227</td>\n",
       "      <td>0.446960</td>\n",
       "      <td>0.498243</td>\n",
       "      <td>0.370785</td>\n",
       "      <td>0.406153</td>\n",
       "      <td>0.576028</td>\n",
       "      <td>0.644497</td>\n",
       "      <td>10000</td>\n",
       "      <td>multinomial</td>\n",
       "      <td>None</td>\n",
       "      <td>454.693050</td>\n",
       "      <td>0.149548</td>\n",
       "    </tr>\n",
       "    <tr>\n",
       "      <th>8</th>\n",
       "      <td>0.552107</td>\n",
       "      <td>0.621562</td>\n",
       "      <td>0.044242</td>\n",
       "      <td>0.446662</td>\n",
       "      <td>0.498067</td>\n",
       "      <td>0.370392</td>\n",
       "      <td>0.405855</td>\n",
       "      <td>0.575963</td>\n",
       "      <td>0.644654</td>\n",
       "      <td>1</td>\n",
       "      <td>multinomial</td>\n",
       "      <td>None</td>\n",
       "      <td>650.182732</td>\n",
       "      <td>0.165038</td>\n",
       "    </tr>\n",
       "    <tr>\n",
       "      <th>5</th>\n",
       "      <td>0.552082</td>\n",
       "      <td>0.620002</td>\n",
       "      <td>0.043591</td>\n",
       "      <td>0.559694</td>\n",
       "      <td>0.589026</td>\n",
       "      <td>0.864158</td>\n",
       "      <td>0.895812</td>\n",
       "      <td>0.415141</td>\n",
       "      <td>0.438785</td>\n",
       "      <td>10000</td>\n",
       "      <td>ovr</td>\n",
       "      <td>balanced</td>\n",
       "      <td>57.300735</td>\n",
       "      <td>0.218698</td>\n",
       "    </tr>\n",
       "    <tr>\n",
       "      <th>11</th>\n",
       "      <td>0.552075</td>\n",
       "      <td>0.619998</td>\n",
       "      <td>0.043585</td>\n",
       "      <td>0.559686</td>\n",
       "      <td>0.589023</td>\n",
       "      <td>0.864158</td>\n",
       "      <td>0.895827</td>\n",
       "      <td>0.415133</td>\n",
       "      <td>0.438779</td>\n",
       "      <td>10000</td>\n",
       "      <td>multinomial</td>\n",
       "      <td>balanced</td>\n",
       "      <td>440.055366</td>\n",
       "      <td>0.142646</td>\n",
       "    </tr>\n",
       "    <tr>\n",
       "      <th>2</th>\n",
       "      <td>0.552053</td>\n",
       "      <td>0.621543</td>\n",
       "      <td>0.044270</td>\n",
       "      <td>0.446551</td>\n",
       "      <td>0.497929</td>\n",
       "      <td>0.370139</td>\n",
       "      <td>0.405589</td>\n",
       "      <td>0.576312</td>\n",
       "      <td>0.644860</td>\n",
       "      <td>1</td>\n",
       "      <td>ovr</td>\n",
       "      <td>None</td>\n",
       "      <td>21.891480</td>\n",
       "      <td>0.195644</td>\n",
       "    </tr>\n",
       "    <tr>\n",
       "      <th>9</th>\n",
       "      <td>0.552022</td>\n",
       "      <td>0.619968</td>\n",
       "      <td>0.043595</td>\n",
       "      <td>0.559685</td>\n",
       "      <td>0.588995</td>\n",
       "      <td>0.864354</td>\n",
       "      <td>0.896026</td>\n",
       "      <td>0.415088</td>\n",
       "      <td>0.438700</td>\n",
       "      <td>1</td>\n",
       "      <td>multinomial</td>\n",
       "      <td>balanced</td>\n",
       "      <td>765.565338</td>\n",
       "      <td>0.186003</td>\n",
       "    </tr>\n",
       "    <tr>\n",
       "      <th>3</th>\n",
       "      <td>0.551951</td>\n",
       "      <td>0.619945</td>\n",
       "      <td>0.043618</td>\n",
       "      <td>0.559613</td>\n",
       "      <td>0.589003</td>\n",
       "      <td>0.864438</td>\n",
       "      <td>0.896173</td>\n",
       "      <td>0.414985</td>\n",
       "      <td>0.438673</td>\n",
       "      <td>1</td>\n",
       "      <td>ovr</td>\n",
       "      <td>balanced</td>\n",
       "      <td>21.163220</td>\n",
       "      <td>0.173946</td>\n",
       "    </tr>\n",
       "    <tr>\n",
       "      <th>6</th>\n",
       "      <td>0.415755</td>\n",
       "      <td>0.484944</td>\n",
       "      <td>0.048020</td>\n",
       "      <td>0.111040</td>\n",
       "      <td>0.128215</td>\n",
       "      <td>0.064208</td>\n",
       "      <td>0.071431</td>\n",
       "      <td>0.474121</td>\n",
       "      <td>0.635752</td>\n",
       "      <td>0.0001</td>\n",
       "      <td>multinomial</td>\n",
       "      <td>None</td>\n",
       "      <td>102.283463</td>\n",
       "      <td>0.164113</td>\n",
       "    </tr>\n",
       "    <tr>\n",
       "      <th>7</th>\n",
       "      <td>0.413993</td>\n",
       "      <td>0.480634</td>\n",
       "      <td>0.046494</td>\n",
       "      <td>0.532246</td>\n",
       "      <td>0.547762</td>\n",
       "      <td>0.894106</td>\n",
       "      <td>0.923852</td>\n",
       "      <td>0.379321</td>\n",
       "      <td>0.389302</td>\n",
       "      <td>0.0001</td>\n",
       "      <td>multinomial</td>\n",
       "      <td>balanced</td>\n",
       "      <td>83.889079</td>\n",
       "      <td>0.136795</td>\n",
       "    </tr>\n",
       "    <tr>\n",
       "      <th>1</th>\n",
       "      <td>0.399131</td>\n",
       "      <td>0.448922</td>\n",
       "      <td>0.038872</td>\n",
       "      <td>0.529496</td>\n",
       "      <td>0.542825</td>\n",
       "      <td>0.894049</td>\n",
       "      <td>0.922898</td>\n",
       "      <td>0.376486</td>\n",
       "      <td>0.384501</td>\n",
       "      <td>0.0001</td>\n",
       "      <td>ovr</td>\n",
       "      <td>balanced</td>\n",
       "      <td>9.606441</td>\n",
       "      <td>0.221696</td>\n",
       "    </tr>\n",
       "    <tr>\n",
       "      <th>0</th>\n",
       "      <td>0.397556</td>\n",
       "      <td>0.449161</td>\n",
       "      <td>0.039597</td>\n",
       "      <td>0.057820</td>\n",
       "      <td>0.061533</td>\n",
       "      <td>0.031395</td>\n",
       "      <td>0.032460</td>\n",
       "      <td>0.423249</td>\n",
       "      <td>0.607827</td>\n",
       "      <td>0.0001</td>\n",
       "      <td>ovr</td>\n",
       "      <td>None</td>\n",
       "      <td>29.036475</td>\n",
       "      <td>0.697462</td>\n",
       "    </tr>\n",
       "  </tbody>\n",
       "</table>\n",
       "</div>"
      ],
      "text/plain": [
       "    mean_test_average_precision  mean_train_average_precision  \\\n",
       "4                      0.552158                      0.621584   \n",
       "10                     0.552151                      0.621583   \n",
       "8                      0.552107                      0.621562   \n",
       "5                      0.552082                      0.620002   \n",
       "11                     0.552075                      0.619998   \n",
       "2                      0.552053                      0.621543   \n",
       "9                      0.552022                      0.619968   \n",
       "3                      0.551951                      0.619945   \n",
       "6                      0.415755                      0.484944   \n",
       "7                      0.413993                      0.480634   \n",
       "1                      0.399131                      0.448922   \n",
       "0                      0.397556                      0.449161   \n",
       "\n",
       "    std_test_average_precision  mean_test_f1  mean_train_f1  mean_test_recall  \\\n",
       "4                     0.044233      0.446960       0.498237          0.370785   \n",
       "10                    0.044227      0.446960       0.498243          0.370785   \n",
       "8                     0.044242      0.446662       0.498067          0.370392   \n",
       "5                     0.043591      0.559694       0.589026          0.864158   \n",
       "11                    0.043585      0.559686       0.589023          0.864158   \n",
       "2                     0.044270      0.446551       0.497929          0.370139   \n",
       "9                     0.043595      0.559685       0.588995          0.864354   \n",
       "3                     0.043618      0.559613       0.589003          0.864438   \n",
       "6                     0.048020      0.111040       0.128215          0.064208   \n",
       "7                     0.046494      0.532246       0.547762          0.894106   \n",
       "1                     0.038872      0.529496       0.542825          0.894049   \n",
       "0                     0.039597      0.057820       0.061533          0.031395   \n",
       "\n",
       "    mean_train_recall  mean_test_precision  mean_train_precision  \\\n",
       "4            0.406140             0.576028              0.644511   \n",
       "10           0.406153             0.576028              0.644497   \n",
       "8            0.405855             0.575963              0.644654   \n",
       "5            0.895812             0.415141              0.438785   \n",
       "11           0.895827             0.415133              0.438779   \n",
       "2            0.405589             0.576312              0.644860   \n",
       "9            0.896026             0.415088              0.438700   \n",
       "3            0.896173             0.414985              0.438673   \n",
       "6            0.071431             0.474121              0.635752   \n",
       "7            0.923852             0.379321              0.389302   \n",
       "1            0.922898             0.376486              0.384501   \n",
       "0            0.032460             0.423249              0.607827   \n",
       "\n",
       "   param_logistic__C param_logistic__multi_class param_logistic__class_weight  \\\n",
       "4              10000                         ovr                         None   \n",
       "10             10000                 multinomial                         None   \n",
       "8                  1                 multinomial                         None   \n",
       "5              10000                         ovr                     balanced   \n",
       "11             10000                 multinomial                     balanced   \n",
       "2                  1                         ovr                         None   \n",
       "9                  1                 multinomial                     balanced   \n",
       "3                  1                         ovr                     balanced   \n",
       "6             0.0001                 multinomial                         None   \n",
       "7             0.0001                 multinomial                     balanced   \n",
       "1             0.0001                         ovr                     balanced   \n",
       "0             0.0001                         ovr                         None   \n",
       "\n",
       "    mean_fit_time  mean_score_time  \n",
       "4       31.540013         0.162915  \n",
       "10     454.693050         0.149548  \n",
       "8      650.182732         0.165038  \n",
       "5       57.300735         0.218698  \n",
       "11     440.055366         0.142646  \n",
       "2       21.891480         0.195644  \n",
       "9      765.565338         0.186003  \n",
       "3       21.163220         0.173946  \n",
       "6      102.283463         0.164113  \n",
       "7       83.889079         0.136795  \n",
       "1        9.606441         0.221696  \n",
       "0       29.036475         0.697462  "
      ]
     },
     "execution_count": 37,
     "metadata": {},
     "output_type": "execute_result"
    }
   ],
   "source": [
    "cols = ['mean_test_average_precision','mean_train_average_precision','std_test_average_precision',\\\n",
    "        'mean_test_f1','mean_train_f1',\\\n",
    "        'mean_test_recall','mean_train_recall','mean_test_precision','mean_train_precision',\\\n",
    "        'param_logistic__C','param_logistic__multi_class','param_logistic__class_weight',\\\n",
    "        'mean_fit_time','mean_score_time']\n",
    "# Delay GridSearchCV\n",
    "grid_cv_df_d = pd.DataFrame(grid_cv_d.cv_results_)[cols].sort_values(by='mean_test_average_precision', ascending=False)\n",
    "grid_cv_df_d"
   ]
  },
  {
   "cell_type": "markdown",
   "metadata": {},
   "source": [
    "**Comments on GridSearchCV - Delay:**\n",
    "* Many results with AP at 0.55, from those some with stronger f1 score at 0.56 which have high recall. Also taking into account 'fit time' when similar results\n",
    "* Based on above comments deciding to go with (5) following parameters:\n",
    "    * multi_class: ovr\n",
    "    * class_weight: balanced\n",
    "    * C: 1000 (could try slightly lower)"
   ]
  },
  {
   "cell_type": "code",
   "execution_count": 38,
   "metadata": {},
   "outputs": [
    {
     "name": "stdout",
     "output_type": "stream",
     "text": [
      "Probabilities: [0.56535422 0.53189748 0.64550162 0.61400207 0.91730315]\n",
      "Predictions: [1 1 1 1 1]\n",
      "Area Under PR Curve: 0.570\n"
     ]
    }
   ],
   "source": [
    "# creating final LogisticRegression\n",
    "logreg_tuned_final_d = LogisticRegression(C=1000, multi_class='ovr', class_weight='balanced', solver='liblinear')\n",
    "# fit\n",
    "logreg_tuned_final_d.fit(X_tr_arr, y_tr_arr_delay_binary)\n",
    "# predict\n",
    "lr_tuned_final_pred_d = logreg_tuned_final_d.predict(X_va_arr_reindex)\n",
    "# predict probabilities\n",
    "lr_tuned_probs_d = logreg_tuned_final_d.predict_proba(X_va_arr_reindex)\n",
    "# check probabilities and compare to predicttions\n",
    "print('Probabilities:',lr_tuned_probs_d[0:5,1])\n",
    "print('Predictions:',lr_tuned_final_pred_d[0:5])\n",
    "# keep probabilities for the positive outcome only\n",
    "lr_tuned_probs_pos_d = lr_tuned_probs_d[:,1]\n",
    "\n",
    "lr_precision_tuned_d, lr_recall_tuned_d, thres_tuned_pr_d = precision_recall_curve(y_va_arr_delay_binary, lr_tuned_probs_pos_d, pos_label=1)\n",
    "lr_tuned_auc_pr_d = auc(lr_recall_tuned_d, lr_precision_tuned_d)\n",
    "print('Area Under PR Curve: {:.3f}'.format(lr_tuned_auc_pr_d))"
   ]
  },
  {
   "cell_type": "markdown",
   "metadata": {},
   "source": [
    "#### Best threshold calculation <a name='logreg_c_delay_thres' />\n",
    "*<a href=#top>Back to top</a>*"
   ]
  },
  {
   "cell_type": "code",
   "execution_count": 39,
   "metadata": {},
   "outputs": [
    {
     "name": "stdout",
     "output_type": "stream",
     "text": [
      "Best Threshold: 0.594\n",
      "Probabilities: [0.56535422 0.53189748 0.64550162 0.61400207 0.91730315 0.47913815\n",
      " 0.86809157 0.9221443  0.70394967 0.59859178]\n",
      "Predictions: [0 0 1 1 1 0 1 1 1 1]\n"
     ]
    }
   ],
   "source": [
    "fscores_tuned_d = (2 * lr_precision_tuned_d * lr_recall_tuned_d) / (lr_precision_tuned_d + lr_recall_tuned_d)\n",
    "lr_bt_tuned_pr_d = thres_tuned_pr_d[argmax(fscores_tuned_d)]\n",
    "print('Best Threshold: {:.3f}'.format(lr_bt_tuned_pr_d))\n",
    "# use threshold in model\n",
    "lr_tuned_curve_d = np.where(logreg_tuned_final_d.predict_proba(X_va_arr_reindex)[:,1] > lr_bt_tuned_pr_d, 1,0)\n",
    "print('Probabilities:',logreg_tuned_final_d.predict_proba(X_va_arr_reindex)[0:10,1])\n",
    "print('Predictions:',lr_tuned_curve_d[0:10])"
   ]
  },
  {
   "cell_type": "markdown",
   "metadata": {},
   "source": [
    "#### Classification report <a name='logreg_c_delay_report' />\n",
    "*<a href=#top>Back to top</a>*"
   ]
  },
  {
   "cell_type": "code",
   "execution_count": 40,
   "metadata": {},
   "outputs": [
    {
     "name": "stdout",
     "output_type": "stream",
     "text": [
      "Classification report: Logistic Regression delay - optimzed threshold at 0.594 on PR curve\n",
      "              precision    recall  f1-score   support\n",
      "\n",
      "    no_delay       0.93      0.75      0.83     86652\n",
      "       delay       0.44      0.77      0.56     22068\n",
      "\n",
      "    accuracy                           0.76    108720\n",
      "   macro avg       0.69      0.76      0.70    108720\n",
      "weighted avg       0.83      0.76      0.78    108720\n",
      "\n"
     ]
    }
   ],
   "source": [
    "print('Classification report: Logistic Regression delay - optimzed threshold at {:.3f} on PR curve'.format(lr_bt_tuned_pr_d))\n",
    "report_logreg_preds_tuned_pr_d = classification_report(y_true=y_va_arr_delay_binary, y_pred=lr_tuned_curve_d, target_names=['no_delay','delay'])\n",
    "#f1_logreg_pr_d = classification_report(y_true=y_va_arr_delay_binary, y_pred=lr_curve_d, target_names=['no_delay','delay'], output_dict=True)['delay']['f1-score']\n",
    "print(report_logreg_preds_tuned_pr_d)"
   ]
  },
  {
   "cell_type": "markdown",
   "metadata": {},
   "source": [
    "**Note:** Got slightly better f1-score with (ii) balanced but much lower recall. Ok to trade-off for higher recall"
   ]
  },
  {
   "cell_type": "markdown",
   "metadata": {},
   "source": [
    "### Important delay <a name='logreg_c_imp_delay' /><a name='logreg_c_imp_delay_grid' />\n",
    "*<a href=#top>Back to top</a>*"
   ]
  },
  {
   "cell_type": "code",
   "execution_count": 41,
   "metadata": {},
   "outputs": [
    {
     "name": "stdout",
     "output_type": "stream",
     "text": [
      "Fitting 10 folds for each of 12 candidates, totalling 120 fits\n",
      "6089.134136915207\n"
     ]
    }
   ],
   "source": [
    "start = time.time()\n",
    "grid_cv_i.fit(X_tr_va,y_tr_va_i)\n",
    "end = time.time()\n",
    "print(end-start)"
   ]
  },
  {
   "cell_type": "code",
   "execution_count": 42,
   "metadata": {},
   "outputs": [
    {
     "data": {
      "text/html": [
       "<div>\n",
       "<style scoped>\n",
       "    .dataframe tbody tr th:only-of-type {\n",
       "        vertical-align: middle;\n",
       "    }\n",
       "\n",
       "    .dataframe tbody tr th {\n",
       "        vertical-align: top;\n",
       "    }\n",
       "\n",
       "    .dataframe thead th {\n",
       "        text-align: right;\n",
       "    }\n",
       "</style>\n",
       "<table border=\"1\" class=\"dataframe\">\n",
       "  <thead>\n",
       "    <tr style=\"text-align: right;\">\n",
       "      <th></th>\n",
       "      <th>mean_test_average_precision</th>\n",
       "      <th>mean_train_average_precision</th>\n",
       "      <th>std_test_average_precision</th>\n",
       "      <th>mean_test_f1</th>\n",
       "      <th>mean_train_f1</th>\n",
       "      <th>mean_test_recall</th>\n",
       "      <th>mean_train_recall</th>\n",
       "      <th>mean_test_precision</th>\n",
       "      <th>mean_train_precision</th>\n",
       "      <th>param_logistic__C</th>\n",
       "      <th>param_logistic__multi_class</th>\n",
       "      <th>param_logistic__class_weight</th>\n",
       "      <th>mean_fit_time</th>\n",
       "      <th>mean_score_time</th>\n",
       "    </tr>\n",
       "  </thead>\n",
       "  <tbody>\n",
       "    <tr>\n",
       "      <th>10</th>\n",
       "      <td>0.204887</td>\n",
       "      <td>0.266600</td>\n",
       "      <td>0.054933</td>\n",
       "      <td>0.094164</td>\n",
       "      <td>0.102085</td>\n",
       "      <td>0.051589</td>\n",
       "      <td>0.054347</td>\n",
       "      <td>0.657344</td>\n",
       "      <td>0.845221</td>\n",
       "      <td>10000</td>\n",
       "      <td>multinomial</td>\n",
       "      <td>None</td>\n",
       "      <td>407.314298</td>\n",
       "      <td>0.131594</td>\n",
       "    </tr>\n",
       "    <tr>\n",
       "      <th>4</th>\n",
       "      <td>0.204876</td>\n",
       "      <td>0.266605</td>\n",
       "      <td>0.054946</td>\n",
       "      <td>0.094164</td>\n",
       "      <td>0.102085</td>\n",
       "      <td>0.051589</td>\n",
       "      <td>0.054347</td>\n",
       "      <td>0.657344</td>\n",
       "      <td>0.845221</td>\n",
       "      <td>10000</td>\n",
       "      <td>ovr</td>\n",
       "      <td>None</td>\n",
       "      <td>26.393216</td>\n",
       "      <td>0.191900</td>\n",
       "    </tr>\n",
       "    <tr>\n",
       "      <th>8</th>\n",
       "      <td>0.204848</td>\n",
       "      <td>0.266548</td>\n",
       "      <td>0.054867</td>\n",
       "      <td>0.094333</td>\n",
       "      <td>0.101764</td>\n",
       "      <td>0.051650</td>\n",
       "      <td>0.054165</td>\n",
       "      <td>0.663694</td>\n",
       "      <td>0.845274</td>\n",
       "      <td>1</td>\n",
       "      <td>multinomial</td>\n",
       "      <td>None</td>\n",
       "      <td>406.623689</td>\n",
       "      <td>0.140775</td>\n",
       "    </tr>\n",
       "    <tr>\n",
       "      <th>2</th>\n",
       "      <td>0.204764</td>\n",
       "      <td>0.266504</td>\n",
       "      <td>0.054780</td>\n",
       "      <td>0.094147</td>\n",
       "      <td>0.101243</td>\n",
       "      <td>0.051528</td>\n",
       "      <td>0.053868</td>\n",
       "      <td>0.665009</td>\n",
       "      <td>0.845803</td>\n",
       "      <td>1</td>\n",
       "      <td>ovr</td>\n",
       "      <td>None</td>\n",
       "      <td>14.204667</td>\n",
       "      <td>0.173727</td>\n",
       "    </tr>\n",
       "    <tr>\n",
       "      <th>5</th>\n",
       "      <td>0.197163</td>\n",
       "      <td>0.253391</td>\n",
       "      <td>0.055819</td>\n",
       "      <td>0.182289</td>\n",
       "      <td>0.212806</td>\n",
       "      <td>0.778442</td>\n",
       "      <td>0.848012</td>\n",
       "      <td>0.103337</td>\n",
       "      <td>0.121674</td>\n",
       "      <td>10000</td>\n",
       "      <td>ovr</td>\n",
       "      <td>balanced</td>\n",
       "      <td>85.101367</td>\n",
       "      <td>0.218964</td>\n",
       "    </tr>\n",
       "    <tr>\n",
       "      <th>3</th>\n",
       "      <td>0.197086</td>\n",
       "      <td>0.253277</td>\n",
       "      <td>0.055680</td>\n",
       "      <td>0.182233</td>\n",
       "      <td>0.212799</td>\n",
       "      <td>0.778685</td>\n",
       "      <td>0.848154</td>\n",
       "      <td>0.103297</td>\n",
       "      <td>0.121666</td>\n",
       "      <td>1</td>\n",
       "      <td>ovr</td>\n",
       "      <td>balanced</td>\n",
       "      <td>24.078090</td>\n",
       "      <td>0.190684</td>\n",
       "    </tr>\n",
       "    <tr>\n",
       "      <th>11</th>\n",
       "      <td>0.182434</td>\n",
       "      <td>0.185501</td>\n",
       "      <td>0.056034</td>\n",
       "      <td>0.197487</td>\n",
       "      <td>0.199752</td>\n",
       "      <td>0.632919</td>\n",
       "      <td>0.649644</td>\n",
       "      <td>0.126577</td>\n",
       "      <td>0.123732</td>\n",
       "      <td>10000</td>\n",
       "      <td>multinomial</td>\n",
       "      <td>balanced</td>\n",
       "      <td>404.090964</td>\n",
       "      <td>0.150601</td>\n",
       "    </tr>\n",
       "    <tr>\n",
       "      <th>9</th>\n",
       "      <td>0.158580</td>\n",
       "      <td>0.182647</td>\n",
       "      <td>0.042398</td>\n",
       "      <td>0.164599</td>\n",
       "      <td>0.196865</td>\n",
       "      <td>0.637849</td>\n",
       "      <td>0.684562</td>\n",
       "      <td>0.099507</td>\n",
       "      <td>0.121273</td>\n",
       "      <td>1</td>\n",
       "      <td>multinomial</td>\n",
       "      <td>balanced</td>\n",
       "      <td>462.361673</td>\n",
       "      <td>0.141590</td>\n",
       "    </tr>\n",
       "    <tr>\n",
       "      <th>7</th>\n",
       "      <td>0.126338</td>\n",
       "      <td>0.163164</td>\n",
       "      <td>0.023031</td>\n",
       "      <td>0.161955</td>\n",
       "      <td>0.183370</td>\n",
       "      <td>0.789440</td>\n",
       "      <td>0.852772</td>\n",
       "      <td>0.090423</td>\n",
       "      <td>0.102914</td>\n",
       "      <td>0.0001</td>\n",
       "      <td>multinomial</td>\n",
       "      <td>balanced</td>\n",
       "      <td>413.333821</td>\n",
       "      <td>0.142823</td>\n",
       "    </tr>\n",
       "    <tr>\n",
       "      <th>1</th>\n",
       "      <td>0.118499</td>\n",
       "      <td>0.145406</td>\n",
       "      <td>0.028762</td>\n",
       "      <td>0.162537</td>\n",
       "      <td>0.178731</td>\n",
       "      <td>0.784572</td>\n",
       "      <td>0.841004</td>\n",
       "      <td>0.090711</td>\n",
       "      <td>0.099991</td>\n",
       "      <td>0.0001</td>\n",
       "      <td>ovr</td>\n",
       "      <td>balanced</td>\n",
       "      <td>6.852943</td>\n",
       "      <td>0.181055</td>\n",
       "    </tr>\n",
       "    <tr>\n",
       "      <th>6</th>\n",
       "      <td>0.117266</td>\n",
       "      <td>0.140737</td>\n",
       "      <td>0.028932</td>\n",
       "      <td>0.000000</td>\n",
       "      <td>0.000000</td>\n",
       "      <td>0.000000</td>\n",
       "      <td>0.000000</td>\n",
       "      <td>0.000000</td>\n",
       "      <td>0.000000</td>\n",
       "      <td>0.0001</td>\n",
       "      <td>multinomial</td>\n",
       "      <td>None</td>\n",
       "      <td>92.038737</td>\n",
       "      <td>0.162565</td>\n",
       "    </tr>\n",
       "    <tr>\n",
       "      <th>0</th>\n",
       "      <td>0.103689</td>\n",
       "      <td>0.117773</td>\n",
       "      <td>0.016250</td>\n",
       "      <td>0.000000</td>\n",
       "      <td>0.000000</td>\n",
       "      <td>0.000000</td>\n",
       "      <td>0.000000</td>\n",
       "      <td>0.000000</td>\n",
       "      <td>0.000000</td>\n",
       "      <td>0.0001</td>\n",
       "      <td>ovr</td>\n",
       "      <td>None</td>\n",
       "      <td>6.685491</td>\n",
       "      <td>0.191661</td>\n",
       "    </tr>\n",
       "  </tbody>\n",
       "</table>\n",
       "</div>"
      ],
      "text/plain": [
       "    mean_test_average_precision  mean_train_average_precision  \\\n",
       "10                     0.204887                      0.266600   \n",
       "4                      0.204876                      0.266605   \n",
       "8                      0.204848                      0.266548   \n",
       "2                      0.204764                      0.266504   \n",
       "5                      0.197163                      0.253391   \n",
       "3                      0.197086                      0.253277   \n",
       "11                     0.182434                      0.185501   \n",
       "9                      0.158580                      0.182647   \n",
       "7                      0.126338                      0.163164   \n",
       "1                      0.118499                      0.145406   \n",
       "6                      0.117266                      0.140737   \n",
       "0                      0.103689                      0.117773   \n",
       "\n",
       "    std_test_average_precision  mean_test_f1  mean_train_f1  mean_test_recall  \\\n",
       "10                    0.054933      0.094164       0.102085          0.051589   \n",
       "4                     0.054946      0.094164       0.102085          0.051589   \n",
       "8                     0.054867      0.094333       0.101764          0.051650   \n",
       "2                     0.054780      0.094147       0.101243          0.051528   \n",
       "5                     0.055819      0.182289       0.212806          0.778442   \n",
       "3                     0.055680      0.182233       0.212799          0.778685   \n",
       "11                    0.056034      0.197487       0.199752          0.632919   \n",
       "9                     0.042398      0.164599       0.196865          0.637849   \n",
       "7                     0.023031      0.161955       0.183370          0.789440   \n",
       "1                     0.028762      0.162537       0.178731          0.784572   \n",
       "6                     0.028932      0.000000       0.000000          0.000000   \n",
       "0                     0.016250      0.000000       0.000000          0.000000   \n",
       "\n",
       "    mean_train_recall  mean_test_precision  mean_train_precision  \\\n",
       "10           0.054347             0.657344              0.845221   \n",
       "4            0.054347             0.657344              0.845221   \n",
       "8            0.054165             0.663694              0.845274   \n",
       "2            0.053868             0.665009              0.845803   \n",
       "5            0.848012             0.103337              0.121674   \n",
       "3            0.848154             0.103297              0.121666   \n",
       "11           0.649644             0.126577              0.123732   \n",
       "9            0.684562             0.099507              0.121273   \n",
       "7            0.852772             0.090423              0.102914   \n",
       "1            0.841004             0.090711              0.099991   \n",
       "6            0.000000             0.000000              0.000000   \n",
       "0            0.000000             0.000000              0.000000   \n",
       "\n",
       "   param_logistic__C param_logistic__multi_class param_logistic__class_weight  \\\n",
       "10             10000                 multinomial                         None   \n",
       "4              10000                         ovr                         None   \n",
       "8                  1                 multinomial                         None   \n",
       "2                  1                         ovr                         None   \n",
       "5              10000                         ovr                     balanced   \n",
       "3                  1                         ovr                     balanced   \n",
       "11             10000                 multinomial                     balanced   \n",
       "9                  1                 multinomial                     balanced   \n",
       "7             0.0001                 multinomial                     balanced   \n",
       "1             0.0001                         ovr                     balanced   \n",
       "6             0.0001                 multinomial                         None   \n",
       "0             0.0001                         ovr                         None   \n",
       "\n",
       "    mean_fit_time  mean_score_time  \n",
       "10     407.314298         0.131594  \n",
       "4       26.393216         0.191900  \n",
       "8      406.623689         0.140775  \n",
       "2       14.204667         0.173727  \n",
       "5       85.101367         0.218964  \n",
       "3       24.078090         0.190684  \n",
       "11     404.090964         0.150601  \n",
       "9      462.361673         0.141590  \n",
       "7      413.333821         0.142823  \n",
       "1        6.852943         0.181055  \n",
       "6       92.038737         0.162565  \n",
       "0        6.685491         0.191661  "
      ]
     },
     "execution_count": 42,
     "metadata": {},
     "output_type": "execute_result"
    }
   ],
   "source": [
    "# use same columns as above\n",
    "# Important delay GridSearchCV\n",
    "grid_cv_df_i = pd.DataFrame(grid_cv_i.cv_results_)[cols].sort_values(by='mean_test_average_precision', ascending=False)\n",
    "grid_cv_df_i"
   ]
  },
  {
   "cell_type": "markdown",
   "metadata": {},
   "source": [
    "**Comments on GridSearchCV - Important delay:**\n",
    "* 4 results with AP around 0.20 but 2 with much higher f1 scores (0.18) driven but higher recall over lower precision. Decide to go for more recall and take 'fit time' time into consideration.\n",
    "* Based on above comments deciding to go with (3) following parameters:\n",
    "    * multi_class: ovr\n",
    "    * class_weight: balanced\n",
    "    * C: 1"
   ]
  },
  {
   "cell_type": "code",
   "execution_count": 43,
   "metadata": {},
   "outputs": [
    {
     "name": "stdout",
     "output_type": "stream",
     "text": [
      "Probabilities: [0.7131021  0.68916419 0.87460035 0.86152064 0.84779204]\n",
      "Predictions: [1 1 1 1 1]\n",
      "Area Under PR Curve: 0.206\n"
     ]
    }
   ],
   "source": [
    "# creating final LogisticRegression\n",
    "logreg_tuned_final_i = LogisticRegression(C=1, multi_class='ovr', class_weight='balanced', solver='liblinear')\n",
    "# fit\n",
    "logreg_tuned_final_i.fit(X_tr_arr, y_tr_arr_imp_delay_binary)\n",
    "# predict\n",
    "lr_tuned_final_pred_i = logreg_tuned_final_i.predict(X_va_arr_reindex)\n",
    "# predict probabilities\n",
    "lr_tuned_probs_i = logreg_tuned_final_i.predict_proba(X_va_arr_reindex)\n",
    "# check probabilities and compare to predicttions\n",
    "print('Probabilities:',lr_tuned_probs_i[0:5,1])\n",
    "print('Predictions:',lr_tuned_final_pred_i[0:5])\n",
    "# keep probabilities for the positive outcome only\n",
    "lr_tuned_probs_pos_i = lr_tuned_probs_i[:,1]\n",
    "\n",
    "lr_precision_tuned_i, lr_recall_tuned_i, thres_tuned_pr_i = precision_recall_curve(y_va_arr_imp_delay_binary, lr_tuned_probs_pos_i, pos_label=1)\n",
    "lr_tuned_auc_pr_i = auc(lr_recall_tuned_i, lr_precision_tuned_i)\n",
    "print('Area Under PR Curve: {:.3f}'.format(lr_tuned_auc_pr_i))"
   ]
  },
  {
   "cell_type": "markdown",
   "metadata": {},
   "source": [
    "#### Best threshold (important delay) <a name='logreg_c_imp_delay_thres' />\n",
    "*<a href=#top>Back to top</a>*"
   ]
  },
  {
   "cell_type": "code",
   "execution_count": 44,
   "metadata": {},
   "outputs": [
    {
     "name": "stdout",
     "output_type": "stream",
     "text": [
      "[0.14017579 0.14015653 0.14015841 ... 0.00076321 0.00038168 0.        ]\n",
      "Best Threshold: 0.768\n",
      "Probabilities: [0.7131021  0.68916419 0.87460035 0.86152064 0.84779204 0.61206968\n",
      " 0.82413082 0.83835988 0.72494576 0.71871122]\n",
      "Predictions: [0 0 1 1 1 0 1 1 0 0]\n"
     ]
    }
   ],
   "source": [
    "fscores_tuned_i = (2 * lr_precision_tuned_i * lr_recall_tuned_i) / (lr_precision_tuned_i + lr_recall_tuned_i)\n",
    "print(fscores_tuned_i)\n",
    "lr_bt_tuned_pr_i = thres_tuned_pr_i[argmax(fscores_tuned_i)]\n",
    "print('Best Threshold: {:.3f}'.format(lr_bt_tuned_pr_i))\n",
    "# use threshold in model\n",
    "lr_tuned_curve_i = np.where(logreg_tuned_final_i.predict_proba(X_va_arr_reindex)[:,1] > lr_bt_tuned_pr_i, 1,0)\n",
    "print('Probabilities:',logreg_tuned_final_i.predict_proba(X_va_arr_reindex)[0:10,1])\n",
    "print('Predictions:',lr_tuned_curve_i[0:10])"
   ]
  },
  {
   "cell_type": "markdown",
   "metadata": {},
   "source": [
    "#### Classification report (important delay) <a name='logreg_c_imp_delay_report' />\n",
    "*<a href=#top>Back to top</a>*"
   ]
  },
  {
   "cell_type": "code",
   "execution_count": 45,
   "metadata": {},
   "outputs": [
    {
     "name": "stdout",
     "output_type": "stream",
     "text": [
      "Classification report: Logistic Regression delay - optimzed threshold at 0.768 on PR curve\n",
      "                 precision    recall  f1-score   support\n",
      "\n",
      "       no_delay       0.96      0.94      0.95    103481\n",
      "important_delay       0.20      0.31      0.25      5239\n",
      "\n",
      "       accuracy                           0.91    108720\n",
      "      macro avg       0.58      0.62      0.60    108720\n",
      "   weighted avg       0.93      0.91      0.92    108720\n",
      "\n"
     ]
    }
   ],
   "source": [
    "print('Classification report: Logistic Regression delay - optimzed threshold at {:.3f} on PR curve'.format(lr_bt_tuned_pr_i))\n",
    "report_logreg_preds_tuned_pr_i = classification_report(y_true=y_va_arr_imp_delay_binary, y_pred=lr_tuned_curve_i, target_names=['no_delay','important_delay'])\n",
    "#f1_logreg_pr_d = classification_report(y_true=y_va_arr_delay_binary, y_pred=lr_curve_d, target_names=['no_delay','delay'], output_dict=True)['delay']['f1-score']\n",
    "print(report_logreg_preds_tuned_pr_i)"
   ]
  },
  {
   "cell_type": "markdown",
   "metadata": {},
   "source": [
    "**Note:** Strong performance very similar to (ii) balanced, interesting to have high recall"
   ]
  },
  {
   "cell_type": "markdown",
   "metadata": {},
   "source": [
    "#### Performance on test set (Logistic regression) <a name='logreg_test' />\n",
    "*<a href=#top>Back to top</a>*"
   ]
  },
  {
   "cell_type": "code",
   "execution_count": 46,
   "metadata": {},
   "outputs": [
    {
     "name": "stdout",
     "output_type": "stream",
     "text": [
      "Area Under PR Curve: 0.652\n",
      "Probabilities: [0.56535422 0.53189748 0.64550162 0.61400207 0.91730315 0.47913815\n",
      " 0.86809157 0.9221443  0.70394967 0.59859178]\n",
      "Predictions: [0 0 1 1 1 0 1 1 1 1]\n",
      "Classification report: Logistic Regression delay TEST - optimzed threshold at 0.594 on PR curve\n",
      "              precision    recall  f1-score   support\n",
      "\n",
      "    no_delay       0.90      0.79      0.84     80088\n",
      "       delay       0.55      0.76      0.64     27278\n",
      "\n",
      "    accuracy                           0.78    107366\n",
      "   macro avg       0.73      0.77      0.74    107366\n",
      "weighted avg       0.81      0.78      0.79    107366\n",
      "\n"
     ]
    }
   ],
   "source": [
    "# delay\n",
    "# area under precision-recall curve test\n",
    "lr_test_probs_pos_d = logreg_tuned_final_d.predict_proba(X_te_arr_reindex)[:,1]\n",
    "lr_precision_test_d, lr_recall_test_d, _ = precision_recall_curve(y_te_arr_delay_binary, lr_test_probs_pos_d, pos_label=1)\n",
    "lr_test_auc_pr_d = auc(lr_recall_test_d, lr_precision_test_d)\n",
    "print('Area Under PR Curve: {:.3f}'.format(lr_test_auc_pr_d))\n",
    "# use threshold in model\n",
    "lr_test_d = np.where(logreg_tuned_final_d.predict_proba(X_te_arr_reindex)[:,1] > lr_bt_tuned_pr_d, 1,0)\n",
    "print('Probabilities:',logreg_tuned_final_d.predict_proba(X_te_arr_reindex)[0:10,1])\n",
    "print('Predictions:',lr_test_d[0:10])\n",
    "print('Classification report: Logistic Regression delay TEST - optimzed threshold at {:.3f} on PR curve'.format(lr_bt_tuned_pr_d))\n",
    "report_logreg_test_d = classification_report(y_true=y_te_arr_delay_binary, y_pred=lr_test_d, target_names=['no_delay','delay'])\n",
    "f1_logreg_test_d = classification_report(y_true=y_te_arr_delay_binary, y_pred=lr_test_d, target_names=['no_delay','delay'], output_dict=True)['delay']['f1-score']\n",
    "precision_logreg_test_d = classification_report(y_true=y_te_arr_delay_binary, y_pred=lr_test_d, target_names=['no_delay','delay'], output_dict=True)['delay']['precision']\n",
    "recall_logreg_test_d = classification_report(y_true=y_te_arr_delay_binary, y_pred=lr_test_d, target_names=['no_delay','delay'], output_dict=True)['delay']['recall']\n",
    "print(report_logreg_test_d)"
   ]
  },
  {
   "cell_type": "code",
   "execution_count": 47,
   "metadata": {},
   "outputs": [
    {
     "name": "stdout",
     "output_type": "stream",
     "text": [
      "Area Under PR Curve: 0.270\n",
      "Probabilities: [0.7131021  0.68916419 0.87460035 0.86152064 0.84779204 0.61206968\n",
      " 0.82413082 0.83835988 0.72494576 0.71871122]\n",
      "Predictions: [0 0 1 1 1 0 1 1 0 0]\n",
      "Classification report: Logistic Regression important delay TEST - optimzed threshold at 0.768 on PR curve\n",
      "                 precision    recall  f1-score   support\n",
      "\n",
      "       no_delay       0.95      0.94      0.95    100362\n",
      "important_delay       0.28      0.32      0.30      7004\n",
      "\n",
      "       accuracy                           0.90    107366\n",
      "      macro avg       0.62      0.63      0.62    107366\n",
      "   weighted avg       0.91      0.90      0.91    107366\n",
      "\n"
     ]
    }
   ],
   "source": [
    "# important delay\n",
    "# area under precision-recall curve test\n",
    "lr_test_probs_pos_i = logreg_tuned_final_i.predict_proba(X_te_arr_reindex)[:,1]\n",
    "lr_precision_test_i, lr_recall_test_i, _ = precision_recall_curve(y_te_arr_imp_delay_binary, lr_test_probs_pos_i, pos_label=1)\n",
    "lr_test_auc_pr_i = auc(lr_recall_test_i, lr_precision_test_i)\n",
    "print('Area Under PR Curve: {:.3f}'.format(lr_test_auc_pr_i))\n",
    "# use threshold in model\n",
    "lr_test_i = np.where(logreg_tuned_final_i.predict_proba(X_te_arr_reindex)[:,1] > lr_bt_tuned_pr_i, 1,0)\n",
    "print('Probabilities:',logreg_tuned_final_i.predict_proba(X_te_arr_reindex)[0:10,1])\n",
    "print('Predictions:',lr_test_i[0:10])\n",
    "print('Classification report: Logistic Regression important delay TEST - optimzed threshold at {:.3f} on PR curve'.format(lr_bt_tuned_pr_i))\n",
    "report_logreg_test_i = classification_report(y_true=y_te_arr_imp_delay_binary, y_pred=lr_test_i, target_names=['no_delay','important_delay'])\n",
    "f1_logreg_test_i = classification_report(y_true=y_te_arr_imp_delay_binary, y_pred=lr_test_i, target_names=['no_delay','important_delay'], output_dict=True)['important_delay']['f1-score']\n",
    "precision_logreg_test_i = classification_report(y_true=y_te_arr_imp_delay_binary, y_pred=lr_test_i, target_names=['no_delay','important_delay'], output_dict=True)['important_delay']['precision']\n",
    "recall_logreg_test_i = classification_report(y_true=y_te_arr_imp_delay_binary, y_pred=lr_test_i, target_names=['no_delay','important_delay'], output_dict=True)['important_delay']['recall']\n",
    "print(report_logreg_test_i)"
   ]
  },
  {
   "cell_type": "markdown",
   "metadata": {},
   "source": [
    "### ii) k-NN (decided to not tune classifier for comparative analysis due to computation power) <a name='knn' />\n",
    "*<a href=#top>Back to top</a>*"
   ]
  },
  {
   "cell_type": "code",
   "execution_count": 48,
   "metadata": {},
   "outputs": [],
   "source": [
    "from sklearn.neighbors import KNeighborsClassifier"
   ]
  },
  {
   "cell_type": "markdown",
   "metadata": {},
   "source": [
    "#### Delay <a name='knn_delay' />\n",
    "*<a href=#top>Back to top</a>*"
   ]
  },
  {
   "cell_type": "code",
   "execution_count": 54,
   "metadata": {},
   "outputs": [
    {
     "name": "stdout",
     "output_type": "stream",
     "text": [
      "k-NN: delay\n",
      "Precision k-NN delay: 0.5079\n",
      "Recall k-NN delay: 0.4928\n",
      "F1 score k-NN delay: 0.5003\n",
      "1349.2175543308258\n"
     ]
    }
   ],
   "source": [
    "start_knn = time.time()\n",
    "# create classifier\n",
    "knn_d = KNeighborsClassifier()\n",
    "\n",
    "# fit\n",
    "knn_d.fit(X_tr_arr, y_tr_arr_delay_binary)\n",
    "#logreg_i.fit(X_tr_arr, y_tr_arr_imp_delay)\n",
    "\n",
    "# evaluate\n",
    "score_knn_arr_d = knn_d.score(X_va_arr_reindex, y_va_arr_delay_binary)\n",
    "\n",
    "y_pred_knn_va_arr_d = knn_d.predict(X_va_arr_reindex) # prediction delay\n",
    "precision_knn_arr_d = precision_score(y_true=y_va_arr_delay_binary, y_pred=y_pred_knn_va_arr_d, pos_label=1)\n",
    "recall_knn_arr_d = recall_score(y_true=y_va_arr_delay_binary, y_pred=y_pred_knn_va_arr_d, pos_label=1)\n",
    "f1_knn_arr_d = f1_score(y_true=y_va_arr_delay_binary, y_pred=y_pred_knn_va_arr_d, pos_label=1)\n",
    "\n",
    "# print\n",
    "print('k-NN: delay')\n",
    "#print('Score k-NN delay: {:.4f}'.format(score_knn_arr_d))\n",
    "print('Precision k-NN delay: {:.4f}'.format(precision_knn_arr_d))\n",
    "print('Recall k-NN delay: {:.4f}'.format(recall_knn_arr_d))\n",
    "print('F1 score k-NN delay: {:.4f}'.format(f1_knn_arr_d))\n",
    "\n",
    "end_knn = time.time()\n",
    "print(end_knn - start_knn)"
   ]
  },
  {
   "cell_type": "code",
   "execution_count": 55,
   "metadata": {},
   "outputs": [
    {
     "name": "stdout",
     "output_type": "stream",
     "text": [
      "Confusion matrix (normalized): k-NN delay\n"
     ]
    },
    {
     "data": {
      "text/html": [
       "<div>\n",
       "<style scoped>\n",
       "    .dataframe tbody tr th:only-of-type {\n",
       "        vertical-align: middle;\n",
       "    }\n",
       "\n",
       "    .dataframe tbody tr th {\n",
       "        vertical-align: top;\n",
       "    }\n",
       "\n",
       "    .dataframe thead th {\n",
       "        text-align: right;\n",
       "    }\n",
       "</style>\n",
       "<table border=\"1\" class=\"dataframe\">\n",
       "  <thead>\n",
       "    <tr style=\"text-align: right;\">\n",
       "      <th></th>\n",
       "      <th>pred: delay</th>\n",
       "      <th>pred: no delay</th>\n",
       "    </tr>\n",
       "  </thead>\n",
       "  <tbody>\n",
       "    <tr>\n",
       "      <th>true: delay</th>\n",
       "      <td>0.700101</td>\n",
       "      <td>0.096919</td>\n",
       "    </tr>\n",
       "    <tr>\n",
       "      <th>true: no delay</th>\n",
       "      <td>0.102943</td>\n",
       "      <td>0.100037</td>\n",
       "    </tr>\n",
       "  </tbody>\n",
       "</table>\n",
       "</div>"
      ],
      "text/plain": [
       "                pred: delay  pred: no delay\n",
       "true: delay        0.700101        0.096919\n",
       "true: no delay     0.102943        0.100037"
      ]
     },
     "execution_count": 55,
     "metadata": {},
     "output_type": "execute_result"
    }
   ],
   "source": [
    "# Confusion matrix 'k-NN delay'\n",
    "matrix_knn_d = confusion_matrix(y_true=y_va_arr_delay_binary, y_pred=y_pred_knn_va_arr_d,normalize='all') # normalize either on columns/rows or all\n",
    "matrix_knn_d = pd.DataFrame(\n",
    "    matrix_knn_d, \n",
    "    columns=['pred: delay', 'pred: no delay'],\n",
    "    index=['true: delay', 'true: no delay']\n",
    ")\n",
    "print('Confusion matrix (normalized): k-NN delay')\n",
    "matrix_knn_d"
   ]
  },
  {
   "cell_type": "code",
   "execution_count": 56,
   "metadata": {},
   "outputs": [
    {
     "name": "stdout",
     "output_type": "stream",
     "text": [
      "Classification report: k-NN delay\n",
      "              precision    recall  f1-score   support\n",
      "\n",
      "           0       0.87      0.88      0.88     86652\n",
      "           1       0.51      0.49      0.50     22068\n",
      "\n",
      "    accuracy                           0.80    108720\n",
      "   macro avg       0.69      0.69      0.69    108720\n",
      "weighted avg       0.80      0.80      0.80    108720\n",
      "\n"
     ]
    }
   ],
   "source": [
    "print('Classification report: k-NN delay')\n",
    "report_knn_d = classification_report(y_true=y_va_arr_delay_binary, y_pred=y_pred_knn_va_arr_d)\n",
    "print(report_knn_d)"
   ]
  },
  {
   "cell_type": "markdown",
   "metadata": {},
   "source": [
    "#### Important delay <a name='knn_imp_delay' />\n",
    "*<a href=#top>Back to top</a>*"
   ]
  },
  {
   "cell_type": "code",
   "execution_count": 57,
   "metadata": {},
   "outputs": [
    {
     "name": "stdout",
     "output_type": "stream",
     "text": [
      "k-NN: delay\n",
      "Precision k-NN delay: 0.3639\n",
      "Recall k-NN delay: 0.1210\n",
      "F1 score k-NN delay: 0.1816\n",
      "21470.36544728279\n"
     ]
    }
   ],
   "source": [
    "start_knn_i = time.time()\n",
    "# create classifier\n",
    "knn_i = KNeighborsClassifier()\n",
    "\n",
    "# fit\n",
    "knn_i.fit(X_tr_arr, y_tr_arr_imp_delay_binary)\n",
    "#logreg_i.fit(X_tr_arr, y_tr_arr_imp_delay)\n",
    "\n",
    "# evaluate\n",
    "score_knn_arr_i = knn_i.score(X_va_arr_reindex, y_va_arr_imp_delay_binary)\n",
    "\n",
    "y_pred_knn_va_arr_i = knn_i.predict(X_va_arr_reindex) # prediction delay\n",
    "precision_knn_arr_i = precision_score(y_true=y_va_arr_imp_delay_binary, y_pred=y_pred_knn_va_arr_i, pos_label=1)\n",
    "recall_knn_arr_i = recall_score(y_true=y_va_arr_imp_delay_binary, y_pred=y_pred_knn_va_arr_i, pos_label=1)\n",
    "f1_knn_arr_i = f1_score(y_true=y_va_arr_imp_delay_binary, y_pred=y_pred_knn_va_arr_i, pos_label=1)\n",
    "\n",
    "# print\n",
    "print('k-NN: delay')\n",
    "#print('Score k-NN delay: {:.4f}'.format(score_knn_arr_d))\n",
    "print('Precision k-NN delay: {:.4f}'.format(precision_knn_arr_i))\n",
    "print('Recall k-NN delay: {:.4f}'.format(recall_knn_arr_i))\n",
    "print('F1 score k-NN delay: {:.4f}'.format(f1_knn_arr_i))\n",
    "\n",
    "end_knn_i = time.time()\n",
    "print(end_knn_i - start_knn_i)"
   ]
  },
  {
   "cell_type": "code",
   "execution_count": 58,
   "metadata": {},
   "outputs": [
    {
     "name": "stdout",
     "output_type": "stream",
     "text": [
      "Confusion matrix (normalized): k-NN important delay\n"
     ]
    },
    {
     "data": {
      "text/html": [
       "<div>\n",
       "<style scoped>\n",
       "    .dataframe tbody tr th:only-of-type {\n",
       "        vertical-align: middle;\n",
       "    }\n",
       "\n",
       "    .dataframe tbody tr th {\n",
       "        vertical-align: top;\n",
       "    }\n",
       "\n",
       "    .dataframe thead th {\n",
       "        text-align: right;\n",
       "    }\n",
       "</style>\n",
       "<table border=\"1\" class=\"dataframe\">\n",
       "  <thead>\n",
       "    <tr style=\"text-align: right;\">\n",
       "      <th></th>\n",
       "      <th>pred: no delay</th>\n",
       "      <th>pred: important delay</th>\n",
       "    </tr>\n",
       "  </thead>\n",
       "  <tbody>\n",
       "    <tr>\n",
       "      <th>true: no delay</th>\n",
       "      <td>0.941621</td>\n",
       "      <td>0.010191</td>\n",
       "    </tr>\n",
       "    <tr>\n",
       "      <th>true: important delay</th>\n",
       "      <td>0.042357</td>\n",
       "      <td>0.005831</td>\n",
       "    </tr>\n",
       "  </tbody>\n",
       "</table>\n",
       "</div>"
      ],
      "text/plain": [
       "                       pred: no delay  pred: important delay\n",
       "true: no delay               0.941621               0.010191\n",
       "true: important delay        0.042357               0.005831"
      ]
     },
     "execution_count": 58,
     "metadata": {},
     "output_type": "execute_result"
    }
   ],
   "source": [
    "# Confusion matrix 'k-NN important delay'\n",
    "matrix_knn_i = confusion_matrix(y_true=y_va_arr_imp_delay_binary, y_pred=y_pred_knn_va_arr_i,normalize='all') # normalize either on columns/rows or all\n",
    "matrix_knn_i = pd.DataFrame(\n",
    "    matrix_knn_i, \n",
    "    columns=['pred: no delay', 'pred: important delay'],\n",
    "    index=['true: no delay', 'true: important delay']\n",
    ")\n",
    "print('Confusion matrix (normalized): k-NN important delay')\n",
    "matrix_knn_i"
   ]
  },
  {
   "cell_type": "code",
   "execution_count": 59,
   "metadata": {},
   "outputs": [
    {
     "name": "stdout",
     "output_type": "stream",
     "text": [
      "Classification report: k-NN important delay\n",
      "              precision    recall  f1-score   support\n",
      "\n",
      "           0       0.96      0.99      0.97    103481\n",
      "           1       0.36      0.12      0.18      5239\n",
      "\n",
      "    accuracy                           0.95    108720\n",
      "   macro avg       0.66      0.56      0.58    108720\n",
      "weighted avg       0.93      0.95      0.93    108720\n",
      "\n"
     ]
    }
   ],
   "source": [
    "print('Classification report: k-NN important delay')\n",
    "report_knn_i = classification_report(y_true=y_va_arr_imp_delay_binary, y_pred=y_pred_knn_va_arr_i)\n",
    "print(report_knn_i)"
   ]
  },
  {
   "cell_type": "markdown",
   "metadata": {},
   "source": [
    "**Comments:**\n",
    "* Takes too long to run due to \"Curse of dimensionality\" issue, 1 hour without tuning. Decide not to try optimized as we use too many ressource without potentially improving performance\n",
    "* Alternative I have thought of:\n",
    "    * A-NN: seems in theory to better perform on large data sets but \"Curse of dimensionality\" would still apply ([knn to be replaced by ann](https://pub.towardsai.net/knn-k-nearest-neighbors-is-dead-fc16507eb3e))\n",
    "    * PCA: also sub-optimal for categorical variables (also thought about other dimensionality reduction technics like ['Prince package'](https://towardsdatascience.com/5-must-know-dimensionality-reduction-techniques-via-prince-e6ffb27e55d1))"
   ]
  },
  {
   "cell_type": "markdown",
   "metadata": {},
   "source": [
    "#### Performance on test set (k-NN) <a name='knn_test' />\n",
    "*<a href=#top>Back to top</a>*"
   ]
  },
  {
   "cell_type": "code",
   "execution_count": 265,
   "metadata": {},
   "outputs": [
    {
     "name": "stdout",
     "output_type": "stream",
     "text": [
      "k-NN: delay\n",
      "Precision k-NN delay: 0.6116\n",
      "Recall k-NN delay: 0.4787\n",
      "F1 score k-NN delay: 0.5371\n",
      "Area Under PR Curve: 0.610\n",
      "Classification report: k-NN delay\n",
      "              precision    recall  f1-score   support\n",
      "\n",
      "           0       0.83      0.90      0.86     80088\n",
      "           1       0.61      0.48      0.54     27278\n",
      "\n",
      "    accuracy                           0.79    107366\n",
      "   macro avg       0.72      0.69      0.70    107366\n",
      "weighted avg       0.78      0.79      0.78    107366\n",
      "\n"
     ]
    }
   ],
   "source": [
    "# delay\n",
    "y_pred_knn_d = knn_d.predict(X_te_arr_reindex) # prediction delay\n",
    "precision_knn_d = precision_score(y_true=y_te_arr_delay_binary, y_pred=y_pred_knn_d, pos_label=1)\n",
    "recall_knn_d = recall_score(y_true=y_te_arr_delay_binary, y_pred=y_pred_knn_d, pos_label=1)\n",
    "f1_knn_d = f1_score(y_true=y_te_arr_delay_binary, y_pred=y_pred_knn_d, pos_label=1)\n",
    "\n",
    "# print\n",
    "print('k-NN: delay')\n",
    "#print('Score k-NN delay: {:.4f}'.format(score_knn_arr_d))\n",
    "print('Precision k-NN delay: {:.4f}'.format(precision_knn_d))\n",
    "print('Recall k-NN delay: {:.4f}'.format(recall_knn_d))\n",
    "print('F1 score k-NN delay: {:.4f}'.format(f1_knn_d))\n",
    "\n",
    "knn_test_probs_pos_d = knn_d.predict_proba(X_te_arr_reindex)[:,1]\n",
    "knn_precision_test_d, knn_recall_test_d, _ = precision_recall_curve(y_te_arr_delay_binary, knn_test_probs_pos_d, pos_label=1)\n",
    "knn_test_auc_pr_d = auc(knn_recall_test_d, knn_precision_test_d)\n",
    "print('Area Under PR Curve: {:.3f}'.format(knn_test_auc_pr_d))\n",
    "\n",
    "print('Classification report: k-NN delay')\n",
    "# below are duplicates from above but consistant with calculation from other classifiers\n",
    "report_knn_test_d = classification_report(y_true=y_te_arr_delay_binary, y_pred=y_pred_knn_d)\n",
    "f1_knn_test_d = classification_report(y_true=y_te_arr_delay_binary, y_pred=y_pred_knn_d, target_names=['no_delay','delay'], output_dict=True)['delay']['f1-score']\n",
    "precision_knn_test_d = classification_report(y_true=y_te_arr_delay_binary, y_pred=y_pred_knn_d, target_names=['no_delay','delay'], output_dict=True)['delay']['precision']\n",
    "recall_knn_test_d = classification_report(y_true=y_te_arr_delay_binary, y_pred=y_pred_knn_d, target_names=['no_delay','delay'], output_dict=True)['delay']['recall']\n",
    "print(report_knn_test_d)"
   ]
  },
  {
   "cell_type": "code",
   "execution_count": 266,
   "metadata": {},
   "outputs": [
    {
     "name": "stdout",
     "output_type": "stream",
     "text": [
      "k-NN: important delay\n",
      "Precision k-NN important delay: 0.4074\n",
      "Recall k-NN important delay: 0.1015\n",
      "F1 score k-NN important delay: 0.1625\n",
      "Area Under PR Curve: 0.223\n",
      "Classification report: k-NN important delay\n",
      "              precision    recall  f1-score   support\n",
      "\n",
      "           0       0.94      0.99      0.96    100362\n",
      "           1       0.41      0.10      0.16      7004\n",
      "\n",
      "    accuracy                           0.93    107366\n",
      "   macro avg       0.67      0.55      0.56    107366\n",
      "weighted avg       0.91      0.93      0.91    107366\n",
      "\n"
     ]
    }
   ],
   "source": [
    "# important delay\n",
    "y_pred_knn_i = knn_i.predict(X_te_arr_reindex) # prediction delay\n",
    "precision_knn_i = precision_score(y_true=y_te_arr_imp_delay_binary, y_pred=y_pred_knn_i, pos_label=1)\n",
    "recall_knn_i = recall_score(y_true=y_te_arr_imp_delay_binary, y_pred=y_pred_knn_i, pos_label=1)\n",
    "f1_knn_i = f1_score(y_true=y_te_arr_imp_delay_binary, y_pred=y_pred_knn_i, pos_label=1)\n",
    "\n",
    "# print\n",
    "print('k-NN: important delay')\n",
    "#print('Score k-NN delay: {:.4f}'.format(score_knn_arr_d))\n",
    "print('Precision k-NN important delay: {:.4f}'.format(precision_knn_i))\n",
    "print('Recall k-NN important delay: {:.4f}'.format(recall_knn_i))\n",
    "print('F1 score k-NN important delay: {:.4f}'.format(f1_knn_i))\n",
    "\n",
    "knn_test_probs_pos_i = knn_i.predict_proba(X_te_arr_reindex)[:,1]\n",
    "knn_precision_test_i, knn_recall_test_i, _ = precision_recall_curve(y_te_arr_imp_delay_binary, knn_test_probs_pos_i, pos_label=1)\n",
    "knn_test_auc_pr_i = auc(knn_recall_test_i, knn_precision_test_i)\n",
    "print('Area Under PR Curve: {:.3f}'.format(knn_test_auc_pr_i))\n",
    "\n",
    "print('Classification report: k-NN important delay')\n",
    "# below are duplicates from above but consistant with calculation from other classifiers\n",
    "report_knn_test_i = classification_report(y_true=y_te_arr_imp_delay_binary, y_pred=y_pred_knn_i)\n",
    "f1_knn_test_i = classification_report(y_true=y_te_arr_imp_delay_binary, y_pred=y_pred_knn_i, target_names=['no_delay','important_delay'], output_dict=True)['important_delay']['f1-score']\n",
    "precision_knn_test_i = classification_report(y_true=y_te_arr_imp_delay_binary, y_pred=y_pred_knn_i, target_names=['no_delay','important_delay'], output_dict=True)['important_delay']['precision']\n",
    "recall_knn_test_i = classification_report(y_true=y_te_arr_imp_delay_binary, y_pred=y_pred_knn_i, target_names=['no_delay','important_delay'], output_dict=True)['important_delay']['recall']\n",
    "print(report_knn_test_i)"
   ]
  },
  {
   "cell_type": "markdown",
   "metadata": {},
   "source": [
    "### iii) SVMs (support vector Machine) <a name='svms' />\n",
    "*<a href=#top>Back to top</a>*\n",
    "* Linear (Delay and Important delay)\n",
    "* RBF (too slow, decided to not include classifier in anaylsis)"
   ]
  },
  {
   "cell_type": "code",
   "execution_count": 62,
   "metadata": {},
   "outputs": [],
   "source": [
    "from sklearn.svm import LinearSVC # don't 'predict_proba()'\n",
    "from sklearn.svm import SVC # accepts 'predict_proba()', but very slow with current data set\n",
    "from sklearn.calibration import CalibratedClassifierCV # use with LinearSVC to have 'predict_proba()'"
   ]
  },
  {
   "cell_type": "markdown",
   "metadata": {},
   "source": [
    "#### Linear SVM (Delay) <a name='svm_lin' /><a name='svm_delay' />\n",
    "*<a href=#top>Back to top</a>*\n",
    "##### Grid search using loop <a name='svm_delay_loop' />"
   ]
  },
  {
   "cell_type": "code",
   "execution_count": 63,
   "metadata": {},
   "outputs": [
    {
     "name": "stdout",
     "output_type": "stream",
     "text": [
      "C: 0.001 class weight: None auprc_valid 0.5621938611743411\n",
      "C: 0.001 class weight: balanced auprc_valid 0.5561051449399246\n",
      "C: 0.01 class weight: None auprc_valid 0.5704918333337253\n",
      "C: 0.01 class weight: balanced auprc_valid 0.56462618249401\n",
      "C: 0.1 class weight: None auprc_valid 0.5713425828468711\n",
      "C: 0.1 class weight: balanced auprc_valid 0.5655830949513916\n",
      "C: 1 class weight: None auprc_valid 0.5713760332406144\n"
     ]
    },
    {
     "name": "stderr",
     "output_type": "stream",
     "text": [
      "C:\\Users\\glaurent\\AppData\\Local\\Continuum\\anaconda3\\envs\\exts-ml\\lib\\site-packages\\sklearn\\svm\\_base.py:986: ConvergenceWarning: Liblinear failed to converge, increase the number of iterations.\n",
      "  \"the number of iterations.\", ConvergenceWarning)\n"
     ]
    },
    {
     "name": "stdout",
     "output_type": "stream",
     "text": [
      "C: 1 class weight: balanced auprc_valid 0.5656395001235871\n"
     ]
    },
    {
     "name": "stderr",
     "output_type": "stream",
     "text": [
      "C:\\Users\\glaurent\\AppData\\Local\\Continuum\\anaconda3\\envs\\exts-ml\\lib\\site-packages\\sklearn\\svm\\_base.py:986: ConvergenceWarning: Liblinear failed to converge, increase the number of iterations.\n",
      "  \"the number of iterations.\", ConvergenceWarning)\n",
      "C:\\Users\\glaurent\\AppData\\Local\\Continuum\\anaconda3\\envs\\exts-ml\\lib\\site-packages\\sklearn\\svm\\_base.py:986: ConvergenceWarning: Liblinear failed to converge, increase the number of iterations.\n",
      "  \"the number of iterations.\", ConvergenceWarning)\n",
      "C:\\Users\\glaurent\\AppData\\Local\\Continuum\\anaconda3\\envs\\exts-ml\\lib\\site-packages\\sklearn\\svm\\_base.py:986: ConvergenceWarning: Liblinear failed to converge, increase the number of iterations.\n",
      "  \"the number of iterations.\", ConvergenceWarning)\n",
      "C:\\Users\\glaurent\\AppData\\Local\\Continuum\\anaconda3\\envs\\exts-ml\\lib\\site-packages\\sklearn\\svm\\_base.py:986: ConvergenceWarning: Liblinear failed to converge, increase the number of iterations.\n",
      "  \"the number of iterations.\", ConvergenceWarning)\n",
      "C:\\Users\\glaurent\\AppData\\Local\\Continuum\\anaconda3\\envs\\exts-ml\\lib\\site-packages\\sklearn\\svm\\_base.py:986: ConvergenceWarning: Liblinear failed to converge, increase the number of iterations.\n",
      "  \"the number of iterations.\", ConvergenceWarning)\n"
     ]
    },
    {
     "name": "stdout",
     "output_type": "stream",
     "text": [
      "C: 10 class weight: None auprc_valid 0.5714835223604716\n"
     ]
    },
    {
     "name": "stderr",
     "output_type": "stream",
     "text": [
      "C:\\Users\\glaurent\\AppData\\Local\\Continuum\\anaconda3\\envs\\exts-ml\\lib\\site-packages\\sklearn\\svm\\_base.py:986: ConvergenceWarning: Liblinear failed to converge, increase the number of iterations.\n",
      "  \"the number of iterations.\", ConvergenceWarning)\n",
      "C:\\Users\\glaurent\\AppData\\Local\\Continuum\\anaconda3\\envs\\exts-ml\\lib\\site-packages\\sklearn\\svm\\_base.py:986: ConvergenceWarning: Liblinear failed to converge, increase the number of iterations.\n",
      "  \"the number of iterations.\", ConvergenceWarning)\n",
      "C:\\Users\\glaurent\\AppData\\Local\\Continuum\\anaconda3\\envs\\exts-ml\\lib\\site-packages\\sklearn\\svm\\_base.py:986: ConvergenceWarning: Liblinear failed to converge, increase the number of iterations.\n",
      "  \"the number of iterations.\", ConvergenceWarning)\n",
      "C:\\Users\\glaurent\\AppData\\Local\\Continuum\\anaconda3\\envs\\exts-ml\\lib\\site-packages\\sklearn\\svm\\_base.py:986: ConvergenceWarning: Liblinear failed to converge, increase the number of iterations.\n",
      "  \"the number of iterations.\", ConvergenceWarning)\n",
      "C:\\Users\\glaurent\\AppData\\Local\\Continuum\\anaconda3\\envs\\exts-ml\\lib\\site-packages\\sklearn\\svm\\_base.py:986: ConvergenceWarning: Liblinear failed to converge, increase the number of iterations.\n",
      "  \"the number of iterations.\", ConvergenceWarning)\n"
     ]
    },
    {
     "name": "stdout",
     "output_type": "stream",
     "text": [
      "C: 10 class weight: balanced auprc_valid 0.5629977773134216\n"
     ]
    },
    {
     "name": "stderr",
     "output_type": "stream",
     "text": [
      "C:\\Users\\glaurent\\AppData\\Local\\Continuum\\anaconda3\\envs\\exts-ml\\lib\\site-packages\\sklearn\\svm\\_base.py:986: ConvergenceWarning: Liblinear failed to converge, increase the number of iterations.\n",
      "  \"the number of iterations.\", ConvergenceWarning)\n",
      "C:\\Users\\glaurent\\AppData\\Local\\Continuum\\anaconda3\\envs\\exts-ml\\lib\\site-packages\\sklearn\\svm\\_base.py:986: ConvergenceWarning: Liblinear failed to converge, increase the number of iterations.\n",
      "  \"the number of iterations.\", ConvergenceWarning)\n",
      "C:\\Users\\glaurent\\AppData\\Local\\Continuum\\anaconda3\\envs\\exts-ml\\lib\\site-packages\\sklearn\\svm\\_base.py:986: ConvergenceWarning: Liblinear failed to converge, increase the number of iterations.\n",
      "  \"the number of iterations.\", ConvergenceWarning)\n",
      "C:\\Users\\glaurent\\AppData\\Local\\Continuum\\anaconda3\\envs\\exts-ml\\lib\\site-packages\\sklearn\\svm\\_base.py:986: ConvergenceWarning: Liblinear failed to converge, increase the number of iterations.\n",
      "  \"the number of iterations.\", ConvergenceWarning)\n",
      "C:\\Users\\glaurent\\AppData\\Local\\Continuum\\anaconda3\\envs\\exts-ml\\lib\\site-packages\\sklearn\\svm\\_base.py:986: ConvergenceWarning: Liblinear failed to converge, increase the number of iterations.\n",
      "  \"the number of iterations.\", ConvergenceWarning)\n"
     ]
    },
    {
     "name": "stdout",
     "output_type": "stream",
     "text": [
      "C: 100 class weight: None auprc_valid 0.5536324428153062\n"
     ]
    },
    {
     "name": "stderr",
     "output_type": "stream",
     "text": [
      "C:\\Users\\glaurent\\AppData\\Local\\Continuum\\anaconda3\\envs\\exts-ml\\lib\\site-packages\\sklearn\\svm\\_base.py:986: ConvergenceWarning: Liblinear failed to converge, increase the number of iterations.\n",
      "  \"the number of iterations.\", ConvergenceWarning)\n",
      "C:\\Users\\glaurent\\AppData\\Local\\Continuum\\anaconda3\\envs\\exts-ml\\lib\\site-packages\\sklearn\\svm\\_base.py:986: ConvergenceWarning: Liblinear failed to converge, increase the number of iterations.\n",
      "  \"the number of iterations.\", ConvergenceWarning)\n",
      "C:\\Users\\glaurent\\AppData\\Local\\Continuum\\anaconda3\\envs\\exts-ml\\lib\\site-packages\\sklearn\\svm\\_base.py:986: ConvergenceWarning: Liblinear failed to converge, increase the number of iterations.\n",
      "  \"the number of iterations.\", ConvergenceWarning)\n",
      "C:\\Users\\glaurent\\AppData\\Local\\Continuum\\anaconda3\\envs\\exts-ml\\lib\\site-packages\\sklearn\\svm\\_base.py:986: ConvergenceWarning: Liblinear failed to converge, increase the number of iterations.\n",
      "  \"the number of iterations.\", ConvergenceWarning)\n",
      "C:\\Users\\glaurent\\AppData\\Local\\Continuum\\anaconda3\\envs\\exts-ml\\lib\\site-packages\\sklearn\\svm\\_base.py:986: ConvergenceWarning: Liblinear failed to converge, increase the number of iterations.\n",
      "  \"the number of iterations.\", ConvergenceWarning)\n"
     ]
    },
    {
     "name": "stdout",
     "output_type": "stream",
     "text": [
      "C: 100 class weight: balanced auprc_valid 0.5492368433434655\n"
     ]
    }
   ],
   "source": [
    "#for i in tqdm(range(0, 100), desc =\"Text You Want\"):\n",
    "#    sleep(.1)\n",
    "#print('done')\n",
    "\n",
    "Cs  = [0.001, 0.01, 0.1, 1, 10, 100]\n",
    "class_weight = [None,'balanced']\n",
    "\n",
    "linear_results = []\n",
    "for c in Cs:\n",
    "    for cw in class_weight:\n",
    "        #svc_d = SVC(C=c, class_weight=cw, kernel='linear')\n",
    "        svc_lin = LinearSVC(C=c, class_weight=cw)\n",
    "        svc_d = CalibratedClassifierCV(svc_lin)\n",
    "        # fit\n",
    "        svc_d.fit(X_tr_arr, y_tr_arr_delay_binary)\n",
    "        # predict\n",
    "        y_pred_svc_va_arr_d = svc_d.predict(X_va_arr_reindex) # validation\n",
    "        y_pred_svc_tr_arr_d = svc_d.predict(X_tr_arr) # train\n",
    "        # predict probabilities\n",
    "        svc_va_probs_d = svc_d.predict_proba(X_va_arr_reindex) # validation\n",
    "        svc_tr_probs_d = svc_d.predict_proba(X_tr_arr) # train\n",
    "        # keep probabilities for the positive outcome only\n",
    "        svc_va_probs_pos_d = svc_va_probs_d[:,1] # validation\n",
    "        svc_tr_probs_pos_d = svc_tr_probs_d[:,1] # train\n",
    "        # calculate precission and recall\n",
    "        svc_va_precision_d, svc_va_recall_d, _ = precision_recall_curve(y_va_arr_delay_binary, svc_va_probs_pos_d, pos_label=1) # validation\n",
    "        svc_tr_precision_d, svc_tr_recall_d, _ = precision_recall_curve(y_tr_arr_delay_binary, svc_tr_probs_pos_d, pos_label=1) # train\n",
    "        # calculate auprc\n",
    "        svc_va_auprc_d = auc(svc_va_recall_d, svc_va_precision_d) # validation\n",
    "        svc_tr_auprc_d = auc(svc_tr_recall_d, svc_tr_precision_d) # train\n",
    "        \n",
    "        linear_results.append({\n",
    "            'C':c,\n",
    "            'Class_weight':cw,\n",
    "            'auprc_valid':svc_va_auprc_d,\n",
    "            'auprc_train':svc_tr_auprc_d,\n",
    "            'f1_score_valid':f1_score(y_true=y_va_arr_delay_binary, y_pred=y_pred_svc_va_arr_d, pos_label=1),\n",
    "            'f1_score_train':f1_score(y_true=y_tr_arr_delay_binary, y_pred=y_pred_svc_tr_arr_d, pos_label=1),\n",
    "            'recall_valid': recall_score(y_true=y_va_arr_delay_binary, y_pred=y_pred_svc_va_arr_d, pos_label=1),\n",
    "            'recall_train': recall_score(y_true=y_tr_arr_delay_binary, y_pred=y_pred_svc_tr_arr_d, pos_label=1),\n",
    "            'precision_valid': precision_score(y_true=y_va_arr_delay_binary, y_pred=y_pred_svc_va_arr_d, pos_label=1),\n",
    "            'precision_train': precision_score(y_true=y_tr_arr_delay_binary, y_pred=y_pred_svc_tr_arr_d, pos_label=1)\n",
    "        })\n",
    "        print('C:',c,'class weight:',cw,'auprc_valid',svc_va_auprc_d)\n"
   ]
  },
  {
   "cell_type": "code",
   "execution_count": 64,
   "metadata": {},
   "outputs": [
    {
     "data": {
      "text/html": [
       "<div>\n",
       "<style scoped>\n",
       "    .dataframe tbody tr th:only-of-type {\n",
       "        vertical-align: middle;\n",
       "    }\n",
       "\n",
       "    .dataframe tbody tr th {\n",
       "        vertical-align: top;\n",
       "    }\n",
       "\n",
       "    .dataframe thead th {\n",
       "        text-align: right;\n",
       "    }\n",
       "</style>\n",
       "<table border=\"1\" class=\"dataframe\">\n",
       "  <thead>\n",
       "    <tr style=\"text-align: right;\">\n",
       "      <th></th>\n",
       "      <th>C</th>\n",
       "      <th>Class_weight</th>\n",
       "      <th>auprc_train</th>\n",
       "      <th>auprc_valid</th>\n",
       "      <th>f1_score_train</th>\n",
       "      <th>f1_score_valid</th>\n",
       "      <th>precision_train</th>\n",
       "      <th>precision_valid</th>\n",
       "      <th>recall_train</th>\n",
       "      <th>recall_valid</th>\n",
       "    </tr>\n",
       "  </thead>\n",
       "  <tbody>\n",
       "    <tr>\n",
       "      <th>8</th>\n",
       "      <td>10.000</td>\n",
       "      <td>None</td>\n",
       "      <td>0.638223</td>\n",
       "      <td>0.571484</td>\n",
       "      <td>0.514066</td>\n",
       "      <td>0.488407</td>\n",
       "      <td>0.654085</td>\n",
       "      <td>0.577976</td>\n",
       "      <td>0.423424</td>\n",
       "      <td>0.422875</td>\n",
       "    </tr>\n",
       "    <tr>\n",
       "      <th>6</th>\n",
       "      <td>1.000</td>\n",
       "      <td>None</td>\n",
       "      <td>0.638352</td>\n",
       "      <td>0.571376</td>\n",
       "      <td>0.516003</td>\n",
       "      <td>0.491052</td>\n",
       "      <td>0.651016</td>\n",
       "      <td>0.576392</td>\n",
       "      <td>0.427371</td>\n",
       "      <td>0.427723</td>\n",
       "    </tr>\n",
       "    <tr>\n",
       "      <th>4</th>\n",
       "      <td>0.100</td>\n",
       "      <td>None</td>\n",
       "      <td>0.638318</td>\n",
       "      <td>0.571343</td>\n",
       "      <td>0.516346</td>\n",
       "      <td>0.491299</td>\n",
       "      <td>0.651401</td>\n",
       "      <td>0.576662</td>\n",
       "      <td>0.427676</td>\n",
       "      <td>0.427950</td>\n",
       "    </tr>\n",
       "    <tr>\n",
       "      <th>2</th>\n",
       "      <td>0.010</td>\n",
       "      <td>None</td>\n",
       "      <td>0.637601</td>\n",
       "      <td>0.570492</td>\n",
       "      <td>0.514369</td>\n",
       "      <td>0.490219</td>\n",
       "      <td>0.651447</td>\n",
       "      <td>0.577566</td>\n",
       "      <td>0.424950</td>\n",
       "      <td>0.425820</td>\n",
       "    </tr>\n",
       "    <tr>\n",
       "      <th>7</th>\n",
       "      <td>1.000</td>\n",
       "      <td>balanced</td>\n",
       "      <td>0.633464</td>\n",
       "      <td>0.565640</td>\n",
       "      <td>0.528361</td>\n",
       "      <td>0.498998</td>\n",
       "      <td>0.640769</td>\n",
       "      <td>0.566826</td>\n",
       "      <td>0.449506</td>\n",
       "      <td>0.445668</td>\n",
       "    </tr>\n",
       "    <tr>\n",
       "      <th>5</th>\n",
       "      <td>0.100</td>\n",
       "      <td>balanced</td>\n",
       "      <td>0.633420</td>\n",
       "      <td>0.565583</td>\n",
       "      <td>0.528498</td>\n",
       "      <td>0.499036</td>\n",
       "      <td>0.640716</td>\n",
       "      <td>0.566705</td>\n",
       "      <td>0.449729</td>\n",
       "      <td>0.445804</td>\n",
       "    </tr>\n",
       "    <tr>\n",
       "      <th>3</th>\n",
       "      <td>0.010</td>\n",
       "      <td>balanced</td>\n",
       "      <td>0.632594</td>\n",
       "      <td>0.564626</td>\n",
       "      <td>0.527813</td>\n",
       "      <td>0.498999</td>\n",
       "      <td>0.639985</td>\n",
       "      <td>0.566388</td>\n",
       "      <td>0.449099</td>\n",
       "      <td>0.445940</td>\n",
       "    </tr>\n",
       "    <tr>\n",
       "      <th>9</th>\n",
       "      <td>10.000</td>\n",
       "      <td>balanced</td>\n",
       "      <td>0.632487</td>\n",
       "      <td>0.562998</td>\n",
       "      <td>0.530365</td>\n",
       "      <td>0.501423</td>\n",
       "      <td>0.637371</td>\n",
       "      <td>0.564374</td>\n",
       "      <td>0.454124</td>\n",
       "      <td>0.451106</td>\n",
       "    </tr>\n",
       "    <tr>\n",
       "      <th>0</th>\n",
       "      <td>0.001</td>\n",
       "      <td>None</td>\n",
       "      <td>0.629291</td>\n",
       "      <td>0.562194</td>\n",
       "      <td>0.503620</td>\n",
       "      <td>0.481256</td>\n",
       "      <td>0.653428</td>\n",
       "      <td>0.580480</td>\n",
       "      <td>0.409692</td>\n",
       "      <td>0.411002</td>\n",
       "    </tr>\n",
       "    <tr>\n",
       "      <th>1</th>\n",
       "      <td>0.001</td>\n",
       "      <td>balanced</td>\n",
       "      <td>0.624115</td>\n",
       "      <td>0.556105</td>\n",
       "      <td>0.512704</td>\n",
       "      <td>0.486877</td>\n",
       "      <td>0.642498</td>\n",
       "      <td>0.569996</td>\n",
       "      <td>0.426537</td>\n",
       "      <td>0.424914</td>\n",
       "    </tr>\n",
       "  </tbody>\n",
       "</table>\n",
       "</div>"
      ],
      "text/plain": [
       "        C Class_weight  auprc_train  auprc_valid  f1_score_train  \\\n",
       "8  10.000         None     0.638223     0.571484        0.514066   \n",
       "6   1.000         None     0.638352     0.571376        0.516003   \n",
       "4   0.100         None     0.638318     0.571343        0.516346   \n",
       "2   0.010         None     0.637601     0.570492        0.514369   \n",
       "7   1.000     balanced     0.633464     0.565640        0.528361   \n",
       "5   0.100     balanced     0.633420     0.565583        0.528498   \n",
       "3   0.010     balanced     0.632594     0.564626        0.527813   \n",
       "9  10.000     balanced     0.632487     0.562998        0.530365   \n",
       "0   0.001         None     0.629291     0.562194        0.503620   \n",
       "1   0.001     balanced     0.624115     0.556105        0.512704   \n",
       "\n",
       "   f1_score_valid  precision_train  precision_valid  recall_train  \\\n",
       "8        0.488407         0.654085         0.577976      0.423424   \n",
       "6        0.491052         0.651016         0.576392      0.427371   \n",
       "4        0.491299         0.651401         0.576662      0.427676   \n",
       "2        0.490219         0.651447         0.577566      0.424950   \n",
       "7        0.498998         0.640769         0.566826      0.449506   \n",
       "5        0.499036         0.640716         0.566705      0.449729   \n",
       "3        0.498999         0.639985         0.566388      0.449099   \n",
       "9        0.501423         0.637371         0.564374      0.454124   \n",
       "0        0.481256         0.653428         0.580480      0.409692   \n",
       "1        0.486877         0.642498         0.569996      0.426537   \n",
       "\n",
       "   recall_valid  \n",
       "8      0.422875  \n",
       "6      0.427723  \n",
       "4      0.427950  \n",
       "2      0.425820  \n",
       "7      0.445668  \n",
       "5      0.445804  \n",
       "3      0.445940  \n",
       "9      0.451106  \n",
       "0      0.411002  \n",
       "1      0.424914  "
      ]
     },
     "execution_count": 64,
     "metadata": {},
     "output_type": "execute_result"
    }
   ],
   "source": [
    "linear_results_df = pd.DataFrame(linear_results).sort_values(by='auprc_valid', ascending=False)\n",
    "linear_results_df.head(10)"
   ]
  },
  {
   "cell_type": "code",
   "execution_count": 65,
   "metadata": {},
   "outputs": [
    {
     "name": "stdout",
     "output_type": "stream",
     "text": [
      "Area Under PR Curve: 0.571\n"
     ]
    }
   ],
   "source": [
    "svc_final_d = CalibratedClassifierCV(LinearSVC(C=1 , class_weight=None))\n",
    "# fit\n",
    "svc_final_d.fit(X_tr_arr, y_tr_arr_delay_binary)\n",
    "# predict\n",
    "y_pred_svc_final_d = svc_final_d.predict(X_va_arr_reindex)\n",
    "# predict probabilities\n",
    "svc_final_probs_d = svc_final_d.predict_proba(X_va_arr_reindex)\n",
    "# keep probabilities for the positive outcome only\n",
    "svc_final_probs_pos_d = svc_final_probs_d[:,1]\n",
    "# Precision-recall curve metrics\n",
    "svc_precision_final_d, svc_recall_final_d, svc_thres_final_d = precision_recall_curve(y_va_arr_delay_binary, svc_final_probs_pos_d, pos_label=1)\n",
    "svc_final_auprc_d = auc(svc_recall_final_d, svc_precision_final_d)\n",
    "print('Area Under PR Curve: {:.3f}'.format(svc_final_auprc_d))"
   ]
  },
  {
   "cell_type": "markdown",
   "metadata": {},
   "source": [
    "##### Best threshold (Linear SVM - Delay) <a name='svm_delay_thres' />\n",
    "*<a href=#top>Back to top</a>*"
   ]
  },
  {
   "cell_type": "code",
   "execution_count": 66,
   "metadata": {},
   "outputs": [
    {
     "name": "stdout",
     "output_type": "stream",
     "text": [
      "Best Threshold: 0.284\n",
      "Probabilities: [0.2329558  0.21055468 0.29083123 0.26459183 0.79053612 0.18808951\n",
      " 0.67454621 0.80348959 0.37042526 0.26811565]\n",
      "Predictions: [0 0 1 0 1 0 1 1 1 0]\n"
     ]
    }
   ],
   "source": [
    "from numpy import argmax\n",
    "fscores_svc_d = (2 * svc_precision_final_d * svc_recall_final_d) / (svc_precision_final_d + svc_recall_final_d)\n",
    "svc_bt_d = svc_thres_final_d[argmax(fscores_svc_d)]\n",
    "print('Best Threshold: {:.3f}'.format(svc_bt_d))\n",
    "# use threshold in model\n",
    "svc_final_curve_d = np.where(svc_final_probs_d[:,1] > svc_bt_d, 1,0)\n",
    "print('Probabilities:',svc_final_probs_d[0:10,1])\n",
    "print('Predictions:',svc_final_curve_d[0:10])"
   ]
  },
  {
   "cell_type": "markdown",
   "metadata": {},
   "source": [
    "##### Classification report (Linear SVM - Delay) <a name='svm_delay_report' />\n",
    "*<a href=#top>Back to top</a>*"
   ]
  },
  {
   "cell_type": "code",
   "execution_count": 67,
   "metadata": {},
   "outputs": [
    {
     "name": "stdout",
     "output_type": "stream",
     "text": [
      "Classification report: SVC Linear delay - optimzed threshold at 0.284 on PR curve\n",
      "              precision    recall  f1-score   support\n",
      "\n",
      "    no_delay       0.92      0.77      0.84     86652\n",
      "       delay       0.45      0.73      0.56     22068\n",
      "\n",
      "    accuracy                           0.77    108720\n",
      "   macro avg       0.69      0.75      0.70    108720\n",
      "weighted avg       0.83      0.77      0.78    108720\n",
      "\n"
     ]
    }
   ],
   "source": [
    "print('Classification report: SVC Linear delay - optimzed threshold at {:.3f} on PR curve'.format(svc_bt_d))\n",
    "report_svc_preds_final_pr_d = classification_report(y_true=y_va_arr_delay_binary, y_pred=svc_final_curve_d, target_names=['no_delay','delay'])\n",
    "#f1_logreg_pr_d = classification_report(y_true=y_va_arr_delay_binary, y_pred=lr_curve_d, target_names=['no_delay','delay'], output_dict=True)['delay']['f1-score']\n",
    "print(report_svc_preds_final_pr_d)"
   ]
  },
  {
   "cell_type": "markdown",
   "metadata": {},
   "source": [
    "#### Linear SVM (Important delay) <a name='svm_imp_delay' />\n",
    "*<a href=#top>Back to top</a>*\n",
    "#### Grid search using loop <a name='svm_imp_delay_loop' />"
   ]
  },
  {
   "cell_type": "code",
   "execution_count": 68,
   "metadata": {},
   "outputs": [
    {
     "name": "stdout",
     "output_type": "stream",
     "text": [
      "C: 0.001 class weight: None auprc_valid 0.2110644718267538\n",
      "C: 0.001 class weight: balanced auprc_valid 0.18944952245373603\n",
      "C: 0.01 class weight: None auprc_valid 0.21500971202279331\n",
      "C: 0.01 class weight: balanced auprc_valid 0.20053616332773117\n",
      "C: 0.1 class weight: None auprc_valid 0.21569242637452726\n",
      "C: 0.1 class weight: balanced auprc_valid 0.2026441757679611\n",
      "C: 1 class weight: None auprc_valid 0.21569326362997177\n"
     ]
    },
    {
     "name": "stderr",
     "output_type": "stream",
     "text": [
      "C:\\Users\\glaurent\\AppData\\Local\\Continuum\\anaconda3\\envs\\exts-ml\\lib\\site-packages\\sklearn\\svm\\_base.py:986: ConvergenceWarning: Liblinear failed to converge, increase the number of iterations.\n",
      "  \"the number of iterations.\", ConvergenceWarning)\n",
      "C:\\Users\\glaurent\\AppData\\Local\\Continuum\\anaconda3\\envs\\exts-ml\\lib\\site-packages\\sklearn\\svm\\_base.py:986: ConvergenceWarning: Liblinear failed to converge, increase the number of iterations.\n",
      "  \"the number of iterations.\", ConvergenceWarning)\n",
      "C:\\Users\\glaurent\\AppData\\Local\\Continuum\\anaconda3\\envs\\exts-ml\\lib\\site-packages\\sklearn\\svm\\_base.py:986: ConvergenceWarning: Liblinear failed to converge, increase the number of iterations.\n",
      "  \"the number of iterations.\", ConvergenceWarning)\n",
      "C:\\Users\\glaurent\\AppData\\Local\\Continuum\\anaconda3\\envs\\exts-ml\\lib\\site-packages\\sklearn\\svm\\_base.py:986: ConvergenceWarning: Liblinear failed to converge, increase the number of iterations.\n",
      "  \"the number of iterations.\", ConvergenceWarning)\n",
      "C:\\Users\\glaurent\\AppData\\Local\\Continuum\\anaconda3\\envs\\exts-ml\\lib\\site-packages\\sklearn\\svm\\_base.py:986: ConvergenceWarning: Liblinear failed to converge, increase the number of iterations.\n",
      "  \"the number of iterations.\", ConvergenceWarning)\n"
     ]
    },
    {
     "name": "stdout",
     "output_type": "stream",
     "text": [
      "C: 1 class weight: balanced auprc_valid 0.20292878690166027\n"
     ]
    },
    {
     "name": "stderr",
     "output_type": "stream",
     "text": [
      "C:\\Users\\glaurent\\AppData\\Local\\Continuum\\anaconda3\\envs\\exts-ml\\lib\\site-packages\\sklearn\\svm\\_base.py:986: ConvergenceWarning: Liblinear failed to converge, increase the number of iterations.\n",
      "  \"the number of iterations.\", ConvergenceWarning)\n",
      "C:\\Users\\glaurent\\AppData\\Local\\Continuum\\anaconda3\\envs\\exts-ml\\lib\\site-packages\\sklearn\\svm\\_base.py:986: ConvergenceWarning: Liblinear failed to converge, increase the number of iterations.\n",
      "  \"the number of iterations.\", ConvergenceWarning)\n",
      "C:\\Users\\glaurent\\AppData\\Local\\Continuum\\anaconda3\\envs\\exts-ml\\lib\\site-packages\\sklearn\\svm\\_base.py:986: ConvergenceWarning: Liblinear failed to converge, increase the number of iterations.\n",
      "  \"the number of iterations.\", ConvergenceWarning)\n",
      "C:\\Users\\glaurent\\AppData\\Local\\Continuum\\anaconda3\\envs\\exts-ml\\lib\\site-packages\\sklearn\\svm\\_base.py:986: ConvergenceWarning: Liblinear failed to converge, increase the number of iterations.\n",
      "  \"the number of iterations.\", ConvergenceWarning)\n",
      "C:\\Users\\glaurent\\AppData\\Local\\Continuum\\anaconda3\\envs\\exts-ml\\lib\\site-packages\\sklearn\\svm\\_base.py:986: ConvergenceWarning: Liblinear failed to converge, increase the number of iterations.\n",
      "  \"the number of iterations.\", ConvergenceWarning)\n"
     ]
    },
    {
     "name": "stdout",
     "output_type": "stream",
     "text": [
      "C: 10 class weight: None auprc_valid 0.21364852641646473\n"
     ]
    },
    {
     "name": "stderr",
     "output_type": "stream",
     "text": [
      "C:\\Users\\glaurent\\AppData\\Local\\Continuum\\anaconda3\\envs\\exts-ml\\lib\\site-packages\\sklearn\\svm\\_base.py:986: ConvergenceWarning: Liblinear failed to converge, increase the number of iterations.\n",
      "  \"the number of iterations.\", ConvergenceWarning)\n",
      "C:\\Users\\glaurent\\AppData\\Local\\Continuum\\anaconda3\\envs\\exts-ml\\lib\\site-packages\\sklearn\\svm\\_base.py:986: ConvergenceWarning: Liblinear failed to converge, increase the number of iterations.\n",
      "  \"the number of iterations.\", ConvergenceWarning)\n",
      "C:\\Users\\glaurent\\AppData\\Local\\Continuum\\anaconda3\\envs\\exts-ml\\lib\\site-packages\\sklearn\\svm\\_base.py:986: ConvergenceWarning: Liblinear failed to converge, increase the number of iterations.\n",
      "  \"the number of iterations.\", ConvergenceWarning)\n",
      "C:\\Users\\glaurent\\AppData\\Local\\Continuum\\anaconda3\\envs\\exts-ml\\lib\\site-packages\\sklearn\\svm\\_base.py:986: ConvergenceWarning: Liblinear failed to converge, increase the number of iterations.\n",
      "  \"the number of iterations.\", ConvergenceWarning)\n",
      "C:\\Users\\glaurent\\AppData\\Local\\Continuum\\anaconda3\\envs\\exts-ml\\lib\\site-packages\\sklearn\\svm\\_base.py:986: ConvergenceWarning: Liblinear failed to converge, increase the number of iterations.\n",
      "  \"the number of iterations.\", ConvergenceWarning)\n"
     ]
    },
    {
     "name": "stdout",
     "output_type": "stream",
     "text": [
      "C: 10 class weight: balanced auprc_valid 0.21132059493766522\n"
     ]
    },
    {
     "name": "stderr",
     "output_type": "stream",
     "text": [
      "C:\\Users\\glaurent\\AppData\\Local\\Continuum\\anaconda3\\envs\\exts-ml\\lib\\site-packages\\sklearn\\svm\\_base.py:986: ConvergenceWarning: Liblinear failed to converge, increase the number of iterations.\n",
      "  \"the number of iterations.\", ConvergenceWarning)\n",
      "C:\\Users\\glaurent\\AppData\\Local\\Continuum\\anaconda3\\envs\\exts-ml\\lib\\site-packages\\sklearn\\svm\\_base.py:986: ConvergenceWarning: Liblinear failed to converge, increase the number of iterations.\n",
      "  \"the number of iterations.\", ConvergenceWarning)\n",
      "C:\\Users\\glaurent\\AppData\\Local\\Continuum\\anaconda3\\envs\\exts-ml\\lib\\site-packages\\sklearn\\svm\\_base.py:986: ConvergenceWarning: Liblinear failed to converge, increase the number of iterations.\n",
      "  \"the number of iterations.\", ConvergenceWarning)\n",
      "C:\\Users\\glaurent\\AppData\\Local\\Continuum\\anaconda3\\envs\\exts-ml\\lib\\site-packages\\sklearn\\svm\\_base.py:986: ConvergenceWarning: Liblinear failed to converge, increase the number of iterations.\n",
      "  \"the number of iterations.\", ConvergenceWarning)\n",
      "C:\\Users\\glaurent\\AppData\\Local\\Continuum\\anaconda3\\envs\\exts-ml\\lib\\site-packages\\sklearn\\svm\\_base.py:986: ConvergenceWarning: Liblinear failed to converge, increase the number of iterations.\n",
      "  \"the number of iterations.\", ConvergenceWarning)\n"
     ]
    },
    {
     "name": "stdout",
     "output_type": "stream",
     "text": [
      "C: 100 class weight: None auprc_valid 0.18355209756048838\n"
     ]
    },
    {
     "name": "stderr",
     "output_type": "stream",
     "text": [
      "C:\\Users\\glaurent\\AppData\\Local\\Continuum\\anaconda3\\envs\\exts-ml\\lib\\site-packages\\sklearn\\svm\\_base.py:986: ConvergenceWarning: Liblinear failed to converge, increase the number of iterations.\n",
      "  \"the number of iterations.\", ConvergenceWarning)\n",
      "C:\\Users\\glaurent\\AppData\\Local\\Continuum\\anaconda3\\envs\\exts-ml\\lib\\site-packages\\sklearn\\svm\\_base.py:986: ConvergenceWarning: Liblinear failed to converge, increase the number of iterations.\n",
      "  \"the number of iterations.\", ConvergenceWarning)\n",
      "C:\\Users\\glaurent\\AppData\\Local\\Continuum\\anaconda3\\envs\\exts-ml\\lib\\site-packages\\sklearn\\svm\\_base.py:986: ConvergenceWarning: Liblinear failed to converge, increase the number of iterations.\n",
      "  \"the number of iterations.\", ConvergenceWarning)\n",
      "C:\\Users\\glaurent\\AppData\\Local\\Continuum\\anaconda3\\envs\\exts-ml\\lib\\site-packages\\sklearn\\svm\\_base.py:986: ConvergenceWarning: Liblinear failed to converge, increase the number of iterations.\n",
      "  \"the number of iterations.\", ConvergenceWarning)\n",
      "C:\\Users\\glaurent\\AppData\\Local\\Continuum\\anaconda3\\envs\\exts-ml\\lib\\site-packages\\sklearn\\svm\\_base.py:986: ConvergenceWarning: Liblinear failed to converge, increase the number of iterations.\n",
      "  \"the number of iterations.\", ConvergenceWarning)\n"
     ]
    },
    {
     "name": "stdout",
     "output_type": "stream",
     "text": [
      "C: 100 class weight: balanced auprc_valid 0.20608632860449883\n"
     ]
    }
   ],
   "source": [
    "#for i in tqdm(range(0, 100), desc =\"Text You Want\"):\n",
    "#    sleep(.1)\n",
    "#print('done')\n",
    "\n",
    "Cs  = [0.001, 0.01, 0.1, 1, 10, 100]\n",
    "class_weight = [None,'balanced']\n",
    "\n",
    "linear_results_i = []\n",
    "for c in Cs:\n",
    "    for cw in class_weight:\n",
    "        #svc_d = SVC(C=c, class_weight=cw, kernel='linear')\n",
    "        svc_lin_i = LinearSVC(C=c, class_weight=cw)\n",
    "        svc_i = CalibratedClassifierCV(svc_lin_i)\n",
    "        # fit\n",
    "        svc_i.fit(X_tr_arr, y_tr_arr_imp_delay_binary)\n",
    "        # predict\n",
    "        y_pred_svc_va_arr_i = svc_i.predict(X_va_arr_reindex) # validation\n",
    "        y_pred_svc_tr_arr_i = svc_i.predict(X_tr_arr) # train\n",
    "        # predict probabilities\n",
    "        svc_va_probs_i = svc_i.predict_proba(X_va_arr_reindex) # validation\n",
    "        svc_tr_probs_i = svc_i.predict_proba(X_tr_arr) # train\n",
    "        # keep probabilities for the positive outcome only\n",
    "        svc_va_probs_pos_i = svc_va_probs_i[:,1] # validation\n",
    "        svc_tr_probs_pos_i = svc_tr_probs_i[:,1] # train\n",
    "        # calculate precission and recall\n",
    "        svc_va_precision_i, svc_va_recall_i, _ = precision_recall_curve(y_va_arr_imp_delay_binary, svc_va_probs_pos_i, pos_label=1) # validation\n",
    "        svc_tr_precision_i, svc_tr_recall_i, _ = precision_recall_curve(y_tr_arr_imp_delay_binary, svc_tr_probs_pos_i, pos_label=1) # train\n",
    "        # calculate auprc\n",
    "        svc_va_auprc_i = auc(svc_va_recall_i, svc_va_precision_i) # validation\n",
    "        svc_tr_auprc_i = auc(svc_tr_recall_i, svc_tr_precision_i) # train\n",
    "        \n",
    "        linear_results_i.append({\n",
    "            'C':c,\n",
    "            'Class_weight':cw,\n",
    "            'auprc_valid':svc_va_auprc_i,\n",
    "            'auprc_train':svc_tr_auprc_i,\n",
    "            'f1_score_valid':f1_score(y_true=y_va_arr_imp_delay_binary, y_pred=y_pred_svc_va_arr_i, pos_label=1),\n",
    "            'f1_score_train':f1_score(y_true=y_tr_arr_imp_delay_binary, y_pred=y_pred_svc_tr_arr_i, pos_label=1),\n",
    "            'recall_valid': recall_score(y_true=y_va_arr_imp_delay_binary, y_pred=y_pred_svc_va_arr_i, pos_label=1),\n",
    "            'recall_train': recall_score(y_true=y_tr_arr_imp_delay_binary, y_pred=y_pred_svc_tr_arr_i, pos_label=1),\n",
    "            'precision_valid': precision_score(y_true=y_va_arr_imp_delay_binary, y_pred=y_pred_svc_va_arr_i, pos_label=1),\n",
    "            'precision_train': precision_score(y_true=y_tr_arr_imp_delay_binary, y_pred=y_pred_svc_tr_arr_i, pos_label=1)\n",
    "        })\n",
    "        print('C:',c,'class weight:',cw,'auprc_valid',svc_va_auprc_i)\n"
   ]
  },
  {
   "cell_type": "code",
   "execution_count": 69,
   "metadata": {},
   "outputs": [
    {
     "data": {
      "text/html": [
       "<div>\n",
       "<style scoped>\n",
       "    .dataframe tbody tr th:only-of-type {\n",
       "        vertical-align: middle;\n",
       "    }\n",
       "\n",
       "    .dataframe tbody tr th {\n",
       "        vertical-align: top;\n",
       "    }\n",
       "\n",
       "    .dataframe thead th {\n",
       "        text-align: right;\n",
       "    }\n",
       "</style>\n",
       "<table border=\"1\" class=\"dataframe\">\n",
       "  <thead>\n",
       "    <tr style=\"text-align: right;\">\n",
       "      <th></th>\n",
       "      <th>C</th>\n",
       "      <th>Class_weight</th>\n",
       "      <th>auprc_train</th>\n",
       "      <th>auprc_valid</th>\n",
       "      <th>f1_score_train</th>\n",
       "      <th>f1_score_valid</th>\n",
       "      <th>precision_train</th>\n",
       "      <th>precision_valid</th>\n",
       "      <th>recall_train</th>\n",
       "      <th>recall_valid</th>\n",
       "    </tr>\n",
       "  </thead>\n",
       "  <tbody>\n",
       "    <tr>\n",
       "      <th>6</th>\n",
       "      <td>1.000</td>\n",
       "      <td>None</td>\n",
       "      <td>0.276136</td>\n",
       "      <td>0.215693</td>\n",
       "      <td>0.113478</td>\n",
       "      <td>0.095920</td>\n",
       "      <td>0.849315</td>\n",
       "      <td>0.767908</td>\n",
       "      <td>0.060801</td>\n",
       "      <td>0.051155</td>\n",
       "    </tr>\n",
       "    <tr>\n",
       "      <th>4</th>\n",
       "      <td>0.100</td>\n",
       "      <td>None</td>\n",
       "      <td>0.276208</td>\n",
       "      <td>0.215692</td>\n",
       "      <td>0.112850</td>\n",
       "      <td>0.095238</td>\n",
       "      <td>0.848561</td>\n",
       "      <td>0.766571</td>\n",
       "      <td>0.060444</td>\n",
       "      <td>0.050773</td>\n",
       "    </tr>\n",
       "    <tr>\n",
       "      <th>2</th>\n",
       "      <td>0.010</td>\n",
       "      <td>None</td>\n",
       "      <td>0.275458</td>\n",
       "      <td>0.215010</td>\n",
       "      <td>0.111028</td>\n",
       "      <td>0.093599</td>\n",
       "      <td>0.853846</td>\n",
       "      <td>0.772189</td>\n",
       "      <td>0.059374</td>\n",
       "      <td>0.049819</td>\n",
       "    </tr>\n",
       "    <tr>\n",
       "      <th>8</th>\n",
       "      <td>10.000</td>\n",
       "      <td>None</td>\n",
       "      <td>0.274304</td>\n",
       "      <td>0.213649</td>\n",
       "      <td>0.113164</td>\n",
       "      <td>0.095579</td>\n",
       "      <td>0.848939</td>\n",
       "      <td>0.767241</td>\n",
       "      <td>0.060622</td>\n",
       "      <td>0.050964</td>\n",
       "    </tr>\n",
       "    <tr>\n",
       "      <th>9</th>\n",
       "      <td>10.000</td>\n",
       "      <td>balanced</td>\n",
       "      <td>0.269406</td>\n",
       "      <td>0.211321</td>\n",
       "      <td>0.048522</td>\n",
       "      <td>0.045793</td>\n",
       "      <td>0.985866</td>\n",
       "      <td>0.924812</td>\n",
       "      <td>0.024873</td>\n",
       "      <td>0.023478</td>\n",
       "    </tr>\n",
       "    <tr>\n",
       "      <th>0</th>\n",
       "      <td>0.001</td>\n",
       "      <td>None</td>\n",
       "      <td>0.269414</td>\n",
       "      <td>0.211064</td>\n",
       "      <td>0.100303</td>\n",
       "      <td>0.085683</td>\n",
       "      <td>0.893553</td>\n",
       "      <td>0.808874</td>\n",
       "      <td>0.053134</td>\n",
       "      <td>0.045238</td>\n",
       "    </tr>\n",
       "    <tr>\n",
       "      <th>11</th>\n",
       "      <td>100.000</td>\n",
       "      <td>balanced</td>\n",
       "      <td>0.246350</td>\n",
       "      <td>0.206086</td>\n",
       "      <td>0.082058</td>\n",
       "      <td>0.077908</td>\n",
       "      <td>0.995851</td>\n",
       "      <td>0.930131</td>\n",
       "      <td>0.042792</td>\n",
       "      <td>0.040657</td>\n",
       "    </tr>\n",
       "    <tr>\n",
       "      <th>7</th>\n",
       "      <td>1.000</td>\n",
       "      <td>balanced</td>\n",
       "      <td>0.264434</td>\n",
       "      <td>0.202929</td>\n",
       "      <td>0.025334</td>\n",
       "      <td>0.023724</td>\n",
       "      <td>0.953642</td>\n",
       "      <td>0.875000</td>\n",
       "      <td>0.012838</td>\n",
       "      <td>0.012025</td>\n",
       "    </tr>\n",
       "    <tr>\n",
       "      <th>5</th>\n",
       "      <td>0.100</td>\n",
       "      <td>balanced</td>\n",
       "      <td>0.264166</td>\n",
       "      <td>0.202644</td>\n",
       "      <td>0.026202</td>\n",
       "      <td>0.024468</td>\n",
       "      <td>0.955128</td>\n",
       "      <td>0.878378</td>\n",
       "      <td>0.013283</td>\n",
       "      <td>0.012407</td>\n",
       "    </tr>\n",
       "    <tr>\n",
       "      <th>3</th>\n",
       "      <td>0.010</td>\n",
       "      <td>balanced</td>\n",
       "      <td>0.261936</td>\n",
       "      <td>0.200536</td>\n",
       "      <td>0.021158</td>\n",
       "      <td>0.019253</td>\n",
       "      <td>0.952381</td>\n",
       "      <td>0.864407</td>\n",
       "      <td>0.010698</td>\n",
       "      <td>0.009735</td>\n",
       "    </tr>\n",
       "  </tbody>\n",
       "</table>\n",
       "</div>"
      ],
      "text/plain": [
       "          C Class_weight  auprc_train  auprc_valid  f1_score_train  \\\n",
       "6     1.000         None     0.276136     0.215693        0.113478   \n",
       "4     0.100         None     0.276208     0.215692        0.112850   \n",
       "2     0.010         None     0.275458     0.215010        0.111028   \n",
       "8    10.000         None     0.274304     0.213649        0.113164   \n",
       "9    10.000     balanced     0.269406     0.211321        0.048522   \n",
       "0     0.001         None     0.269414     0.211064        0.100303   \n",
       "11  100.000     balanced     0.246350     0.206086        0.082058   \n",
       "7     1.000     balanced     0.264434     0.202929        0.025334   \n",
       "5     0.100     balanced     0.264166     0.202644        0.026202   \n",
       "3     0.010     balanced     0.261936     0.200536        0.021158   \n",
       "\n",
       "    f1_score_valid  precision_train  precision_valid  recall_train  \\\n",
       "6         0.095920         0.849315         0.767908      0.060801   \n",
       "4         0.095238         0.848561         0.766571      0.060444   \n",
       "2         0.093599         0.853846         0.772189      0.059374   \n",
       "8         0.095579         0.848939         0.767241      0.060622   \n",
       "9         0.045793         0.985866         0.924812      0.024873   \n",
       "0         0.085683         0.893553         0.808874      0.053134   \n",
       "11        0.077908         0.995851         0.930131      0.042792   \n",
       "7         0.023724         0.953642         0.875000      0.012838   \n",
       "5         0.024468         0.955128         0.878378      0.013283   \n",
       "3         0.019253         0.952381         0.864407      0.010698   \n",
       "\n",
       "    recall_valid  \n",
       "6       0.051155  \n",
       "4       0.050773  \n",
       "2       0.049819  \n",
       "8       0.050964  \n",
       "9       0.023478  \n",
       "0       0.045238  \n",
       "11      0.040657  \n",
       "7       0.012025  \n",
       "5       0.012407  \n",
       "3       0.009735  "
      ]
     },
     "execution_count": 69,
     "metadata": {},
     "output_type": "execute_result"
    }
   ],
   "source": [
    "linear_results_i_df = pd.DataFrame(linear_results_i).sort_values(by='auprc_valid', ascending=False)\n",
    "linear_results_i_df.head(10)"
   ]
  },
  {
   "cell_type": "code",
   "execution_count": 70,
   "metadata": {},
   "outputs": [
    {
     "name": "stderr",
     "output_type": "stream",
     "text": [
      "C:\\Users\\glaurent\\AppData\\Local\\Continuum\\anaconda3\\envs\\exts-ml\\lib\\site-packages\\sklearn\\svm\\_base.py:986: ConvergenceWarning: Liblinear failed to converge, increase the number of iterations.\n",
      "  \"the number of iterations.\", ConvergenceWarning)\n",
      "C:\\Users\\glaurent\\AppData\\Local\\Continuum\\anaconda3\\envs\\exts-ml\\lib\\site-packages\\sklearn\\svm\\_base.py:986: ConvergenceWarning: Liblinear failed to converge, increase the number of iterations.\n",
      "  \"the number of iterations.\", ConvergenceWarning)\n",
      "C:\\Users\\glaurent\\AppData\\Local\\Continuum\\anaconda3\\envs\\exts-ml\\lib\\site-packages\\sklearn\\svm\\_base.py:986: ConvergenceWarning: Liblinear failed to converge, increase the number of iterations.\n",
      "  \"the number of iterations.\", ConvergenceWarning)\n",
      "C:\\Users\\glaurent\\AppData\\Local\\Continuum\\anaconda3\\envs\\exts-ml\\lib\\site-packages\\sklearn\\svm\\_base.py:986: ConvergenceWarning: Liblinear failed to converge, increase the number of iterations.\n",
      "  \"the number of iterations.\", ConvergenceWarning)\n",
      "C:\\Users\\glaurent\\AppData\\Local\\Continuum\\anaconda3\\envs\\exts-ml\\lib\\site-packages\\sklearn\\svm\\_base.py:986: ConvergenceWarning: Liblinear failed to converge, increase the number of iterations.\n",
      "  \"the number of iterations.\", ConvergenceWarning)\n"
     ]
    },
    {
     "name": "stdout",
     "output_type": "stream",
     "text": [
      "Area Under PR Curve: 0.217\n"
     ]
    }
   ],
   "source": [
    "svc_final_i = CalibratedClassifierCV(LinearSVC(C=10 , class_weight=None))\n",
    "# fit\n",
    "svc_final_i.fit(X_tr_arr, y_tr_arr_imp_delay_binary)\n",
    "# predict\n",
    "y_pred_svc_final_i = svc_final_i.predict(X_va_arr_reindex)\n",
    "# predict probabilities\n",
    "svc_final_probs_i = svc_final_i.predict_proba(X_va_arr_reindex)\n",
    "# keep probabilities for the positive outcome only\n",
    "svc_final_probs_pos_i = svc_final_probs_i[:,1]\n",
    "# Precision-recall curve metrics\n",
    "svc_precision_final_i, svc_recall_final_i, svc_thres_final_i = precision_recall_curve(y_va_arr_imp_delay_binary, svc_final_probs_pos_i, pos_label=1)\n",
    "svc_final_auprc_i = auc(svc_recall_final_i, svc_precision_final_i)\n",
    "print('Area Under PR Curve: {:.3f}'.format(svc_final_auprc_i))"
   ]
  },
  {
   "cell_type": "markdown",
   "metadata": {},
   "source": [
    "##### Best threshold (Linear SVM - Important delay) <a name='svm_imp_delay_thres' />\n",
    "*<a href=#top>Back to top</a>*"
   ]
  },
  {
   "cell_type": "code",
   "execution_count": 71,
   "metadata": {},
   "outputs": [
    {
     "name": "stdout",
     "output_type": "stream",
     "text": [
      "Best Threshold: 0.117\n",
      "Probabilities: [0.10463581 0.09249484 0.19290287 0.17204313 0.18062454 0.07309018\n",
      " 0.15289864 0.16557212 0.10502478 0.10492923]\n",
      "Predictions: [0 0 1 1 1 0 1 1 0 0]\n"
     ]
    }
   ],
   "source": [
    "from numpy import argmax\n",
    "fscores_svc_i = (2 * svc_precision_final_i * svc_recall_final_i) / (svc_precision_final_i + svc_recall_final_i)\n",
    "svc_bt_i = svc_thres_final_i[argmax(fscores_svc_i)]\n",
    "print('Best Threshold: {:.3f}'.format(svc_bt_i))\n",
    "# use threshold in model\n",
    "svc_final_curve_i = np.where(svc_final_probs_i[:,1] > svc_bt_i, 1,0)\n",
    "print('Probabilities:',svc_final_probs_i[0:10,1])\n",
    "print('Predictions:',svc_final_curve_i[0:10])"
   ]
  },
  {
   "cell_type": "markdown",
   "metadata": {},
   "source": [
    "##### Classification report (Linear SVM - Important delay) <a name='svm_imp_delay_report' />\n",
    "*<a href=#top>Back to top</a>*"
   ]
  },
  {
   "cell_type": "code",
   "execution_count": 72,
   "metadata": {},
   "outputs": [
    {
     "name": "stdout",
     "output_type": "stream",
     "text": [
      "Classification report: SVC Linear important delay - optimzed threshold at 0.117 on PR curve\n",
      "                 precision    recall  f1-score   support\n",
      "\n",
      "       no_delay       0.97      0.93      0.95    103481\n",
      "important_delay       0.20      0.36      0.26      5239\n",
      "\n",
      "       accuracy                           0.90    108720\n",
      "      macro avg       0.58      0.64      0.60    108720\n",
      "   weighted avg       0.93      0.90      0.91    108720\n",
      "\n"
     ]
    }
   ],
   "source": [
    "print('Classification report: SVC Linear important delay - optimzed threshold at {:.3f} on PR curve'.format(svc_bt_i))\n",
    "report_svc_preds_final_pr_i = classification_report(y_true=y_va_arr_imp_delay_binary, y_pred=svc_final_curve_i, target_names=['no_delay','important_delay'])\n",
    "#f1_logreg_pr_d = classification_report(y_true=y_va_arr_delay_binary, y_pred=lr_curve_d, target_names=['no_delay','delay'], output_dict=True)['delay']['f1-score']\n",
    "print(report_svc_preds_final_pr_i)"
   ]
  },
  {
   "cell_type": "markdown",
   "metadata": {},
   "source": [
    "**Comments SVC Linear:**\n",
    "* Linear SVC seems to be working weel and achieves good performance on the metrics with f1 scores of 0.56 and 0.26 which is equal or better than tuned LogisiticRegression"
   ]
  },
  {
   "cell_type": "markdown",
   "metadata": {},
   "source": [
    "#### Performance on test set (SVC Linear) <a name='svm_test' />\n",
    "*<a href=#top>Back to top</a>*"
   ]
  },
  {
   "cell_type": "code",
   "execution_count": 252,
   "metadata": {},
   "outputs": [
    {
     "name": "stdout",
     "output_type": "stream",
     "text": [
      "Area Under PR Curve: 0.652\n",
      "Probabilities: [0.2329558  0.21055468 0.29083123 0.26459183 0.79053612 0.18808951\n",
      " 0.67454621 0.80348959 0.37042526 0.26811565]\n",
      "Predictions: [0 0 1 0 1 0 1 1 1 0]\n",
      "Classification report: SVC delay TEST - optimzed threshold at 0.284 on PR curve\n",
      "              precision    recall  f1-score   support\n",
      "\n",
      "    no_delay       0.89      0.80      0.85     80088\n",
      "       delay       0.56      0.72      0.63     27278\n",
      "\n",
      "    accuracy                           0.78    107366\n",
      "   macro avg       0.73      0.76      0.74    107366\n",
      "weighted avg       0.81      0.78      0.79    107366\n",
      "\n"
     ]
    }
   ],
   "source": [
    "# delay\n",
    "svc_test_probs_pos_d = svc_final_d.predict_proba(X_te_arr_reindex)[:,1]\n",
    "svc_precision_test_d, svc_recall_test_d, _ = precision_recall_curve(y_te_arr_delay_binary, svc_test_probs_pos_d, pos_label=1)\n",
    "svc_test_auc_pr_d = auc(svc_recall_test_d, svc_precision_test_d)\n",
    "print('Area Under PR Curve: {:.3f}'.format(svc_test_auc_pr_d))\n",
    "# use threshold in model\n",
    "svc_test_d = np.where(svc_final_d.predict_proba(X_te_arr_reindex)[:,1] > svc_bt_d, 1,0)\n",
    "print('Probabilities:',svc_final_d.predict_proba(X_te_arr_reindex)[0:10,1])\n",
    "print('Predictions:',svc_test_d[0:10])\n",
    "print('Classification report: SVC delay TEST - optimzed threshold at {:.3f} on PR curve'.format(svc_bt_d))\n",
    "report_svc_test_d = classification_report(y_true=y_te_arr_delay_binary, y_pred=svc_test_d, target_names=['no_delay','delay'])\n",
    "f1_svc_test_d = classification_report(y_true=y_te_arr_delay_binary, y_pred=svc_test_d, target_names=['no_delay','delay'], output_dict=True)['delay']['f1-score']\n",
    "precision_svc_test_d = classification_report(y_true=y_te_arr_delay_binary, y_pred=svc_test_d, target_names=['no_delay','delay'], output_dict=True)['delay']['precision']\n",
    "recall_svc_test_d = classification_report(y_true=y_te_arr_delay_binary, y_pred=svc_test_d, target_names=['no_delay','delay'], output_dict=True)['delay']['recall']\n",
    "print(report_svc_test_d)"
   ]
  },
  {
   "cell_type": "code",
   "execution_count": 253,
   "metadata": {},
   "outputs": [
    {
     "name": "stdout",
     "output_type": "stream",
     "text": [
      "Area Under PR Curve: 0.281\n",
      "Probabilities: [0.10463581 0.09249484 0.19290287 0.17204313 0.18062454 0.07309018\n",
      " 0.15289864 0.16557212 0.10502478 0.10492923]\n",
      "Predictions: [0 0 1 1 1 0 1 1 0 0]\n",
      "Classification report: SVC important delay TEST - optimzed threshold at 0.117 on PR curve\n",
      "                 precision    recall  f1-score   support\n",
      "\n",
      "       no_delay       0.96      0.93      0.94    100362\n",
      "important_delay       0.28      0.37      0.32      7004\n",
      "\n",
      "       accuracy                           0.90    107366\n",
      "      macro avg       0.62      0.65      0.63    107366\n",
      "   weighted avg       0.91      0.90      0.90    107366\n",
      "\n"
     ]
    }
   ],
   "source": [
    "# important delay\n",
    "svc_test_probs_pos_i = svc_final_i.predict_proba(X_te_arr_reindex)[:,1]\n",
    "svc_precision_test_i, svc_recall_test_i, _ = precision_recall_curve(y_te_arr_imp_delay_binary, svc_test_probs_pos_i, pos_label=1)\n",
    "svc_test_auc_pr_i = auc(svc_recall_test_i, svc_precision_test_i)\n",
    "print('Area Under PR Curve: {:.3f}'.format(svc_test_auc_pr_i))\n",
    "# use threshold in model\n",
    "svc_test_i = np.where(svc_final_i.predict_proba(X_te_arr_reindex)[:,1] > svc_bt_i, 1,0)\n",
    "print('Probabilities:',svc_final_i.predict_proba(X_te_arr_reindex)[0:10,1])\n",
    "print('Predictions:',svc_test_i[0:10])\n",
    "print('Classification report: SVC important delay TEST - optimzed threshold at {:.3f} on PR curve'.format(svc_bt_i))\n",
    "report_svc_test_i = classification_report(y_true=y_te_arr_imp_delay_binary, y_pred=svc_test_i, target_names=['no_delay','important_delay'])\n",
    "f1_svc_test_i = classification_report(y_true=y_te_arr_imp_delay_binary, y_pred=svc_test_i, target_names=['no_delay','important_delay'], output_dict=True)['important_delay']['f1-score']\n",
    "precision_svc_test_i = classification_report(y_true=y_te_arr_imp_delay_binary, y_pred=svc_test_i, target_names=['no_delay','important_delay'], output_dict=True)['important_delay']['precision']\n",
    "recall_svc_test_i = classification_report(y_true=y_te_arr_imp_delay_binary, y_pred=svc_test_i, target_names=['no_delay','important_delay'], output_dict=True)['important_delay']['recall']\n",
    "print(report_svc_test_i)"
   ]
  },
  {
   "cell_type": "markdown",
   "metadata": {},
   "source": [
    "#### RBF kernel <a name='svm_rbf' />\n",
    "*<a href=#top>Back to top</a>*\n",
    "* **Note:** take tool long to run, decide to not use for this project and to use RandomForest instead as Non-linear classifier"
   ]
  },
  {
   "cell_type": "code",
   "execution_count": 75,
   "metadata": {},
   "outputs": [],
   "source": [
    "## start_rbf = time.time()\n",
    "## svc = SVC(C=1,kernel='rbf', gamma=1)\n",
    "## svc.fit(X_tr_arr, y_tr_arr_delay_binary)\n",
    "## svc.score(X_va_arr_reindex, y_va_arr_delay_binary)\n",
    "## end_rbf = time.time()\n",
    "## print(end_rbf - start_rbf)"
   ]
  },
  {
   "cell_type": "markdown",
   "metadata": {},
   "source": [
    "### IV) Trees <a name='trees' />\n",
    "*<a href=#top>Back to top</a>*\n",
    "* Decision Trees tuning class_weight and max_depth\n",
    "* RandomForest tuning class_weight, max_depth and n_estimators"
   ]
  },
  {
   "cell_type": "markdown",
   "metadata": {},
   "source": [
    "#### Decision Trees <a name='dt' />\n",
    "*<a href=#top>Back to top</a>*\n",
    "#### Delay <a name='dt_delay' /> <a name='dt_delay_grid' />"
   ]
  },
  {
   "cell_type": "code",
   "execution_count": 76,
   "metadata": {},
   "outputs": [
    {
     "data": {
      "text/plain": [
       "GridSearchCV(cv=5,\n",
       "             estimator=DecisionTreeClassifier(max_depth=3, random_state=0),\n",
       "             n_jobs=-1,\n",
       "             param_grid={'class_weight': [None, {0: 1, 1: 10}, 'balanced',\n",
       "                                          {0: 1, 1: 500}],\n",
       "                         'max_depth': [3, 5, 7, 9, 11]},\n",
       "             refit=False, return_train_score=True,\n",
       "             scoring=['precision', 'recall', 'average_precision', 'f1'])"
      ]
     },
     "execution_count": 76,
     "metadata": {},
     "output_type": "execute_result"
    }
   ],
   "source": [
    "# without class_weight\n",
    "from sklearn.tree import DecisionTreeClassifier\n",
    "from sklearn.model_selection import GridSearchCV\n",
    "#from sklearn.model_selection import RepeatedStratifiedKFold\n",
    "\n",
    "# Create decision tree\n",
    "dt_d = DecisionTreeClassifier(criterion='gini', max_depth=3, random_state=0)\n",
    "\n",
    "balance = [None, {0:1,1:10}, 'balanced', {0:1,1:500}]\n",
    "trees = [3,5,7,9,11]\n",
    "param_grid = dict(class_weight=balance, max_depth=trees)\n",
    "#cv = RepeatedStratifiedKFold(n_splits=5, n_repeats=3, random_state=1)\n",
    "scoring = ['precision','recall','average_precision','f1']\n",
    "# define grid search\n",
    "grid_dt_d = GridSearchCV(estimator=dt_d, param_grid=param_grid, n_jobs=-1, cv=5, scoring=scoring, refit=False, return_train_score=True)\n",
    "# fit\n",
    "grid_dt_d.fit(X_tr_arr, y_tr_arr_delay_binary)"
   ]
  },
  {
   "cell_type": "code",
   "execution_count": 77,
   "metadata": {},
   "outputs": [
    {
     "data": {
      "text/plain": [
       "dict_keys(['mean_fit_time', 'std_fit_time', 'mean_score_time', 'std_score_time', 'param_class_weight', 'param_max_depth', 'params', 'split0_test_precision', 'split1_test_precision', 'split2_test_precision', 'split3_test_precision', 'split4_test_precision', 'mean_test_precision', 'std_test_precision', 'rank_test_precision', 'split0_train_precision', 'split1_train_precision', 'split2_train_precision', 'split3_train_precision', 'split4_train_precision', 'mean_train_precision', 'std_train_precision', 'split0_test_recall', 'split1_test_recall', 'split2_test_recall', 'split3_test_recall', 'split4_test_recall', 'mean_test_recall', 'std_test_recall', 'rank_test_recall', 'split0_train_recall', 'split1_train_recall', 'split2_train_recall', 'split3_train_recall', 'split4_train_recall', 'mean_train_recall', 'std_train_recall', 'split0_test_average_precision', 'split1_test_average_precision', 'split2_test_average_precision', 'split3_test_average_precision', 'split4_test_average_precision', 'mean_test_average_precision', 'std_test_average_precision', 'rank_test_average_precision', 'split0_train_average_precision', 'split1_train_average_precision', 'split2_train_average_precision', 'split3_train_average_precision', 'split4_train_average_precision', 'mean_train_average_precision', 'std_train_average_precision', 'split0_test_f1', 'split1_test_f1', 'split2_test_f1', 'split3_test_f1', 'split4_test_f1', 'mean_test_f1', 'std_test_f1', 'rank_test_f1', 'split0_train_f1', 'split1_train_f1', 'split2_train_f1', 'split3_train_f1', 'split4_train_f1', 'mean_train_f1', 'std_train_f1'])"
      ]
     },
     "execution_count": 77,
     "metadata": {},
     "output_type": "execute_result"
    }
   ],
   "source": [
    "# Get the results with \"cv_results\"\n",
    "grid_dt_d.cv_results_.keys()"
   ]
  },
  {
   "cell_type": "code",
   "execution_count": 78,
   "metadata": {},
   "outputs": [
    {
     "data": {
      "text/plain": [
       "array([0.0887047 , 0.24667164, 0.28468362, 0.32058189, 0.35808122,\n",
       "       0.51467831, 0.5522439 , 0.55246277, 0.55371974, 0.55706241,\n",
       "       0.55361628, 0.55648236, 0.55647828, 0.56772067, 0.5730252 ,\n",
       "       0.51467831, 0.535788  , 0.54338845, 0.54773661, 0.55029902])"
      ]
     },
     "execution_count": 78,
     "metadata": {},
     "output_type": "execute_result"
    }
   ],
   "source": [
    "grid_dt_d.cv_results_['mean_test_f1']"
   ]
  },
  {
   "cell_type": "code",
   "execution_count": 79,
   "metadata": {},
   "outputs": [
    {
     "data": {
      "text/html": [
       "<div>\n",
       "<style scoped>\n",
       "    .dataframe tbody tr th:only-of-type {\n",
       "        vertical-align: middle;\n",
       "    }\n",
       "\n",
       "    .dataframe tbody tr th {\n",
       "        vertical-align: top;\n",
       "    }\n",
       "\n",
       "    .dataframe thead th {\n",
       "        text-align: right;\n",
       "    }\n",
       "</style>\n",
       "<table border=\"1\" class=\"dataframe\">\n",
       "  <thead>\n",
       "    <tr style=\"text-align: right;\">\n",
       "      <th></th>\n",
       "      <th>mean_test_average_precision</th>\n",
       "      <th>mean_train_average_precision</th>\n",
       "      <th>std_test_average_precision</th>\n",
       "      <th>mean_test_f1</th>\n",
       "      <th>mean_train_f1</th>\n",
       "      <th>mean_test_recall</th>\n",
       "      <th>mean_train_recall</th>\n",
       "      <th>mean_test_precision</th>\n",
       "      <th>mean_train_precision</th>\n",
       "      <th>param_max_depth</th>\n",
       "      <th>param_class_weight</th>\n",
       "      <th>mean_fit_time</th>\n",
       "      <th>mean_score_time</th>\n",
       "    </tr>\n",
       "  </thead>\n",
       "  <tbody>\n",
       "    <tr>\n",
       "      <th>4</th>\n",
       "      <td>0.501945</td>\n",
       "      <td>0.616725</td>\n",
       "      <td>0.047844</td>\n",
       "      <td>0.358081</td>\n",
       "      <td>0.461179</td>\n",
       "      <td>0.274098</td>\n",
       "      <td>0.345883</td>\n",
       "      <td>0.541208</td>\n",
       "      <td>0.701455</td>\n",
       "      <td>11</td>\n",
       "      <td>None</td>\n",
       "      <td>23.493954</td>\n",
       "      <td>0.453613</td>\n",
       "    </tr>\n",
       "    <tr>\n",
       "      <th>14</th>\n",
       "      <td>0.498925</td>\n",
       "      <td>0.616347</td>\n",
       "      <td>0.038370</td>\n",
       "      <td>0.573025</td>\n",
       "      <td>0.611402</td>\n",
       "      <td>0.874701</td>\n",
       "      <td>0.929136</td>\n",
       "      <td>0.426863</td>\n",
       "      <td>0.455667</td>\n",
       "      <td>11</td>\n",
       "      <td>balanced</td>\n",
       "      <td>21.588996</td>\n",
       "      <td>0.508606</td>\n",
       "    </tr>\n",
       "    <tr>\n",
       "      <th>3</th>\n",
       "      <td>0.491560</td>\n",
       "      <td>0.581987</td>\n",
       "      <td>0.044461</td>\n",
       "      <td>0.320582</td>\n",
       "      <td>0.415596</td>\n",
       "      <td>0.234081</td>\n",
       "      <td>0.296227</td>\n",
       "      <td>0.545400</td>\n",
       "      <td>0.705958</td>\n",
       "      <td>9</td>\n",
       "      <td>None</td>\n",
       "      <td>23.202752</td>\n",
       "      <td>0.480320</td>\n",
       "    </tr>\n",
       "    <tr>\n",
       "      <th>13</th>\n",
       "      <td>0.489679</td>\n",
       "      <td>0.584214</td>\n",
       "      <td>0.044733</td>\n",
       "      <td>0.567721</td>\n",
       "      <td>0.599644</td>\n",
       "      <td>0.891709</td>\n",
       "      <td>0.935600</td>\n",
       "      <td>0.417361</td>\n",
       "      <td>0.441302</td>\n",
       "      <td>9</td>\n",
       "      <td>balanced</td>\n",
       "      <td>20.848585</td>\n",
       "      <td>0.487936</td>\n",
       "    </tr>\n",
       "    <tr>\n",
       "      <th>12</th>\n",
       "      <td>0.467765</td>\n",
       "      <td>0.541766</td>\n",
       "      <td>0.052229</td>\n",
       "      <td>0.556478</td>\n",
       "      <td>0.587256</td>\n",
       "      <td>0.903875</td>\n",
       "      <td>0.941048</td>\n",
       "      <td>0.402346</td>\n",
       "      <td>0.426812</td>\n",
       "      <td>7</td>\n",
       "      <td>balanced</td>\n",
       "      <td>19.949856</td>\n",
       "      <td>0.489433</td>\n",
       "    </tr>\n",
       "    <tr>\n",
       "      <th>2</th>\n",
       "      <td>0.463551</td>\n",
       "      <td>0.549563</td>\n",
       "      <td>0.049463</td>\n",
       "      <td>0.284684</td>\n",
       "      <td>0.368222</td>\n",
       "      <td>0.201225</td>\n",
       "      <td>0.252670</td>\n",
       "      <td>0.545927</td>\n",
       "      <td>0.699550</td>\n",
       "      <td>7</td>\n",
       "      <td>None</td>\n",
       "      <td>23.219895</td>\n",
       "      <td>0.497844</td>\n",
       "    </tr>\n",
       "    <tr>\n",
       "      <th>1</th>\n",
       "      <td>0.449107</td>\n",
       "      <td>0.505270</td>\n",
       "      <td>0.044975</td>\n",
       "      <td>0.246672</td>\n",
       "      <td>0.319744</td>\n",
       "      <td>0.173109</td>\n",
       "      <td>0.215954</td>\n",
       "      <td>0.509121</td>\n",
       "      <td>0.655044</td>\n",
       "      <td>5</td>\n",
       "      <td>None</td>\n",
       "      <td>21.757136</td>\n",
       "      <td>0.651752</td>\n",
       "    </tr>\n",
       "    <tr>\n",
       "      <th>11</th>\n",
       "      <td>0.428274</td>\n",
       "      <td>0.495361</td>\n",
       "      <td>0.054824</td>\n",
       "      <td>0.556482</td>\n",
       "      <td>0.571096</td>\n",
       "      <td>0.937462</td>\n",
       "      <td>0.958218</td>\n",
       "      <td>0.396362</td>\n",
       "      <td>0.406859</td>\n",
       "      <td>5</td>\n",
       "      <td>balanced</td>\n",
       "      <td>18.251687</td>\n",
       "      <td>0.498474</td>\n",
       "    </tr>\n",
       "    <tr>\n",
       "      <th>9</th>\n",
       "      <td>0.418443</td>\n",
       "      <td>0.493400</td>\n",
       "      <td>0.036503</td>\n",
       "      <td>0.557062</td>\n",
       "      <td>0.562324</td>\n",
       "      <td>0.982952</td>\n",
       "      <td>0.996063</td>\n",
       "      <td>0.388867</td>\n",
       "      <td>0.391763</td>\n",
       "      <td>11</td>\n",
       "      <td>{0: 1, 1: 10}</td>\n",
       "      <td>28.461951</td>\n",
       "      <td>0.519497</td>\n",
       "    </tr>\n",
       "    <tr>\n",
       "      <th>0</th>\n",
       "      <td>0.417734</td>\n",
       "      <td>0.446944</td>\n",
       "      <td>0.039587</td>\n",
       "      <td>0.088705</td>\n",
       "      <td>0.138523</td>\n",
       "      <td>0.053324</td>\n",
       "      <td>0.081931</td>\n",
       "      <td>0.600196</td>\n",
       "      <td>0.796294</td>\n",
       "      <td>3</td>\n",
       "      <td>None</td>\n",
       "      <td>21.425175</td>\n",
       "      <td>0.802204</td>\n",
       "    </tr>\n",
       "    <tr>\n",
       "      <th>8</th>\n",
       "      <td>0.399709</td>\n",
       "      <td>0.465151</td>\n",
       "      <td>0.039184</td>\n",
       "      <td>0.553720</td>\n",
       "      <td>0.556931</td>\n",
       "      <td>0.988078</td>\n",
       "      <td>0.997315</td>\n",
       "      <td>0.384878</td>\n",
       "      <td>0.386360</td>\n",
       "      <td>9</td>\n",
       "      <td>{0: 1, 1: 10}</td>\n",
       "      <td>27.830964</td>\n",
       "      <td>0.490263</td>\n",
       "    </tr>\n",
       "    <tr>\n",
       "      <th>19</th>\n",
       "      <td>0.399330</td>\n",
       "      <td>0.438379</td>\n",
       "      <td>0.019348</td>\n",
       "      <td>0.550299</td>\n",
       "      <td>0.550134</td>\n",
       "      <td>0.997437</td>\n",
       "      <td>1.000000</td>\n",
       "      <td>0.380195</td>\n",
       "      <td>0.379454</td>\n",
       "      <td>11</td>\n",
       "      <td>{0: 1, 1: 500}</td>\n",
       "      <td>25.353389</td>\n",
       "      <td>0.282579</td>\n",
       "    </tr>\n",
       "    <tr>\n",
       "      <th>10</th>\n",
       "      <td>0.393887</td>\n",
       "      <td>0.441794</td>\n",
       "      <td>0.041075</td>\n",
       "      <td>0.553616</td>\n",
       "      <td>0.557738</td>\n",
       "      <td>0.974427</td>\n",
       "      <td>0.981670</td>\n",
       "      <td>0.387181</td>\n",
       "      <td>0.389582</td>\n",
       "      <td>3</td>\n",
       "      <td>balanced</td>\n",
       "      <td>15.291849</td>\n",
       "      <td>0.466013</td>\n",
       "    </tr>\n",
       "    <tr>\n",
       "      <th>18</th>\n",
       "      <td>0.392887</td>\n",
       "      <td>0.418158</td>\n",
       "      <td>0.015675</td>\n",
       "      <td>0.547737</td>\n",
       "      <td>0.546791</td>\n",
       "      <td>0.998271</td>\n",
       "      <td>1.000000</td>\n",
       "      <td>0.377644</td>\n",
       "      <td>0.376285</td>\n",
       "      <td>9</td>\n",
       "      <td>{0: 1, 1: 500}</td>\n",
       "      <td>27.829173</td>\n",
       "      <td>0.494301</td>\n",
       "    </tr>\n",
       "    <tr>\n",
       "      <th>17</th>\n",
       "      <td>0.382074</td>\n",
       "      <td>0.393269</td>\n",
       "      <td>0.022238</td>\n",
       "      <td>0.543388</td>\n",
       "      <td>0.542239</td>\n",
       "      <td>0.998596</td>\n",
       "      <td>1.000000</td>\n",
       "      <td>0.373493</td>\n",
       "      <td>0.372005</td>\n",
       "      <td>7</td>\n",
       "      <td>{0: 1, 1: 500}</td>\n",
       "      <td>23.995641</td>\n",
       "      <td>0.515838</td>\n",
       "    </tr>\n",
       "    <tr>\n",
       "      <th>16</th>\n",
       "      <td>0.382018</td>\n",
       "      <td>0.381235</td>\n",
       "      <td>0.018983</td>\n",
       "      <td>0.535788</td>\n",
       "      <td>0.531807</td>\n",
       "      <td>0.998718</td>\n",
       "      <td>1.000000</td>\n",
       "      <td>0.366408</td>\n",
       "      <td>0.362292</td>\n",
       "      <td>5</td>\n",
       "      <td>{0: 1, 1: 500}</td>\n",
       "      <td>20.278978</td>\n",
       "      <td>0.475152</td>\n",
       "    </tr>\n",
       "    <tr>\n",
       "      <th>7</th>\n",
       "      <td>0.381020</td>\n",
       "      <td>0.437132</td>\n",
       "      <td>0.032252</td>\n",
       "      <td>0.552463</td>\n",
       "      <td>0.552972</td>\n",
       "      <td>0.998108</td>\n",
       "      <td>0.998728</td>\n",
       "      <td>0.382200</td>\n",
       "      <td>0.382343</td>\n",
       "      <td>7</td>\n",
       "      <td>{0: 1, 1: 10}</td>\n",
       "      <td>25.682498</td>\n",
       "      <td>0.558156</td>\n",
       "    </tr>\n",
       "    <tr>\n",
       "      <th>6</th>\n",
       "      <td>0.379630</td>\n",
       "      <td>0.405137</td>\n",
       "      <td>0.021666</td>\n",
       "      <td>0.552244</td>\n",
       "      <td>0.551581</td>\n",
       "      <td>0.998718</td>\n",
       "      <td>0.998718</td>\n",
       "      <td>0.381893</td>\n",
       "      <td>0.381018</td>\n",
       "      <td>5</td>\n",
       "      <td>{0: 1, 1: 10}</td>\n",
       "      <td>20.597832</td>\n",
       "      <td>0.528004</td>\n",
       "    </tr>\n",
       "    <tr>\n",
       "      <th>5</th>\n",
       "      <td>0.346673</td>\n",
       "      <td>0.346097</td>\n",
       "      <td>0.014776</td>\n",
       "      <td>0.514678</td>\n",
       "      <td>0.514195</td>\n",
       "      <td>0.999837</td>\n",
       "      <td>0.999837</td>\n",
       "      <td>0.346690</td>\n",
       "      <td>0.346101</td>\n",
       "      <td>3</td>\n",
       "      <td>{0: 1, 1: 10}</td>\n",
       "      <td>15.762505</td>\n",
       "      <td>0.513857</td>\n",
       "    </tr>\n",
       "    <tr>\n",
       "      <th>15</th>\n",
       "      <td>0.346673</td>\n",
       "      <td>0.346097</td>\n",
       "      <td>0.014776</td>\n",
       "      <td>0.514678</td>\n",
       "      <td>0.514195</td>\n",
       "      <td>0.999837</td>\n",
       "      <td>0.999837</td>\n",
       "      <td>0.346690</td>\n",
       "      <td>0.346101</td>\n",
       "      <td>3</td>\n",
       "      <td>{0: 1, 1: 500}</td>\n",
       "      <td>14.952596</td>\n",
       "      <td>0.468155</td>\n",
       "    </tr>\n",
       "  </tbody>\n",
       "</table>\n",
       "</div>"
      ],
      "text/plain": [
       "    mean_test_average_precision  mean_train_average_precision  \\\n",
       "4                      0.501945                      0.616725   \n",
       "14                     0.498925                      0.616347   \n",
       "3                      0.491560                      0.581987   \n",
       "13                     0.489679                      0.584214   \n",
       "12                     0.467765                      0.541766   \n",
       "2                      0.463551                      0.549563   \n",
       "1                      0.449107                      0.505270   \n",
       "11                     0.428274                      0.495361   \n",
       "9                      0.418443                      0.493400   \n",
       "0                      0.417734                      0.446944   \n",
       "8                      0.399709                      0.465151   \n",
       "19                     0.399330                      0.438379   \n",
       "10                     0.393887                      0.441794   \n",
       "18                     0.392887                      0.418158   \n",
       "17                     0.382074                      0.393269   \n",
       "16                     0.382018                      0.381235   \n",
       "7                      0.381020                      0.437132   \n",
       "6                      0.379630                      0.405137   \n",
       "5                      0.346673                      0.346097   \n",
       "15                     0.346673                      0.346097   \n",
       "\n",
       "    std_test_average_precision  mean_test_f1  mean_train_f1  mean_test_recall  \\\n",
       "4                     0.047844      0.358081       0.461179          0.274098   \n",
       "14                    0.038370      0.573025       0.611402          0.874701   \n",
       "3                     0.044461      0.320582       0.415596          0.234081   \n",
       "13                    0.044733      0.567721       0.599644          0.891709   \n",
       "12                    0.052229      0.556478       0.587256          0.903875   \n",
       "2                     0.049463      0.284684       0.368222          0.201225   \n",
       "1                     0.044975      0.246672       0.319744          0.173109   \n",
       "11                    0.054824      0.556482       0.571096          0.937462   \n",
       "9                     0.036503      0.557062       0.562324          0.982952   \n",
       "0                     0.039587      0.088705       0.138523          0.053324   \n",
       "8                     0.039184      0.553720       0.556931          0.988078   \n",
       "19                    0.019348      0.550299       0.550134          0.997437   \n",
       "10                    0.041075      0.553616       0.557738          0.974427   \n",
       "18                    0.015675      0.547737       0.546791          0.998271   \n",
       "17                    0.022238      0.543388       0.542239          0.998596   \n",
       "16                    0.018983      0.535788       0.531807          0.998718   \n",
       "7                     0.032252      0.552463       0.552972          0.998108   \n",
       "6                     0.021666      0.552244       0.551581          0.998718   \n",
       "5                     0.014776      0.514678       0.514195          0.999837   \n",
       "15                    0.014776      0.514678       0.514195          0.999837   \n",
       "\n",
       "    mean_train_recall  mean_test_precision  mean_train_precision  \\\n",
       "4            0.345883             0.541208              0.701455   \n",
       "14           0.929136             0.426863              0.455667   \n",
       "3            0.296227             0.545400              0.705958   \n",
       "13           0.935600             0.417361              0.441302   \n",
       "12           0.941048             0.402346              0.426812   \n",
       "2            0.252670             0.545927              0.699550   \n",
       "1            0.215954             0.509121              0.655044   \n",
       "11           0.958218             0.396362              0.406859   \n",
       "9            0.996063             0.388867              0.391763   \n",
       "0            0.081931             0.600196              0.796294   \n",
       "8            0.997315             0.384878              0.386360   \n",
       "19           1.000000             0.380195              0.379454   \n",
       "10           0.981670             0.387181              0.389582   \n",
       "18           1.000000             0.377644              0.376285   \n",
       "17           1.000000             0.373493              0.372005   \n",
       "16           1.000000             0.366408              0.362292   \n",
       "7            0.998728             0.382200              0.382343   \n",
       "6            0.998718             0.381893              0.381018   \n",
       "5            0.999837             0.346690              0.346101   \n",
       "15           0.999837             0.346690              0.346101   \n",
       "\n",
       "   param_max_depth param_class_weight  mean_fit_time  mean_score_time  \n",
       "4               11               None      23.493954         0.453613  \n",
       "14              11           balanced      21.588996         0.508606  \n",
       "3                9               None      23.202752         0.480320  \n",
       "13               9           balanced      20.848585         0.487936  \n",
       "12               7           balanced      19.949856         0.489433  \n",
       "2                7               None      23.219895         0.497844  \n",
       "1                5               None      21.757136         0.651752  \n",
       "11               5           balanced      18.251687         0.498474  \n",
       "9               11      {0: 1, 1: 10}      28.461951         0.519497  \n",
       "0                3               None      21.425175         0.802204  \n",
       "8                9      {0: 1, 1: 10}      27.830964         0.490263  \n",
       "19              11     {0: 1, 1: 500}      25.353389         0.282579  \n",
       "10               3           balanced      15.291849         0.466013  \n",
       "18               9     {0: 1, 1: 500}      27.829173         0.494301  \n",
       "17               7     {0: 1, 1: 500}      23.995641         0.515838  \n",
       "16               5     {0: 1, 1: 500}      20.278978         0.475152  \n",
       "7                7      {0: 1, 1: 10}      25.682498         0.558156  \n",
       "6                5      {0: 1, 1: 10}      20.597832         0.528004  \n",
       "5                3      {0: 1, 1: 10}      15.762505         0.513857  \n",
       "15               3     {0: 1, 1: 500}      14.952596         0.468155  "
      ]
     },
     "execution_count": 79,
     "metadata": {},
     "output_type": "execute_result"
    }
   ],
   "source": [
    "cols = ['mean_test_average_precision','mean_train_average_precision','std_test_average_precision',\\\n",
    "        'mean_test_f1','mean_train_f1',\\\n",
    "        'mean_test_recall','mean_train_recall','mean_test_precision','mean_train_precision',\\\n",
    "        'param_max_depth','param_class_weight',\\\n",
    "        'mean_fit_time','mean_score_time']\n",
    "# Delay GridSearchCV\n",
    "grid_dt_df_d = pd.DataFrame(grid_dt_d.cv_results_)[cols].sort_values(by='mean_test_average_precision', ascending=False)\n",
    "grid_dt_df_d"
   ]
  },
  {
   "cell_type": "markdown",
   "metadata": {},
   "source": [
    "#### Classification report (DecisionTree - Delay) <a name='dt_delay_report' />\n",
    "*<a href=#top>Back to top</a>*"
   ]
  },
  {
   "cell_type": "code",
   "execution_count": 80,
   "metadata": {},
   "outputs": [
    {
     "name": "stdout",
     "output_type": "stream",
     "text": [
      "Classification report: DecisionTree delay\n",
      "              precision    recall  f1-score   support\n",
      "\n",
      "    no_delay       0.96      0.65      0.77     86652\n",
      "       delay       0.39      0.88      0.54     22068\n",
      "\n",
      "    accuracy                           0.69    108720\n",
      "   macro avg       0.67      0.76      0.66    108720\n",
      "weighted avg       0.84      0.69      0.72    108720\n",
      "\n"
     ]
    }
   ],
   "source": [
    "# take (14) from above because f1 score much better and recall as well\n",
    "dt_final_d = DecisionTreeClassifier(criterion='gini', max_depth=11, random_state=0, class_weight='balanced')\n",
    "dt_final_d.fit(X_tr_arr, y_tr_arr_delay_binary)\n",
    "y_pred_dt_va_final_d = dt_final_d.predict(X_va_arr_reindex) # prediction delay\n",
    "print('Classification report: DecisionTree delay')\n",
    "report_dt_final_d = classification_report(y_true=y_va_arr_delay_binary, y_pred=y_pred_dt_va_final_d, target_names=['no_delay','delay'])\n",
    "print(report_dt_final_d)"
   ]
  },
  {
   "cell_type": "markdown",
   "metadata": {},
   "source": [
    "#### Visualize Decision Tree of depth 3 (DecisionTree - Delay) <a name='dt_delay_viz' />\n",
    "*<a href=#top>Back to top</a>*"
   ]
  },
  {
   "cell_type": "code",
   "execution_count": 81,
   "metadata": {},
   "outputs": [
    {
     "data": {
      "image/svg+xml": [
       "<?xml version=\"1.0\" encoding=\"UTF-8\" standalone=\"no\"?>\r\n",
       "<!DOCTYPE svg PUBLIC \"-//W3C//DTD SVG 1.1//EN\"\r\n",
       " \"http://www.w3.org/Graphics/SVG/1.1/DTD/svg11.dtd\">\r\n",
       "<!-- Generated by graphviz version 2.38.0 (20140413.2041)\r\n",
       " -->\r\n",
       "<!-- Title: Tree Pages: 1 -->\r\n",
       "<svg width=\"1698pt\" height=\"520pt\"\r\n",
       " viewBox=\"0.00 0.00 1698.00 520.00\" xmlns=\"http://www.w3.org/2000/svg\" xmlns:xlink=\"http://www.w3.org/1999/xlink\">\r\n",
       "<g id=\"graph0\" class=\"graph\" transform=\"scale(1 1) rotate(0) translate(4 516)\">\r\n",
       "<title>Tree</title>\r\n",
       "<polygon fill=\"white\" stroke=\"none\" points=\"-4,4 -4,-516 1694,-516 1694,4 -4,4\"/>\r\n",
       "<!-- 0 -->\r\n",
       "<g id=\"node1\" class=\"node\"><title>0</title>\r\n",
       "<path fill=\"#ffffff\" stroke=\"black\" d=\"M875.5,-512C875.5,-512 708.5,-512 708.5,-512 702.5,-512 696.5,-506 696.5,-500 696.5,-500 696.5,-441 696.5,-441 696.5,-435 702.5,-429 708.5,-429 708.5,-429 875.5,-429 875.5,-429 881.5,-429 887.5,-435 887.5,-441 887.5,-441 887.5,-500 887.5,-500 887.5,-506 881.5,-512 875.5,-512\"/>\r\n",
       "<text text-anchor=\"middle\" x=\"792\" y=\"-496.8\" font-family=\"Helvetica,sans-Serif\" font-size=\"14.00\">operator_short_SBB &lt;= 0.5</text>\r\n",
       "<text text-anchor=\"middle\" x=\"792\" y=\"-481.8\" font-family=\"Helvetica,sans-Serif\" font-size=\"14.00\">gini = 0.5</text>\r\n",
       "<text text-anchor=\"middle\" x=\"792\" y=\"-466.8\" font-family=\"Helvetica,sans-Serif\" font-size=\"14.00\">samples = 100.0%</text>\r\n",
       "<text text-anchor=\"middle\" x=\"792\" y=\"-451.8\" font-family=\"Helvetica,sans-Serif\" font-size=\"14.00\">value = [0.5, 0.5]</text>\r\n",
       "<text text-anchor=\"middle\" x=\"792\" y=\"-436.8\" font-family=\"Helvetica,sans-Serif\" font-size=\"14.00\">class = delay</text>\r\n",
       "</g>\r\n",
       "<!-- 1 -->\r\n",
       "<g id=\"node2\" class=\"node\"><title>1</title>\r\n",
       "<path fill=\"#f1bc96\" stroke=\"black\" d=\"M688.5,-393C688.5,-393 549.5,-393 549.5,-393 543.5,-393 537.5,-387 537.5,-381 537.5,-381 537.5,-322 537.5,-322 537.5,-316 543.5,-310 549.5,-310 549.5,-310 688.5,-310 688.5,-310 694.5,-310 700.5,-316 700.5,-322 700.5,-322 700.5,-381 700.5,-381 700.5,-387 694.5,-393 688.5,-393\"/>\r\n",
       "<text text-anchor=\"middle\" x=\"619\" y=\"-377.8\" font-family=\"Helvetica,sans-Serif\" font-size=\"14.00\">longitude_ch &lt;= &#45;0.277</text>\r\n",
       "<text text-anchor=\"middle\" x=\"619\" y=\"-362.8\" font-family=\"Helvetica,sans-Serif\" font-size=\"14.00\">gini = 0.435</text>\r\n",
       "<text text-anchor=\"middle\" x=\"619\" y=\"-347.8\" font-family=\"Helvetica,sans-Serif\" font-size=\"14.00\">samples = 60.9%</text>\r\n",
       "<text text-anchor=\"middle\" x=\"619\" y=\"-332.8\" font-family=\"Helvetica,sans-Serif\" font-size=\"14.00\">value = [0.68, 0.32]</text>\r\n",
       "<text text-anchor=\"middle\" x=\"619\" y=\"-317.8\" font-family=\"Helvetica,sans-Serif\" font-size=\"14.00\">class = no_delay</text>\r\n",
       "</g>\r\n",
       "<!-- 0&#45;&gt;1 -->\r\n",
       "<g id=\"edge1\" class=\"edge\"><title>0&#45;&gt;1</title>\r\n",
       "<path fill=\"none\" stroke=\"black\" d=\"M731.979,-428.907C717.62,-419.197 702.185,-408.758 687.477,-398.811\"/>\r\n",
       "<polygon fill=\"black\" stroke=\"black\" points=\"689.16,-395.724 678.915,-393.021 685.238,-401.522 689.16,-395.724\"/>\r\n",
       "<text text-anchor=\"middle\" x=\"683.655\" y=\"-413.867\" font-family=\"Helvetica,sans-Serif\" font-size=\"14.00\">True</text>\r\n",
       "</g>\r\n",
       "<!-- 902 -->\r\n",
       "<g id=\"node17\" class=\"node\"><title>902</title>\r\n",
       "<path fill=\"#93caf1\" stroke=\"black\" d=\"M1031,-393C1031,-393 901,-393 901,-393 895,-393 889,-387 889,-381 889,-381 889,-322 889,-322 889,-316 895,-310 901,-310 901,-310 1031,-310 1031,-310 1037,-310 1043,-316 1043,-322 1043,-322 1043,-381 1043,-381 1043,-387 1037,-393 1031,-393\"/>\r\n",
       "<text text-anchor=\"middle\" x=\"966\" y=\"-377.8\" font-family=\"Helvetica,sans-Serif\" font-size=\"14.00\">product_id_S &lt;= 0.5</text>\r\n",
       "<text text-anchor=\"middle\" x=\"966\" y=\"-362.8\" font-family=\"Helvetica,sans-Serif\" font-size=\"14.00\">gini = 0.43</text>\r\n",
       "<text text-anchor=\"middle\" x=\"966\" y=\"-347.8\" font-family=\"Helvetica,sans-Serif\" font-size=\"14.00\">samples = 39.1%</text>\r\n",
       "<text text-anchor=\"middle\" x=\"966\" y=\"-332.8\" font-family=\"Helvetica,sans-Serif\" font-size=\"14.00\">value = [0.313, 0.687]</text>\r\n",
       "<text text-anchor=\"middle\" x=\"966\" y=\"-317.8\" font-family=\"Helvetica,sans-Serif\" font-size=\"14.00\">class = delay</text>\r\n",
       "</g>\r\n",
       "<!-- 0&#45;&gt;902 -->\r\n",
       "<g id=\"edge16\" class=\"edge\"><title>0&#45;&gt;902</title>\r\n",
       "<path fill=\"none\" stroke=\"black\" d=\"M852.368,-428.907C866.809,-419.197 882.334,-408.758 897.127,-398.811\"/>\r\n",
       "<polygon fill=\"black\" stroke=\"black\" points=\"899.393,-401.505 905.738,-393.021 895.487,-395.696 899.393,-401.505\"/>\r\n",
       "<text text-anchor=\"middle\" x=\"900.933\" y=\"-413.855\" font-family=\"Helvetica,sans-Serif\" font-size=\"14.00\">False</text>\r\n",
       "</g>\r\n",
       "<!-- 2 -->\r\n",
       "<g id=\"node3\" class=\"node\"><title>2</title>\r\n",
       "<path fill=\"#a3d1f3\" stroke=\"black\" d=\"M333,-274C333,-274 165,-274 165,-274 159,-274 153,-268 153,-262 153,-262 153,-203 153,-203 153,-197 159,-191 165,-191 165,-191 333,-191 333,-191 339,-191 345,-197 345,-203 345,-203 345,-262 345,-262 345,-268 339,-274 333,-274\"/>\r\n",
       "<text text-anchor=\"middle\" x=\"249\" y=\"-258.8\" font-family=\"Helvetica,sans-Serif\" font-size=\"14.00\">provider_short_MBC &lt;= 0.5</text>\r\n",
       "<text text-anchor=\"middle\" x=\"249\" y=\"-243.8\" font-family=\"Helvetica,sans-Serif\" font-size=\"14.00\">gini = 0.454</text>\r\n",
       "<text text-anchor=\"middle\" x=\"249\" y=\"-228.8\" font-family=\"Helvetica,sans-Serif\" font-size=\"14.00\">samples = 19.2%</text>\r\n",
       "<text text-anchor=\"middle\" x=\"249\" y=\"-213.8\" font-family=\"Helvetica,sans-Serif\" font-size=\"14.00\">value = [0.349, 0.651]</text>\r\n",
       "<text text-anchor=\"middle\" x=\"249\" y=\"-198.8\" font-family=\"Helvetica,sans-Serif\" font-size=\"14.00\">class = delay</text>\r\n",
       "</g>\r\n",
       "<!-- 1&#45;&gt;2 -->\r\n",
       "<g id=\"edge2\" class=\"edge\"><title>1&#45;&gt;2</title>\r\n",
       "<path fill=\"none\" stroke=\"black\" d=\"M537.344,-324.679C483.62,-307.691 412.775,-285.288 354.754,-266.941\"/>\r\n",
       "<polygon fill=\"black\" stroke=\"black\" points=\"355.778,-263.594 345.188,-263.916 353.668,-270.269 355.778,-263.594\"/>\r\n",
       "</g>\r\n",
       "<!-- 605 -->\r\n",
       "<g id=\"node10\" class=\"node\"><title>605</title>\r\n",
       "<path fill=\"#e68743\" stroke=\"black\" d=\"M684,-274C684,-274 554,-274 554,-274 548,-274 542,-268 542,-262 542,-262 542,-203 542,-203 542,-197 548,-191 554,-191 554,-191 684,-191 684,-191 690,-191 696,-197 696,-203 696,-203 696,-262 696,-262 696,-268 690,-274 684,-274\"/>\r\n",
       "<text text-anchor=\"middle\" x=\"619\" y=\"-258.8\" font-family=\"Helvetica,sans-Serif\" font-size=\"14.00\">latitude_ch &lt;= 1.662</text>\r\n",
       "<text text-anchor=\"middle\" x=\"619\" y=\"-243.8\" font-family=\"Helvetica,sans-Serif\" font-size=\"14.00\">gini = 0.091</text>\r\n",
       "<text text-anchor=\"middle\" x=\"619\" y=\"-228.8\" font-family=\"Helvetica,sans-Serif\" font-size=\"14.00\">samples = 41.7%</text>\r\n",
       "<text text-anchor=\"middle\" x=\"619\" y=\"-213.8\" font-family=\"Helvetica,sans-Serif\" font-size=\"14.00\">value = [0.952, 0.048]</text>\r\n",
       "<text text-anchor=\"middle\" x=\"619\" y=\"-198.8\" font-family=\"Helvetica,sans-Serif\" font-size=\"14.00\">class = no_delay</text>\r\n",
       "</g>\r\n",
       "<!-- 1&#45;&gt;605 -->\r\n",
       "<g id=\"edge9\" class=\"edge\"><title>1&#45;&gt;605</title>\r\n",
       "<path fill=\"none\" stroke=\"black\" d=\"M619,-309.907C619,-301.649 619,-292.864 619,-284.302\"/>\r\n",
       "<polygon fill=\"black\" stroke=\"black\" points=\"622.5,-284.021 619,-274.021 615.5,-284.021 622.5,-284.021\"/>\r\n",
       "</g>\r\n",
       "<!-- 3 -->\r\n",
       "<g id=\"node4\" class=\"node\"><title>3</title>\r\n",
       "<path fill=\"#bcdef6\" stroke=\"black\" d=\"M142,-155C142,-155 12,-155 12,-155 6,-155 0,-149 0,-143 0,-143 0,-84 0,-84 0,-78 6,-72 12,-72 12,-72 142,-72 142,-72 148,-72 154,-78 154,-84 154,-84 154,-143 154,-143 154,-149 148,-155 142,-155\"/>\r\n",
       "<text text-anchor=\"middle\" x=\"77\" y=\"-139.8\" font-family=\"Helvetica,sans-Serif\" font-size=\"14.00\">latitude_ch &lt;= &#45;0.688</text>\r\n",
       "<text text-anchor=\"middle\" x=\"77\" y=\"-124.8\" font-family=\"Helvetica,sans-Serif\" font-size=\"14.00\">gini = 0.479</text>\r\n",
       "<text text-anchor=\"middle\" x=\"77\" y=\"-109.8\" font-family=\"Helvetica,sans-Serif\" font-size=\"14.00\">samples = 12.8%</text>\r\n",
       "<text text-anchor=\"middle\" x=\"77\" y=\"-94.8\" font-family=\"Helvetica,sans-Serif\" font-size=\"14.00\">value = [0.398, 0.602]</text>\r\n",
       "<text text-anchor=\"middle\" x=\"77\" y=\"-79.8\" font-family=\"Helvetica,sans-Serif\" font-size=\"14.00\">class = delay</text>\r\n",
       "</g>\r\n",
       "<!-- 2&#45;&gt;3 -->\r\n",
       "<g id=\"edge3\" class=\"edge\"><title>2&#45;&gt;3</title>\r\n",
       "<path fill=\"none\" stroke=\"black\" d=\"M189.325,-190.907C175.05,-181.197 159.704,-170.758 145.082,-160.811\"/>\r\n",
       "<polygon fill=\"black\" stroke=\"black\" points=\"146.806,-157.751 136.569,-155.021 142.869,-163.539 146.806,-157.751\"/>\r\n",
       "</g>\r\n",
       "<!-- 284 -->\r\n",
       "<g id=\"node7\" class=\"node\"><title>284</title>\r\n",
       "<path fill=\"#80c0ee\" stroke=\"black\" d=\"M314,-155C314,-155 184,-155 184,-155 178,-155 172,-149 172,-143 172,-143 172,-84 172,-84 172,-78 178,-72 184,-72 184,-72 314,-72 314,-72 320,-72 326,-78 326,-84 326,-84 326,-143 326,-143 326,-149 320,-155 314,-155\"/>\r\n",
       "<text text-anchor=\"middle\" x=\"249\" y=\"-139.8\" font-family=\"Helvetica,sans-Serif\" font-size=\"14.00\">altitude &lt;= 0.13</text>\r\n",
       "<text text-anchor=\"middle\" x=\"249\" y=\"-124.8\" font-family=\"Helvetica,sans-Serif\" font-size=\"14.00\">gini = 0.39</text>\r\n",
       "<text text-anchor=\"middle\" x=\"249\" y=\"-109.8\" font-family=\"Helvetica,sans-Serif\" font-size=\"14.00\">samples = 6.3%</text>\r\n",
       "<text text-anchor=\"middle\" x=\"249\" y=\"-94.8\" font-family=\"Helvetica,sans-Serif\" font-size=\"14.00\">value = [0.265, 0.735]</text>\r\n",
       "<text text-anchor=\"middle\" x=\"249\" y=\"-79.8\" font-family=\"Helvetica,sans-Serif\" font-size=\"14.00\">class = delay</text>\r\n",
       "</g>\r\n",
       "<!-- 2&#45;&gt;284 -->\r\n",
       "<g id=\"edge6\" class=\"edge\"><title>2&#45;&gt;284</title>\r\n",
       "<path fill=\"none\" stroke=\"black\" d=\"M249,-190.907C249,-182.649 249,-173.864 249,-165.302\"/>\r\n",
       "<polygon fill=\"black\" stroke=\"black\" points=\"252.5,-165.021 249,-155.021 245.5,-165.021 252.5,-165.021\"/>\r\n",
       "</g>\r\n",
       "<!-- 4 -->\r\n",
       "<g id=\"node5\" class=\"node\"><title>4</title>\r\n",
       "<path fill=\"#c0c0c0\" stroke=\"black\" d=\"M70,-36C70,-36 40,-36 40,-36 34,-36 28,-30 28,-24 28,-24 28,-12 28,-12 28,-6 34,-0 40,-0 40,-0 70,-0 70,-0 76,-0 82,-6 82,-12 82,-12 82,-24 82,-24 82,-30 76,-36 70,-36\"/>\r\n",
       "<text text-anchor=\"middle\" x=\"55\" y=\"-14.3\" font-family=\"Helvetica,sans-Serif\" font-size=\"14.00\">(...)</text>\r\n",
       "</g>\r\n",
       "<!-- 3&#45;&gt;4 -->\r\n",
       "<g id=\"edge4\" class=\"edge\"><title>3&#45;&gt;4</title>\r\n",
       "<path fill=\"none\" stroke=\"black\" d=\"M67.4145,-71.7615C65.3856,-63.1387 63.2914,-54.2385 61.4143,-46.2606\"/>\r\n",
       "<polygon fill=\"black\" stroke=\"black\" points=\"64.7927,-45.3376 59.0953,-36.4051 57.9788,-46.9409 64.7927,-45.3376\"/>\r\n",
       "</g>\r\n",
       "<!-- 117 -->\r\n",
       "<g id=\"node6\" class=\"node\"><title>117</title>\r\n",
       "<path fill=\"#c0c0c0\" stroke=\"black\" d=\"M142,-36C142,-36 112,-36 112,-36 106,-36 100,-30 100,-24 100,-24 100,-12 100,-12 100,-6 106,-0 112,-0 112,-0 142,-0 142,-0 148,-0 154,-6 154,-12 154,-12 154,-24 154,-24 154,-30 148,-36 142,-36\"/>\r\n",
       "<text text-anchor=\"middle\" x=\"127\" y=\"-14.3\" font-family=\"Helvetica,sans-Serif\" font-size=\"14.00\">(...)</text>\r\n",
       "</g>\r\n",
       "<!-- 3&#45;&gt;117 -->\r\n",
       "<g id=\"edge5\" class=\"edge\"><title>3&#45;&gt;117</title>\r\n",
       "<path fill=\"none\" stroke=\"black\" d=\"M98.7853,-71.7615C103.552,-62.8481 108.477,-53.6382 112.852,-45.4571\"/>\r\n",
       "<polygon fill=\"black\" stroke=\"black\" points=\"116.063,-46.8739 117.692,-36.4051 109.89,-43.5729 116.063,-46.8739\"/>\r\n",
       "</g>\r\n",
       "<!-- 285 -->\r\n",
       "<g id=\"node8\" class=\"node\"><title>285</title>\r\n",
       "<path fill=\"#c0c0c0\" stroke=\"black\" d=\"M215,-36C215,-36 185,-36 185,-36 179,-36 173,-30 173,-24 173,-24 173,-12 173,-12 173,-6 179,-0 185,-0 185,-0 215,-0 215,-0 221,-0 227,-6 227,-12 227,-12 227,-24 227,-24 227,-30 221,-36 215,-36\"/>\r\n",
       "<text text-anchor=\"middle\" x=\"200\" y=\"-14.3\" font-family=\"Helvetica,sans-Serif\" font-size=\"14.00\">(...)</text>\r\n",
       "</g>\r\n",
       "<!-- 284&#45;&gt;285 -->\r\n",
       "<g id=\"edge7\" class=\"edge\"><title>284&#45;&gt;285</title>\r\n",
       "<path fill=\"none\" stroke=\"black\" d=\"M227.65,-71.7615C222.979,-62.8481 218.153,-53.6382 213.865,-45.4571\"/>\r\n",
       "<polygon fill=\"black\" stroke=\"black\" points=\"216.863,-43.6378 209.121,-36.4051 210.663,-46.8872 216.863,-43.6378\"/>\r\n",
       "</g>\r\n",
       "<!-- 442 -->\r\n",
       "<g id=\"node9\" class=\"node\"><title>442</title>\r\n",
       "<path fill=\"#c0c0c0\" stroke=\"black\" d=\"M287,-36C287,-36 257,-36 257,-36 251,-36 245,-30 245,-24 245,-24 245,-12 245,-12 245,-6 251,-0 257,-0 257,-0 287,-0 287,-0 293,-0 299,-6 299,-12 299,-12 299,-24 299,-24 299,-30 293,-36 287,-36\"/>\r\n",
       "<text text-anchor=\"middle\" x=\"272\" y=\"-14.3\" font-family=\"Helvetica,sans-Serif\" font-size=\"14.00\">(...)</text>\r\n",
       "</g>\r\n",
       "<!-- 284&#45;&gt;442 -->\r\n",
       "<g id=\"edge8\" class=\"edge\"><title>284&#45;&gt;442</title>\r\n",
       "<path fill=\"none\" stroke=\"black\" d=\"M259.021,-71.7615C261.142,-63.1387 263.332,-54.2385 265.294,-46.2606\"/>\r\n",
       "<polygon fill=\"black\" stroke=\"black\" points=\"268.728,-46.9517 267.719,-36.4051 261.931,-45.2796 268.728,-46.9517\"/>\r\n",
       "</g>\r\n",
       "<!-- 606 -->\r\n",
       "<g id=\"node11\" class=\"node\"><title>606</title>\r\n",
       "<path fill=\"#e5813a\" stroke=\"black\" d=\"M522,-155C522,-155 356,-155 356,-155 350,-155 344,-149 344,-143 344,-143 344,-84 344,-84 344,-78 350,-72 356,-72 356,-72 522,-72 522,-72 528,-72 534,-78 534,-84 534,-84 534,-143 534,-143 534,-149 528,-155 522,-155\"/>\r\n",
       "<text text-anchor=\"middle\" x=\"439\" y=\"-139.8\" font-family=\"Helvetica,sans-Serif\" font-size=\"14.00\">operator_short_TPF &lt;= 0.5</text>\r\n",
       "<text text-anchor=\"middle\" x=\"439\" y=\"-124.8\" font-family=\"Helvetica,sans-Serif\" font-size=\"14.00\">gini = 0.007</text>\r\n",
       "<text text-anchor=\"middle\" x=\"439\" y=\"-109.8\" font-family=\"Helvetica,sans-Serif\" font-size=\"14.00\">samples = 40.3%</text>\r\n",
       "<text text-anchor=\"middle\" x=\"439\" y=\"-94.8\" font-family=\"Helvetica,sans-Serif\" font-size=\"14.00\">value = [0.997, 0.003]</text>\r\n",
       "<text text-anchor=\"middle\" x=\"439\" y=\"-79.8\" font-family=\"Helvetica,sans-Serif\" font-size=\"14.00\">class = no_delay</text>\r\n",
       "</g>\r\n",
       "<!-- 605&#45;&gt;606 -->\r\n",
       "<g id=\"edge10\" class=\"edge\"><title>605&#45;&gt;606</title>\r\n",
       "<path fill=\"none\" stroke=\"black\" d=\"M556.55,-190.907C541.471,-181.106 525.251,-170.563 509.819,-160.533\"/>\r\n",
       "<polygon fill=\"black\" stroke=\"black\" points=\"511.632,-157.536 501.34,-155.021 507.817,-163.405 511.632,-157.536\"/>\r\n",
       "</g>\r\n",
       "<!-- 723 -->\r\n",
       "<g id=\"node14\" class=\"node\"><title>723</title>\r\n",
       "<path fill=\"#8bc6f0\" stroke=\"black\" d=\"M798,-155C798,-155 564,-155 564,-155 558,-155 552,-149 552,-143 552,-143 552,-84 552,-84 552,-78 558,-72 564,-72 564,-72 798,-72 798,-72 804,-72 810,-78 810,-84 810,-84 810,-143 810,-143 810,-149 804,-155 798,-155\"/>\r\n",
       "<text text-anchor=\"middle\" x=\"681\" y=\"-139.8\" font-family=\"Helvetica,sans-Serif\" font-size=\"14.00\">start_middle_end_middle_stop &lt;= 0.5</text>\r\n",
       "<text text-anchor=\"middle\" x=\"681\" y=\"-124.8\" font-family=\"Helvetica,sans-Serif\" font-size=\"14.00\">gini = 0.415</text>\r\n",
       "<text text-anchor=\"middle\" x=\"681\" y=\"-109.8\" font-family=\"Helvetica,sans-Serif\" font-size=\"14.00\">samples = 1.4%</text>\r\n",
       "<text text-anchor=\"middle\" x=\"681\" y=\"-94.8\" font-family=\"Helvetica,sans-Serif\" font-size=\"14.00\">value = [0.294, 0.706]</text>\r\n",
       "<text text-anchor=\"middle\" x=\"681\" y=\"-79.8\" font-family=\"Helvetica,sans-Serif\" font-size=\"14.00\">class = delay</text>\r\n",
       "</g>\r\n",
       "<!-- 605&#45;&gt;723 -->\r\n",
       "<g id=\"edge13\" class=\"edge\"><title>605&#45;&gt;723</title>\r\n",
       "<path fill=\"none\" stroke=\"black\" d=\"M640.511,-190.907C645.127,-182.195 650.055,-172.897 654.826,-163.893\"/>\r\n",
       "<polygon fill=\"black\" stroke=\"black\" points=\"657.938,-165.496 659.527,-155.021 651.752,-162.218 657.938,-165.496\"/>\r\n",
       "</g>\r\n",
       "<!-- 607 -->\r\n",
       "<g id=\"node12\" class=\"node\"><title>607</title>\r\n",
       "<path fill=\"#c0c0c0\" stroke=\"black\" d=\"M418,-36C418,-36 388,-36 388,-36 382,-36 376,-30 376,-24 376,-24 376,-12 376,-12 376,-6 382,-0 388,-0 388,-0 418,-0 418,-0 424,-0 430,-6 430,-12 430,-12 430,-24 430,-24 430,-30 424,-36 418,-36\"/>\r\n",
       "<text text-anchor=\"middle\" x=\"403\" y=\"-14.3\" font-family=\"Helvetica,sans-Serif\" font-size=\"14.00\">(...)</text>\r\n",
       "</g>\r\n",
       "<!-- 606&#45;&gt;607 -->\r\n",
       "<g id=\"edge11\" class=\"edge\"><title>606&#45;&gt;607</title>\r\n",
       "<path fill=\"none\" stroke=\"black\" d=\"M423.315,-71.7615C419.957,-63.0419 416.491,-54.0385 413.393,-45.9921\"/>\r\n",
       "<polygon fill=\"black\" stroke=\"black\" points=\"416.561,-44.4797 409.701,-36.4051 410.028,-46.9949 416.561,-44.4797\"/>\r\n",
       "</g>\r\n",
       "<!-- 676 -->\r\n",
       "<g id=\"node13\" class=\"node\"><title>676</title>\r\n",
       "<path fill=\"#c0c0c0\" stroke=\"black\" d=\"M490,-36C490,-36 460,-36 460,-36 454,-36 448,-30 448,-24 448,-24 448,-12 448,-12 448,-6 454,-0 460,-0 460,-0 490,-0 490,-0 496,-0 502,-6 502,-12 502,-12 502,-24 502,-24 502,-30 496,-36 490,-36\"/>\r\n",
       "<text text-anchor=\"middle\" x=\"475\" y=\"-14.3\" font-family=\"Helvetica,sans-Serif\" font-size=\"14.00\">(...)</text>\r\n",
       "</g>\r\n",
       "<!-- 606&#45;&gt;676 -->\r\n",
       "<g id=\"edge12\" class=\"edge\"><title>606&#45;&gt;676</title>\r\n",
       "<path fill=\"none\" stroke=\"black\" d=\"M454.685,-71.7615C458.043,-63.0419 461.509,-54.0385 464.607,-45.9921\"/>\r\n",
       "<polygon fill=\"black\" stroke=\"black\" points=\"467.972,-46.9949 468.299,-36.4051 461.439,-44.4797 467.972,-46.9949\"/>\r\n",
       "</g>\r\n",
       "<!-- 724 -->\r\n",
       "<g id=\"node15\" class=\"node\"><title>724</title>\r\n",
       "<path fill=\"#c0c0c0\" stroke=\"black\" d=\"M660,-36C660,-36 630,-36 630,-36 624,-36 618,-30 618,-24 618,-24 618,-12 618,-12 618,-6 624,-0 630,-0 630,-0 660,-0 660,-0 666,-0 672,-6 672,-12 672,-12 672,-24 672,-24 672,-30 666,-36 660,-36\"/>\r\n",
       "<text text-anchor=\"middle\" x=\"645\" y=\"-14.3\" font-family=\"Helvetica,sans-Serif\" font-size=\"14.00\">(...)</text>\r\n",
       "</g>\r\n",
       "<!-- 723&#45;&gt;724 -->\r\n",
       "<g id=\"edge14\" class=\"edge\"><title>723&#45;&gt;724</title>\r\n",
       "<path fill=\"none\" stroke=\"black\" d=\"M665.315,-71.7615C661.957,-63.0419 658.491,-54.0385 655.393,-45.9921\"/>\r\n",
       "<polygon fill=\"black\" stroke=\"black\" points=\"658.561,-44.4797 651.701,-36.4051 652.028,-46.9949 658.561,-44.4797\"/>\r\n",
       "</g>\r\n",
       "<!-- 779 -->\r\n",
       "<g id=\"node16\" class=\"node\"><title>779</title>\r\n",
       "<path fill=\"#c0c0c0\" stroke=\"black\" d=\"M732,-36C732,-36 702,-36 702,-36 696,-36 690,-30 690,-24 690,-24 690,-12 690,-12 690,-6 696,-0 702,-0 702,-0 732,-0 732,-0 738,-0 744,-6 744,-12 744,-12 744,-24 744,-24 744,-30 738,-36 732,-36\"/>\r\n",
       "<text text-anchor=\"middle\" x=\"717\" y=\"-14.3\" font-family=\"Helvetica,sans-Serif\" font-size=\"14.00\">(...)</text>\r\n",
       "</g>\r\n",
       "<!-- 723&#45;&gt;779 -->\r\n",
       "<g id=\"edge15\" class=\"edge\"><title>723&#45;&gt;779</title>\r\n",
       "<path fill=\"none\" stroke=\"black\" d=\"M696.685,-71.7615C700.043,-63.0419 703.509,-54.0385 706.607,-45.9921\"/>\r\n",
       "<polygon fill=\"black\" stroke=\"black\" points=\"709.972,-46.9949 710.299,-36.4051 703.439,-44.4797 709.972,-46.9949\"/>\r\n",
       "</g>\r\n",
       "<!-- 903 -->\r\n",
       "<g id=\"node18\" class=\"node\"><title>903</title>\r\n",
       "<path fill=\"#c2e1f7\" stroke=\"black\" d=\"M1088.5,-274C1088.5,-274 843.5,-274 843.5,-274 837.5,-274 831.5,-268 831.5,-262 831.5,-262 831.5,-203 831.5,-203 831.5,-197 837.5,-191 843.5,-191 843.5,-191 1088.5,-191 1088.5,-191 1094.5,-191 1100.5,-197 1100.5,-203 1100.5,-203 1100.5,-262 1100.5,-262 1100.5,-268 1094.5,-274 1088.5,-274\"/>\r\n",
       "<text text-anchor=\"middle\" x=\"966\" y=\"-258.8\" font-family=\"Helvetica,sans-Serif\" font-size=\"14.00\">operating_day_of_week_Sunday &lt;= 0.5</text>\r\n",
       "<text text-anchor=\"middle\" x=\"966\" y=\"-243.8\" font-family=\"Helvetica,sans-Serif\" font-size=\"14.00\">gini = 0.484</text>\r\n",
       "<text text-anchor=\"middle\" x=\"966\" y=\"-228.8\" font-family=\"Helvetica,sans-Serif\" font-size=\"14.00\">samples = 10.9%</text>\r\n",
       "<text text-anchor=\"middle\" x=\"966\" y=\"-213.8\" font-family=\"Helvetica,sans-Serif\" font-size=\"14.00\">value = [0.409, 0.591]</text>\r\n",
       "<text text-anchor=\"middle\" x=\"966\" y=\"-198.8\" font-family=\"Helvetica,sans-Serif\" font-size=\"14.00\">class = delay</text>\r\n",
       "</g>\r\n",
       "<!-- 902&#45;&gt;903 -->\r\n",
       "<g id=\"edge17\" class=\"edge\"><title>902&#45;&gt;903</title>\r\n",
       "<path fill=\"none\" stroke=\"black\" d=\"M966,-309.907C966,-301.649 966,-292.864 966,-284.302\"/>\r\n",
       "<polygon fill=\"black\" stroke=\"black\" points=\"969.5,-284.021 966,-274.021 962.5,-284.021 969.5,-284.021\"/>\r\n",
       "</g>\r\n",
       "<!-- 1264 -->\r\n",
       "<g id=\"node25\" class=\"node\"><title>1264</title>\r\n",
       "<path fill=\"#87c3ef\" stroke=\"black\" d=\"M1463.5,-274C1463.5,-274 1314.5,-274 1314.5,-274 1308.5,-274 1302.5,-268 1302.5,-262 1302.5,-262 1302.5,-203 1302.5,-203 1302.5,-197 1308.5,-191 1314.5,-191 1314.5,-191 1463.5,-191 1463.5,-191 1469.5,-191 1475.5,-197 1475.5,-203 1475.5,-203 1475.5,-262 1475.5,-262 1475.5,-268 1469.5,-274 1463.5,-274\"/>\r\n",
       "<text text-anchor=\"middle\" x=\"1389\" y=\"-258.8\" font-family=\"Helvetica,sans-Serif\" font-size=\"14.00\">city_Renens (VD) &lt;= 0.5</text>\r\n",
       "<text text-anchor=\"middle\" x=\"1389\" y=\"-243.8\" font-family=\"Helvetica,sans-Serif\" font-size=\"14.00\">gini = 0.405</text>\r\n",
       "<text text-anchor=\"middle\" x=\"1389\" y=\"-228.8\" font-family=\"Helvetica,sans-Serif\" font-size=\"14.00\">samples = 28.3%</text>\r\n",
       "<text text-anchor=\"middle\" x=\"1389\" y=\"-213.8\" font-family=\"Helvetica,sans-Serif\" font-size=\"14.00\">value = [0.282, 0.718]</text>\r\n",
       "<text text-anchor=\"middle\" x=\"1389\" y=\"-198.8\" font-family=\"Helvetica,sans-Serif\" font-size=\"14.00\">class = delay</text>\r\n",
       "</g>\r\n",
       "<!-- 902&#45;&gt;1264 -->\r\n",
       "<g id=\"edge24\" class=\"edge\"><title>902&#45;&gt;1264</title>\r\n",
       "<path fill=\"none\" stroke=\"black\" d=\"M1043.09,-329.176C1113.11,-309.811 1216.67,-281.165 1292.23,-260.267\"/>\r\n",
       "<polygon fill=\"black\" stroke=\"black\" points=\"1293.53,-263.539 1302.23,-257.5 1291.66,-256.793 1293.53,-263.539\"/>\r\n",
       "</g>\r\n",
       "<!-- 904 -->\r\n",
       "<g id=\"node19\" class=\"node\"><title>904</title>\r\n",
       "<path fill=\"#b6dbf5\" stroke=\"black\" d=\"M970,-155C970,-155 840,-155 840,-155 834,-155 828,-149 828,-143 828,-143 828,-84 828,-84 828,-78 834,-72 840,-72 840,-72 970,-72 970,-72 976,-72 982,-78 982,-84 982,-84 982,-143 982,-143 982,-149 976,-155 970,-155\"/>\r\n",
       "<text text-anchor=\"middle\" x=\"905\" y=\"-139.8\" font-family=\"Helvetica,sans-Serif\" font-size=\"14.00\">latitude_ch &lt;= 1.097</text>\r\n",
       "<text text-anchor=\"middle\" x=\"905\" y=\"-124.8\" font-family=\"Helvetica,sans-Serif\" font-size=\"14.00\">gini = 0.474</text>\r\n",
       "<text text-anchor=\"middle\" x=\"905\" y=\"-109.8\" font-family=\"Helvetica,sans-Serif\" font-size=\"14.00\">samples = 9.4%</text>\r\n",
       "<text text-anchor=\"middle\" x=\"905\" y=\"-94.8\" font-family=\"Helvetica,sans-Serif\" font-size=\"14.00\">value = [0.387, 0.613]</text>\r\n",
       "<text text-anchor=\"middle\" x=\"905\" y=\"-79.8\" font-family=\"Helvetica,sans-Serif\" font-size=\"14.00\">class = delay</text>\r\n",
       "</g>\r\n",
       "<!-- 903&#45;&gt;904 -->\r\n",
       "<g id=\"edge18\" class=\"edge\"><title>903&#45;&gt;904</title>\r\n",
       "<path fill=\"none\" stroke=\"black\" d=\"M944.836,-190.907C940.294,-182.195 935.446,-172.897 930.752,-163.893\"/>\r\n",
       "<polygon fill=\"black\" stroke=\"black\" points=\"933.853,-162.27 926.126,-155.021 927.646,-165.506 933.853,-162.27\"/>\r\n",
       "</g>\r\n",
       "<!-- 1161 -->\r\n",
       "<g id=\"node22\" class=\"node\"><title>1161</title>\r\n",
       "<path fill=\"#f7d8c2\" stroke=\"black\" d=\"M1230,-155C1230,-155 1012,-155 1012,-155 1006,-155 1000,-149 1000,-143 1000,-143 1000,-84 1000,-84 1000,-78 1006,-72 1012,-72 1012,-72 1230,-72 1230,-72 1236,-72 1242,-78 1242,-84 1242,-84 1242,-143 1242,-143 1242,-149 1236,-155 1230,-155\"/>\r\n",
       "<text text-anchor=\"middle\" x=\"1121\" y=\"-139.8\" font-family=\"Helvetica,sans-Serif\" font-size=\"14.00\">arrival_time_of_day_evening &lt;= 0.5</text>\r\n",
       "<text text-anchor=\"middle\" x=\"1121\" y=\"-124.8\" font-family=\"Helvetica,sans-Serif\" font-size=\"14.00\">gini = 0.483</text>\r\n",
       "<text text-anchor=\"middle\" x=\"1121\" y=\"-109.8\" font-family=\"Helvetica,sans-Serif\" font-size=\"14.00\">samples = 1.4%</text>\r\n",
       "<text text-anchor=\"middle\" x=\"1121\" y=\"-94.8\" font-family=\"Helvetica,sans-Serif\" font-size=\"14.00\">value = [0.591, 0.409]</text>\r\n",
       "<text text-anchor=\"middle\" x=\"1121\" y=\"-79.8\" font-family=\"Helvetica,sans-Serif\" font-size=\"14.00\">class = no_delay</text>\r\n",
       "</g>\r\n",
       "<!-- 903&#45;&gt;1161 -->\r\n",
       "<g id=\"edge21\" class=\"edge\"><title>903&#45;&gt;1161</title>\r\n",
       "<path fill=\"none\" stroke=\"black\" d=\"M1019.78,-190.907C1032.52,-181.288 1046.21,-170.953 1059.28,-161.09\"/>\r\n",
       "<polygon fill=\"black\" stroke=\"black\" points=\"1061.45,-163.839 1067.32,-155.021 1057.23,-158.252 1061.45,-163.839\"/>\r\n",
       "</g>\r\n",
       "<!-- 905 -->\r\n",
       "<g id=\"node20\" class=\"node\"><title>905</title>\r\n",
       "<path fill=\"#c0c0c0\" stroke=\"black\" d=\"M884,-36C884,-36 854,-36 854,-36 848,-36 842,-30 842,-24 842,-24 842,-12 842,-12 842,-6 848,-0 854,-0 854,-0 884,-0 884,-0 890,-0 896,-6 896,-12 896,-12 896,-24 896,-24 896,-30 890,-36 884,-36\"/>\r\n",
       "<text text-anchor=\"middle\" x=\"869\" y=\"-14.3\" font-family=\"Helvetica,sans-Serif\" font-size=\"14.00\">(...)</text>\r\n",
       "</g>\r\n",
       "<!-- 904&#45;&gt;905 -->\r\n",
       "<g id=\"edge19\" class=\"edge\"><title>904&#45;&gt;905</title>\r\n",
       "<path fill=\"none\" stroke=\"black\" d=\"M889.315,-71.7615C885.957,-63.0419 882.491,-54.0385 879.393,-45.9921\"/>\r\n",
       "<polygon fill=\"black\" stroke=\"black\" points=\"882.561,-44.4797 875.701,-36.4051 876.028,-46.9949 882.561,-44.4797\"/>\r\n",
       "</g>\r\n",
       "<!-- 1076 -->\r\n",
       "<g id=\"node21\" class=\"node\"><title>1076</title>\r\n",
       "<path fill=\"#c0c0c0\" stroke=\"black\" d=\"M956,-36C956,-36 926,-36 926,-36 920,-36 914,-30 914,-24 914,-24 914,-12 914,-12 914,-6 920,-0 926,-0 926,-0 956,-0 956,-0 962,-0 968,-6 968,-12 968,-12 968,-24 968,-24 968,-30 962,-36 956,-36\"/>\r\n",
       "<text text-anchor=\"middle\" x=\"941\" y=\"-14.3\" font-family=\"Helvetica,sans-Serif\" font-size=\"14.00\">(...)</text>\r\n",
       "</g>\r\n",
       "<!-- 904&#45;&gt;1076 -->\r\n",
       "<g id=\"edge20\" class=\"edge\"><title>904&#45;&gt;1076</title>\r\n",
       "<path fill=\"none\" stroke=\"black\" d=\"M920.685,-71.7615C924.043,-63.0419 927.509,-54.0385 930.607,-45.9921\"/>\r\n",
       "<polygon fill=\"black\" stroke=\"black\" points=\"933.972,-46.9949 934.299,-36.4051 927.439,-44.4797 933.972,-46.9949\"/>\r\n",
       "</g>\r\n",
       "<!-- 1162 -->\r\n",
       "<g id=\"node23\" class=\"node\"><title>1162</title>\r\n",
       "<path fill=\"#c0c0c0\" stroke=\"black\" d=\"M1100,-36C1100,-36 1070,-36 1070,-36 1064,-36 1058,-30 1058,-24 1058,-24 1058,-12 1058,-12 1058,-6 1064,-0 1070,-0 1070,-0 1100,-0 1100,-0 1106,-0 1112,-6 1112,-12 1112,-12 1112,-24 1112,-24 1112,-30 1106,-36 1100,-36\"/>\r\n",
       "<text text-anchor=\"middle\" x=\"1085\" y=\"-14.3\" font-family=\"Helvetica,sans-Serif\" font-size=\"14.00\">(...)</text>\r\n",
       "</g>\r\n",
       "<!-- 1161&#45;&gt;1162 -->\r\n",
       "<g id=\"edge22\" class=\"edge\"><title>1161&#45;&gt;1162</title>\r\n",
       "<path fill=\"none\" stroke=\"black\" d=\"M1105.31,-71.7615C1101.96,-63.0419 1098.49,-54.0385 1095.39,-45.9921\"/>\r\n",
       "<polygon fill=\"black\" stroke=\"black\" points=\"1098.56,-44.4797 1091.7,-36.4051 1092.03,-46.9949 1098.56,-44.4797\"/>\r\n",
       "</g>\r\n",
       "<!-- 1237 -->\r\n",
       "<g id=\"node24\" class=\"node\"><title>1237</title>\r\n",
       "<path fill=\"#c0c0c0\" stroke=\"black\" d=\"M1172,-36C1172,-36 1142,-36 1142,-36 1136,-36 1130,-30 1130,-24 1130,-24 1130,-12 1130,-12 1130,-6 1136,-0 1142,-0 1142,-0 1172,-0 1172,-0 1178,-0 1184,-6 1184,-12 1184,-12 1184,-24 1184,-24 1184,-30 1178,-36 1172,-36\"/>\r\n",
       "<text text-anchor=\"middle\" x=\"1157\" y=\"-14.3\" font-family=\"Helvetica,sans-Serif\" font-size=\"14.00\">(...)</text>\r\n",
       "</g>\r\n",
       "<!-- 1161&#45;&gt;1237 -->\r\n",
       "<g id=\"edge23\" class=\"edge\"><title>1161&#45;&gt;1237</title>\r\n",
       "<path fill=\"none\" stroke=\"black\" d=\"M1136.69,-71.7615C1140.04,-63.0419 1143.51,-54.0385 1146.61,-45.9921\"/>\r\n",
       "<polygon fill=\"black\" stroke=\"black\" points=\"1149.97,-46.9949 1150.3,-36.4051 1143.44,-44.4797 1149.97,-46.9949\"/>\r\n",
       "</g>\r\n",
       "<!-- 1265 -->\r\n",
       "<g id=\"node26\" class=\"node\"><title>1265</title>\r\n",
       "<path fill=\"#83c2ef\" stroke=\"black\" d=\"M1506,-155C1506,-155 1272,-155 1272,-155 1266,-155 1260,-149 1260,-143 1260,-143 1260,-84 1260,-84 1260,-78 1266,-72 1272,-72 1272,-72 1506,-72 1506,-72 1512,-72 1518,-78 1518,-84 1518,-84 1518,-143 1518,-143 1518,-149 1512,-155 1506,-155\"/>\r\n",
       "<text text-anchor=\"middle\" x=\"1389\" y=\"-139.8\" font-family=\"Helvetica,sans-Serif\" font-size=\"14.00\">start_middle_end_middle_stop &lt;= 0.5</text>\r\n",
       "<text text-anchor=\"middle\" x=\"1389\" y=\"-124.8\" font-family=\"Helvetica,sans-Serif\" font-size=\"14.00\">gini = 0.397</text>\r\n",
       "<text text-anchor=\"middle\" x=\"1389\" y=\"-109.8\" font-family=\"Helvetica,sans-Serif\" font-size=\"14.00\">samples = 27.0%</text>\r\n",
       "<text text-anchor=\"middle\" x=\"1389\" y=\"-94.8\" font-family=\"Helvetica,sans-Serif\" font-size=\"14.00\">value = [0.273, 0.727]</text>\r\n",
       "<text text-anchor=\"middle\" x=\"1389\" y=\"-79.8\" font-family=\"Helvetica,sans-Serif\" font-size=\"14.00\">class = delay</text>\r\n",
       "</g>\r\n",
       "<!-- 1264&#45;&gt;1265 -->\r\n",
       "<g id=\"edge25\" class=\"edge\"><title>1264&#45;&gt;1265</title>\r\n",
       "<path fill=\"none\" stroke=\"black\" d=\"M1389,-190.907C1389,-182.649 1389,-173.864 1389,-165.302\"/>\r\n",
       "<polygon fill=\"black\" stroke=\"black\" points=\"1392.5,-165.021 1389,-155.021 1385.5,-165.021 1392.5,-165.021\"/>\r\n",
       "</g>\r\n",
       "<!-- 1532 -->\r\n",
       "<g id=\"node29\" class=\"node\"><title>1532</title>\r\n",
       "<path fill=\"#fbeee4\" stroke=\"black\" d=\"M1678,-155C1678,-155 1548,-155 1548,-155 1542,-155 1536,-149 1536,-143 1536,-143 1536,-84 1536,-84 1536,-78 1542,-72 1548,-72 1548,-72 1678,-72 1678,-72 1684,-72 1690,-78 1690,-84 1690,-84 1690,-143 1690,-143 1690,-149 1684,-155 1678,-155\"/>\r\n",
       "<text text-anchor=\"middle\" x=\"1613\" y=\"-139.8\" font-family=\"Helvetica,sans-Serif\" font-size=\"14.00\">line_name_S &lt;= 0.5</text>\r\n",
       "<text text-anchor=\"middle\" x=\"1613\" y=\"-124.8\" font-family=\"Helvetica,sans-Serif\" font-size=\"14.00\">gini = 0.497</text>\r\n",
       "<text text-anchor=\"middle\" x=\"1613\" y=\"-109.8\" font-family=\"Helvetica,sans-Serif\" font-size=\"14.00\">samples = 1.3%</text>\r\n",
       "<text text-anchor=\"middle\" x=\"1613\" y=\"-94.8\" font-family=\"Helvetica,sans-Serif\" font-size=\"14.00\">value = [0.536, 0.464]</text>\r\n",
       "<text text-anchor=\"middle\" x=\"1613\" y=\"-79.8\" font-family=\"Helvetica,sans-Serif\" font-size=\"14.00\">class = no_delay</text>\r\n",
       "</g>\r\n",
       "<!-- 1264&#45;&gt;1532 -->\r\n",
       "<g id=\"edge28\" class=\"edge\"><title>1264&#45;&gt;1532</title>\r\n",
       "<path fill=\"none\" stroke=\"black\" d=\"M1466.72,-190.907C1486.11,-180.777 1507.02,-169.853 1526.8,-159.523\"/>\r\n",
       "<polygon fill=\"black\" stroke=\"black\" points=\"1528.56,-162.555 1535.8,-154.823 1525.32,-156.35 1528.56,-162.555\"/>\r\n",
       "</g>\r\n",
       "<!-- 1266 -->\r\n",
       "<g id=\"node27\" class=\"node\"><title>1266</title>\r\n",
       "<path fill=\"#c0c0c0\" stroke=\"black\" d=\"M1368,-36C1368,-36 1338,-36 1338,-36 1332,-36 1326,-30 1326,-24 1326,-24 1326,-12 1326,-12 1326,-6 1332,-0 1338,-0 1338,-0 1368,-0 1368,-0 1374,-0 1380,-6 1380,-12 1380,-12 1380,-24 1380,-24 1380,-30 1374,-36 1368,-36\"/>\r\n",
       "<text text-anchor=\"middle\" x=\"1353\" y=\"-14.3\" font-family=\"Helvetica,sans-Serif\" font-size=\"14.00\">(...)</text>\r\n",
       "</g>\r\n",
       "<!-- 1265&#45;&gt;1266 -->\r\n",
       "<g id=\"edge26\" class=\"edge\"><title>1265&#45;&gt;1266</title>\r\n",
       "<path fill=\"none\" stroke=\"black\" d=\"M1373.31,-71.7615C1369.96,-63.0419 1366.49,-54.0385 1363.39,-45.9921\"/>\r\n",
       "<polygon fill=\"black\" stroke=\"black\" points=\"1366.56,-44.4797 1359.7,-36.4051 1360.03,-46.9949 1366.56,-44.4797\"/>\r\n",
       "</g>\r\n",
       "<!-- 1401 -->\r\n",
       "<g id=\"node28\" class=\"node\"><title>1401</title>\r\n",
       "<path fill=\"#c0c0c0\" stroke=\"black\" d=\"M1440,-36C1440,-36 1410,-36 1410,-36 1404,-36 1398,-30 1398,-24 1398,-24 1398,-12 1398,-12 1398,-6 1404,-0 1410,-0 1410,-0 1440,-0 1440,-0 1446,-0 1452,-6 1452,-12 1452,-12 1452,-24 1452,-24 1452,-30 1446,-36 1440,-36\"/>\r\n",
       "<text text-anchor=\"middle\" x=\"1425\" y=\"-14.3\" font-family=\"Helvetica,sans-Serif\" font-size=\"14.00\">(...)</text>\r\n",
       "</g>\r\n",
       "<!-- 1265&#45;&gt;1401 -->\r\n",
       "<g id=\"edge27\" class=\"edge\"><title>1265&#45;&gt;1401</title>\r\n",
       "<path fill=\"none\" stroke=\"black\" d=\"M1404.69,-71.7615C1408.04,-63.0419 1411.51,-54.0385 1414.61,-45.9921\"/>\r\n",
       "<polygon fill=\"black\" stroke=\"black\" points=\"1417.97,-46.9949 1418.3,-36.4051 1411.44,-44.4797 1417.97,-46.9949\"/>\r\n",
       "</g>\r\n",
       "<!-- 1533 -->\r\n",
       "<g id=\"node30\" class=\"node\"><title>1533</title>\r\n",
       "<path fill=\"#c0c0c0\" stroke=\"black\" d=\"M1592,-36C1592,-36 1562,-36 1562,-36 1556,-36 1550,-30 1550,-24 1550,-24 1550,-12 1550,-12 1550,-6 1556,-0 1562,-0 1562,-0 1592,-0 1592,-0 1598,-0 1604,-6 1604,-12 1604,-12 1604,-24 1604,-24 1604,-30 1598,-36 1592,-36\"/>\r\n",
       "<text text-anchor=\"middle\" x=\"1577\" y=\"-14.3\" font-family=\"Helvetica,sans-Serif\" font-size=\"14.00\">(...)</text>\r\n",
       "</g>\r\n",
       "<!-- 1532&#45;&gt;1533 -->\r\n",
       "<g id=\"edge29\" class=\"edge\"><title>1532&#45;&gt;1533</title>\r\n",
       "<path fill=\"none\" stroke=\"black\" d=\"M1597.31,-71.7615C1593.96,-63.0419 1590.49,-54.0385 1587.39,-45.9921\"/>\r\n",
       "<polygon fill=\"black\" stroke=\"black\" points=\"1590.56,-44.4797 1583.7,-36.4051 1584.03,-46.9949 1590.56,-44.4797\"/>\r\n",
       "</g>\r\n",
       "<!-- 1652 -->\r\n",
       "<g id=\"node31\" class=\"node\"><title>1652</title>\r\n",
       "<path fill=\"#c0c0c0\" stroke=\"black\" d=\"M1664,-36C1664,-36 1634,-36 1634,-36 1628,-36 1622,-30 1622,-24 1622,-24 1622,-12 1622,-12 1622,-6 1628,-0 1634,-0 1634,-0 1664,-0 1664,-0 1670,-0 1676,-6 1676,-12 1676,-12 1676,-24 1676,-24 1676,-30 1670,-36 1664,-36\"/>\r\n",
       "<text text-anchor=\"middle\" x=\"1649\" y=\"-14.3\" font-family=\"Helvetica,sans-Serif\" font-size=\"14.00\">(...)</text>\r\n",
       "</g>\r\n",
       "<!-- 1532&#45;&gt;1652 -->\r\n",
       "<g id=\"edge30\" class=\"edge\"><title>1532&#45;&gt;1652</title>\r\n",
       "<path fill=\"none\" stroke=\"black\" d=\"M1628.69,-71.7615C1632.04,-63.0419 1635.51,-54.0385 1638.61,-45.9921\"/>\r\n",
       "<polygon fill=\"black\" stroke=\"black\" points=\"1641.97,-46.9949 1642.3,-36.4051 1635.44,-44.4797 1641.97,-46.9949\"/>\r\n",
       "</g>\r\n",
       "</g>\r\n",
       "</svg>\r\n"
      ],
      "text/plain": [
       "<graphviz.files.Source at 0x1f38f984ef0>"
      ]
     },
     "execution_count": 81,
     "metadata": {},
     "output_type": "execute_result"
    }
   ],
   "source": [
    "from sklearn.tree import export_graphviz\n",
    "import graphviz\n",
    "\n",
    "# Export decision tree\n",
    "dot_data = export_graphviz(\n",
    "    dt_final_d, out_file=None,\n",
    "    max_depth=3,\n",
    "    feature_names=df_tr_arr_input_columns, \n",
    "    class_names=['no_delay','delay'],\n",
    "    filled=True, rounded=True, proportion=True)\n",
    "\n",
    "# Display decision tree\n",
    "graphviz.Source(dot_data)"
   ]
  },
  {
   "cell_type": "markdown",
   "metadata": {},
   "source": [
    "#### Important delay (DecisionTree) <a name='dt_imp_delay' /> <a name='dt_imp_delay_grid' />\n",
    "*<a href=#top>Back to top</a>*"
   ]
  },
  {
   "cell_type": "code",
   "execution_count": 82,
   "metadata": {},
   "outputs": [
    {
     "data": {
      "text/plain": [
       "GridSearchCV(cv=5,\n",
       "             estimator=DecisionTreeClassifier(max_depth=3, random_state=0),\n",
       "             n_jobs=-1,\n",
       "             param_grid={'class_weight': [None, {0: 1, 1: 10}, 'balanced',\n",
       "                                          {0: 1, 1: 500}],\n",
       "                         'max_depth': [3, 5, 7, 9, 11]},\n",
       "             refit=False, return_train_score=True,\n",
       "             scoring=['precision', 'recall', 'average_precision', 'f1'])"
      ]
     },
     "execution_count": 82,
     "metadata": {},
     "output_type": "execute_result"
    }
   ],
   "source": [
    "# without class_weight\n",
    "from sklearn.tree import DecisionTreeClassifier\n",
    "#from sklearn.model_selection import RepeatedStratifiedKFold\n",
    "\n",
    "# Create decision tree\n",
    "dt_i = DecisionTreeClassifier(criterion='gini', max_depth=3, random_state=0)\n",
    "\n",
    "balance = [None, {0:1,1:10}, 'balanced', {0:1,1:500}]\n",
    "trees = [3,5,7,9,11]\n",
    "param_grid = dict(class_weight=balance, max_depth=trees)\n",
    "#cv = RepeatedStratifiedKFold(n_splits=5, n_repeats=3, random_state=1)\n",
    "scoring = ['precision','recall','average_precision','f1']\n",
    "# define grid search\n",
    "grid_dt_i = GridSearchCV(estimator=dt_i, param_grid=param_grid, n_jobs=-1, cv=5, scoring=scoring, refit=False, return_train_score=True)\n",
    "# fit\n",
    "grid_dt_i.fit(X_tr_arr, y_tr_arr_imp_delay_binary)"
   ]
  },
  {
   "cell_type": "code",
   "execution_count": 83,
   "metadata": {},
   "outputs": [
    {
     "data": {
      "text/plain": [
       "dict_keys(['mean_fit_time', 'std_fit_time', 'mean_score_time', 'std_score_time', 'param_class_weight', 'param_max_depth', 'params', 'split0_test_precision', 'split1_test_precision', 'split2_test_precision', 'split3_test_precision', 'split4_test_precision', 'mean_test_precision', 'std_test_precision', 'rank_test_precision', 'split0_train_precision', 'split1_train_precision', 'split2_train_precision', 'split3_train_precision', 'split4_train_precision', 'mean_train_precision', 'std_train_precision', 'split0_test_recall', 'split1_test_recall', 'split2_test_recall', 'split3_test_recall', 'split4_test_recall', 'mean_test_recall', 'std_test_recall', 'rank_test_recall', 'split0_train_recall', 'split1_train_recall', 'split2_train_recall', 'split3_train_recall', 'split4_train_recall', 'mean_train_recall', 'std_train_recall', 'split0_test_average_precision', 'split1_test_average_precision', 'split2_test_average_precision', 'split3_test_average_precision', 'split4_test_average_precision', 'mean_test_average_precision', 'std_test_average_precision', 'rank_test_average_precision', 'split0_train_average_precision', 'split1_train_average_precision', 'split2_train_average_precision', 'split3_train_average_precision', 'split4_train_average_precision', 'mean_train_average_precision', 'std_train_average_precision', 'split0_test_f1', 'split1_test_f1', 'split2_test_f1', 'split3_test_f1', 'split4_test_f1', 'mean_test_f1', 'std_test_f1', 'rank_test_f1', 'split0_train_f1', 'split1_train_f1', 'split2_train_f1', 'split3_train_f1', 'split4_train_f1', 'mean_train_f1', 'std_train_f1'])"
      ]
     },
     "execution_count": 83,
     "metadata": {},
     "output_type": "execute_result"
    }
   ],
   "source": [
    "# Get the results with \"cv_results\"\n",
    "grid_dt_i.cv_results_.keys()"
   ]
  },
  {
   "cell_type": "code",
   "execution_count": 84,
   "metadata": {},
   "outputs": [
    {
     "data": {
      "text/plain": [
       "array([0.07108861, 0.10626231, 0.10555651, 0.10952679, 0.12957206,\n",
       "       0.17949642, 0.22992921, 0.19915481, 0.23232697, 0.2256163 ,\n",
       "       0.15426296, 0.17591529, 0.1762475 , 0.18412881, 0.19536847,\n",
       "       0.1466481 , 0.15357783, 0.15700178, 0.15750067, 0.15993078])"
      ]
     },
     "execution_count": 84,
     "metadata": {},
     "output_type": "execute_result"
    }
   ],
   "source": [
    "grid_dt_i.cv_results_['mean_test_f1']"
   ]
  },
  {
   "cell_type": "code",
   "execution_count": 85,
   "metadata": {},
   "outputs": [
    {
     "data": {
      "text/html": [
       "<div>\n",
       "<style scoped>\n",
       "    .dataframe tbody tr th:only-of-type {\n",
       "        vertical-align: middle;\n",
       "    }\n",
       "\n",
       "    .dataframe tbody tr th {\n",
       "        vertical-align: top;\n",
       "    }\n",
       "\n",
       "    .dataframe thead th {\n",
       "        text-align: right;\n",
       "    }\n",
       "</style>\n",
       "<table border=\"1\" class=\"dataframe\">\n",
       "  <thead>\n",
       "    <tr style=\"text-align: right;\">\n",
       "      <th></th>\n",
       "      <th>mean_test_average_precision</th>\n",
       "      <th>mean_train_average_precision</th>\n",
       "      <th>std_test_average_precision</th>\n",
       "      <th>mean_test_f1</th>\n",
       "      <th>mean_train_f1</th>\n",
       "      <th>mean_test_recall</th>\n",
       "      <th>mean_train_recall</th>\n",
       "      <th>mean_test_precision</th>\n",
       "      <th>mean_train_precision</th>\n",
       "      <th>param_max_depth</th>\n",
       "      <th>param_class_weight</th>\n",
       "      <th>mean_fit_time</th>\n",
       "      <th>mean_score_time</th>\n",
       "    </tr>\n",
       "  </thead>\n",
       "  <tbody>\n",
       "    <tr>\n",
       "      <th>4</th>\n",
       "      <td>0.199899</td>\n",
       "      <td>0.383682</td>\n",
       "      <td>0.072548</td>\n",
       "      <td>0.129572</td>\n",
       "      <td>0.228174</td>\n",
       "      <td>0.079701</td>\n",
       "      <td>0.135307</td>\n",
       "      <td>0.405887</td>\n",
       "      <td>0.765003</td>\n",
       "      <td>11</td>\n",
       "      <td>None</td>\n",
       "      <td>28.074581</td>\n",
       "      <td>0.503927</td>\n",
       "    </tr>\n",
       "    <tr>\n",
       "      <th>13</th>\n",
       "      <td>0.193977</td>\n",
       "      <td>0.307361</td>\n",
       "      <td>0.069905</td>\n",
       "      <td>0.184129</td>\n",
       "      <td>0.231847</td>\n",
       "      <td>0.795130</td>\n",
       "      <td>0.921369</td>\n",
       "      <td>0.104343</td>\n",
       "      <td>0.132617</td>\n",
       "      <td>9</td>\n",
       "      <td>balanced</td>\n",
       "      <td>22.258346</td>\n",
       "      <td>0.489962</td>\n",
       "    </tr>\n",
       "    <tr>\n",
       "      <th>3</th>\n",
       "      <td>0.193955</td>\n",
       "      <td>0.335905</td>\n",
       "      <td>0.076232</td>\n",
       "      <td>0.109527</td>\n",
       "      <td>0.196422</td>\n",
       "      <td>0.063741</td>\n",
       "      <td>0.114334</td>\n",
       "      <td>0.439056</td>\n",
       "      <td>0.805041</td>\n",
       "      <td>9</td>\n",
       "      <td>None</td>\n",
       "      <td>26.597215</td>\n",
       "      <td>0.545439</td>\n",
       "    </tr>\n",
       "    <tr>\n",
       "      <th>8</th>\n",
       "      <td>0.193319</td>\n",
       "      <td>0.324783</td>\n",
       "      <td>0.064883</td>\n",
       "      <td>0.232327</td>\n",
       "      <td>0.313080</td>\n",
       "      <td>0.519573</td>\n",
       "      <td>0.680729</td>\n",
       "      <td>0.151243</td>\n",
       "      <td>0.203549</td>\n",
       "      <td>9</td>\n",
       "      <td>{0: 1, 1: 10}</td>\n",
       "      <td>22.807055</td>\n",
       "      <td>0.474027</td>\n",
       "    </tr>\n",
       "    <tr>\n",
       "      <th>12</th>\n",
       "      <td>0.188240</td>\n",
       "      <td>0.261417</td>\n",
       "      <td>0.079509</td>\n",
       "      <td>0.176248</td>\n",
       "      <td>0.212782</td>\n",
       "      <td>0.854512</td>\n",
       "      <td>0.917401</td>\n",
       "      <td>0.098375</td>\n",
       "      <td>0.120538</td>\n",
       "      <td>7</td>\n",
       "      <td>balanced</td>\n",
       "      <td>20.910563</td>\n",
       "      <td>0.527060</td>\n",
       "    </tr>\n",
       "    <tr>\n",
       "      <th>14</th>\n",
       "      <td>0.186410</td>\n",
       "      <td>0.345853</td>\n",
       "      <td>0.068069</td>\n",
       "      <td>0.195368</td>\n",
       "      <td>0.262491</td>\n",
       "      <td>0.680495</td>\n",
       "      <td>0.903740</td>\n",
       "      <td>0.114300</td>\n",
       "      <td>0.153689</td>\n",
       "      <td>11</td>\n",
       "      <td>balanced</td>\n",
       "      <td>22.707811</td>\n",
       "      <td>0.509347</td>\n",
       "    </tr>\n",
       "    <tr>\n",
       "      <th>7</th>\n",
       "      <td>0.185805</td>\n",
       "      <td>0.271268</td>\n",
       "      <td>0.075777</td>\n",
       "      <td>0.199155</td>\n",
       "      <td>0.282361</td>\n",
       "      <td>0.523760</td>\n",
       "      <td>0.685993</td>\n",
       "      <td>0.126517</td>\n",
       "      <td>0.181377</td>\n",
       "      <td>7</td>\n",
       "      <td>{0: 1, 1: 10}</td>\n",
       "      <td>22.893670</td>\n",
       "      <td>0.480742</td>\n",
       "    </tr>\n",
       "    <tr>\n",
       "      <th>9</th>\n",
       "      <td>0.185518</td>\n",
       "      <td>0.366257</td>\n",
       "      <td>0.066810</td>\n",
       "      <td>0.225616</td>\n",
       "      <td>0.328961</td>\n",
       "      <td>0.522429</td>\n",
       "      <td>0.730832</td>\n",
       "      <td>0.145435</td>\n",
       "      <td>0.213339</td>\n",
       "      <td>11</td>\n",
       "      <td>{0: 1, 1: 10}</td>\n",
       "      <td>23.061724</td>\n",
       "      <td>0.475922</td>\n",
       "    </tr>\n",
       "    <tr>\n",
       "      <th>2</th>\n",
       "      <td>0.183939</td>\n",
       "      <td>0.279622</td>\n",
       "      <td>0.076683</td>\n",
       "      <td>0.105557</td>\n",
       "      <td>0.169163</td>\n",
       "      <td>0.059909</td>\n",
       "      <td>0.096527</td>\n",
       "      <td>0.530213</td>\n",
       "      <td>0.811791</td>\n",
       "      <td>7</td>\n",
       "      <td>None</td>\n",
       "      <td>24.938460</td>\n",
       "      <td>0.526406</td>\n",
       "    </tr>\n",
       "    <tr>\n",
       "      <th>1</th>\n",
       "      <td>0.182806</td>\n",
       "      <td>0.223289</td>\n",
       "      <td>0.078234</td>\n",
       "      <td>0.106262</td>\n",
       "      <td>0.131155</td>\n",
       "      <td>0.059106</td>\n",
       "      <td>0.071543</td>\n",
       "      <td>0.637769</td>\n",
       "      <td>0.820056</td>\n",
       "      <td>5</td>\n",
       "      <td>None</td>\n",
       "      <td>22.169120</td>\n",
       "      <td>0.501666</td>\n",
       "    </tr>\n",
       "    <tr>\n",
       "      <th>6</th>\n",
       "      <td>0.181778</td>\n",
       "      <td>0.215379</td>\n",
       "      <td>0.080279</td>\n",
       "      <td>0.229929</td>\n",
       "      <td>0.261807</td>\n",
       "      <td>0.482135</td>\n",
       "      <td>0.524070</td>\n",
       "      <td>0.156379</td>\n",
       "      <td>0.176308</td>\n",
       "      <td>5</td>\n",
       "      <td>{0: 1, 1: 10}</td>\n",
       "      <td>18.968045</td>\n",
       "      <td>0.516067</td>\n",
       "    </tr>\n",
       "    <tr>\n",
       "      <th>11</th>\n",
       "      <td>0.161944</td>\n",
       "      <td>0.203734</td>\n",
       "      <td>0.052978</td>\n",
       "      <td>0.175915</td>\n",
       "      <td>0.185457</td>\n",
       "      <td>0.912377</td>\n",
       "      <td>0.945060</td>\n",
       "      <td>0.097514</td>\n",
       "      <td>0.102885</td>\n",
       "      <td>5</td>\n",
       "      <td>balanced</td>\n",
       "      <td>18.299803</td>\n",
       "      <td>0.522205</td>\n",
       "    </tr>\n",
       "    <tr>\n",
       "      <th>5</th>\n",
       "      <td>0.140049</td>\n",
       "      <td>0.170666</td>\n",
       "      <td>0.046745</td>\n",
       "      <td>0.179496</td>\n",
       "      <td>0.236903</td>\n",
       "      <td>0.364522</td>\n",
       "      <td>0.447965</td>\n",
       "      <td>0.132663</td>\n",
       "      <td>0.176108</td>\n",
       "      <td>3</td>\n",
       "      <td>{0: 1, 1: 10}</td>\n",
       "      <td>15.153674</td>\n",
       "      <td>0.498516</td>\n",
       "    </tr>\n",
       "    <tr>\n",
       "      <th>0</th>\n",
       "      <td>0.137216</td>\n",
       "      <td>0.158312</td>\n",
       "      <td>0.057620</td>\n",
       "      <td>0.071089</td>\n",
       "      <td>0.089748</td>\n",
       "      <td>0.038957</td>\n",
       "      <td>0.047116</td>\n",
       "      <td>0.748160</td>\n",
       "      <td>0.988682</td>\n",
       "      <td>3</td>\n",
       "      <td>None</td>\n",
       "      <td>19.519696</td>\n",
       "      <td>0.498948</td>\n",
       "    </tr>\n",
       "    <tr>\n",
       "      <th>19</th>\n",
       "      <td>0.133905</td>\n",
       "      <td>0.152164</td>\n",
       "      <td>0.024726</td>\n",
       "      <td>0.159931</td>\n",
       "      <td>0.164086</td>\n",
       "      <td>0.968173</td>\n",
       "      <td>1.000000</td>\n",
       "      <td>0.087192</td>\n",
       "      <td>0.089378</td>\n",
       "      <td>11</td>\n",
       "      <td>{0: 1, 1: 500}</td>\n",
       "      <td>24.700949</td>\n",
       "      <td>0.290865</td>\n",
       "    </tr>\n",
       "    <tr>\n",
       "      <th>10</th>\n",
       "      <td>0.127697</td>\n",
       "      <td>0.165079</td>\n",
       "      <td>0.035642</td>\n",
       "      <td>0.154263</td>\n",
       "      <td>0.167881</td>\n",
       "      <td>0.946966</td>\n",
       "      <td>0.970357</td>\n",
       "      <td>0.083990</td>\n",
       "      <td>0.091905</td>\n",
       "      <td>3</td>\n",
       "      <td>balanced</td>\n",
       "      <td>14.758364</td>\n",
       "      <td>0.473955</td>\n",
       "    </tr>\n",
       "    <tr>\n",
       "      <th>18</th>\n",
       "      <td>0.121931</td>\n",
       "      <td>0.139999</td>\n",
       "      <td>0.010470</td>\n",
       "      <td>0.157501</td>\n",
       "      <td>0.160087</td>\n",
       "      <td>0.975483</td>\n",
       "      <td>0.999978</td>\n",
       "      <td>0.085692</td>\n",
       "      <td>0.087009</td>\n",
       "      <td>9</td>\n",
       "      <td>{0: 1, 1: 500}</td>\n",
       "      <td>27.554982</td>\n",
       "      <td>0.530872</td>\n",
       "    </tr>\n",
       "    <tr>\n",
       "      <th>17</th>\n",
       "      <td>0.099246</td>\n",
       "      <td>0.124388</td>\n",
       "      <td>0.014534</td>\n",
       "      <td>0.157002</td>\n",
       "      <td>0.156409</td>\n",
       "      <td>0.992956</td>\n",
       "      <td>1.000000</td>\n",
       "      <td>0.085267</td>\n",
       "      <td>0.084841</td>\n",
       "      <td>7</td>\n",
       "      <td>{0: 1, 1: 500}</td>\n",
       "      <td>24.272562</td>\n",
       "      <td>0.504530</td>\n",
       "    </tr>\n",
       "    <tr>\n",
       "      <th>16</th>\n",
       "      <td>0.091916</td>\n",
       "      <td>0.094215</td>\n",
       "      <td>0.012117</td>\n",
       "      <td>0.153578</td>\n",
       "      <td>0.152300</td>\n",
       "      <td>0.994383</td>\n",
       "      <td>1.000000</td>\n",
       "      <td>0.083254</td>\n",
       "      <td>0.082430</td>\n",
       "      <td>5</td>\n",
       "      <td>{0: 1, 1: 500}</td>\n",
       "      <td>20.120695</td>\n",
       "      <td>0.474525</td>\n",
       "    </tr>\n",
       "    <tr>\n",
       "      <th>15</th>\n",
       "      <td>0.079131</td>\n",
       "      <td>0.078937</td>\n",
       "      <td>0.004177</td>\n",
       "      <td>0.146648</td>\n",
       "      <td>0.146323</td>\n",
       "      <td>0.999287</td>\n",
       "      <td>0.999287</td>\n",
       "      <td>0.079146</td>\n",
       "      <td>0.078942</td>\n",
       "      <td>3</td>\n",
       "      <td>{0: 1, 1: 500}</td>\n",
       "      <td>14.802378</td>\n",
       "      <td>0.471957</td>\n",
       "    </tr>\n",
       "  </tbody>\n",
       "</table>\n",
       "</div>"
      ],
      "text/plain": [
       "    mean_test_average_precision  mean_train_average_precision  \\\n",
       "4                      0.199899                      0.383682   \n",
       "13                     0.193977                      0.307361   \n",
       "3                      0.193955                      0.335905   \n",
       "8                      0.193319                      0.324783   \n",
       "12                     0.188240                      0.261417   \n",
       "14                     0.186410                      0.345853   \n",
       "7                      0.185805                      0.271268   \n",
       "9                      0.185518                      0.366257   \n",
       "2                      0.183939                      0.279622   \n",
       "1                      0.182806                      0.223289   \n",
       "6                      0.181778                      0.215379   \n",
       "11                     0.161944                      0.203734   \n",
       "5                      0.140049                      0.170666   \n",
       "0                      0.137216                      0.158312   \n",
       "19                     0.133905                      0.152164   \n",
       "10                     0.127697                      0.165079   \n",
       "18                     0.121931                      0.139999   \n",
       "17                     0.099246                      0.124388   \n",
       "16                     0.091916                      0.094215   \n",
       "15                     0.079131                      0.078937   \n",
       "\n",
       "    std_test_average_precision  mean_test_f1  mean_train_f1  mean_test_recall  \\\n",
       "4                     0.072548      0.129572       0.228174          0.079701   \n",
       "13                    0.069905      0.184129       0.231847          0.795130   \n",
       "3                     0.076232      0.109527       0.196422          0.063741   \n",
       "8                     0.064883      0.232327       0.313080          0.519573   \n",
       "12                    0.079509      0.176248       0.212782          0.854512   \n",
       "14                    0.068069      0.195368       0.262491          0.680495   \n",
       "7                     0.075777      0.199155       0.282361          0.523760   \n",
       "9                     0.066810      0.225616       0.328961          0.522429   \n",
       "2                     0.076683      0.105557       0.169163          0.059909   \n",
       "1                     0.078234      0.106262       0.131155          0.059106   \n",
       "6                     0.080279      0.229929       0.261807          0.482135   \n",
       "11                    0.052978      0.175915       0.185457          0.912377   \n",
       "5                     0.046745      0.179496       0.236903          0.364522   \n",
       "0                     0.057620      0.071089       0.089748          0.038957   \n",
       "19                    0.024726      0.159931       0.164086          0.968173   \n",
       "10                    0.035642      0.154263       0.167881          0.946966   \n",
       "18                    0.010470      0.157501       0.160087          0.975483   \n",
       "17                    0.014534      0.157002       0.156409          0.992956   \n",
       "16                    0.012117      0.153578       0.152300          0.994383   \n",
       "15                    0.004177      0.146648       0.146323          0.999287   \n",
       "\n",
       "    mean_train_recall  mean_test_precision  mean_train_precision  \\\n",
       "4            0.135307             0.405887              0.765003   \n",
       "13           0.921369             0.104343              0.132617   \n",
       "3            0.114334             0.439056              0.805041   \n",
       "8            0.680729             0.151243              0.203549   \n",
       "12           0.917401             0.098375              0.120538   \n",
       "14           0.903740             0.114300              0.153689   \n",
       "7            0.685993             0.126517              0.181377   \n",
       "9            0.730832             0.145435              0.213339   \n",
       "2            0.096527             0.530213              0.811791   \n",
       "1            0.071543             0.637769              0.820056   \n",
       "6            0.524070             0.156379              0.176308   \n",
       "11           0.945060             0.097514              0.102885   \n",
       "5            0.447965             0.132663              0.176108   \n",
       "0            0.047116             0.748160              0.988682   \n",
       "19           1.000000             0.087192              0.089378   \n",
       "10           0.970357             0.083990              0.091905   \n",
       "18           0.999978             0.085692              0.087009   \n",
       "17           1.000000             0.085267              0.084841   \n",
       "16           1.000000             0.083254              0.082430   \n",
       "15           0.999287             0.079146              0.078942   \n",
       "\n",
       "   param_max_depth param_class_weight  mean_fit_time  mean_score_time  \n",
       "4               11               None      28.074581         0.503927  \n",
       "13               9           balanced      22.258346         0.489962  \n",
       "3                9               None      26.597215         0.545439  \n",
       "8                9      {0: 1, 1: 10}      22.807055         0.474027  \n",
       "12               7           balanced      20.910563         0.527060  \n",
       "14              11           balanced      22.707811         0.509347  \n",
       "7                7      {0: 1, 1: 10}      22.893670         0.480742  \n",
       "9               11      {0: 1, 1: 10}      23.061724         0.475922  \n",
       "2                7               None      24.938460         0.526406  \n",
       "1                5               None      22.169120         0.501666  \n",
       "6                5      {0: 1, 1: 10}      18.968045         0.516067  \n",
       "11               5           balanced      18.299803         0.522205  \n",
       "5                3      {0: 1, 1: 10}      15.153674         0.498516  \n",
       "0                3               None      19.519696         0.498948  \n",
       "19              11     {0: 1, 1: 500}      24.700949         0.290865  \n",
       "10               3           balanced      14.758364         0.473955  \n",
       "18               9     {0: 1, 1: 500}      27.554982         0.530872  \n",
       "17               7     {0: 1, 1: 500}      24.272562         0.504530  \n",
       "16               5     {0: 1, 1: 500}      20.120695         0.474525  \n",
       "15               3     {0: 1, 1: 500}      14.802378         0.471957  "
      ]
     },
     "execution_count": 85,
     "metadata": {},
     "output_type": "execute_result"
    }
   ],
   "source": [
    "cols = ['mean_test_average_precision','mean_train_average_precision','std_test_average_precision',\\\n",
    "        'mean_test_f1','mean_train_f1',\\\n",
    "        'mean_test_recall','mean_train_recall','mean_test_precision','mean_train_precision',\\\n",
    "        'param_max_depth','param_class_weight',\\\n",
    "        'mean_fit_time','mean_score_time']\n",
    "# Delay GridSearchCV\n",
    "grid_dt_df_i = pd.DataFrame(grid_dt_i.cv_results_)[cols].sort_values(by='mean_test_average_precision', ascending=False)\n",
    "grid_dt_df_i"
   ]
  },
  {
   "cell_type": "markdown",
   "metadata": {},
   "source": [
    "#### Classification report (DecisionTree - Importat delay) <a name='dt_imp_delay_report' />\n",
    "*<a href=#top>Back to top</a>*"
   ]
  },
  {
   "cell_type": "code",
   "execution_count": 86,
   "metadata": {},
   "outputs": [
    {
     "name": "stdout",
     "output_type": "stream",
     "text": [
      "Classification report: DecisionTree important delay\n",
      "                 precision    recall  f1-score   support\n",
      "\n",
      "       no_delay       0.98      0.61      0.75    103481\n",
      "important_delay       0.10      0.81      0.17      5239\n",
      "\n",
      "       accuracy                           0.62    108720\n",
      "      macro avg       0.54      0.71      0.46    108720\n",
      "   weighted avg       0.94      0.62      0.73    108720\n",
      "\n"
     ]
    }
   ],
   "source": [
    "# going with (9) because high AP, high f1 and high recall\n",
    "dt_final_i = DecisionTreeClassifier(criterion='gini', max_depth=9, random_state=0, class_weight='balanced')\n",
    "dt_final_i.fit(X_tr_arr, y_tr_arr_imp_delay_binary)\n",
    "y_pred_dt_va_final_i = dt_final_i.predict(X_va_arr_reindex) # prediction delay\n",
    "print('Classification report: DecisionTree important delay')\n",
    "report_dt_final_i= classification_report(y_true=y_va_arr_imp_delay_binary, y_pred=y_pred_dt_va_final_i, target_names=['no_delay','important_delay'])\n",
    "print(report_dt_final_i)"
   ]
  },
  {
   "cell_type": "markdown",
   "metadata": {},
   "source": [
    "#### Visualize Decision Tree of depth 3 (DecisionTree - Important delay) <a name='dt_imp_delay_viz' />\n",
    "*<a href=#top>Back to top</a>*"
   ]
  },
  {
   "cell_type": "code",
   "execution_count": 87,
   "metadata": {},
   "outputs": [
    {
     "data": {
      "image/svg+xml": [
       "<?xml version=\"1.0\" encoding=\"UTF-8\" standalone=\"no\"?>\r\n",
       "<!DOCTYPE svg PUBLIC \"-//W3C//DTD SVG 1.1//EN\"\r\n",
       " \"http://www.w3.org/Graphics/SVG/1.1/DTD/svg11.dtd\">\r\n",
       "<!-- Generated by graphviz version 2.38.0 (20140413.2041)\r\n",
       " -->\r\n",
       "<!-- Title: Tree Pages: 1 -->\r\n",
       "<svg width=\"1868pt\" height=\"520pt\"\r\n",
       " viewBox=\"0.00 0.00 1867.50 520.00\" xmlns=\"http://www.w3.org/2000/svg\" xmlns:xlink=\"http://www.w3.org/1999/xlink\">\r\n",
       "<g id=\"graph0\" class=\"graph\" transform=\"scale(1 1) rotate(0) translate(4 516)\">\r\n",
       "<title>Tree</title>\r\n",
       "<polygon fill=\"white\" stroke=\"none\" points=\"-4,4 -4,-516 1863.5,-516 1863.5,4 -4,4\"/>\r\n",
       "<!-- 0 -->\r\n",
       "<g id=\"node1\" class=\"node\"><title>0</title>\r\n",
       "<path fill=\"#ffffff\" stroke=\"black\" d=\"M1064,-512C1064,-512 897,-512 897,-512 891,-512 885,-506 885,-500 885,-500 885,-441 885,-441 885,-435 891,-429 897,-429 897,-429 1064,-429 1064,-429 1070,-429 1076,-435 1076,-441 1076,-441 1076,-500 1076,-500 1076,-506 1070,-512 1064,-512\"/>\r\n",
       "<text text-anchor=\"middle\" x=\"980.5\" y=\"-496.8\" font-family=\"Helvetica,sans-Serif\" font-size=\"14.00\">operator_short_SBB &lt;= 0.5</text>\r\n",
       "<text text-anchor=\"middle\" x=\"980.5\" y=\"-481.8\" font-family=\"Helvetica,sans-Serif\" font-size=\"14.00\">gini = 0.5</text>\r\n",
       "<text text-anchor=\"middle\" x=\"980.5\" y=\"-466.8\" font-family=\"Helvetica,sans-Serif\" font-size=\"14.00\">samples = 100.0%</text>\r\n",
       "<text text-anchor=\"middle\" x=\"980.5\" y=\"-451.8\" font-family=\"Helvetica,sans-Serif\" font-size=\"14.00\">value = [0.5, 0.5]</text>\r\n",
       "<text text-anchor=\"middle\" x=\"980.5\" y=\"-436.8\" font-family=\"Helvetica,sans-Serif\" font-size=\"14.00\">class = no_delay</text>\r\n",
       "</g>\r\n",
       "<!-- 1 -->\r\n",
       "<g id=\"node2\" class=\"node\"><title>1</title>\r\n",
       "<path fill=\"#f2bf9a\" stroke=\"black\" d=\"M874,-393C874,-393 735,-393 735,-393 729,-393 723,-387 723,-381 723,-381 723,-322 723,-322 723,-316 729,-310 735,-310 735,-310 874,-310 874,-310 880,-310 886,-316 886,-322 886,-322 886,-381 886,-381 886,-387 880,-393 874,-393\"/>\r\n",
       "<text text-anchor=\"middle\" x=\"804.5\" y=\"-377.8\" font-family=\"Helvetica,sans-Serif\" font-size=\"14.00\">longitude_ch &lt;= &#45;0.277</text>\r\n",
       "<text text-anchor=\"middle\" x=\"804.5\" y=\"-362.8\" font-family=\"Helvetica,sans-Serif\" font-size=\"14.00\">gini = 0.441</text>\r\n",
       "<text text-anchor=\"middle\" x=\"804.5\" y=\"-347.8\" font-family=\"Helvetica,sans-Serif\" font-size=\"14.00\">samples = 60.9%</text>\r\n",
       "<text text-anchor=\"middle\" x=\"804.5\" y=\"-332.8\" font-family=\"Helvetica,sans-Serif\" font-size=\"14.00\">value = [0.671, 0.329]</text>\r\n",
       "<text text-anchor=\"middle\" x=\"804.5\" y=\"-317.8\" font-family=\"Helvetica,sans-Serif\" font-size=\"14.00\">class = no_delay</text>\r\n",
       "</g>\r\n",
       "<!-- 0&#45;&gt;1 -->\r\n",
       "<g id=\"edge1\" class=\"edge\"><title>0&#45;&gt;1</title>\r\n",
       "<path fill=\"none\" stroke=\"black\" d=\"M919.438,-428.907C904.831,-419.197 889.128,-408.758 874.165,-398.811\"/>\r\n",
       "<polygon fill=\"black\" stroke=\"black\" points=\"875.72,-395.642 865.454,-393.021 871.845,-401.472 875.72,-395.642\"/>\r\n",
       "<text text-anchor=\"middle\" x=\"870.389\" y=\"-413.829\" font-family=\"Helvetica,sans-Serif\" font-size=\"14.00\">True</text>\r\n",
       "</g>\r\n",
       "<!-- 282 -->\r\n",
       "<g id=\"node17\" class=\"node\"><title>282</title>\r\n",
       "<path fill=\"#a4d2f3\" stroke=\"black\" d=\"M1285.5,-393C1285.5,-393 1027.5,-393 1027.5,-393 1021.5,-393 1015.5,-387 1015.5,-381 1015.5,-381 1015.5,-322 1015.5,-322 1015.5,-316 1021.5,-310 1027.5,-310 1027.5,-310 1285.5,-310 1285.5,-310 1291.5,-310 1297.5,-316 1297.5,-322 1297.5,-322 1297.5,-381 1297.5,-381 1297.5,-387 1291.5,-393 1285.5,-393\"/>\r\n",
       "<text text-anchor=\"middle\" x=\"1156.5\" y=\"-377.8\" font-family=\"Helvetica,sans-Serif\" font-size=\"14.00\">arrival_time_of_day_early_morning &lt;= 0.5</text>\r\n",
       "<text text-anchor=\"middle\" x=\"1156.5\" y=\"-362.8\" font-family=\"Helvetica,sans-Serif\" font-size=\"14.00\">gini = 0.455</text>\r\n",
       "<text text-anchor=\"middle\" x=\"1156.5\" y=\"-347.8\" font-family=\"Helvetica,sans-Serif\" font-size=\"14.00\">samples = 39.1%</text>\r\n",
       "<text text-anchor=\"middle\" x=\"1156.5\" y=\"-332.8\" font-family=\"Helvetica,sans-Serif\" font-size=\"14.00\">value = [0.351, 0.649]</text>\r\n",
       "<text text-anchor=\"middle\" x=\"1156.5\" y=\"-317.8\" font-family=\"Helvetica,sans-Serif\" font-size=\"14.00\">class = important_delay</text>\r\n",
       "</g>\r\n",
       "<!-- 0&#45;&gt;282 -->\r\n",
       "<g id=\"edge16\" class=\"edge\"><title>0&#45;&gt;282</title>\r\n",
       "<path fill=\"none\" stroke=\"black\" d=\"M1041.56,-428.907C1056.17,-419.197 1071.87,-408.758 1086.84,-398.811\"/>\r\n",
       "<polygon fill=\"black\" stroke=\"black\" points=\"1089.16,-401.472 1095.55,-393.021 1085.28,-395.642 1089.16,-401.472\"/>\r\n",
       "<text text-anchor=\"middle\" x=\"1090.61\" y=\"-413.829\" font-family=\"Helvetica,sans-Serif\" font-size=\"14.00\">False</text>\r\n",
       "</g>\r\n",
       "<!-- 2 -->\r\n",
       "<g id=\"node3\" class=\"node\"><title>2</title>\r\n",
       "<path fill=\"#bbddf6\" stroke=\"black\" d=\"M528,-274C528,-274 307,-274 307,-274 301,-274 295,-268 295,-262 295,-262 295,-203 295,-203 295,-197 301,-191 307,-191 307,-191 528,-191 528,-191 534,-191 540,-197 540,-203 540,-203 540,-262 540,-262 540,-268 534,-274 528,-274\"/>\r\n",
       "<text text-anchor=\"middle\" x=\"417.5\" y=\"-258.8\" font-family=\"Helvetica,sans-Serif\" font-size=\"14.00\">operator_short_TRAVYS&#45;pbr &lt;= 0.5</text>\r\n",
       "<text text-anchor=\"middle\" x=\"417.5\" y=\"-243.8\" font-family=\"Helvetica,sans-Serif\" font-size=\"14.00\">gini = 0.478</text>\r\n",
       "<text text-anchor=\"middle\" x=\"417.5\" y=\"-228.8\" font-family=\"Helvetica,sans-Serif\" font-size=\"14.00\">samples = 19.2%</text>\r\n",
       "<text text-anchor=\"middle\" x=\"417.5\" y=\"-213.8\" font-family=\"Helvetica,sans-Serif\" font-size=\"14.00\">value = [0.396, 0.604]</text>\r\n",
       "<text text-anchor=\"middle\" x=\"417.5\" y=\"-198.8\" font-family=\"Helvetica,sans-Serif\" font-size=\"14.00\">class = important_delay</text>\r\n",
       "</g>\r\n",
       "<!-- 1&#45;&gt;2 -->\r\n",
       "<g id=\"edge2\" class=\"edge\"><title>1&#45;&gt;2</title>\r\n",
       "<path fill=\"none\" stroke=\"black\" d=\"M722.9,-325.83C672.798,-310.683 607.446,-290.925 550.058,-273.576\"/>\r\n",
       "<polygon fill=\"black\" stroke=\"black\" points=\"550.768,-270.134 540.183,-270.59 548.742,-276.834 550.768,-270.134\"/>\r\n",
       "</g>\r\n",
       "<!-- 161 -->\r\n",
       "<g id=\"node10\" class=\"node\"><title>161</title>\r\n",
       "<path fill=\"#e68743\" stroke=\"black\" d=\"M915.5,-274C915.5,-274 693.5,-274 693.5,-274 687.5,-274 681.5,-268 681.5,-262 681.5,-262 681.5,-203 681.5,-203 681.5,-197 687.5,-191 693.5,-191 693.5,-191 915.5,-191 915.5,-191 921.5,-191 927.5,-197 927.5,-203 927.5,-203 927.5,-262 927.5,-262 927.5,-268 921.5,-274 915.5,-274\"/>\r\n",
       "<text text-anchor=\"middle\" x=\"804.5\" y=\"-258.8\" font-family=\"Helvetica,sans-Serif\" font-size=\"14.00\">operator_short_TRAVYS&#45;ysc &lt;= 0.5</text>\r\n",
       "<text text-anchor=\"middle\" x=\"804.5\" y=\"-243.8\" font-family=\"Helvetica,sans-Serif\" font-size=\"14.00\">gini = 0.089</text>\r\n",
       "<text text-anchor=\"middle\" x=\"804.5\" y=\"-228.8\" font-family=\"Helvetica,sans-Serif\" font-size=\"14.00\">samples = 41.7%</text>\r\n",
       "<text text-anchor=\"middle\" x=\"804.5\" y=\"-213.8\" font-family=\"Helvetica,sans-Serif\" font-size=\"14.00\">value = [0.953, 0.047]</text>\r\n",
       "<text text-anchor=\"middle\" x=\"804.5\" y=\"-198.8\" font-family=\"Helvetica,sans-Serif\" font-size=\"14.00\">class = no_delay</text>\r\n",
       "</g>\r\n",
       "<!-- 1&#45;&gt;161 -->\r\n",
       "<g id=\"edge9\" class=\"edge\"><title>1&#45;&gt;161</title>\r\n",
       "<path fill=\"none\" stroke=\"black\" d=\"M804.5,-309.907C804.5,-301.649 804.5,-292.864 804.5,-284.302\"/>\r\n",
       "<polygon fill=\"black\" stroke=\"black\" points=\"808,-284.021 804.5,-274.021 801,-284.021 808,-284.021\"/>\r\n",
       "</g>\r\n",
       "<!-- 3 -->\r\n",
       "<g id=\"node4\" class=\"node\"><title>3</title>\r\n",
       "<path fill=\"#ddeefb\" stroke=\"black\" d=\"M265,-155C265,-155 12,-155 12,-155 6,-155 0,-149 0,-143 0,-143 0,-84 0,-84 0,-78 6,-72 12,-72 12,-72 265,-72 265,-72 271,-72 277,-78 277,-84 277,-84 277,-143 277,-143 277,-149 271,-155 265,-155\"/>\r\n",
       "<text text-anchor=\"middle\" x=\"138.5\" y=\"-139.8\" font-family=\"Helvetica,sans-Serif\" font-size=\"14.00\">operating_day_of_week_Saturday &lt;= 0.5</text>\r\n",
       "<text text-anchor=\"middle\" x=\"138.5\" y=\"-124.8\" font-family=\"Helvetica,sans-Serif\" font-size=\"14.00\">gini = 0.496</text>\r\n",
       "<text text-anchor=\"middle\" x=\"138.5\" y=\"-109.8\" font-family=\"Helvetica,sans-Serif\" font-size=\"14.00\">samples = 16.2%</text>\r\n",
       "<text text-anchor=\"middle\" x=\"138.5\" y=\"-94.8\" font-family=\"Helvetica,sans-Serif\" font-size=\"14.00\">value = [0.454, 0.546]</text>\r\n",
       "<text text-anchor=\"middle\" x=\"138.5\" y=\"-79.8\" font-family=\"Helvetica,sans-Serif\" font-size=\"14.00\">class = important_delay</text>\r\n",
       "</g>\r\n",
       "<!-- 2&#45;&gt;3 -->\r\n",
       "<g id=\"edge3\" class=\"edge\"><title>2&#45;&gt;3</title>\r\n",
       "<path fill=\"none\" stroke=\"black\" d=\"M320.702,-190.907C296.14,-180.607 269.623,-169.487 244.626,-159.004\"/>\r\n",
       "<polygon fill=\"black\" stroke=\"black\" points=\"245.702,-155.66 235.127,-155.021 242.995,-162.116 245.702,-155.66\"/>\r\n",
       "</g>\r\n",
       "<!-- 100 -->\r\n",
       "<g id=\"node7\" class=\"node\"><title>100</title>\r\n",
       "<path fill=\"#73b9ed\" stroke=\"black\" d=\"M527.5,-155C527.5,-155 307.5,-155 307.5,-155 301.5,-155 295.5,-149 295.5,-143 295.5,-143 295.5,-84 295.5,-84 295.5,-78 301.5,-72 307.5,-72 307.5,-72 527.5,-72 527.5,-72 533.5,-72 539.5,-78 539.5,-84 539.5,-84 539.5,-143 539.5,-143 539.5,-149 533.5,-155 527.5,-155\"/>\r\n",
       "<text text-anchor=\"middle\" x=\"417.5\" y=\"-139.8\" font-family=\"Helvetica,sans-Serif\" font-size=\"14.00\">arrival_time_of_day_morning &lt;= 0.5</text>\r\n",
       "<text text-anchor=\"middle\" x=\"417.5\" y=\"-124.8\" font-family=\"Helvetica,sans-Serif\" font-size=\"14.00\">gini = 0.349</text>\r\n",
       "<text text-anchor=\"middle\" x=\"417.5\" y=\"-109.8\" font-family=\"Helvetica,sans-Serif\" font-size=\"14.00\">samples = 3.0%</text>\r\n",
       "<text text-anchor=\"middle\" x=\"417.5\" y=\"-94.8\" font-family=\"Helvetica,sans-Serif\" font-size=\"14.00\">value = [0.225, 0.775]</text>\r\n",
       "<text text-anchor=\"middle\" x=\"417.5\" y=\"-79.8\" font-family=\"Helvetica,sans-Serif\" font-size=\"14.00\">class = important_delay</text>\r\n",
       "</g>\r\n",
       "<!-- 2&#45;&gt;100 -->\r\n",
       "<g id=\"edge6\" class=\"edge\"><title>2&#45;&gt;100</title>\r\n",
       "<path fill=\"none\" stroke=\"black\" d=\"M417.5,-190.907C417.5,-182.649 417.5,-173.864 417.5,-165.302\"/>\r\n",
       "<polygon fill=\"black\" stroke=\"black\" points=\"421,-165.021 417.5,-155.021 414,-165.021 421,-165.021\"/>\r\n",
       "</g>\r\n",
       "<!-- 4 -->\r\n",
       "<g id=\"node5\" class=\"node\"><title>4</title>\r\n",
       "<path fill=\"#c0c0c0\" stroke=\"black\" d=\"M117.5,-36C117.5,-36 87.5,-36 87.5,-36 81.5,-36 75.5,-30 75.5,-24 75.5,-24 75.5,-12 75.5,-12 75.5,-6 81.5,-0 87.5,-0 87.5,-0 117.5,-0 117.5,-0 123.5,-0 129.5,-6 129.5,-12 129.5,-12 129.5,-24 129.5,-24 129.5,-30 123.5,-36 117.5,-36\"/>\r\n",
       "<text text-anchor=\"middle\" x=\"102.5\" y=\"-14.3\" font-family=\"Helvetica,sans-Serif\" font-size=\"14.00\">(...)</text>\r\n",
       "</g>\r\n",
       "<!-- 3&#45;&gt;4 -->\r\n",
       "<g id=\"edge4\" class=\"edge\"><title>3&#45;&gt;4</title>\r\n",
       "<path fill=\"none\" stroke=\"black\" d=\"M122.815,-71.7615C119.457,-63.0419 115.991,-54.0385 112.893,-45.9921\"/>\r\n",
       "<polygon fill=\"black\" stroke=\"black\" points=\"116.061,-44.4797 109.201,-36.4051 109.528,-46.9949 116.061,-44.4797\"/>\r\n",
       "</g>\r\n",
       "<!-- 65 -->\r\n",
       "<g id=\"node6\" class=\"node\"><title>65</title>\r\n",
       "<path fill=\"#c0c0c0\" stroke=\"black\" d=\"M189.5,-36C189.5,-36 159.5,-36 159.5,-36 153.5,-36 147.5,-30 147.5,-24 147.5,-24 147.5,-12 147.5,-12 147.5,-6 153.5,-0 159.5,-0 159.5,-0 189.5,-0 189.5,-0 195.5,-0 201.5,-6 201.5,-12 201.5,-12 201.5,-24 201.5,-24 201.5,-30 195.5,-36 189.5,-36\"/>\r\n",
       "<text text-anchor=\"middle\" x=\"174.5\" y=\"-14.3\" font-family=\"Helvetica,sans-Serif\" font-size=\"14.00\">(...)</text>\r\n",
       "</g>\r\n",
       "<!-- 3&#45;&gt;65 -->\r\n",
       "<g id=\"edge5\" class=\"edge\"><title>3&#45;&gt;65</title>\r\n",
       "<path fill=\"none\" stroke=\"black\" d=\"M154.185,-71.7615C157.543,-63.0419 161.009,-54.0385 164.107,-45.9921\"/>\r\n",
       "<polygon fill=\"black\" stroke=\"black\" points=\"167.472,-46.9949 167.799,-36.4051 160.939,-44.4797 167.472,-46.9949\"/>\r\n",
       "</g>\r\n",
       "<!-- 101 -->\r\n",
       "<g id=\"node8\" class=\"node\"><title>101</title>\r\n",
       "<path fill=\"#c0c0c0\" stroke=\"black\" d=\"M396.5,-36C396.5,-36 366.5,-36 366.5,-36 360.5,-36 354.5,-30 354.5,-24 354.5,-24 354.5,-12 354.5,-12 354.5,-6 360.5,-0 366.5,-0 366.5,-0 396.5,-0 396.5,-0 402.5,-0 408.5,-6 408.5,-12 408.5,-12 408.5,-24 408.5,-24 408.5,-30 402.5,-36 396.5,-36\"/>\r\n",
       "<text text-anchor=\"middle\" x=\"381.5\" y=\"-14.3\" font-family=\"Helvetica,sans-Serif\" font-size=\"14.00\">(...)</text>\r\n",
       "</g>\r\n",
       "<!-- 100&#45;&gt;101 -->\r\n",
       "<g id=\"edge7\" class=\"edge\"><title>100&#45;&gt;101</title>\r\n",
       "<path fill=\"none\" stroke=\"black\" d=\"M401.815,-71.7615C398.457,-63.0419 394.991,-54.0385 391.893,-45.9921\"/>\r\n",
       "<polygon fill=\"black\" stroke=\"black\" points=\"395.061,-44.4797 388.201,-36.4051 388.528,-46.9949 395.061,-44.4797\"/>\r\n",
       "</g>\r\n",
       "<!-- 142 -->\r\n",
       "<g id=\"node9\" class=\"node\"><title>142</title>\r\n",
       "<path fill=\"#c0c0c0\" stroke=\"black\" d=\"M468.5,-36C468.5,-36 438.5,-36 438.5,-36 432.5,-36 426.5,-30 426.5,-24 426.5,-24 426.5,-12 426.5,-12 426.5,-6 432.5,-0 438.5,-0 438.5,-0 468.5,-0 468.5,-0 474.5,-0 480.5,-6 480.5,-12 480.5,-12 480.5,-24 480.5,-24 480.5,-30 474.5,-36 468.5,-36\"/>\r\n",
       "<text text-anchor=\"middle\" x=\"453.5\" y=\"-14.3\" font-family=\"Helvetica,sans-Serif\" font-size=\"14.00\">(...)</text>\r\n",
       "</g>\r\n",
       "<!-- 100&#45;&gt;142 -->\r\n",
       "<g id=\"edge8\" class=\"edge\"><title>100&#45;&gt;142</title>\r\n",
       "<path fill=\"none\" stroke=\"black\" d=\"M433.185,-71.7615C436.543,-63.0419 440.009,-54.0385 443.107,-45.9921\"/>\r\n",
       "<polygon fill=\"black\" stroke=\"black\" points=\"446.472,-46.9949 446.799,-36.4051 439.939,-44.4797 446.472,-46.9949\"/>\r\n",
       "</g>\r\n",
       "<!-- 162 -->\r\n",
       "<g id=\"node11\" class=\"node\"><title>162</title>\r\n",
       "<path fill=\"#e5833c\" stroke=\"black\" d=\"M699.5,-155C699.5,-155 569.5,-155 569.5,-155 563.5,-155 557.5,-149 557.5,-143 557.5,-143 557.5,-84 557.5,-84 557.5,-78 563.5,-72 569.5,-72 569.5,-72 699.5,-72 699.5,-72 705.5,-72 711.5,-78 711.5,-84 711.5,-84 711.5,-143 711.5,-143 711.5,-149 705.5,-155 699.5,-155\"/>\r\n",
       "<text text-anchor=\"middle\" x=\"634.5\" y=\"-139.8\" font-family=\"Helvetica,sans-Serif\" font-size=\"14.00\">city_Montreux &lt;= 0.5</text>\r\n",
       "<text text-anchor=\"middle\" x=\"634.5\" y=\"-124.8\" font-family=\"Helvetica,sans-Serif\" font-size=\"14.00\">gini = 0.03</text>\r\n",
       "<text text-anchor=\"middle\" x=\"634.5\" y=\"-109.8\" font-family=\"Helvetica,sans-Serif\" font-size=\"14.00\">samples = 40.5%</text>\r\n",
       "<text text-anchor=\"middle\" x=\"634.5\" y=\"-94.8\" font-family=\"Helvetica,sans-Serif\" font-size=\"14.00\">value = [0.985, 0.015]</text>\r\n",
       "<text text-anchor=\"middle\" x=\"634.5\" y=\"-79.8\" font-family=\"Helvetica,sans-Serif\" font-size=\"14.00\">class = no_delay</text>\r\n",
       "</g>\r\n",
       "<!-- 161&#45;&gt;162 -->\r\n",
       "<g id=\"edge10\" class=\"edge\"><title>161&#45;&gt;162</title>\r\n",
       "<path fill=\"none\" stroke=\"black\" d=\"M745.519,-190.907C731.41,-181.197 716.243,-170.758 701.79,-160.811\"/>\r\n",
       "<polygon fill=\"black\" stroke=\"black\" points=\"703.598,-157.807 693.376,-155.021 699.63,-163.573 703.598,-157.807\"/>\r\n",
       "</g>\r\n",
       "<!-- 235 -->\r\n",
       "<g id=\"node14\" class=\"node\"><title>235</title>\r\n",
       "<path fill=\"#d5eaf9\" stroke=\"black\" d=\"M959.5,-155C959.5,-155 741.5,-155 741.5,-155 735.5,-155 729.5,-149 729.5,-143 729.5,-143 729.5,-84 729.5,-84 729.5,-78 735.5,-72 741.5,-72 741.5,-72 959.5,-72 959.5,-72 965.5,-72 971.5,-78 971.5,-84 971.5,-84 971.5,-143 971.5,-143 971.5,-149 965.5,-155 959.5,-155\"/>\r\n",
       "<text text-anchor=\"middle\" x=\"850.5\" y=\"-139.8\" font-family=\"Helvetica,sans-Serif\" font-size=\"14.00\">arrival_time_of_day_evening &lt;= 0.5</text>\r\n",
       "<text text-anchor=\"middle\" x=\"850.5\" y=\"-124.8\" font-family=\"Helvetica,sans-Serif\" font-size=\"14.00\">gini = 0.493</text>\r\n",
       "<text text-anchor=\"middle\" x=\"850.5\" y=\"-109.8\" font-family=\"Helvetica,sans-Serif\" font-size=\"14.00\">samples = 1.2%</text>\r\n",
       "<text text-anchor=\"middle\" x=\"850.5\" y=\"-94.8\" font-family=\"Helvetica,sans-Serif\" font-size=\"14.00\">value = [0.44, 0.56]</text>\r\n",
       "<text text-anchor=\"middle\" x=\"850.5\" y=\"-79.8\" font-family=\"Helvetica,sans-Serif\" font-size=\"14.00\">class = important_delay</text>\r\n",
       "</g>\r\n",
       "<!-- 161&#45;&gt;235 -->\r\n",
       "<g id=\"edge13\" class=\"edge\"><title>161&#45;&gt;235</title>\r\n",
       "<path fill=\"none\" stroke=\"black\" d=\"M820.459,-190.907C823.813,-182.377 827.388,-173.284 830.859,-164.456\"/>\r\n",
       "<polygon fill=\"black\" stroke=\"black\" points=\"834.167,-165.608 834.569,-155.021 827.652,-163.047 834.167,-165.608\"/>\r\n",
       "</g>\r\n",
       "<!-- 163 -->\r\n",
       "<g id=\"node12\" class=\"node\"><title>163</title>\r\n",
       "<path fill=\"#c0c0c0\" stroke=\"black\" d=\"M613.5,-36C613.5,-36 583.5,-36 583.5,-36 577.5,-36 571.5,-30 571.5,-24 571.5,-24 571.5,-12 571.5,-12 571.5,-6 577.5,-0 583.5,-0 583.5,-0 613.5,-0 613.5,-0 619.5,-0 625.5,-6 625.5,-12 625.5,-12 625.5,-24 625.5,-24 625.5,-30 619.5,-36 613.5,-36\"/>\r\n",
       "<text text-anchor=\"middle\" x=\"598.5\" y=\"-14.3\" font-family=\"Helvetica,sans-Serif\" font-size=\"14.00\">(...)</text>\r\n",
       "</g>\r\n",
       "<!-- 162&#45;&gt;163 -->\r\n",
       "<g id=\"edge11\" class=\"edge\"><title>162&#45;&gt;163</title>\r\n",
       "<path fill=\"none\" stroke=\"black\" d=\"M618.815,-71.7615C615.457,-63.0419 611.991,-54.0385 608.893,-45.9921\"/>\r\n",
       "<polygon fill=\"black\" stroke=\"black\" points=\"612.061,-44.4797 605.201,-36.4051 605.528,-46.9949 612.061,-44.4797\"/>\r\n",
       "</g>\r\n",
       "<!-- 202 -->\r\n",
       "<g id=\"node13\" class=\"node\"><title>202</title>\r\n",
       "<path fill=\"#c0c0c0\" stroke=\"black\" d=\"M685.5,-36C685.5,-36 655.5,-36 655.5,-36 649.5,-36 643.5,-30 643.5,-24 643.5,-24 643.5,-12 643.5,-12 643.5,-6 649.5,-0 655.5,-0 655.5,-0 685.5,-0 685.5,-0 691.5,-0 697.5,-6 697.5,-12 697.5,-12 697.5,-24 697.5,-24 697.5,-30 691.5,-36 685.5,-36\"/>\r\n",
       "<text text-anchor=\"middle\" x=\"670.5\" y=\"-14.3\" font-family=\"Helvetica,sans-Serif\" font-size=\"14.00\">(...)</text>\r\n",
       "</g>\r\n",
       "<!-- 162&#45;&gt;202 -->\r\n",
       "<g id=\"edge12\" class=\"edge\"><title>162&#45;&gt;202</title>\r\n",
       "<path fill=\"none\" stroke=\"black\" d=\"M650.185,-71.7615C653.543,-63.0419 657.009,-54.0385 660.107,-45.9921\"/>\r\n",
       "<polygon fill=\"black\" stroke=\"black\" points=\"663.472,-46.9949 663.799,-36.4051 656.939,-44.4797 663.472,-46.9949\"/>\r\n",
       "</g>\r\n",
       "<!-- 236 -->\r\n",
       "<g id=\"node15\" class=\"node\"><title>236</title>\r\n",
       "<path fill=\"#c0c0c0\" stroke=\"black\" d=\"M829.5,-36C829.5,-36 799.5,-36 799.5,-36 793.5,-36 787.5,-30 787.5,-24 787.5,-24 787.5,-12 787.5,-12 787.5,-6 793.5,-0 799.5,-0 799.5,-0 829.5,-0 829.5,-0 835.5,-0 841.5,-6 841.5,-12 841.5,-12 841.5,-24 841.5,-24 841.5,-30 835.5,-36 829.5,-36\"/>\r\n",
       "<text text-anchor=\"middle\" x=\"814.5\" y=\"-14.3\" font-family=\"Helvetica,sans-Serif\" font-size=\"14.00\">(...)</text>\r\n",
       "</g>\r\n",
       "<!-- 235&#45;&gt;236 -->\r\n",
       "<g id=\"edge14\" class=\"edge\"><title>235&#45;&gt;236</title>\r\n",
       "<path fill=\"none\" stroke=\"black\" d=\"M834.815,-71.7615C831.457,-63.0419 827.991,-54.0385 824.893,-45.9921\"/>\r\n",
       "<polygon fill=\"black\" stroke=\"black\" points=\"828.061,-44.4797 821.201,-36.4051 821.528,-46.9949 828.061,-44.4797\"/>\r\n",
       "</g>\r\n",
       "<!-- 281 -->\r\n",
       "<g id=\"node16\" class=\"node\"><title>281</title>\r\n",
       "<path fill=\"#c0c0c0\" stroke=\"black\" d=\"M901.5,-36C901.5,-36 871.5,-36 871.5,-36 865.5,-36 859.5,-30 859.5,-24 859.5,-24 859.5,-12 859.5,-12 859.5,-6 865.5,-0 871.5,-0 871.5,-0 901.5,-0 901.5,-0 907.5,-0 913.5,-6 913.5,-12 913.5,-12 913.5,-24 913.5,-24 913.5,-30 907.5,-36 901.5,-36\"/>\r\n",
       "<text text-anchor=\"middle\" x=\"886.5\" y=\"-14.3\" font-family=\"Helvetica,sans-Serif\" font-size=\"14.00\">(...)</text>\r\n",
       "</g>\r\n",
       "<!-- 235&#45;&gt;281 -->\r\n",
       "<g id=\"edge15\" class=\"edge\"><title>235&#45;&gt;281</title>\r\n",
       "<path fill=\"none\" stroke=\"black\" d=\"M866.185,-71.7615C869.543,-63.0419 873.009,-54.0385 876.107,-45.9921\"/>\r\n",
       "<polygon fill=\"black\" stroke=\"black\" points=\"879.472,-46.9949 879.799,-36.4051 872.939,-44.4797 879.472,-46.9949\"/>\r\n",
       "</g>\r\n",
       "<!-- 283 -->\r\n",
       "<g id=\"node18\" class=\"node\"><title>283</title>\r\n",
       "<path fill=\"#b9dcf6\" stroke=\"black\" d=\"M1279,-274C1279,-274 1034,-274 1034,-274 1028,-274 1022,-268 1022,-262 1022,-262 1022,-203 1022,-203 1022,-197 1028,-191 1034,-191 1034,-191 1279,-191 1279,-191 1285,-191 1291,-197 1291,-203 1291,-203 1291,-262 1291,-262 1291,-268 1285,-274 1279,-274\"/>\r\n",
       "<text text-anchor=\"middle\" x=\"1156.5\" y=\"-258.8\" font-family=\"Helvetica,sans-Serif\" font-size=\"14.00\">operating_day_of_week_Sunday &lt;= 0.5</text>\r\n",
       "<text text-anchor=\"middle\" x=\"1156.5\" y=\"-243.8\" font-family=\"Helvetica,sans-Serif\" font-size=\"14.00\">gini = 0.477</text>\r\n",
       "<text text-anchor=\"middle\" x=\"1156.5\" y=\"-228.8\" font-family=\"Helvetica,sans-Serif\" font-size=\"14.00\">samples = 36.3%</text>\r\n",
       "<text text-anchor=\"middle\" x=\"1156.5\" y=\"-213.8\" font-family=\"Helvetica,sans-Serif\" font-size=\"14.00\">value = [0.393, 0.607]</text>\r\n",
       "<text text-anchor=\"middle\" x=\"1156.5\" y=\"-198.8\" font-family=\"Helvetica,sans-Serif\" font-size=\"14.00\">class = important_delay</text>\r\n",
       "</g>\r\n",
       "<!-- 282&#45;&gt;283 -->\r\n",
       "<g id=\"edge17\" class=\"edge\"><title>282&#45;&gt;283</title>\r\n",
       "<path fill=\"none\" stroke=\"black\" d=\"M1156.5,-309.907C1156.5,-301.649 1156.5,-292.864 1156.5,-284.302\"/>\r\n",
       "<polygon fill=\"black\" stroke=\"black\" points=\"1160,-284.021 1156.5,-274.021 1153,-284.021 1160,-284.021\"/>\r\n",
       "</g>\r\n",
       "<!-- 466 -->\r\n",
       "<g id=\"node25\" class=\"node\"><title>466</title>\r\n",
       "<path fill=\"#56abe9\" stroke=\"black\" d=\"M1663.5,-274C1663.5,-274 1521.5,-274 1521.5,-274 1515.5,-274 1509.5,-268 1509.5,-262 1509.5,-262 1509.5,-203 1509.5,-203 1509.5,-197 1515.5,-191 1521.5,-191 1521.5,-191 1663.5,-191 1663.5,-191 1669.5,-191 1675.5,-197 1675.5,-203 1675.5,-203 1675.5,-262 1675.5,-262 1675.5,-268 1669.5,-274 1663.5,-274\"/>\r\n",
       "<text text-anchor=\"middle\" x=\"1592.5\" y=\"-258.8\" font-family=\"Helvetica,sans-Serif\" font-size=\"14.00\">line_name_S &lt;= 0.5</text>\r\n",
       "<text text-anchor=\"middle\" x=\"1592.5\" y=\"-243.8\" font-family=\"Helvetica,sans-Serif\" font-size=\"14.00\">gini = 0.224</text>\r\n",
       "<text text-anchor=\"middle\" x=\"1592.5\" y=\"-228.8\" font-family=\"Helvetica,sans-Serif\" font-size=\"14.00\">samples = 2.8%</text>\r\n",
       "<text text-anchor=\"middle\" x=\"1592.5\" y=\"-213.8\" font-family=\"Helvetica,sans-Serif\" font-size=\"14.00\">value = [0.129, 0.871]</text>\r\n",
       "<text text-anchor=\"middle\" x=\"1592.5\" y=\"-198.8\" font-family=\"Helvetica,sans-Serif\" font-size=\"14.00\">class = important_delay</text>\r\n",
       "</g>\r\n",
       "<!-- 282&#45;&gt;466 -->\r\n",
       "<g id=\"edge24\" class=\"edge\"><title>282&#45;&gt;466</title>\r\n",
       "<path fill=\"none\" stroke=\"black\" d=\"M1297.76,-312.594C1363.82,-294.865 1440.67,-274.242 1499.33,-258.501\"/>\r\n",
       "<polygon fill=\"black\" stroke=\"black\" points=\"1500.58,-261.792 1509.33,-255.819 1498.76,-255.031 1500.58,-261.792\"/>\r\n",
       "</g>\r\n",
       "<!-- 284 -->\r\n",
       "<g id=\"node19\" class=\"node\"><title>284</title>\r\n",
       "<path fill=\"#add6f4\" stroke=\"black\" d=\"M1219.5,-155C1219.5,-155 1001.5,-155 1001.5,-155 995.5,-155 989.5,-149 989.5,-143 989.5,-143 989.5,-84 989.5,-84 989.5,-78 995.5,-72 1001.5,-72 1001.5,-72 1219.5,-72 1219.5,-72 1225.5,-72 1231.5,-78 1231.5,-84 1231.5,-84 1231.5,-143 1231.5,-143 1231.5,-149 1225.5,-155 1219.5,-155\"/>\r\n",
       "<text text-anchor=\"middle\" x=\"1110.5\" y=\"-139.8\" font-family=\"Helvetica,sans-Serif\" font-size=\"14.00\">arrival_time_of_day_evening &lt;= 0.5</text>\r\n",
       "<text text-anchor=\"middle\" x=\"1110.5\" y=\"-124.8\" font-family=\"Helvetica,sans-Serif\" font-size=\"14.00\">gini = 0.465</text>\r\n",
       "<text text-anchor=\"middle\" x=\"1110.5\" y=\"-109.8\" font-family=\"Helvetica,sans-Serif\" font-size=\"14.00\">samples = 31.7%</text>\r\n",
       "<text text-anchor=\"middle\" x=\"1110.5\" y=\"-94.8\" font-family=\"Helvetica,sans-Serif\" font-size=\"14.00\">value = [0.369, 0.631]</text>\r\n",
       "<text text-anchor=\"middle\" x=\"1110.5\" y=\"-79.8\" font-family=\"Helvetica,sans-Serif\" font-size=\"14.00\">class = important_delay</text>\r\n",
       "</g>\r\n",
       "<!-- 283&#45;&gt;284 -->\r\n",
       "<g id=\"edge18\" class=\"edge\"><title>283&#45;&gt;284</title>\r\n",
       "<path fill=\"none\" stroke=\"black\" d=\"M1140.54,-190.907C1137.19,-182.377 1133.61,-173.284 1130.14,-164.456\"/>\r\n",
       "<polygon fill=\"black\" stroke=\"black\" points=\"1133.35,-163.047 1126.43,-155.021 1126.83,-165.608 1133.35,-163.047\"/>\r\n",
       "</g>\r\n",
       "<!-- 397 -->\r\n",
       "<g id=\"node22\" class=\"node\"><title>397</title>\r\n",
       "<path fill=\"#f1bc95\" stroke=\"black\" d=\"M1479.5,-155C1479.5,-155 1261.5,-155 1261.5,-155 1255.5,-155 1249.5,-149 1249.5,-143 1249.5,-143 1249.5,-84 1249.5,-84 1249.5,-78 1255.5,-72 1261.5,-72 1261.5,-72 1479.5,-72 1479.5,-72 1485.5,-72 1491.5,-78 1491.5,-84 1491.5,-84 1491.5,-143 1491.5,-143 1491.5,-149 1485.5,-155 1479.5,-155\"/>\r\n",
       "<text text-anchor=\"middle\" x=\"1370.5\" y=\"-139.8\" font-family=\"Helvetica,sans-Serif\" font-size=\"14.00\">arrival_time_of_day_evening &lt;= 0.5</text>\r\n",
       "<text text-anchor=\"middle\" x=\"1370.5\" y=\"-124.8\" font-family=\"Helvetica,sans-Serif\" font-size=\"14.00\">gini = 0.434</text>\r\n",
       "<text text-anchor=\"middle\" x=\"1370.5\" y=\"-109.8\" font-family=\"Helvetica,sans-Serif\" font-size=\"14.00\">samples = 4.6%</text>\r\n",
       "<text text-anchor=\"middle\" x=\"1370.5\" y=\"-94.8\" font-family=\"Helvetica,sans-Serif\" font-size=\"14.00\">value = [0.682, 0.318]</text>\r\n",
       "<text text-anchor=\"middle\" x=\"1370.5\" y=\"-79.8\" font-family=\"Helvetica,sans-Serif\" font-size=\"14.00\">class = no_delay</text>\r\n",
       "</g>\r\n",
       "<!-- 283&#45;&gt;397 -->\r\n",
       "<g id=\"edge21\" class=\"edge\"><title>283&#45;&gt;397</title>\r\n",
       "<path fill=\"none\" stroke=\"black\" d=\"M1230.75,-190.907C1249.09,-180.879 1268.85,-170.075 1287.58,-159.837\"/>\r\n",
       "<polygon fill=\"black\" stroke=\"black\" points=\"1289.29,-162.889 1296.39,-155.021 1285.93,-156.747 1289.29,-162.889\"/>\r\n",
       "</g>\r\n",
       "<!-- 285 -->\r\n",
       "<g id=\"node20\" class=\"node\"><title>285</title>\r\n",
       "<path fill=\"#c0c0c0\" stroke=\"black\" d=\"M1089.5,-36C1089.5,-36 1059.5,-36 1059.5,-36 1053.5,-36 1047.5,-30 1047.5,-24 1047.5,-24 1047.5,-12 1047.5,-12 1047.5,-6 1053.5,-0 1059.5,-0 1059.5,-0 1089.5,-0 1089.5,-0 1095.5,-0 1101.5,-6 1101.5,-12 1101.5,-12 1101.5,-24 1101.5,-24 1101.5,-30 1095.5,-36 1089.5,-36\"/>\r\n",
       "<text text-anchor=\"middle\" x=\"1074.5\" y=\"-14.3\" font-family=\"Helvetica,sans-Serif\" font-size=\"14.00\">(...)</text>\r\n",
       "</g>\r\n",
       "<!-- 284&#45;&gt;285 -->\r\n",
       "<g id=\"edge19\" class=\"edge\"><title>284&#45;&gt;285</title>\r\n",
       "<path fill=\"none\" stroke=\"black\" d=\"M1094.81,-71.7615C1091.46,-63.0419 1087.99,-54.0385 1084.89,-45.9921\"/>\r\n",
       "<polygon fill=\"black\" stroke=\"black\" points=\"1088.06,-44.4797 1081.2,-36.4051 1081.53,-46.9949 1088.06,-44.4797\"/>\r\n",
       "</g>\r\n",
       "<!-- 344 -->\r\n",
       "<g id=\"node21\" class=\"node\"><title>344</title>\r\n",
       "<path fill=\"#c0c0c0\" stroke=\"black\" d=\"M1161.5,-36C1161.5,-36 1131.5,-36 1131.5,-36 1125.5,-36 1119.5,-30 1119.5,-24 1119.5,-24 1119.5,-12 1119.5,-12 1119.5,-6 1125.5,-0 1131.5,-0 1131.5,-0 1161.5,-0 1161.5,-0 1167.5,-0 1173.5,-6 1173.5,-12 1173.5,-12 1173.5,-24 1173.5,-24 1173.5,-30 1167.5,-36 1161.5,-36\"/>\r\n",
       "<text text-anchor=\"middle\" x=\"1146.5\" y=\"-14.3\" font-family=\"Helvetica,sans-Serif\" font-size=\"14.00\">(...)</text>\r\n",
       "</g>\r\n",
       "<!-- 284&#45;&gt;344 -->\r\n",
       "<g id=\"edge20\" class=\"edge\"><title>284&#45;&gt;344</title>\r\n",
       "<path fill=\"none\" stroke=\"black\" d=\"M1126.19,-71.7615C1129.54,-63.0419 1133.01,-54.0385 1136.11,-45.9921\"/>\r\n",
       "<polygon fill=\"black\" stroke=\"black\" points=\"1139.47,-46.9949 1139.8,-36.4051 1132.94,-44.4797 1139.47,-46.9949\"/>\r\n",
       "</g>\r\n",
       "<!-- 398 -->\r\n",
       "<g id=\"node23\" class=\"node\"><title>398</title>\r\n",
       "<path fill=\"#c0c0c0\" stroke=\"black\" d=\"M1349.5,-36C1349.5,-36 1319.5,-36 1319.5,-36 1313.5,-36 1307.5,-30 1307.5,-24 1307.5,-24 1307.5,-12 1307.5,-12 1307.5,-6 1313.5,-0 1319.5,-0 1319.5,-0 1349.5,-0 1349.5,-0 1355.5,-0 1361.5,-6 1361.5,-12 1361.5,-12 1361.5,-24 1361.5,-24 1361.5,-30 1355.5,-36 1349.5,-36\"/>\r\n",
       "<text text-anchor=\"middle\" x=\"1334.5\" y=\"-14.3\" font-family=\"Helvetica,sans-Serif\" font-size=\"14.00\">(...)</text>\r\n",
       "</g>\r\n",
       "<!-- 397&#45;&gt;398 -->\r\n",
       "<g id=\"edge22\" class=\"edge\"><title>397&#45;&gt;398</title>\r\n",
       "<path fill=\"none\" stroke=\"black\" d=\"M1354.81,-71.7615C1351.46,-63.0419 1347.99,-54.0385 1344.89,-45.9921\"/>\r\n",
       "<polygon fill=\"black\" stroke=\"black\" points=\"1348.06,-44.4797 1341.2,-36.4051 1341.53,-46.9949 1348.06,-44.4797\"/>\r\n",
       "</g>\r\n",
       "<!-- 435 -->\r\n",
       "<g id=\"node24\" class=\"node\"><title>435</title>\r\n",
       "<path fill=\"#c0c0c0\" stroke=\"black\" d=\"M1421.5,-36C1421.5,-36 1391.5,-36 1391.5,-36 1385.5,-36 1379.5,-30 1379.5,-24 1379.5,-24 1379.5,-12 1379.5,-12 1379.5,-6 1385.5,-0 1391.5,-0 1391.5,-0 1421.5,-0 1421.5,-0 1427.5,-0 1433.5,-6 1433.5,-12 1433.5,-12 1433.5,-24 1433.5,-24 1433.5,-30 1427.5,-36 1421.5,-36\"/>\r\n",
       "<text text-anchor=\"middle\" x=\"1406.5\" y=\"-14.3\" font-family=\"Helvetica,sans-Serif\" font-size=\"14.00\">(...)</text>\r\n",
       "</g>\r\n",
       "<!-- 397&#45;&gt;435 -->\r\n",
       "<g id=\"edge23\" class=\"edge\"><title>397&#45;&gt;435</title>\r\n",
       "<path fill=\"none\" stroke=\"black\" d=\"M1386.19,-71.7615C1389.54,-63.0419 1393.01,-54.0385 1396.11,-45.9921\"/>\r\n",
       "<polygon fill=\"black\" stroke=\"black\" points=\"1399.47,-46.9949 1399.8,-36.4051 1392.94,-44.4797 1399.47,-46.9949\"/>\r\n",
       "</g>\r\n",
       "<!-- 467 -->\r\n",
       "<g id=\"node26\" class=\"node\"><title>467</title>\r\n",
       "<path fill=\"#61b1ea\" stroke=\"black\" d=\"M1663.5,-155C1663.5,-155 1521.5,-155 1521.5,-155 1515.5,-155 1509.5,-149 1509.5,-143 1509.5,-143 1509.5,-84 1509.5,-84 1509.5,-78 1515.5,-72 1521.5,-72 1521.5,-72 1663.5,-72 1663.5,-72 1669.5,-72 1675.5,-78 1675.5,-84 1675.5,-84 1675.5,-143 1675.5,-143 1675.5,-149 1669.5,-155 1663.5,-155\"/>\r\n",
       "<text text-anchor=\"middle\" x=\"1592.5\" y=\"-139.8\" font-family=\"Helvetica,sans-Serif\" font-size=\"14.00\">line_name_S3 &lt;= 0.5</text>\r\n",
       "<text text-anchor=\"middle\" x=\"1592.5\" y=\"-124.8\" font-family=\"Helvetica,sans-Serif\" font-size=\"14.00\">gini = 0.278</text>\r\n",
       "<text text-anchor=\"middle\" x=\"1592.5\" y=\"-109.8\" font-family=\"Helvetica,sans-Serif\" font-size=\"14.00\">samples = 2.6%</text>\r\n",
       "<text text-anchor=\"middle\" x=\"1592.5\" y=\"-94.8\" font-family=\"Helvetica,sans-Serif\" font-size=\"14.00\">value = [0.167, 0.833]</text>\r\n",
       "<text text-anchor=\"middle\" x=\"1592.5\" y=\"-79.8\" font-family=\"Helvetica,sans-Serif\" font-size=\"14.00\">class = important_delay</text>\r\n",
       "</g>\r\n",
       "<!-- 466&#45;&gt;467 -->\r\n",
       "<g id=\"edge25\" class=\"edge\"><title>466&#45;&gt;467</title>\r\n",
       "<path fill=\"none\" stroke=\"black\" d=\"M1592.5,-190.907C1592.5,-182.649 1592.5,-173.864 1592.5,-165.302\"/>\r\n",
       "<polygon fill=\"black\" stroke=\"black\" points=\"1596,-165.021 1592.5,-155.021 1589,-165.021 1596,-165.021\"/>\r\n",
       "</g>\r\n",
       "<!-- 528 -->\r\n",
       "<g id=\"node29\" class=\"node\"><title>528</title>\r\n",
       "<path fill=\"#399de5\" stroke=\"black\" d=\"M1847.5,-147.5C1847.5,-147.5 1705.5,-147.5 1705.5,-147.5 1699.5,-147.5 1693.5,-141.5 1693.5,-135.5 1693.5,-135.5 1693.5,-91.5 1693.5,-91.5 1693.5,-85.5 1699.5,-79.5 1705.5,-79.5 1705.5,-79.5 1847.5,-79.5 1847.5,-79.5 1853.5,-79.5 1859.5,-85.5 1859.5,-91.5 1859.5,-91.5 1859.5,-135.5 1859.5,-135.5 1859.5,-141.5 1853.5,-147.5 1847.5,-147.5\"/>\r\n",
       "<text text-anchor=\"middle\" x=\"1776.5\" y=\"-132.3\" font-family=\"Helvetica,sans-Serif\" font-size=\"14.00\">gini = 0.0</text>\r\n",
       "<text text-anchor=\"middle\" x=\"1776.5\" y=\"-117.3\" font-family=\"Helvetica,sans-Serif\" font-size=\"14.00\">samples = 0.2%</text>\r\n",
       "<text text-anchor=\"middle\" x=\"1776.5\" y=\"-102.3\" font-family=\"Helvetica,sans-Serif\" font-size=\"14.00\">value = [0.0, 1.0]</text>\r\n",
       "<text text-anchor=\"middle\" x=\"1776.5\" y=\"-87.3\" font-family=\"Helvetica,sans-Serif\" font-size=\"14.00\">class = important_delay</text>\r\n",
       "</g>\r\n",
       "<!-- 466&#45;&gt;528 -->\r\n",
       "<g id=\"edge28\" class=\"edge\"><title>466&#45;&gt;528</title>\r\n",
       "<path fill=\"none\" stroke=\"black\" d=\"M1656.34,-190.907C1675.6,-178.659 1696.69,-165.252 1715.74,-153.135\"/>\r\n",
       "<polygon fill=\"black\" stroke=\"black\" points=\"1717.78,-155.986 1724.34,-147.667 1714.02,-150.079 1717.78,-155.986\"/>\r\n",
       "</g>\r\n",
       "<!-- 468 -->\r\n",
       "<g id=\"node27\" class=\"node\"><title>468</title>\r\n",
       "<path fill=\"#c0c0c0\" stroke=\"black\" d=\"M1571.5,-36C1571.5,-36 1541.5,-36 1541.5,-36 1535.5,-36 1529.5,-30 1529.5,-24 1529.5,-24 1529.5,-12 1529.5,-12 1529.5,-6 1535.5,-0 1541.5,-0 1541.5,-0 1571.5,-0 1571.5,-0 1577.5,-0 1583.5,-6 1583.5,-12 1583.5,-12 1583.5,-24 1583.5,-24 1583.5,-30 1577.5,-36 1571.5,-36\"/>\r\n",
       "<text text-anchor=\"middle\" x=\"1556.5\" y=\"-14.3\" font-family=\"Helvetica,sans-Serif\" font-size=\"14.00\">(...)</text>\r\n",
       "</g>\r\n",
       "<!-- 467&#45;&gt;468 -->\r\n",
       "<g id=\"edge26\" class=\"edge\"><title>467&#45;&gt;468</title>\r\n",
       "<path fill=\"none\" stroke=\"black\" d=\"M1576.81,-71.7615C1573.46,-63.0419 1569.99,-54.0385 1566.89,-45.9921\"/>\r\n",
       "<polygon fill=\"black\" stroke=\"black\" points=\"1570.06,-44.4797 1563.2,-36.4051 1563.53,-46.9949 1570.06,-44.4797\"/>\r\n",
       "</g>\r\n",
       "<!-- 511 -->\r\n",
       "<g id=\"node28\" class=\"node\"><title>511</title>\r\n",
       "<path fill=\"#c0c0c0\" stroke=\"black\" d=\"M1643.5,-36C1643.5,-36 1613.5,-36 1613.5,-36 1607.5,-36 1601.5,-30 1601.5,-24 1601.5,-24 1601.5,-12 1601.5,-12 1601.5,-6 1607.5,-0 1613.5,-0 1613.5,-0 1643.5,-0 1643.5,-0 1649.5,-0 1655.5,-6 1655.5,-12 1655.5,-12 1655.5,-24 1655.5,-24 1655.5,-30 1649.5,-36 1643.5,-36\"/>\r\n",
       "<text text-anchor=\"middle\" x=\"1628.5\" y=\"-14.3\" font-family=\"Helvetica,sans-Serif\" font-size=\"14.00\">(...)</text>\r\n",
       "</g>\r\n",
       "<!-- 467&#45;&gt;511 -->\r\n",
       "<g id=\"edge27\" class=\"edge\"><title>467&#45;&gt;511</title>\r\n",
       "<path fill=\"none\" stroke=\"black\" d=\"M1608.19,-71.7615C1611.54,-63.0419 1615.01,-54.0385 1618.11,-45.9921\"/>\r\n",
       "<polygon fill=\"black\" stroke=\"black\" points=\"1621.47,-46.9949 1621.8,-36.4051 1614.94,-44.4797 1621.47,-46.9949\"/>\r\n",
       "</g>\r\n",
       "</g>\r\n",
       "</svg>\r\n"
      ],
      "text/plain": [
       "<graphviz.files.Source at 0x1f32ef14048>"
      ]
     },
     "execution_count": 87,
     "metadata": {},
     "output_type": "execute_result"
    }
   ],
   "source": [
    "from sklearn.tree import export_graphviz\n",
    "import graphviz\n",
    "\n",
    "# Export decision tree\n",
    "dot_data_i = export_graphviz(\n",
    "    dt_final_i, out_file=None,\n",
    "    max_depth=3,\n",
    "    feature_names=df_tr_arr_input_columns, \n",
    "    class_names=['no_delay','important_delay'],\n",
    "    filled=True, rounded=True, proportion=True)\n",
    "\n",
    "# Display decision tree\n",
    "graphviz.Source(dot_data_i)\n",
    "# maybe want to only consider non-balanced for DecisionTree ti make understanding predition more readable?"
   ]
  },
  {
   "cell_type": "markdown",
   "metadata": {},
   "source": [
    "**Comments DecisionTree:**\n",
    "* Interesting to be able to visualize trees but not really readable in this case when there are so many dimensions\n",
    "* Overall good performance with f1 socres at 0.54 and 0.17 but slightly below LogisticRegression and SVC Linear Especially high recall which means many false positive"
   ]
  },
  {
   "cell_type": "markdown",
   "metadata": {},
   "source": [
    "#### Performance on test set (DecisionTree Linear) <a name='dt_test' />\n",
    "*<a href=#top>Back to top</a>*"
   ]
  },
  {
   "cell_type": "code",
   "execution_count": 254,
   "metadata": {},
   "outputs": [
    {
     "name": "stdout",
     "output_type": "stream",
     "text": [
      "Area Under PR Curve: 0.591\n",
      "Classification report: DecisionTree TEST delay\n",
      "              precision    recall  f1-score   support\n",
      "\n",
      "    no_delay       0.95      0.68      0.79     80088\n",
      "       delay       0.49      0.88      0.63     27278\n",
      "\n",
      "    accuracy                           0.73    107366\n",
      "   macro avg       0.72      0.78      0.71    107366\n",
      "weighted avg       0.83      0.73      0.75    107366\n",
      "\n"
     ]
    }
   ],
   "source": [
    "# delay\n",
    "dt_test_probs_pos_d = dt_final_d.predict_proba(X_te_arr_reindex)[:,1]\n",
    "dt_precision_test_d, dt_recall_test_d, _ = precision_recall_curve(y_te_arr_delay_binary, dt_test_probs_pos_d, pos_label=1)\n",
    "dt_test_auc_pr_d = auc(dt_recall_test_d, dt_precision_test_d)\n",
    "print('Area Under PR Curve: {:.3f}'.format(dt_test_auc_pr_d))\n",
    "# use threshold\n",
    "y_pred_dt_test_d = dt_final_d.predict(X_te_arr_reindex) # prediction delay\n",
    "print('Classification report: DecisionTree TEST delay')\n",
    "report_dt_d= classification_report(y_true=y_te_arr_delay_binary, y_pred=y_pred_dt_test_d, target_names=['no_delay','delay'])\n",
    "f1_dt_test_d = classification_report(y_true=y_te_arr_delay_binary, y_pred=y_pred_dt_test_d, target_names=['no_delay','delay'], output_dict=True)['delay']['f1-score']\n",
    "precision_dt_test_d = classification_report(y_true=y_te_arr_delay_binary, y_pred=y_pred_dt_test_d, target_names=['no_delay','delay'], output_dict=True)['delay']['precision']\n",
    "recall_dt_test_d = classification_report(y_true=y_te_arr_delay_binary, y_pred=y_pred_dt_test_d, target_names=['no_delay','delay'], output_dict=True)['delay']['recall']\n",
    "print(report_dt_d)"
   ]
  },
  {
   "cell_type": "code",
   "execution_count": 255,
   "metadata": {},
   "outputs": [
    {
     "name": "stdout",
     "output_type": "stream",
     "text": [
      "Area Under PR Curve: 0.256\n",
      "Classification report: DecisionTree TEST important delay\n",
      "                 precision    recall  f1-score   support\n",
      "\n",
      "       no_delay       0.98      0.62      0.76    100362\n",
      "important_delay       0.13      0.78      0.22      7004\n",
      "\n",
      "       accuracy                           0.63    107366\n",
      "      macro avg       0.55      0.70      0.49    107366\n",
      "   weighted avg       0.92      0.63      0.72    107366\n",
      "\n"
     ]
    }
   ],
   "source": [
    "# important delay\n",
    "dt_test_probs_pos_i = dt_final_i.predict_proba(X_te_arr_reindex)[:,1]\n",
    "dt_precision_test_i, dt_recall_test_i, _ = precision_recall_curve(y_te_arr_imp_delay_binary, dt_test_probs_pos_i, pos_label=1)\n",
    "dt_test_auc_pr_i = auc(dt_recall_test_i, dt_precision_test_i)\n",
    "print('Area Under PR Curve: {:.3f}'.format(dt_test_auc_pr_i))\n",
    "# use threshold\n",
    "y_pred_dt_test_i = dt_final_i.predict(X_te_arr_reindex) # prediction delay\n",
    "print('Classification report: DecisionTree TEST important delay')\n",
    "report_dt_i= classification_report(y_true=y_te_arr_imp_delay_binary, y_pred=y_pred_dt_test_i, target_names=['no_delay','important_delay'])\n",
    "f1_dt_test_i = classification_report(y_true=y_te_arr_imp_delay_binary, y_pred=y_pred_dt_test_i, target_names=['no_delay','important_delay'], output_dict=True)['important_delay']['f1-score']\n",
    "precision_dt_test_i = classification_report(y_true=y_te_arr_imp_delay_binary, y_pred=y_pred_dt_test_i, target_names=['no_delay','important_delay'], output_dict=True)['important_delay']['precision']\n",
    "recall_dt_test_i = classification_report(y_true=y_te_arr_imp_delay_binary, y_pred=y_pred_dt_test_i, target_names=['no_delay','important_delay'], output_dict=True)['important_delay']['recall']\n",
    "print(report_dt_i)"
   ]
  },
  {
   "cell_type": "markdown",
   "metadata": {},
   "source": [
    "#### RandomForest <a name='rf' />\n",
    "*<a href=#top>Back to top</a>*\n",
    "#### Delay <a name='rf_delay' /> <a name='rf_delay_grid' />"
   ]
  },
  {
   "cell_type": "code",
   "execution_count": 90,
   "metadata": {},
   "outputs": [],
   "source": [
    "from sklearn.ensemble import RandomForestClassifier\n",
    "from sklearn.model_selection import GridSearchCV"
   ]
  },
  {
   "cell_type": "code",
   "execution_count": 91,
   "metadata": {},
   "outputs": [
    {
     "data": {
      "text/plain": [
       "GridSearchCV(cv=5, estimator=RandomForestClassifier(), n_jobs=-1,\n",
       "             param_grid={'class_weight': [None, 'balanced',\n",
       "                                          'balanced_subsample'],\n",
       "                         'max_depth': [3, 5, 7, 9, 11],\n",
       "                         'n_estimators': [1, 3, 5, 7, 9, 11, 13, 15]},\n",
       "             refit=False, return_train_score=True,\n",
       "             scoring=['precision', 'recall', 'average_precision', 'f1'])"
      ]
     },
     "execution_count": 91,
     "metadata": {},
     "output_type": "execute_result"
    }
   ],
   "source": [
    "# create RandomForest\n",
    "forest_d = RandomForestClassifier()\n",
    "# parameters\n",
    "balance_rf = [None, 'balanced', 'balanced_subsample']\n",
    "trees_rf = [3,5,7,9,11]\n",
    "estimators_rf = [1,3,5,7,9,11,13,15]\n",
    "param_grid_rf = dict(class_weight=balance_rf, max_depth=trees_rf, n_estimators=estimators_rf)\n",
    "# define GridSearchCV\n",
    "scoring = ['precision','recall','average_precision','f1']\n",
    "grid_rf_d = GridSearchCV(estimator=forest_d, param_grid=param_grid_rf, n_jobs=-1, cv=5, scoring=scoring, refit=False, return_train_score=True)\n",
    "# fit\n",
    "grid_rf_d.fit(X_tr_arr, y_tr_arr_delay_binary)"
   ]
  },
  {
   "cell_type": "code",
   "execution_count": 92,
   "metadata": {},
   "outputs": [
    {
     "data": {
      "text/plain": [
       "dict_keys(['mean_fit_time', 'std_fit_time', 'mean_score_time', 'std_score_time', 'param_class_weight', 'param_max_depth', 'param_n_estimators', 'params', 'split0_test_precision', 'split1_test_precision', 'split2_test_precision', 'split3_test_precision', 'split4_test_precision', 'mean_test_precision', 'std_test_precision', 'rank_test_precision', 'split0_train_precision', 'split1_train_precision', 'split2_train_precision', 'split3_train_precision', 'split4_train_precision', 'mean_train_precision', 'std_train_precision', 'split0_test_recall', 'split1_test_recall', 'split2_test_recall', 'split3_test_recall', 'split4_test_recall', 'mean_test_recall', 'std_test_recall', 'rank_test_recall', 'split0_train_recall', 'split1_train_recall', 'split2_train_recall', 'split3_train_recall', 'split4_train_recall', 'mean_train_recall', 'std_train_recall', 'split0_test_average_precision', 'split1_test_average_precision', 'split2_test_average_precision', 'split3_test_average_precision', 'split4_test_average_precision', 'mean_test_average_precision', 'std_test_average_precision', 'rank_test_average_precision', 'split0_train_average_precision', 'split1_train_average_precision', 'split2_train_average_precision', 'split3_train_average_precision', 'split4_train_average_precision', 'mean_train_average_precision', 'std_train_average_precision', 'split0_test_f1', 'split1_test_f1', 'split2_test_f1', 'split3_test_f1', 'split4_test_f1', 'mean_test_f1', 'std_test_f1', 'rank_test_f1', 'split0_train_f1', 'split1_train_f1', 'split2_train_f1', 'split3_train_f1', 'split4_train_f1', 'mean_train_f1', 'std_train_f1'])"
      ]
     },
     "execution_count": 92,
     "metadata": {},
     "output_type": "execute_result"
    }
   ],
   "source": [
    "# Get the results with \"cv_results\"\n",
    "grid_rf_d.cv_results_.keys()"
   ]
  },
  {
   "cell_type": "code",
   "execution_count": 93,
   "metadata": {},
   "outputs": [
    {
     "data": {
      "text/plain": [
       "array([0.03210183, 0.01840588, 0.01249549, 0.01389192, 0.00128669,\n",
       "       0.        , 0.00493679, 0.11833582, 0.07352153])"
      ]
     },
     "execution_count": 93,
     "metadata": {},
     "output_type": "execute_result"
    }
   ],
   "source": [
    "grid_rf_d.cv_results_['mean_test_f1'][1:10]"
   ]
  },
  {
   "cell_type": "code",
   "execution_count": 94,
   "metadata": {},
   "outputs": [
    {
     "data": {
      "text/html": [
       "<div>\n",
       "<style scoped>\n",
       "    .dataframe tbody tr th:only-of-type {\n",
       "        vertical-align: middle;\n",
       "    }\n",
       "\n",
       "    .dataframe tbody tr th {\n",
       "        vertical-align: top;\n",
       "    }\n",
       "\n",
       "    .dataframe thead th {\n",
       "        text-align: right;\n",
       "    }\n",
       "</style>\n",
       "<table border=\"1\" class=\"dataframe\">\n",
       "  <thead>\n",
       "    <tr style=\"text-align: right;\">\n",
       "      <th></th>\n",
       "      <th>mean_test_average_precision</th>\n",
       "      <th>mean_train_average_precision</th>\n",
       "      <th>std_test_average_precision</th>\n",
       "      <th>mean_test_f1</th>\n",
       "      <th>mean_train_f1</th>\n",
       "      <th>mean_test_recall</th>\n",
       "      <th>mean_train_recall</th>\n",
       "      <th>mean_test_precision</th>\n",
       "      <th>mean_train_precision</th>\n",
       "      <th>param_max_depth</th>\n",
       "      <th>param_n_estimators</th>\n",
       "      <th>param_class_weight</th>\n",
       "      <th>mean_fit_time</th>\n",
       "      <th>mean_score_time</th>\n",
       "    </tr>\n",
       "  </thead>\n",
       "  <tbody>\n",
       "    <tr>\n",
       "      <th>117</th>\n",
       "      <td>0.509801</td>\n",
       "      <td>0.605363</td>\n",
       "      <td>0.068372</td>\n",
       "      <td>0.567645</td>\n",
       "      <td>0.568688</td>\n",
       "      <td>0.957989</td>\n",
       "      <td>0.969250</td>\n",
       "      <td>0.403891</td>\n",
       "      <td>0.402465</td>\n",
       "      <td>11</td>\n",
       "      <td>11</td>\n",
       "      <td>balanced_subsample</td>\n",
       "      <td>19.264324</td>\n",
       "      <td>0.795781</td>\n",
       "    </tr>\n",
       "    <tr>\n",
       "      <th>114</th>\n",
       "      <td>0.531043</td>\n",
       "      <td>0.593525</td>\n",
       "      <td>0.045520</td>\n",
       "      <td>0.566198</td>\n",
       "      <td>0.574916</td>\n",
       "      <td>0.951235</td>\n",
       "      <td>0.964769</td>\n",
       "      <td>0.403333</td>\n",
       "      <td>0.409528</td>\n",
       "      <td>11</td>\n",
       "      <td>5</td>\n",
       "      <td>balanced_subsample</td>\n",
       "      <td>10.713417</td>\n",
       "      <td>0.701610</td>\n",
       "    </tr>\n",
       "    <tr>\n",
       "      <th>79</th>\n",
       "      <td>0.520073</td>\n",
       "      <td>0.611108</td>\n",
       "      <td>0.069928</td>\n",
       "      <td>0.565769</td>\n",
       "      <td>0.571288</td>\n",
       "      <td>0.952395</td>\n",
       "      <td>0.961092</td>\n",
       "      <td>0.402843</td>\n",
       "      <td>0.406692</td>\n",
       "      <td>11</td>\n",
       "      <td>15</td>\n",
       "      <td>balanced</td>\n",
       "      <td>21.762269</td>\n",
       "      <td>0.965477</td>\n",
       "    </tr>\n",
       "    <tr>\n",
       "      <th>119</th>\n",
       "      <td>0.518269</td>\n",
       "      <td>0.617490</td>\n",
       "      <td>0.065305</td>\n",
       "      <td>0.565760</td>\n",
       "      <td>0.572682</td>\n",
       "      <td>0.958905</td>\n",
       "      <td>0.973319</td>\n",
       "      <td>0.401347</td>\n",
       "      <td>0.405817</td>\n",
       "      <td>11</td>\n",
       "      <td>15</td>\n",
       "      <td>balanced_subsample</td>\n",
       "      <td>22.019253</td>\n",
       "      <td>0.674433</td>\n",
       "    </tr>\n",
       "    <tr>\n",
       "      <th>116</th>\n",
       "      <td>0.514527</td>\n",
       "      <td>0.606363</td>\n",
       "      <td>0.066703</td>\n",
       "      <td>0.564995</td>\n",
       "      <td>0.573467</td>\n",
       "      <td>0.950218</td>\n",
       "      <td>0.962551</td>\n",
       "      <td>0.402440</td>\n",
       "      <td>0.408555</td>\n",
       "      <td>11</td>\n",
       "      <td>9</td>\n",
       "      <td>balanced_subsample</td>\n",
       "      <td>18.106232</td>\n",
       "      <td>0.829804</td>\n",
       "    </tr>\n",
       "    <tr>\n",
       "      <th>77</th>\n",
       "      <td>0.514533</td>\n",
       "      <td>0.612274</td>\n",
       "      <td>0.077018</td>\n",
       "      <td>0.564903</td>\n",
       "      <td>0.571710</td>\n",
       "      <td>0.954999</td>\n",
       "      <td>0.968339</td>\n",
       "      <td>0.401292</td>\n",
       "      <td>0.405718</td>\n",
       "      <td>11</td>\n",
       "      <td>11</td>\n",
       "      <td>balanced</td>\n",
       "      <td>18.949736</td>\n",
       "      <td>0.878226</td>\n",
       "    </tr>\n",
       "    <tr>\n",
       "      <th>76</th>\n",
       "      <td>0.517870</td>\n",
       "      <td>0.609643</td>\n",
       "      <td>0.065371</td>\n",
       "      <td>0.564457</td>\n",
       "      <td>0.572110</td>\n",
       "      <td>0.946088</td>\n",
       "      <td>0.963864</td>\n",
       "      <td>0.402540</td>\n",
       "      <td>0.406883</td>\n",
       "      <td>11</td>\n",
       "      <td>9</td>\n",
       "      <td>balanced</td>\n",
       "      <td>16.383346</td>\n",
       "      <td>0.791699</td>\n",
       "    </tr>\n",
       "    <tr>\n",
       "      <th>118</th>\n",
       "      <td>0.501786</td>\n",
       "      <td>0.609121</td>\n",
       "      <td>0.090708</td>\n",
       "      <td>0.564396</td>\n",
       "      <td>0.569620</td>\n",
       "      <td>0.971233</td>\n",
       "      <td>0.982712</td>\n",
       "      <td>0.398110</td>\n",
       "      <td>0.401051</td>\n",
       "      <td>11</td>\n",
       "      <td>13</td>\n",
       "      <td>balanced_subsample</td>\n",
       "      <td>22.920151</td>\n",
       "      <td>0.946035</td>\n",
       "    </tr>\n",
       "    <tr>\n",
       "      <th>115</th>\n",
       "      <td>0.513937</td>\n",
       "      <td>0.601914</td>\n",
       "      <td>0.067329</td>\n",
       "      <td>0.564165</td>\n",
       "      <td>0.568453</td>\n",
       "      <td>0.959982</td>\n",
       "      <td>0.974407</td>\n",
       "      <td>0.400077</td>\n",
       "      <td>0.401318</td>\n",
       "      <td>11</td>\n",
       "      <td>7</td>\n",
       "      <td>balanced_subsample</td>\n",
       "      <td>15.984052</td>\n",
       "      <td>0.975893</td>\n",
       "    </tr>\n",
       "    <tr>\n",
       "      <th>78</th>\n",
       "      <td>0.512109</td>\n",
       "      <td>0.605628</td>\n",
       "      <td>0.077752</td>\n",
       "      <td>0.564006</td>\n",
       "      <td>0.568020</td>\n",
       "      <td>0.961265</td>\n",
       "      <td>0.974305</td>\n",
       "      <td>0.399210</td>\n",
       "      <td>0.400967</td>\n",
       "      <td>11</td>\n",
       "      <td>13</td>\n",
       "      <td>balanced</td>\n",
       "      <td>21.448375</td>\n",
       "      <td>0.857709</td>\n",
       "    </tr>\n",
       "    <tr>\n",
       "      <th>74</th>\n",
       "      <td>0.506284</td>\n",
       "      <td>0.589867</td>\n",
       "      <td>0.066471</td>\n",
       "      <td>0.563675</td>\n",
       "      <td>0.569343</td>\n",
       "      <td>0.974630</td>\n",
       "      <td>0.981838</td>\n",
       "      <td>0.397095</td>\n",
       "      <td>0.400966</td>\n",
       "      <td>11</td>\n",
       "      <td>5</td>\n",
       "      <td>balanced</td>\n",
       "      <td>10.709894</td>\n",
       "      <td>0.665725</td>\n",
       "    </tr>\n",
       "    <tr>\n",
       "      <th>108</th>\n",
       "      <td>0.518153</td>\n",
       "      <td>0.569583</td>\n",
       "      <td>0.041590</td>\n",
       "      <td>0.563647</td>\n",
       "      <td>0.566195</td>\n",
       "      <td>0.948609</td>\n",
       "      <td>0.958488</td>\n",
       "      <td>0.402105</td>\n",
       "      <td>0.402040</td>\n",
       "      <td>9</td>\n",
       "      <td>9</td>\n",
       "      <td>balanced_subsample</td>\n",
       "      <td>22.268401</td>\n",
       "      <td>1.162000</td>\n",
       "    </tr>\n",
       "    <tr>\n",
       "      <th>75</th>\n",
       "      <td>0.535605</td>\n",
       "      <td>0.596819</td>\n",
       "      <td>0.042455</td>\n",
       "      <td>0.562453</td>\n",
       "      <td>0.569407</td>\n",
       "      <td>0.947166</td>\n",
       "      <td>0.966702</td>\n",
       "      <td>0.400234</td>\n",
       "      <td>0.403713</td>\n",
       "      <td>11</td>\n",
       "      <td>7</td>\n",
       "      <td>balanced</td>\n",
       "      <td>12.983642</td>\n",
       "      <td>0.767908</td>\n",
       "    </tr>\n",
       "    <tr>\n",
       "      <th>109</th>\n",
       "      <td>0.508973</td>\n",
       "      <td>0.578937</td>\n",
       "      <td>0.059078</td>\n",
       "      <td>0.560723</td>\n",
       "      <td>0.562280</td>\n",
       "      <td>0.941592</td>\n",
       "      <td>0.944623</td>\n",
       "      <td>0.399443</td>\n",
       "      <td>0.400377</td>\n",
       "      <td>9</td>\n",
       "      <td>11</td>\n",
       "      <td>balanced_subsample</td>\n",
       "      <td>24.679194</td>\n",
       "      <td>1.124401</td>\n",
       "    </tr>\n",
       "    <tr>\n",
       "      <th>106</th>\n",
       "      <td>0.502141</td>\n",
       "      <td>0.554066</td>\n",
       "      <td>0.038213</td>\n",
       "      <td>0.560093</td>\n",
       "      <td>0.562812</td>\n",
       "      <td>0.964825</td>\n",
       "      <td>0.971498</td>\n",
       "      <td>0.394791</td>\n",
       "      <td>0.396262</td>\n",
       "      <td>9</td>\n",
       "      <td>5</td>\n",
       "      <td>balanced_subsample</td>\n",
       "      <td>14.977598</td>\n",
       "      <td>1.016001</td>\n",
       "    </tr>\n",
       "    <tr>\n",
       "      <th>69</th>\n",
       "      <td>0.503065</td>\n",
       "      <td>0.585791</td>\n",
       "      <td>0.067695</td>\n",
       "      <td>0.560087</td>\n",
       "      <td>0.565263</td>\n",
       "      <td>0.930790</td>\n",
       "      <td>0.944236</td>\n",
       "      <td>0.400644</td>\n",
       "      <td>0.403604</td>\n",
       "      <td>9</td>\n",
       "      <td>11</td>\n",
       "      <td>balanced</td>\n",
       "      <td>16.594950</td>\n",
       "      <td>0.855720</td>\n",
       "    </tr>\n",
       "    <tr>\n",
       "      <th>73</th>\n",
       "      <td>0.494597</td>\n",
       "      <td>0.570181</td>\n",
       "      <td>0.056512</td>\n",
       "      <td>0.559826</td>\n",
       "      <td>0.569811</td>\n",
       "      <td>0.925134</td>\n",
       "      <td>0.947588</td>\n",
       "      <td>0.401902</td>\n",
       "      <td>0.407674</td>\n",
       "      <td>11</td>\n",
       "      <td>3</td>\n",
       "      <td>balanced</td>\n",
       "      <td>7.667142</td>\n",
       "      <td>0.557011</td>\n",
       "    </tr>\n",
       "    <tr>\n",
       "      <th>72</th>\n",
       "      <td>0.469391</td>\n",
       "      <td>0.499325</td>\n",
       "      <td>0.035287</td>\n",
       "      <td>0.559800</td>\n",
       "      <td>0.565536</td>\n",
       "      <td>0.935264</td>\n",
       "      <td>0.942991</td>\n",
       "      <td>0.400804</td>\n",
       "      <td>0.404950</td>\n",
       "      <td>11</td>\n",
       "      <td>1</td>\n",
       "      <td>balanced</td>\n",
       "      <td>5.014721</td>\n",
       "      <td>0.525238</td>\n",
       "    </tr>\n",
       "    <tr>\n",
       "      <th>65</th>\n",
       "      <td>0.483998</td>\n",
       "      <td>0.526885</td>\n",
       "      <td>0.041776</td>\n",
       "      <td>0.559177</td>\n",
       "      <td>0.565008</td>\n",
       "      <td>0.930850</td>\n",
       "      <td>0.945950</td>\n",
       "      <td>0.400237</td>\n",
       "      <td>0.403563</td>\n",
       "      <td>9</td>\n",
       "      <td>3</td>\n",
       "      <td>balanced</td>\n",
       "      <td>6.925230</td>\n",
       "      <td>0.550516</td>\n",
       "    </tr>\n",
       "    <tr>\n",
       "      <th>68</th>\n",
       "      <td>0.499274</td>\n",
       "      <td>0.571273</td>\n",
       "      <td>0.057911</td>\n",
       "      <td>0.558996</td>\n",
       "      <td>0.563219</td>\n",
       "      <td>0.936323</td>\n",
       "      <td>0.944999</td>\n",
       "      <td>0.399065</td>\n",
       "      <td>0.401806</td>\n",
       "      <td>9</td>\n",
       "      <td>9</td>\n",
       "      <td>balanced</td>\n",
       "      <td>14.133061</td>\n",
       "      <td>0.843775</td>\n",
       "    </tr>\n",
       "  </tbody>\n",
       "</table>\n",
       "</div>"
      ],
      "text/plain": [
       "     mean_test_average_precision  mean_train_average_precision  \\\n",
       "117                     0.509801                      0.605363   \n",
       "114                     0.531043                      0.593525   \n",
       "79                      0.520073                      0.611108   \n",
       "119                     0.518269                      0.617490   \n",
       "116                     0.514527                      0.606363   \n",
       "77                      0.514533                      0.612274   \n",
       "76                      0.517870                      0.609643   \n",
       "118                     0.501786                      0.609121   \n",
       "115                     0.513937                      0.601914   \n",
       "78                      0.512109                      0.605628   \n",
       "74                      0.506284                      0.589867   \n",
       "108                     0.518153                      0.569583   \n",
       "75                      0.535605                      0.596819   \n",
       "109                     0.508973                      0.578937   \n",
       "106                     0.502141                      0.554066   \n",
       "69                      0.503065                      0.585791   \n",
       "73                      0.494597                      0.570181   \n",
       "72                      0.469391                      0.499325   \n",
       "65                      0.483998                      0.526885   \n",
       "68                      0.499274                      0.571273   \n",
       "\n",
       "     std_test_average_precision  mean_test_f1  mean_train_f1  \\\n",
       "117                    0.068372      0.567645       0.568688   \n",
       "114                    0.045520      0.566198       0.574916   \n",
       "79                     0.069928      0.565769       0.571288   \n",
       "119                    0.065305      0.565760       0.572682   \n",
       "116                    0.066703      0.564995       0.573467   \n",
       "77                     0.077018      0.564903       0.571710   \n",
       "76                     0.065371      0.564457       0.572110   \n",
       "118                    0.090708      0.564396       0.569620   \n",
       "115                    0.067329      0.564165       0.568453   \n",
       "78                     0.077752      0.564006       0.568020   \n",
       "74                     0.066471      0.563675       0.569343   \n",
       "108                    0.041590      0.563647       0.566195   \n",
       "75                     0.042455      0.562453       0.569407   \n",
       "109                    0.059078      0.560723       0.562280   \n",
       "106                    0.038213      0.560093       0.562812   \n",
       "69                     0.067695      0.560087       0.565263   \n",
       "73                     0.056512      0.559826       0.569811   \n",
       "72                     0.035287      0.559800       0.565536   \n",
       "65                     0.041776      0.559177       0.565008   \n",
       "68                     0.057911      0.558996       0.563219   \n",
       "\n",
       "     mean_test_recall  mean_train_recall  mean_test_precision  \\\n",
       "117          0.957989           0.969250             0.403891   \n",
       "114          0.951235           0.964769             0.403333   \n",
       "79           0.952395           0.961092             0.402843   \n",
       "119          0.958905           0.973319             0.401347   \n",
       "116          0.950218           0.962551             0.402440   \n",
       "77           0.954999           0.968339             0.401292   \n",
       "76           0.946088           0.963864             0.402540   \n",
       "118          0.971233           0.982712             0.398110   \n",
       "115          0.959982           0.974407             0.400077   \n",
       "78           0.961265           0.974305             0.399210   \n",
       "74           0.974630           0.981838             0.397095   \n",
       "108          0.948609           0.958488             0.402105   \n",
       "75           0.947166           0.966702             0.400234   \n",
       "109          0.941592           0.944623             0.399443   \n",
       "106          0.964825           0.971498             0.394791   \n",
       "69           0.930790           0.944236             0.400644   \n",
       "73           0.925134           0.947588             0.401902   \n",
       "72           0.935264           0.942991             0.400804   \n",
       "65           0.930850           0.945950             0.400237   \n",
       "68           0.936323           0.944999             0.399065   \n",
       "\n",
       "     mean_train_precision param_max_depth param_n_estimators  \\\n",
       "117              0.402465              11                 11   \n",
       "114              0.409528              11                  5   \n",
       "79               0.406692              11                 15   \n",
       "119              0.405817              11                 15   \n",
       "116              0.408555              11                  9   \n",
       "77               0.405718              11                 11   \n",
       "76               0.406883              11                  9   \n",
       "118              0.401051              11                 13   \n",
       "115              0.401318              11                  7   \n",
       "78               0.400967              11                 13   \n",
       "74               0.400966              11                  5   \n",
       "108              0.402040               9                  9   \n",
       "75               0.403713              11                  7   \n",
       "109              0.400377               9                 11   \n",
       "106              0.396262               9                  5   \n",
       "69               0.403604               9                 11   \n",
       "73               0.407674              11                  3   \n",
       "72               0.404950              11                  1   \n",
       "65               0.403563               9                  3   \n",
       "68               0.401806               9                  9   \n",
       "\n",
       "     param_class_weight  mean_fit_time  mean_score_time  \n",
       "117  balanced_subsample      19.264324         0.795781  \n",
       "114  balanced_subsample      10.713417         0.701610  \n",
       "79             balanced      21.762269         0.965477  \n",
       "119  balanced_subsample      22.019253         0.674433  \n",
       "116  balanced_subsample      18.106232         0.829804  \n",
       "77             balanced      18.949736         0.878226  \n",
       "76             balanced      16.383346         0.791699  \n",
       "118  balanced_subsample      22.920151         0.946035  \n",
       "115  balanced_subsample      15.984052         0.975893  \n",
       "78             balanced      21.448375         0.857709  \n",
       "74             balanced      10.709894         0.665725  \n",
       "108  balanced_subsample      22.268401         1.162000  \n",
       "75             balanced      12.983642         0.767908  \n",
       "109  balanced_subsample      24.679194         1.124401  \n",
       "106  balanced_subsample      14.977598         1.016001  \n",
       "69             balanced      16.594950         0.855720  \n",
       "73             balanced       7.667142         0.557011  \n",
       "72             balanced       5.014721         0.525238  \n",
       "65             balanced       6.925230         0.550516  \n",
       "68             balanced      14.133061         0.843775  "
      ]
     },
     "execution_count": 94,
     "metadata": {},
     "output_type": "execute_result"
    }
   ],
   "source": [
    "cols = ['mean_test_average_precision','mean_train_average_precision','std_test_average_precision',\\\n",
    "        'mean_test_f1','mean_train_f1',\\\n",
    "        'mean_test_recall','mean_train_recall','mean_test_precision','mean_train_precision',\\\n",
    "        'param_max_depth','param_n_estimators','param_class_weight',\\\n",
    "        'mean_fit_time','mean_score_time']\n",
    "# Delay GridSearchCV\n",
    "grid_rf_df_d = pd.DataFrame(grid_rf_d.cv_results_)[cols].sort_values(by='mean_test_f1', ascending=False)\n",
    "grid_rf_df_d.head(20)"
   ]
  },
  {
   "cell_type": "code",
   "execution_count": 95,
   "metadata": {},
   "outputs": [
    {
     "name": "stdout",
     "output_type": "stream",
     "text": [
      "Area Under PR Curve: 0.487\n"
     ]
    }
   ],
   "source": [
    "# going with (73) because decent AP, very high f1 and recall, precision similar to other and best 'fit_time'\n",
    "forest_final_d = RandomForestClassifier(criterion='gini', max_depth=11, n_estimators=3, random_state=0, class_weight='balanced_subsample')\n",
    "# fit\n",
    "forest_final_d.fit(X_tr_arr, y_tr_arr_delay_binary)\n",
    "# predict\n",
    "y_pred_forest_va_final_d = forest_final_d.predict(X_va_arr_reindex) # prediction delay\n",
    "# predict probabilities\n",
    "forest_final_probs_d = forest_final_d.predict_proba(X_va_arr_reindex)\n",
    "# keep probabilities for the positive outcome only\n",
    "forest_final_probs_pos_d = forest_final_probs_d[:,1]\n",
    "# Precision-recall curve metrics\n",
    "rf_precision_final_d, rf_recall_final_d, rf_thres_final_d = precision_recall_curve(y_va_arr_delay_binary, forest_final_probs_pos_d, pos_label=1)\n",
    "rf_final_auprc_d = auc(rf_recall_final_d, rf_precision_final_d)\n",
    "print('Area Under PR Curve: {:.3f}'.format(rf_final_auprc_d))"
   ]
  },
  {
   "cell_type": "markdown",
   "metadata": {},
   "source": [
    "#### Best threshold (RandomForest - Delay) <a name='rf_delay_thres' />\n",
    "*<a href=#top>Back to top</a>*"
   ]
  },
  {
   "cell_type": "code",
   "execution_count": 96,
   "metadata": {},
   "outputs": [
    {
     "name": "stdout",
     "output_type": "stream",
     "text": [
      "Best Threshold: 0.608\n",
      "Probabilities: [0.61799597 0.52203743 0.61799597 0.55905321 0.89401426 0.64835105\n",
      " 0.71057243 0.71057243 0.71057243 0.71057243]\n",
      "Predictions: [1 0 1 0 1 1 1 1 1 1]\n"
     ]
    }
   ],
   "source": [
    "from numpy import argmax\n",
    "fscores_rf_d = (2 * rf_precision_final_d * rf_recall_final_d) / (rf_precision_final_d + rf_recall_final_d)\n",
    "rf_bt_d = rf_thres_final_d[argmax(fscores_rf_d)]\n",
    "print('Best Threshold: {:.3f}'.format(rf_bt_d))\n",
    "# use threshold in model\n",
    "rf_final_curve_d = np.where(forest_final_probs_d[:,1] > rf_bt_d, 1,0)\n",
    "print('Probabilities:',forest_final_probs_d[0:10,1])\n",
    "print('Predictions:',rf_final_curve_d[0:10])"
   ]
  },
  {
   "cell_type": "markdown",
   "metadata": {},
   "source": [
    "#### Classification report (RandomForest - Delay) <a name='rf_delay_report' />\n",
    "*<a href=#top>Back to top</a>*"
   ]
  },
  {
   "cell_type": "code",
   "execution_count": 97,
   "metadata": {},
   "outputs": [
    {
     "name": "stdout",
     "output_type": "stream",
     "text": [
      "Classification report: RandomForest delay\n",
      "              precision    recall  f1-score   support\n",
      "\n",
      "    no_delay       0.91      0.74      0.81     86652\n",
      "       delay       0.41      0.71      0.52     22068\n",
      "\n",
      "    accuracy                           0.73    108720\n",
      "   macro avg       0.66      0.72      0.66    108720\n",
      "weighted avg       0.81      0.73      0.75    108720\n",
      "\n"
     ]
    }
   ],
   "source": [
    "print('Classification report: RandomForest delay')\n",
    "report_forest_final_d= classification_report(y_true=y_va_arr_delay_binary, y_pred=rf_final_curve_d, target_names=['no_delay','delay'])\n",
    "print(report_forest_final_d)"
   ]
  },
  {
   "cell_type": "markdown",
   "metadata": {},
   "source": [
    "#### Confusion Matrix (RandomForest - Delay) <a name='rf_delay_report' />\n",
    "*<a href=#top>Back to top</a>*"
   ]
  },
  {
   "cell_type": "code",
   "execution_count": 98,
   "metadata": {},
   "outputs": [
    {
     "name": "stdout",
     "output_type": "stream",
     "text": [
      "Confusion matrix (normalized): RandomForest delay\n"
     ]
    },
    {
     "data": {
      "text/html": [
       "<div>\n",
       "<style scoped>\n",
       "    .dataframe tbody tr th:only-of-type {\n",
       "        vertical-align: middle;\n",
       "    }\n",
       "\n",
       "    .dataframe tbody tr th {\n",
       "        vertical-align: top;\n",
       "    }\n",
       "\n",
       "    .dataframe thead th {\n",
       "        text-align: right;\n",
       "    }\n",
       "</style>\n",
       "<table border=\"1\" class=\"dataframe\">\n",
       "  <thead>\n",
       "    <tr style=\"text-align: right;\">\n",
       "      <th></th>\n",
       "      <th>pred: no delay</th>\n",
       "      <th>pred: delay</th>\n",
       "    </tr>\n",
       "  </thead>\n",
       "  <tbody>\n",
       "    <tr>\n",
       "      <th>true: no delay</th>\n",
       "      <td>0.585872</td>\n",
       "      <td>0.211148</td>\n",
       "    </tr>\n",
       "    <tr>\n",
       "      <th>true: delay</th>\n",
       "      <td>0.058913</td>\n",
       "      <td>0.144067</td>\n",
       "    </tr>\n",
       "  </tbody>\n",
       "</table>\n",
       "</div>"
      ],
      "text/plain": [
       "                pred: no delay  pred: delay\n",
       "true: no delay        0.585872     0.211148\n",
       "true: delay           0.058913     0.144067"
      ]
     },
     "execution_count": 98,
     "metadata": {},
     "output_type": "execute_result"
    }
   ],
   "source": [
    "# Confusion matrix 'RF important delay'\n",
    "matrix_rf_d = confusion_matrix(y_true=y_va_arr_delay_binary, y_pred=rf_final_curve_d,normalize='all') # normalize either on columns/rows or all\n",
    "matrix_rf_d = pd.DataFrame(\n",
    "    matrix_rf_d, \n",
    "    columns=['pred: no delay', 'pred: delay'],\n",
    "    index=['true: no delay', 'true: delay']\n",
    ")\n",
    "print('Confusion matrix (normalized): RandomForest delay')\n",
    "matrix_rf_d"
   ]
  },
  {
   "cell_type": "markdown",
   "metadata": {},
   "source": [
    "#### Important delay <a name='rf_imp_delay' /><a name='rf_imp_delay_grid' />\n",
    "*<a href=#top>Back to top</a>*"
   ]
  },
  {
   "cell_type": "code",
   "execution_count": 99,
   "metadata": {},
   "outputs": [
    {
     "data": {
      "text/plain": [
       "GridSearchCV(cv=5, estimator=RandomForestClassifier(), n_jobs=-1,\n",
       "             param_grid={'class_weight': [None, 'balanced',\n",
       "                                          'balanced_subsample'],\n",
       "                         'max_depth': [3, 5, 7, 9, 11],\n",
       "                         'n_estimators': [1, 3, 5, 7, 9, 11, 13, 15]},\n",
       "             refit=False, return_train_score=True,\n",
       "             scoring=['precision', 'recall', 'average_precision', 'f1'])"
      ]
     },
     "execution_count": 99,
     "metadata": {},
     "output_type": "execute_result"
    }
   ],
   "source": [
    "# create RandomForest\n",
    "forest_i = RandomForestClassifier()\n",
    "# parameters\n",
    "balance_rf = [None, 'balanced', 'balanced_subsample']\n",
    "trees_rf = [3,5,7,9,11]\n",
    "estimators_rf = [1,3,5,7,9,11,13,15]\n",
    "param_grid_rf = dict(class_weight=balance_rf, max_depth=trees_rf, n_estimators=estimators_rf)\n",
    "# define GridSearchCV\n",
    "scoring = ['precision','recall','average_precision','f1']\n",
    "grid_rf_i = GridSearchCV(estimator=forest_i, param_grid=param_grid_rf, n_jobs=-1, cv=5, scoring=scoring, refit=False, return_train_score=True)\n",
    "# fit\n",
    "grid_rf_i.fit(X_tr_arr, y_tr_arr_imp_delay_binary)"
   ]
  },
  {
   "cell_type": "code",
   "execution_count": 100,
   "metadata": {},
   "outputs": [
    {
     "data": {
      "text/plain": [
       "dict_keys(['mean_fit_time', 'std_fit_time', 'mean_score_time', 'std_score_time', 'param_class_weight', 'param_max_depth', 'param_n_estimators', 'params', 'split0_test_precision', 'split1_test_precision', 'split2_test_precision', 'split3_test_precision', 'split4_test_precision', 'mean_test_precision', 'std_test_precision', 'rank_test_precision', 'split0_train_precision', 'split1_train_precision', 'split2_train_precision', 'split3_train_precision', 'split4_train_precision', 'mean_train_precision', 'std_train_precision', 'split0_test_recall', 'split1_test_recall', 'split2_test_recall', 'split3_test_recall', 'split4_test_recall', 'mean_test_recall', 'std_test_recall', 'rank_test_recall', 'split0_train_recall', 'split1_train_recall', 'split2_train_recall', 'split3_train_recall', 'split4_train_recall', 'mean_train_recall', 'std_train_recall', 'split0_test_average_precision', 'split1_test_average_precision', 'split2_test_average_precision', 'split3_test_average_precision', 'split4_test_average_precision', 'mean_test_average_precision', 'std_test_average_precision', 'rank_test_average_precision', 'split0_train_average_precision', 'split1_train_average_precision', 'split2_train_average_precision', 'split3_train_average_precision', 'split4_train_average_precision', 'mean_train_average_precision', 'std_train_average_precision', 'split0_test_f1', 'split1_test_f1', 'split2_test_f1', 'split3_test_f1', 'split4_test_f1', 'mean_test_f1', 'std_test_f1', 'rank_test_f1', 'split0_train_f1', 'split1_train_f1', 'split2_train_f1', 'split3_train_f1', 'split4_train_f1', 'mean_train_f1', 'std_train_f1'])"
      ]
     },
     "execution_count": 100,
     "metadata": {},
     "output_type": "execute_result"
    }
   ],
   "source": [
    "# Get the results with \"cv_results\"\n",
    "grid_rf_i.cv_results_.keys()"
   ]
  },
  {
   "cell_type": "code",
   "execution_count": 101,
   "metadata": {},
   "outputs": [
    {
     "data": {
      "text/plain": [
       "array([3.53405475e-03, 0.00000000e+00, 0.00000000e+00, 0.00000000e+00,\n",
       "       0.00000000e+00, 0.00000000e+00, 0.00000000e+00, 0.00000000e+00,\n",
       "       1.35046554e-02, 3.36597314e-03, 3.56188780e-04, 1.59786951e-03,\n",
       "       2.83229814e-02, 3.53356890e-03, 0.00000000e+00, 0.00000000e+00,\n",
       "       3.56727526e-02, 1.56594735e-02, 3.54893995e-03, 3.65147550e-02,\n",
       "       1.78094390e-04, 2.41430009e-02, 0.00000000e+00, 2.22222222e-02,\n",
       "       6.55874835e-02, 7.58866897e-02, 1.77518602e-03, 2.57857586e-02,\n",
       "       4.46698258e-02, 3.58203521e-02, 3.69687086e-02, 2.48928581e-03,\n",
       "       5.86512202e-02, 5.92967812e-02, 4.64063417e-02, 5.98698195e-02,\n",
       "       4.53313146e-02, 6.30075066e-02, 3.94998684e-02, 2.42941591e-02,\n",
       "       1.53204454e-01, 1.48723808e-01, 1.66223271e-01, 1.65660789e-01,\n",
       "       1.67274729e-01, 1.67690226e-01, 1.64943394e-01, 1.63369246e-01,\n",
       "       1.39995943e-01, 1.63984117e-01, 1.69301585e-01, 1.65994164e-01,\n",
       "       1.70085999e-01, 1.69592741e-01, 1.72188813e-01, 1.72453443e-01,\n",
       "       1.58130697e-01, 1.64536262e-01, 1.68016475e-01, 1.69047482e-01,\n",
       "       1.64767752e-01, 1.68749108e-01, 1.69646798e-01, 1.68185546e-01,\n",
       "       1.61808082e-01, 1.68846573e-01, 1.67622314e-01, 1.71984886e-01,\n",
       "       1.68300031e-01, 1.73064754e-01, 1.70167649e-01, 1.69907433e-01,\n",
       "       1.62150652e-01, 1.70163013e-01, 1.78632516e-01, 1.70527041e-01,\n",
       "       1.73566416e-01, 1.74641101e-01, 1.67650181e-01, 1.74727364e-01,\n",
       "       1.33934873e-01, 1.75828656e-01, 1.65595902e-01, 1.63878889e-01,\n",
       "       1.67788103e-01, 1.63400442e-01, 1.62663943e-01, 1.67758426e-01,\n",
       "       1.66406187e-01, 1.61304180e-01, 1.61063083e-01, 1.67329127e-01,\n",
       "       1.69638524e-01, 1.71988777e-01, 1.73427172e-01, 1.72074276e-01,\n",
       "       1.60434824e-01, 1.60098957e-01, 1.69187628e-01, 1.72391051e-01,\n",
       "       1.72910002e-01, 1.70352676e-01, 1.69129988e-01, 1.72024011e-01,\n",
       "       1.63936542e-01, 1.63469762e-01, 1.64943321e-01, 1.70873811e-01,\n",
       "       1.68955125e-01, 1.71164500e-01, 1.74377189e-01, 1.69464919e-01,\n",
       "       1.62066644e-01, 1.69316556e-01, 1.72958000e-01, 1.71498301e-01,\n",
       "       1.71421493e-01, 1.68347498e-01, 1.78016289e-01, 1.72753810e-01])"
      ]
     },
     "execution_count": 101,
     "metadata": {},
     "output_type": "execute_result"
    }
   ],
   "source": [
    "grid_rf_i.cv_results_['mean_test_f1']"
   ]
  },
  {
   "cell_type": "code",
   "execution_count": 102,
   "metadata": {},
   "outputs": [
    {
     "data": {
      "text/html": [
       "<div>\n",
       "<style scoped>\n",
       "    .dataframe tbody tr th:only-of-type {\n",
       "        vertical-align: middle;\n",
       "    }\n",
       "\n",
       "    .dataframe tbody tr th {\n",
       "        vertical-align: top;\n",
       "    }\n",
       "\n",
       "    .dataframe thead th {\n",
       "        text-align: right;\n",
       "    }\n",
       "</style>\n",
       "<table border=\"1\" class=\"dataframe\">\n",
       "  <thead>\n",
       "    <tr style=\"text-align: right;\">\n",
       "      <th></th>\n",
       "      <th>mean_test_average_precision</th>\n",
       "      <th>mean_train_average_precision</th>\n",
       "      <th>std_test_average_precision</th>\n",
       "      <th>mean_test_f1</th>\n",
       "      <th>mean_train_f1</th>\n",
       "      <th>mean_test_recall</th>\n",
       "      <th>mean_train_recall</th>\n",
       "      <th>mean_test_precision</th>\n",
       "      <th>mean_train_precision</th>\n",
       "      <th>param_max_depth</th>\n",
       "      <th>param_n_estimators</th>\n",
       "      <th>param_class_weight</th>\n",
       "      <th>mean_fit_time</th>\n",
       "      <th>mean_score_time</th>\n",
       "    </tr>\n",
       "  </thead>\n",
       "  <tbody>\n",
       "    <tr>\n",
       "      <th>74</th>\n",
       "      <td>0.168295</td>\n",
       "      <td>0.252143</td>\n",
       "      <td>0.065338</td>\n",
       "      <td>0.178633</td>\n",
       "      <td>0.195484</td>\n",
       "      <td>0.833467</td>\n",
       "      <td>0.911050</td>\n",
       "      <td>0.100084</td>\n",
       "      <td>0.109512</td>\n",
       "      <td>11</td>\n",
       "      <td>5</td>\n",
       "      <td>balanced</td>\n",
       "      <td>9.831347</td>\n",
       "      <td>0.609059</td>\n",
       "    </tr>\n",
       "    <tr>\n",
       "      <th>118</th>\n",
       "      <td>0.192001</td>\n",
       "      <td>0.296008</td>\n",
       "      <td>0.067369</td>\n",
       "      <td>0.178016</td>\n",
       "      <td>0.193086</td>\n",
       "      <td>0.876086</td>\n",
       "      <td>0.950588</td>\n",
       "      <td>0.099215</td>\n",
       "      <td>0.107501</td>\n",
       "      <td>11</td>\n",
       "      <td>13</td>\n",
       "      <td>balanced_subsample</td>\n",
       "      <td>20.389284</td>\n",
       "      <td>0.823479</td>\n",
       "    </tr>\n",
       "    <tr>\n",
       "      <th>81</th>\n",
       "      <td>0.125873</td>\n",
       "      <td>0.121584</td>\n",
       "      <td>0.023690</td>\n",
       "      <td>0.175829</td>\n",
       "      <td>0.169374</td>\n",
       "      <td>0.747153</td>\n",
       "      <td>0.730210</td>\n",
       "      <td>0.100738</td>\n",
       "      <td>0.096978</td>\n",
       "      <td>3</td>\n",
       "      <td>3</td>\n",
       "      <td>balanced_subsample</td>\n",
       "      <td>5.209566</td>\n",
       "      <td>0.500838</td>\n",
       "    </tr>\n",
       "    <tr>\n",
       "      <th>79</th>\n",
       "      <td>0.194746</td>\n",
       "      <td>0.303931</td>\n",
       "      <td>0.086221</td>\n",
       "      <td>0.174727</td>\n",
       "      <td>0.194426</td>\n",
       "      <td>0.839797</td>\n",
       "      <td>0.940559</td>\n",
       "      <td>0.097616</td>\n",
       "      <td>0.108430</td>\n",
       "      <td>11</td>\n",
       "      <td>15</td>\n",
       "      <td>balanced</td>\n",
       "      <td>21.871230</td>\n",
       "      <td>0.911849</td>\n",
       "    </tr>\n",
       "    <tr>\n",
       "      <th>77</th>\n",
       "      <td>0.182073</td>\n",
       "      <td>0.288337</td>\n",
       "      <td>0.064492</td>\n",
       "      <td>0.174641</td>\n",
       "      <td>0.197478</td>\n",
       "      <td>0.836582</td>\n",
       "      <td>0.925983</td>\n",
       "      <td>0.097645</td>\n",
       "      <td>0.110542</td>\n",
       "      <td>11</td>\n",
       "      <td>11</td>\n",
       "      <td>balanced</td>\n",
       "      <td>17.510272</td>\n",
       "      <td>0.841967</td>\n",
       "    </tr>\n",
       "    <tr>\n",
       "      <th>110</th>\n",
       "      <td>0.164862</td>\n",
       "      <td>0.269002</td>\n",
       "      <td>0.078019</td>\n",
       "      <td>0.174377</td>\n",
       "      <td>0.185634</td>\n",
       "      <td>0.839074</td>\n",
       "      <td>0.890034</td>\n",
       "      <td>0.097572</td>\n",
       "      <td>0.103656</td>\n",
       "      <td>9</td>\n",
       "      <td>13</td>\n",
       "      <td>balanced_subsample</td>\n",
       "      <td>18.485956</td>\n",
       "      <td>0.806917</td>\n",
       "    </tr>\n",
       "    <tr>\n",
       "      <th>76</th>\n",
       "      <td>0.168997</td>\n",
       "      <td>0.265954</td>\n",
       "      <td>0.060065</td>\n",
       "      <td>0.173566</td>\n",
       "      <td>0.193580</td>\n",
       "      <td>0.852190</td>\n",
       "      <td>0.934475</td>\n",
       "      <td>0.096695</td>\n",
       "      <td>0.108077</td>\n",
       "      <td>11</td>\n",
       "      <td>9</td>\n",
       "      <td>balanced</td>\n",
       "      <td>14.890866</td>\n",
       "      <td>0.759838</td>\n",
       "    </tr>\n",
       "    <tr>\n",
       "      <th>94</th>\n",
       "      <td>0.167534</td>\n",
       "      <td>0.202379</td>\n",
       "      <td>0.067658</td>\n",
       "      <td>0.173427</td>\n",
       "      <td>0.174849</td>\n",
       "      <td>0.819645</td>\n",
       "      <td>0.830123</td>\n",
       "      <td>0.097145</td>\n",
       "      <td>0.097726</td>\n",
       "      <td>5</td>\n",
       "      <td>13</td>\n",
       "      <td>balanced_subsample</td>\n",
       "      <td>13.179725</td>\n",
       "      <td>0.741944</td>\n",
       "    </tr>\n",
       "    <tr>\n",
       "      <th>69</th>\n",
       "      <td>0.154186</td>\n",
       "      <td>0.250003</td>\n",
       "      <td>0.062203</td>\n",
       "      <td>0.173065</td>\n",
       "      <td>0.184985</td>\n",
       "      <td>0.873225</td>\n",
       "      <td>0.921615</td>\n",
       "      <td>0.096131</td>\n",
       "      <td>0.102846</td>\n",
       "      <td>9</td>\n",
       "      <td>11</td>\n",
       "      <td>balanced</td>\n",
       "      <td>15.683378</td>\n",
       "      <td>0.799435</td>\n",
       "    </tr>\n",
       "    <tr>\n",
       "      <th>114</th>\n",
       "      <td>0.158724</td>\n",
       "      <td>0.247207</td>\n",
       "      <td>0.061817</td>\n",
       "      <td>0.172958</td>\n",
       "      <td>0.193453</td>\n",
       "      <td>0.831058</td>\n",
       "      <td>0.925248</td>\n",
       "      <td>0.096727</td>\n",
       "      <td>0.108244</td>\n",
       "      <td>11</td>\n",
       "      <td>5</td>\n",
       "      <td>balanced_subsample</td>\n",
       "      <td>10.153089</td>\n",
       "      <td>0.609924</td>\n",
       "    </tr>\n",
       "    <tr>\n",
       "      <th>100</th>\n",
       "      <td>0.171221</td>\n",
       "      <td>0.218434</td>\n",
       "      <td>0.064229</td>\n",
       "      <td>0.172910</td>\n",
       "      <td>0.180526</td>\n",
       "      <td>0.825616</td>\n",
       "      <td>0.845369</td>\n",
       "      <td>0.096712</td>\n",
       "      <td>0.101095</td>\n",
       "      <td>7</td>\n",
       "      <td>9</td>\n",
       "      <td>balanced_subsample</td>\n",
       "      <td>14.855491</td>\n",
       "      <td>0.755068</td>\n",
       "    </tr>\n",
       "    <tr>\n",
       "      <th>119</th>\n",
       "      <td>0.198309</td>\n",
       "      <td>0.296253</td>\n",
       "      <td>0.087909</td>\n",
       "      <td>0.172754</td>\n",
       "      <td>0.194586</td>\n",
       "      <td>0.834715</td>\n",
       "      <td>0.922751</td>\n",
       "      <td>0.096517</td>\n",
       "      <td>0.108783</td>\n",
       "      <td>11</td>\n",
       "      <td>15</td>\n",
       "      <td>balanced_subsample</td>\n",
       "      <td>20.587648</td>\n",
       "      <td>0.589378</td>\n",
       "    </tr>\n",
       "    <tr>\n",
       "      <th>55</th>\n",
       "      <td>0.169483</td>\n",
       "      <td>0.224426</td>\n",
       "      <td>0.080482</td>\n",
       "      <td>0.172453</td>\n",
       "      <td>0.174354</td>\n",
       "      <td>0.820181</td>\n",
       "      <td>0.826424</td>\n",
       "      <td>0.096437</td>\n",
       "      <td>0.097480</td>\n",
       "      <td>5</td>\n",
       "      <td>15</td>\n",
       "      <td>balanced</td>\n",
       "      <td>15.560883</td>\n",
       "      <td>0.833543</td>\n",
       "    </tr>\n",
       "    <tr>\n",
       "      <th>99</th>\n",
       "      <td>0.158736</td>\n",
       "      <td>0.234045</td>\n",
       "      <td>0.082805</td>\n",
       "      <td>0.172391</td>\n",
       "      <td>0.180894</td>\n",
       "      <td>0.831679</td>\n",
       "      <td>0.872136</td>\n",
       "      <td>0.096269</td>\n",
       "      <td>0.100979</td>\n",
       "      <td>7</td>\n",
       "      <td>7</td>\n",
       "      <td>balanced_subsample</td>\n",
       "      <td>12.810071</td>\n",
       "      <td>0.702983</td>\n",
       "    </tr>\n",
       "    <tr>\n",
       "      <th>54</th>\n",
       "      <td>0.178032</td>\n",
       "      <td>0.187470</td>\n",
       "      <td>0.075633</td>\n",
       "      <td>0.172189</td>\n",
       "      <td>0.174824</td>\n",
       "      <td>0.808414</td>\n",
       "      <td>0.831127</td>\n",
       "      <td>0.096438</td>\n",
       "      <td>0.097713</td>\n",
       "      <td>5</td>\n",
       "      <td>13</td>\n",
       "      <td>balanced</td>\n",
       "      <td>13.484461</td>\n",
       "      <td>0.948530</td>\n",
       "    </tr>\n",
       "    <tr>\n",
       "      <th>95</th>\n",
       "      <td>0.157075</td>\n",
       "      <td>0.204474</td>\n",
       "      <td>0.047792</td>\n",
       "      <td>0.172074</td>\n",
       "      <td>0.174229</td>\n",
       "      <td>0.781661</td>\n",
       "      <td>0.804204</td>\n",
       "      <td>0.096775</td>\n",
       "      <td>0.097709</td>\n",
       "      <td>5</td>\n",
       "      <td>15</td>\n",
       "      <td>balanced_subsample</td>\n",
       "      <td>16.728168</td>\n",
       "      <td>1.359916</td>\n",
       "    </tr>\n",
       "    <tr>\n",
       "      <th>103</th>\n",
       "      <td>0.184135</td>\n",
       "      <td>0.236544</td>\n",
       "      <td>0.078942</td>\n",
       "      <td>0.172024</td>\n",
       "      <td>0.179605</td>\n",
       "      <td>0.826778</td>\n",
       "      <td>0.852724</td>\n",
       "      <td>0.096120</td>\n",
       "      <td>0.100375</td>\n",
       "      <td>7</td>\n",
       "      <td>15</td>\n",
       "      <td>balanced_subsample</td>\n",
       "      <td>17.926673</td>\n",
       "      <td>0.816380</td>\n",
       "    </tr>\n",
       "    <tr>\n",
       "      <th>93</th>\n",
       "      <td>0.144614</td>\n",
       "      <td>0.205628</td>\n",
       "      <td>0.033565</td>\n",
       "      <td>0.171989</td>\n",
       "      <td>0.173390</td>\n",
       "      <td>0.784605</td>\n",
       "      <td>0.803558</td>\n",
       "      <td>0.096672</td>\n",
       "      <td>0.097195</td>\n",
       "      <td>5</td>\n",
       "      <td>11</td>\n",
       "      <td>balanced_subsample</td>\n",
       "      <td>12.472715</td>\n",
       "      <td>0.662054</td>\n",
       "    </tr>\n",
       "    <tr>\n",
       "      <th>67</th>\n",
       "      <td>0.168047</td>\n",
       "      <td>0.223057</td>\n",
       "      <td>0.059019</td>\n",
       "      <td>0.171985</td>\n",
       "      <td>0.182630</td>\n",
       "      <td>0.839978</td>\n",
       "      <td>0.888094</td>\n",
       "      <td>0.096018</td>\n",
       "      <td>0.101806</td>\n",
       "      <td>9</td>\n",
       "      <td>7</td>\n",
       "      <td>balanced</td>\n",
       "      <td>11.415544</td>\n",
       "      <td>0.703289</td>\n",
       "    </tr>\n",
       "    <tr>\n",
       "      <th>115</th>\n",
       "      <td>0.165987</td>\n",
       "      <td>0.263017</td>\n",
       "      <td>0.089421</td>\n",
       "      <td>0.171498</td>\n",
       "      <td>0.192821</td>\n",
       "      <td>0.829632</td>\n",
       "      <td>0.919944</td>\n",
       "      <td>0.095746</td>\n",
       "      <td>0.107731</td>\n",
       "      <td>11</td>\n",
       "      <td>7</td>\n",
       "      <td>balanced_subsample</td>\n",
       "      <td>12.595621</td>\n",
       "      <td>0.650996</td>\n",
       "    </tr>\n",
       "  </tbody>\n",
       "</table>\n",
       "</div>"
      ],
      "text/plain": [
       "     mean_test_average_precision  mean_train_average_precision  \\\n",
       "74                      0.168295                      0.252143   \n",
       "118                     0.192001                      0.296008   \n",
       "81                      0.125873                      0.121584   \n",
       "79                      0.194746                      0.303931   \n",
       "77                      0.182073                      0.288337   \n",
       "110                     0.164862                      0.269002   \n",
       "76                      0.168997                      0.265954   \n",
       "94                      0.167534                      0.202379   \n",
       "69                      0.154186                      0.250003   \n",
       "114                     0.158724                      0.247207   \n",
       "100                     0.171221                      0.218434   \n",
       "119                     0.198309                      0.296253   \n",
       "55                      0.169483                      0.224426   \n",
       "99                      0.158736                      0.234045   \n",
       "54                      0.178032                      0.187470   \n",
       "95                      0.157075                      0.204474   \n",
       "103                     0.184135                      0.236544   \n",
       "93                      0.144614                      0.205628   \n",
       "67                      0.168047                      0.223057   \n",
       "115                     0.165987                      0.263017   \n",
       "\n",
       "     std_test_average_precision  mean_test_f1  mean_train_f1  \\\n",
       "74                     0.065338      0.178633       0.195484   \n",
       "118                    0.067369      0.178016       0.193086   \n",
       "81                     0.023690      0.175829       0.169374   \n",
       "79                     0.086221      0.174727       0.194426   \n",
       "77                     0.064492      0.174641       0.197478   \n",
       "110                    0.078019      0.174377       0.185634   \n",
       "76                     0.060065      0.173566       0.193580   \n",
       "94                     0.067658      0.173427       0.174849   \n",
       "69                     0.062203      0.173065       0.184985   \n",
       "114                    0.061817      0.172958       0.193453   \n",
       "100                    0.064229      0.172910       0.180526   \n",
       "119                    0.087909      0.172754       0.194586   \n",
       "55                     0.080482      0.172453       0.174354   \n",
       "99                     0.082805      0.172391       0.180894   \n",
       "54                     0.075633      0.172189       0.174824   \n",
       "95                     0.047792      0.172074       0.174229   \n",
       "103                    0.078942      0.172024       0.179605   \n",
       "93                     0.033565      0.171989       0.173390   \n",
       "67                     0.059019      0.171985       0.182630   \n",
       "115                    0.089421      0.171498       0.192821   \n",
       "\n",
       "     mean_test_recall  mean_train_recall  mean_test_precision  \\\n",
       "74           0.833467           0.911050             0.100084   \n",
       "118          0.876086           0.950588             0.099215   \n",
       "81           0.747153           0.730210             0.100738   \n",
       "79           0.839797           0.940559             0.097616   \n",
       "77           0.836582           0.925983             0.097645   \n",
       "110          0.839074           0.890034             0.097572   \n",
       "76           0.852190           0.934475             0.096695   \n",
       "94           0.819645           0.830123             0.097145   \n",
       "69           0.873225           0.921615             0.096131   \n",
       "114          0.831058           0.925248             0.096727   \n",
       "100          0.825616           0.845369             0.096712   \n",
       "119          0.834715           0.922751             0.096517   \n",
       "55           0.820181           0.826424             0.096437   \n",
       "99           0.831679           0.872136             0.096269   \n",
       "54           0.808414           0.831127             0.096438   \n",
       "95           0.781661           0.804204             0.096775   \n",
       "103          0.826778           0.852724             0.096120   \n",
       "93           0.784605           0.803558             0.096672   \n",
       "67           0.839978           0.888094             0.096018   \n",
       "115          0.829632           0.919944             0.095746   \n",
       "\n",
       "     mean_train_precision param_max_depth param_n_estimators  \\\n",
       "74               0.109512              11                  5   \n",
       "118              0.107501              11                 13   \n",
       "81               0.096978               3                  3   \n",
       "79               0.108430              11                 15   \n",
       "77               0.110542              11                 11   \n",
       "110              0.103656               9                 13   \n",
       "76               0.108077              11                  9   \n",
       "94               0.097726               5                 13   \n",
       "69               0.102846               9                 11   \n",
       "114              0.108244              11                  5   \n",
       "100              0.101095               7                  9   \n",
       "119              0.108783              11                 15   \n",
       "55               0.097480               5                 15   \n",
       "99               0.100979               7                  7   \n",
       "54               0.097713               5                 13   \n",
       "95               0.097709               5                 15   \n",
       "103              0.100375               7                 15   \n",
       "93               0.097195               5                 11   \n",
       "67               0.101806               9                  7   \n",
       "115              0.107731              11                  7   \n",
       "\n",
       "     param_class_weight  mean_fit_time  mean_score_time  \n",
       "74             balanced       9.831347         0.609059  \n",
       "118  balanced_subsample      20.389284         0.823479  \n",
       "81   balanced_subsample       5.209566         0.500838  \n",
       "79             balanced      21.871230         0.911849  \n",
       "77             balanced      17.510272         0.841967  \n",
       "110  balanced_subsample      18.485956         0.806917  \n",
       "76             balanced      14.890866         0.759838  \n",
       "94   balanced_subsample      13.179725         0.741944  \n",
       "69             balanced      15.683378         0.799435  \n",
       "114  balanced_subsample      10.153089         0.609924  \n",
       "100  balanced_subsample      14.855491         0.755068  \n",
       "119  balanced_subsample      20.587648         0.589378  \n",
       "55             balanced      15.560883         0.833543  \n",
       "99   balanced_subsample      12.810071         0.702983  \n",
       "54             balanced      13.484461         0.948530  \n",
       "95   balanced_subsample      16.728168         1.359916  \n",
       "103  balanced_subsample      17.926673         0.816380  \n",
       "93   balanced_subsample      12.472715         0.662054  \n",
       "67             balanced      11.415544         0.703289  \n",
       "115  balanced_subsample      12.595621         0.650996  "
      ]
     },
     "execution_count": 102,
     "metadata": {},
     "output_type": "execute_result"
    }
   ],
   "source": [
    "cols = ['mean_test_average_precision','mean_train_average_precision','std_test_average_precision',\\\n",
    "        'mean_test_f1','mean_train_f1',\\\n",
    "        'mean_test_recall','mean_train_recall','mean_test_precision','mean_train_precision',\\\n",
    "        'param_max_depth','param_n_estimators','param_class_weight',\\\n",
    "        'mean_fit_time','mean_score_time']\n",
    "# Delay GridSearchCV\n",
    "grid_rf_df_i = pd.DataFrame(grid_rf_i.cv_results_)[cols].sort_values(by='mean_test_f1', ascending=False)\n",
    "grid_rf_df_i.head(20)"
   ]
  },
  {
   "cell_type": "code",
   "execution_count": 103,
   "metadata": {},
   "outputs": [
    {
     "name": "stdout",
     "output_type": "stream",
     "text": [
      "Area Under PR Curve: 0.210\n"
     ]
    }
   ],
   "source": [
    "# going with (115) because decent AP, highest f1 and high recall, precision similar to other and good 'fit_time'\n",
    "forest_final_i = RandomForestClassifier(criterion='gini', max_depth=11, n_estimators=7, random_state=0, class_weight='balanced_subsample')\n",
    "# fit\n",
    "forest_final_i.fit(X_tr_arr, y_tr_arr_imp_delay_binary)\n",
    "# predict\n",
    "y_pred_forest_va_final_i = forest_final_i.predict(X_va_arr_reindex) # prediction delay\n",
    "# predict probabilities\n",
    "forest_final_probs_i = forest_final_i.predict_proba(X_va_arr_reindex)\n",
    "# keep probabilities for the positive outcome only\n",
    "forest_final_probs_pos_i = forest_final_probs_i[:,1]\n",
    "# Precision-recall curve metrics\n",
    "rf_precision_final_i, rf_recall_final_i, rf_thres_final_i = precision_recall_curve(y_va_arr_imp_delay_binary, forest_final_probs_pos_i, pos_label=1)\n",
    "rf_final_auprc_i = auc(rf_recall_final_i, rf_precision_final_i)\n",
    "print('Area Under PR Curve: {:.3f}'.format(rf_final_auprc_i))"
   ]
  },
  {
   "cell_type": "markdown",
   "metadata": {},
   "source": [
    "#### Best threshold (RandomForest - Important delay) <a name='rf_imp_delay_thres' />\n",
    "*<a href=#top>Back to top</a>*"
   ]
  },
  {
   "cell_type": "code",
   "execution_count": 104,
   "metadata": {},
   "outputs": [
    {
     "name": "stdout",
     "output_type": "stream",
     "text": [
      "Best Threshold: 0.661\n",
      "Probabilities: [0.59382634 0.59388932 0.63350715 0.63357013 0.6942393  0.64640551\n",
      " 0.66201457 0.66201457 0.64640551 0.65523314]\n",
      "Predictions: [0 0 0 0 1 0 1 1 0 0]\n"
     ]
    }
   ],
   "source": [
    "from numpy import argmax\n",
    "fscores_rf_i = (2 * rf_precision_final_i * rf_recall_final_i) / (rf_precision_final_i + rf_recall_final_i)\n",
    "rf_bt_i = rf_thres_final_i[argmax(fscores_rf_i)]\n",
    "print('Best Threshold: {:.3f}'.format(rf_bt_i))\n",
    "# use threshold in model\n",
    "rf_final_curve_i = np.where(forest_final_probs_i[:,1] > rf_bt_i, 1,0)\n",
    "print('Probabilities:',forest_final_probs_i[0:10,1])\n",
    "print('Predictions:',rf_final_curve_i[0:10])"
   ]
  },
  {
   "cell_type": "markdown",
   "metadata": {},
   "source": [
    "#### Classification report (RandomForest - Important delay) <a name='rf_imp_delay_report' />\n",
    "*<a href=#top>Back to top</a>*"
   ]
  },
  {
   "cell_type": "code",
   "execution_count": 105,
   "metadata": {},
   "outputs": [
    {
     "name": "stdout",
     "output_type": "stream",
     "text": [
      "Classification report: RandomForest important delay\n",
      "                 precision    recall  f1-score   support\n",
      "\n",
      "       no_delay       0.96      0.94      0.95    103481\n",
      "important_delay       0.22      0.32      0.26      5239\n",
      "\n",
      "       accuracy                           0.91    108720\n",
      "      macro avg       0.59      0.63      0.61    108720\n",
      "   weighted avg       0.93      0.91      0.92    108720\n",
      "\n"
     ]
    }
   ],
   "source": [
    "print('Classification report: RandomForest important delay')\n",
    "report_forest_final_i= classification_report(y_true=y_va_arr_imp_delay_binary, y_pred=rf_final_curve_i, target_names=['no_delay','important_delay'])\n",
    "print(report_forest_final_i)"
   ]
  },
  {
   "cell_type": "markdown",
   "metadata": {},
   "source": [
    "#### Confusion Matrix (RandomForest - Important delay) <a name='rf_imp_delay_matrix' />\n",
    "*<a href=#top>Back to top</a>*"
   ]
  },
  {
   "cell_type": "code",
   "execution_count": 106,
   "metadata": {},
   "outputs": [
    {
     "name": "stdout",
     "output_type": "stream",
     "text": [
      "Confusion matrix (normalized): RandomForest important delay\n"
     ]
    },
    {
     "data": {
      "text/html": [
       "<div>\n",
       "<style scoped>\n",
       "    .dataframe tbody tr th:only-of-type {\n",
       "        vertical-align: middle;\n",
       "    }\n",
       "\n",
       "    .dataframe tbody tr th {\n",
       "        vertical-align: top;\n",
       "    }\n",
       "\n",
       "    .dataframe thead th {\n",
       "        text-align: right;\n",
       "    }\n",
       "</style>\n",
       "<table border=\"1\" class=\"dataframe\">\n",
       "  <thead>\n",
       "    <tr style=\"text-align: right;\">\n",
       "      <th></th>\n",
       "      <th>pred: no delay</th>\n",
       "      <th>pred: important delay</th>\n",
       "    </tr>\n",
       "  </thead>\n",
       "  <tbody>\n",
       "    <tr>\n",
       "      <th>true: no delay</th>\n",
       "      <td>0.75826</td>\n",
       "      <td>0.03876</td>\n",
       "    </tr>\n",
       "    <tr>\n",
       "      <th>true: important delay</th>\n",
       "      <td>0.17099</td>\n",
       "      <td>0.03199</td>\n",
       "    </tr>\n",
       "  </tbody>\n",
       "</table>\n",
       "</div>"
      ],
      "text/plain": [
       "                       pred: no delay  pred: important delay\n",
       "true: no delay                0.75826                0.03876\n",
       "true: important delay         0.17099                0.03199"
      ]
     },
     "execution_count": 106,
     "metadata": {},
     "output_type": "execute_result"
    }
   ],
   "source": [
    "# Confusion matrix 'RF important delay'\n",
    "matrix_rf_d = confusion_matrix(y_true=y_va_arr_delay_binary, y_pred=rf_final_curve_i,normalize='all') # normalize either on columns/rows or all\n",
    "matrix_rf_d = pd.DataFrame(\n",
    "    matrix_rf_d, \n",
    "    columns=['pred: no delay', 'pred: important delay'],\n",
    "    index=['true: no delay', 'true: important delay']\n",
    ")\n",
    "print('Confusion matrix (normalized): RandomForest important delay')\n",
    "matrix_rf_d"
   ]
  },
  {
   "cell_type": "markdown",
   "metadata": {},
   "source": [
    "#### Multiclass imbalanced (RandomForest) <a name='rf_multi_report' />\n",
    "*<a href=#top>Back to top</a>*"
   ]
  },
  {
   "cell_type": "code",
   "execution_count": 107,
   "metadata": {},
   "outputs": [
    {
     "data": {
      "text/plain": [
       "array([1, 1, 1, ..., 0, 0, 0])"
      ]
     },
     "execution_count": 107,
     "metadata": {},
     "output_type": "execute_result"
    }
   ],
   "source": [
    "y_tr_arr_delay_binary"
   ]
  },
  {
   "cell_type": "code",
   "execution_count": 108,
   "metadata": {},
   "outputs": [
    {
     "data": {
      "text/plain": [
       "array([1, 1, 1, ..., 0, 0, 0])"
      ]
     },
     "execution_count": 108,
     "metadata": {},
     "output_type": "execute_result"
    }
   ],
   "source": [
    "y_tr_arr_imp_delay_binary"
   ]
  },
  {
   "cell_type": "code",
   "execution_count": 109,
   "metadata": {},
   "outputs": [],
   "source": [
    "y_tr_arr_delay_multi = y_tr_arr_delay_binary + y_tr_arr_imp_delay_binary\n",
    "y_va_arr_delay_multi = y_va_arr_delay_binary + y_va_arr_imp_delay_binary\n",
    "y_te_arr_delay_multi = y_te_arr_delay_binary + y_te_arr_imp_delay_binary"
   ]
  },
  {
   "cell_type": "code",
   "execution_count": 110,
   "metadata": {},
   "outputs": [
    {
     "data": {
      "text/plain": [
       "0.8031456953642384"
      ]
     },
     "execution_count": 110,
     "metadata": {},
     "output_type": "execute_result"
    }
   ],
   "source": [
    "forest_multi = RandomForestClassifier()\n",
    "# could grid search class_weight\n",
    "forest_multi.fit(X_tr_arr, y_tr_arr_delay_multi)\n",
    "forest_multi.score(X_va_arr_reindex, y_va_arr_delay_multi)"
   ]
  },
  {
   "cell_type": "code",
   "execution_count": 111,
   "metadata": {},
   "outputs": [],
   "source": [
    "# prediction\n",
    "y_pred_va_forest_multi = forest_multi.predict(X_va_arr_reindex)"
   ]
  },
  {
   "cell_type": "markdown",
   "metadata": {},
   "source": [
    "#### Classification report (RandomForest - Multiclass) <a name='rf_multi_report' />\n",
    "*<a href=#top>Back to top</a>*"
   ]
  },
  {
   "cell_type": "code",
   "execution_count": 112,
   "metadata": {},
   "outputs": [
    {
     "name": "stdout",
     "output_type": "stream",
     "text": [
      "                 precision    recall  f1-score   support\n",
      "\n",
      "       no_delay       0.86      0.92      0.89     86652\n",
      "          delay       0.48      0.42      0.45     16829\n",
      "important_delay       0.42      0.14      0.21      5239\n",
      "\n",
      "       accuracy                           0.80    108720\n",
      "      macro avg       0.59      0.49      0.52    108720\n",
      "   weighted avg       0.78      0.80      0.79    108720\n",
      "\n"
     ]
    }
   ],
   "source": [
    "report_forest_multi = classification_report(y_true=y_va_arr_delay_multi, y_pred=y_pred_va_forest_multi, target_names=['no_delay','delay','important_delay'])\n",
    "print(report_forest_multi)\n",
    "# why f1-score better for \"important delay\" in multi-class over binary?"
   ]
  },
  {
   "cell_type": "code",
   "execution_count": 113,
   "metadata": {},
   "outputs": [
    {
     "data": {
      "text/plain": [
       "array([[0.53532143, 0.        , 0.46467857],\n",
       "       [0.48022884, 0.01602116, 0.50375   ],\n",
       "       [0.82444558, 0.17555442, 0.        ],\n",
       "       [1.        , 0.        , 0.        ],\n",
       "       [0.2524197 , 0.45168522, 0.29589508],\n",
       "       [0.69373977, 0.05986292, 0.24639731],\n",
       "       [0.4803979 , 0.2495473 , 0.27005479],\n",
       "       [0.40829106, 0.34802075, 0.24368818],\n",
       "       [0.64545499, 0.1033296 , 0.25121541],\n",
       "       [0.64655107, 0.10416936, 0.24927957]])"
      ]
     },
     "execution_count": 113,
     "metadata": {},
     "output_type": "execute_result"
    }
   ],
   "source": [
    "forest_multi.predict_proba(X_va_arr_reindex)[0:10,:]"
   ]
  },
  {
   "cell_type": "code",
   "execution_count": 114,
   "metadata": {},
   "outputs": [
    {
     "data": {
      "text/plain": [
       "array([0, 2, 0, 0, 1, 0, 0, 0, 0, 0])"
      ]
     },
     "execution_count": 114,
     "metadata": {},
     "output_type": "execute_result"
    }
   ],
   "source": [
    "y_pred_va_forest_multi[0:10]"
   ]
  },
  {
   "cell_type": "code",
   "execution_count": 115,
   "metadata": {},
   "outputs": [
    {
     "data": {
      "text/plain": [
       "0.37286661068985616"
      ]
     },
     "execution_count": 115,
     "metadata": {},
     "output_type": "execute_result"
    }
   ],
   "source": [
    "forest_final_i.predict_proba(X_va_arr_reindex)[:,1].mean()"
   ]
  },
  {
   "cell_type": "code",
   "execution_count": 116,
   "metadata": {},
   "outputs": [
    {
     "data": {
      "text/plain": [
       "array([1, 1, 1, 1, 1, 1, 1, 1, 1, 1, 1, 1, 1, 1, 1, 1, 1, 1, 1, 1])"
      ]
     },
     "execution_count": 116,
     "metadata": {},
     "output_type": "execute_result"
    }
   ],
   "source": [
    "y_pred_forest_va_final_i[0:20]"
   ]
  },
  {
   "cell_type": "markdown",
   "metadata": {},
   "source": [
    "#### Confusion Matrix (RandomForest - Multiclass) <a name='rf_multi_matrix' />\n",
    "*<a href=#top>Back to top</a>*"
   ]
  },
  {
   "cell_type": "code",
   "execution_count": 117,
   "metadata": {},
   "outputs": [
    {
     "name": "stdout",
     "output_type": "stream",
     "text": [
      "Confusion matrix (normalized): RandomForest important delay multi\n"
     ]
    },
    {
     "data": {
      "text/html": [
       "<div>\n",
       "<style scoped>\n",
       "    .dataframe tbody tr th:only-of-type {\n",
       "        vertical-align: middle;\n",
       "    }\n",
       "\n",
       "    .dataframe tbody tr th {\n",
       "        vertical-align: top;\n",
       "    }\n",
       "\n",
       "    .dataframe thead th {\n",
       "        text-align: right;\n",
       "    }\n",
       "</style>\n",
       "<table border=\"1\" class=\"dataframe\">\n",
       "  <thead>\n",
       "    <tr style=\"text-align: right;\">\n",
       "      <th></th>\n",
       "      <th>pred: no delay</th>\n",
       "      <th>pred: delay</th>\n",
       "      <th>pred: imp delay</th>\n",
       "    </tr>\n",
       "  </thead>\n",
       "  <tbody>\n",
       "    <tr>\n",
       "      <th>true: no delay</th>\n",
       "      <td>0.730740</td>\n",
       "      <td>0.059796</td>\n",
       "      <td>0.006485</td>\n",
       "    </tr>\n",
       "    <tr>\n",
       "      <th>pred: delay</th>\n",
       "      <td>0.086231</td>\n",
       "      <td>0.065508</td>\n",
       "      <td>0.003054</td>\n",
       "    </tr>\n",
       "    <tr>\n",
       "      <th>true: imp delay</th>\n",
       "      <td>0.030951</td>\n",
       "      <td>0.010338</td>\n",
       "      <td>0.006898</td>\n",
       "    </tr>\n",
       "  </tbody>\n",
       "</table>\n",
       "</div>"
      ],
      "text/plain": [
       "                 pred: no delay  pred: delay  pred: imp delay\n",
       "true: no delay         0.730740     0.059796         0.006485\n",
       "pred: delay            0.086231     0.065508         0.003054\n",
       "true: imp delay        0.030951     0.010338         0.006898"
      ]
     },
     "execution_count": 117,
     "metadata": {},
     "output_type": "execute_result"
    }
   ],
   "source": [
    "# Confusion matrix 'RF multi important delay'\n",
    "matrix_rf_multi = confusion_matrix(y_true=y_va_arr_delay_multi, y_pred=y_pred_va_forest_multi,normalize='all') # normalize either on columns/rows or all\n",
    "matrix_rf_multi = pd.DataFrame(\n",
    "    matrix_rf_multi, \n",
    "    columns=['pred: no delay','pred: delay', 'pred: imp delay'],\n",
    "    index=['true: no delay','pred: delay', 'true: imp delay']\n",
    ")\n",
    "print('Confusion matrix (normalized): RandomForest important delay multi')\n",
    "matrix_rf_multi\n",
    "# multi class seems to be overperforming on almost all classes"
   ]
  },
  {
   "cell_type": "markdown",
   "metadata": {},
   "source": [
    "**Comments (RandomForest):**\n",
    "* Classifier seems to be performing especially well with the more imbalanced data set, reaching f1 score of 0.26 while f1 score for delay is slightly below other top performing classifiers"
   ]
  },
  {
   "cell_type": "markdown",
   "metadata": {},
   "source": [
    "#### Performance on test set (RandomForest) <a name='rf_test' />\n",
    "*<a href=#top>Back to top</a>*"
   ]
  },
  {
   "cell_type": "code",
   "execution_count": 256,
   "metadata": {},
   "outputs": [
    {
     "name": "stdout",
     "output_type": "stream",
     "text": [
      "Area Under PR Curve: 0.583\n",
      "Classification report: RandomForest TEST delay\n",
      "              precision    recall  f1-score   support\n",
      "\n",
      "    no_delay       0.89      0.77      0.82     80088\n",
      "       delay       0.51      0.71      0.60     27278\n",
      "\n",
      "    accuracy                           0.75    107366\n",
      "   macro avg       0.70      0.74      0.71    107366\n",
      "weighted avg       0.79      0.75      0.76    107366\n",
      "\n"
     ]
    }
   ],
   "source": [
    "# delay\n",
    "rf_test_probs_pos_d = forest_final_d.predict_proba(X_te_arr_reindex)[:,1]\n",
    "rf_precision_test_d, rf_recall_test_d, _ = precision_recall_curve(y_te_arr_delay_binary, rf_test_probs_pos_d, pos_label=1)\n",
    "rf_test_auc_pr_d = auc(rf_recall_test_d, rf_precision_test_d)\n",
    "print('Area Under PR Curve: {:.3f}'.format(rf_test_auc_pr_d))\n",
    "# use threshold\n",
    "rf_test_d = np.where(forest_final_d.predict_proba(X_te_arr_reindex)[:,1] > rf_bt_d, 1,0)\n",
    "print('Classification report: RandomForest TEST delay')\n",
    "report_rf_d= classification_report(y_true=y_te_arr_delay_binary, y_pred=rf_test_d, target_names=['no_delay','delay'])\n",
    "f1_rf_test_d = classification_report(y_true=y_te_arr_delay_binary, y_pred=rf_test_d, target_names=['no_delay','delay'], output_dict=True)['delay']['f1-score']\n",
    "precision_rf_test_d = classification_report(y_true=y_te_arr_delay_binary, y_pred=rf_test_d, target_names=['no_delay','delay'], output_dict=True)['delay']['precision']\n",
    "recall_rf_test_d = classification_report(y_true=y_te_arr_delay_binary, y_pred=rf_test_d, target_names=['no_delay','delay'], output_dict=True)['delay']['recall']\n",
    "print(report_rf_d)"
   ]
  },
  {
   "cell_type": "code",
   "execution_count": 257,
   "metadata": {},
   "outputs": [
    {
     "name": "stdout",
     "output_type": "stream",
     "text": [
      "Area Under PR Curve: 0.263\n",
      "Classification report: RandomForest TEST Important delay\n",
      "                 precision    recall  f1-score   support\n",
      "\n",
      "       no_delay       0.95      0.95      0.95    100362\n",
      "important_delay       0.29      0.30      0.30      7004\n",
      "\n",
      "       accuracy                           0.91    107366\n",
      "      macro avg       0.62      0.63      0.62    107366\n",
      "   weighted avg       0.91      0.91      0.91    107366\n",
      "\n"
     ]
    }
   ],
   "source": [
    "# important delay\n",
    "rf_test_probs_pos_i = forest_final_i.predict_proba(X_te_arr_reindex)[:,1]\n",
    "rf_precision_test_i, rf_recall_test_i, _ = precision_recall_curve(y_te_arr_imp_delay_binary, rf_test_probs_pos_i, pos_label=1)\n",
    "rf_test_auc_pr_i = auc(rf_recall_test_i, rf_precision_test_i)\n",
    "print('Area Under PR Curve: {:.3f}'.format(rf_test_auc_pr_i))\n",
    "# use threshold\n",
    "rf_test_i = np.where(forest_final_i.predict_proba(X_te_arr_reindex)[:,1] > rf_bt_i, 1,0)\n",
    "print('Classification report: RandomForest TEST Important delay')\n",
    "report_rf_i= classification_report(y_true=y_te_arr_imp_delay_binary, y_pred=rf_test_i, target_names=['no_delay','important_delay'])\n",
    "f1_rf_test_i = classification_report(y_true=y_te_arr_imp_delay_binary, y_pred=rf_test_i, target_names=['no_delay','important_delay'], output_dict=True)['important_delay']['f1-score']\n",
    "precision_rf_test_i = classification_report(y_true=y_te_arr_imp_delay_binary, y_pred=rf_test_i, target_names=['no_delay','important_delay'], output_dict=True)['important_delay']['precision']\n",
    "recall_rf_test_i = classification_report(y_true=y_te_arr_imp_delay_binary, y_pred=rf_test_i, target_names=['no_delay','important_delay'], output_dict=True)['important_delay']['recall']\n",
    "print(report_rf_i)"
   ]
  },
  {
   "cell_type": "code",
   "execution_count": 230,
   "metadata": {},
   "outputs": [
    {
     "name": "stdout",
     "output_type": "stream",
     "text": [
      "Classification report: RandomForest TEST Multiclass delay\n",
      "                 precision    recall  f1-score   support\n",
      "\n",
      "       no_delay       0.82      0.93      0.87     80088\n",
      "          delay       0.54      0.39      0.45     20274\n",
      "important_delay       0.47      0.12      0.19      7004\n",
      "\n",
      "       accuracy                           0.78    107366\n",
      "      macro avg       0.61      0.48      0.50    107366\n",
      "   weighted avg       0.74      0.78      0.75    107366\n",
      "\n"
     ]
    }
   ],
   "source": [
    "# multiclass delay\n",
    "y_pred_rf_test_m = forest_multi.predict(X_te_arr_reindex) # prediction delay\n",
    "print('Classification report: RandomForest TEST Multiclass delay')\n",
    "report_rf_m= classification_report(y_true=y_te_arr_delay_multi, y_pred=y_pred_rf_test_m, target_names=['no_delay','delay','important_delay'])\n",
    "f1_rf_test_m = classification_report(y_true=y_te_arr_delay_multi, y_pred=y_pred_rf_test_m, target_names=['no_delay','delay','important_delay'], output_dict=True)['important_delay']['f1-score']\n",
    "precision_rf_test_m = classification_report(y_true=y_te_arr_delay_multi, y_pred=y_pred_rf_test_m, target_names=['no_delay','delay','important_delay'], output_dict=True)['important_delay']['precision']\n",
    "recall_rf_test_m = classification_report(y_true=y_te_arr_delay_multi, y_pred=y_pred_rf_test_m, target_names=['no_delay','delay','important_delay'], output_dict=True)['important_delay']['recall']\n",
    "print(report_rf_m)"
   ]
  },
  {
   "cell_type": "markdown",
   "metadata": {},
   "source": [
    "### V) Keras (with class_weight) <a name='keras' />\n",
    "*<a href=#top>Back to top</a>*"
   ]
  },
  {
   "cell_type": "code",
   "execution_count": 121,
   "metadata": {},
   "outputs": [],
   "source": [
    "import tensorflow as tf\n",
    "from tensorflow.keras import Sequential\n",
    "from tensorflow.keras.layers import Dense\n",
    "from tensorflow.keras.layers import Dropout\n",
    "from tensorflow import keras\n",
    "\n",
    "from tensorflow.keras import optimizers\n",
    "from tensorflow.keras import losses\n",
    "from tensorflow.keras import metrics"
   ]
  },
  {
   "cell_type": "code",
   "execution_count": 122,
   "metadata": {},
   "outputs": [],
   "source": [
    "# had to install latest version of tensorflow to get below metrics\n",
    "# https://www.tensorflow.org/tutorials/structured_data/imbalanced_data\n",
    "# https://datascience.stackexchange.com/questions/45165/how-to-get-accuracy-f1-precision-and-recall-for-a-keras-model\n",
    "from tensorflow.keras import backend as K\n",
    "\n",
    "def recall_m(y_true, y_pred):\n",
    "    true_positives = K.sum(K.round(K.clip(y_true * y_pred, 0, 1)))\n",
    "    possible_positives = K.sum(K.round(K.clip(y_true, 0, 1)))\n",
    "    recall = true_positives / (possible_positives + K.epsilon())\n",
    "    return recall\n",
    "\n",
    "def precision_m(y_true, y_pred):\n",
    "    true_positives = K.sum(K.round(K.clip(y_true * y_pred, 0, 1)))\n",
    "    predicted_positives = K.sum(K.round(K.clip(y_pred, 0, 1)))\n",
    "    precision = true_positives / (predicted_positives + K.epsilon())\n",
    "    return precision\n",
    "\n",
    "def f1_m(y_true, y_pred):\n",
    "    precision = precision_m(y_true, y_pred)\n",
    "    recall = recall_m(y_true, y_pred)\n",
    "    return 2*((precision*recall)/(precision+recall+K.epsilon()))\n",
    "\n",
    "metrics = [\n",
    "      metrics.TruePositives(name='tp'),\n",
    "      metrics.FalsePositives(name='fp'),\n",
    "      metrics.TrueNegatives(name='tn'),\n",
    "      metrics.FalseNegatives(name='fn'), \n",
    "      metrics.BinaryAccuracy(name='accuracy'),\n",
    "      metrics.Precision(name='precision'),\n",
    "      metrics.Recall(name='recall'),\n",
    "      metrics.AUC(name='auc'),\n",
    "      metrics.AUC(name='prc', curve='PR'), # precision-recall curve,\n",
    "      f1_m\n",
    "]"
   ]
  },
  {
   "cell_type": "code",
   "execution_count": 123,
   "metadata": {},
   "outputs": [
    {
     "name": "stdout",
     "output_type": "stream",
     "text": [
      "Delay:\n",
      "    Total: 215050\n",
      "    Positive: 49154 (22.86% of total)\n",
      "\n",
      "Important delay:\n",
      "    Total: 215050\n",
      "    Positive: 11217 (5.22% of total)\n",
      "\n"
     ]
    }
   ],
   "source": [
    "neg_d, pos_d = np.bincount(y_tr_arr_delay_binary)\n",
    "total_d = neg_d + pos_d\n",
    "print('Delay:\\n    Total: {}\\n    Positive: {} ({:.2f}% of total)\\n'.format(\n",
    "    total_d, pos_d, 100 * pos_d / total_d))\n",
    "neg_i, pos_i = np.bincount(y_tr_arr_imp_delay_binary)\n",
    "total_i = neg_i + pos_i\n",
    "print('Important delay:\\n    Total: {}\\n    Positive: {} ({:.2f}% of total)\\n'.format(\n",
    "    total_i, pos_i, 100 * pos_i / total_i))"
   ]
  },
  {
   "cell_type": "markdown",
   "metadata": {},
   "source": [
    "#### Delay <a name='keras_delay' />\n",
    "*<a href=#top>Back to top</a>*"
   ]
  },
  {
   "cell_type": "code",
   "execution_count": 124,
   "metadata": {},
   "outputs": [
    {
     "name": "stdout",
     "output_type": "stream",
     "text": [
      "Weight for class no_delay: 0.65\n",
      "Weight for class delay: 2.19\n"
     ]
    }
   ],
   "source": [
    "# Scaling by total/2 to help keep loss to similar magnitude\n",
    "weight_no_delay_d = (1 / neg_d)*(total_d)/2.0\n",
    "weight_delay = (1 / pos_d)*(total_d)/2.0\n",
    "\n",
    "class_weight_d = {0: weight_no_delay_d, 1: weight_delay}\n",
    "\n",
    "print('Weight for class no_delay: {:.2f}'.format(weight_no_delay_d))\n",
    "print('Weight for class delay: {:.2f}'.format(weight_delay))"
   ]
  },
  {
   "cell_type": "code",
   "execution_count": 125,
   "metadata": {},
   "outputs": [
    {
     "name": "stdout",
     "output_type": "stream",
     "text": [
      "Model: \"sequential\"\n",
      "_________________________________________________________________\n",
      "Layer (type)                 Output Shape              Param #   \n",
      "=================================================================\n",
      "dense (Dense)                (None, 16)                6960      \n",
      "_________________________________________________________________\n",
      "dropout (Dropout)            (None, 16)                0         \n",
      "_________________________________________________________________\n",
      "dense_1 (Dense)              (None, 1)                 17        \n",
      "=================================================================\n",
      "Total params: 6,977\n",
      "Trainable params: 6,977\n",
      "Non-trainable params: 0\n",
      "_________________________________________________________________\n"
     ]
    }
   ],
   "source": [
    "# class weight model\n",
    "cw_model = Sequential()\n",
    "cw_model.add(Dense(16, activation='relu', input_dim=X_tr_arr.shape[1]))\n",
    "cw_model.add(Dropout(0.5))\n",
    "cw_model.add(Dense(1, activation='sigmoid', bias_initializer=None))\n",
    "\n",
    "cw_model.compile(\n",
    "    optimizer=tf.keras.optimizers.Adam(learning_rate=0.1),\n",
    "    loss='BinaryCrossentropy',\n",
    "    metrics=metrics)\n",
    "\n",
    "cw_model.summary()"
   ]
  },
  {
   "cell_type": "code",
   "execution_count": 126,
   "metadata": {},
   "outputs": [],
   "source": [
    "# define if want to add \"initial_weights\"\n",
    "# model.load_weights(initial_weights)"
   ]
  },
  {
   "cell_type": "markdown",
   "metadata": {},
   "source": [
    "#### Fit model (Keras - Delay) <a name='keras_delay_fit' />\n",
    "*<a href=#top>Back to top</a>*"
   ]
  },
  {
   "cell_type": "code",
   "execution_count": 127,
   "metadata": {},
   "outputs": [
    {
     "name": "stdout",
     "output_type": "stream",
     "text": [
      "Epoch 1/30\n",
      "108/108 [==============================] - 6s 29ms/step - loss: 0.4962 - tp: 22032.1651 - fp: 33898.7798 - tn: 51055.9908 - fn: 2977.2844 - accuracy: 0.6762 - precision: 0.3979 - recall: 0.8233 - auc: 0.8154 - prc: 0.5154 - f1_m: 0.5176 - val_loss: 0.4798 - val_tp: 19937.0000 - val_fp: 31940.0000 - val_tn: 54712.0000 - val_fn: 2131.0000 - val_accuracy: 0.6866 - val_precision: 0.3843 - val_recall: 0.9034 - val_auc: 0.8518 - val_prc: 0.5708 - val_f1_m: 0.4707\n",
      "Epoch 2/30\n",
      "108/108 [==============================] - 2s 14ms/step - loss: 0.4427 - tp: 23343.5046 - fp: 34621.3670 - tn: 50146.4587 - fn: 1852.8899 - accuracy: 0.6731 - precision: 0.4074 - recall: 0.9213 - auc: 0.8529 - prc: 0.6009 - f1_m: 0.5673 - val_loss: 0.4640 - val_tp: 19718.0000 - val_fp: 30751.0000 - val_tn: 55901.0000 - val_fn: 2350.0000 - val_accuracy: 0.6955 - val_precision: 0.3907 - val_recall: 0.8935 - val_auc: 0.8509 - val_prc: 0.5681 - val_f1_m: 0.4717\n",
      "Epoch 3/30\n",
      "108/108 [==============================] - 1s 14ms/step - loss: 0.4427 - tp: 23745.7064 - fp: 36298.3394 - tn: 48467.1743 - fn: 1453.0000 - accuracy: 0.6665 - precision: 0.4026 - recall: 0.9311 - auc: 0.8528 - prc: 0.5972 - f1_m: 0.5637 - val_loss: 0.4904 - val_tp: 21474.0000 - val_fp: 39946.0000 - val_tn: 46706.0000 - val_fn: 594.0000 - val_accuracy: 0.6271 - val_precision: 0.3496 - val_recall: 0.9731 - val_auc: 0.8539 - val_prc: 0.5775 - val_f1_m: 0.4526\n",
      "Epoch 4/30\n",
      "108/108 [==============================] - 2s 14ms/step - loss: 0.4405 - tp: 24571.8165 - fp: 39987.8440 - tn: 44796.1927 - fn: 608.3670 - accuracy: 0.6276 - precision: 0.3787 - recall: 0.9801 - auc: 0.8556 - prc: 0.6043 - f1_m: 0.5467 - val_loss: 0.4660 - val_tp: 21576.0000 - val_fp: 40369.0000 - val_tn: 46283.0000 - val_fn: 492.0000 - val_accuracy: 0.6242 - val_precision: 0.3483 - val_recall: 0.9777 - val_auc: 0.8505 - val_prc: 0.5713 - val_f1_m: 0.4598\n",
      "Epoch 5/30\n",
      "108/108 [==============================] - 1s 13ms/step - loss: 0.4398 - tp: 23638.4954 - fp: 36445.4037 - tn: 48399.6514 - fn: 1480.6697 - accuracy: 0.6525 - precision: 0.3922 - recall: 0.9438 - auc: 0.8545 - prc: 0.6072 - f1_m: 0.5564 - val_loss: 0.4671 - val_tp: 21482.0000 - val_fp: 40619.0000 - val_tn: 46033.0000 - val_fn: 586.0000 - val_accuracy: 0.6210 - val_precision: 0.3459 - val_recall: 0.9734 - val_auc: 0.8530 - val_prc: 0.5790 - val_f1_m: 0.4486\n",
      "Epoch 6/30\n",
      "108/108 [==============================] - 1s 14ms/step - loss: 0.4411 - tp: 24212.2294 - fp: 38050.8899 - tn: 46714.4862 - fn: 986.6147 - accuracy: 0.6402 - precision: 0.3859 - recall: 0.9671 - auc: 0.8552 - prc: 0.6025 - f1_m: 0.5531 - val_loss: 0.4875 - val_tp: 21344.0000 - val_fp: 39300.0000 - val_tn: 47352.0000 - val_fn: 724.0000 - val_accuracy: 0.6319 - val_precision: 0.3520 - val_recall: 0.9672 - val_auc: 0.8522 - val_prc: 0.5748 - val_f1_m: 0.4532\n",
      "Epoch 7/30\n",
      "108/108 [==============================] - 1s 13ms/step - loss: 0.4404 - tp: 24521.9358 - fp: 39418.0459 - tn: 45387.1651 - fn: 637.0734 - accuracy: 0.6328 - precision: 0.3827 - recall: 0.9784 - auc: 0.8548 - prc: 0.6052 - f1_m: 0.5506 - val_loss: 0.4532 - val_tp: 20833.0000 - val_fp: 36563.0000 - val_tn: 50089.0000 - val_fn: 1235.0000 - val_accuracy: 0.6523 - val_precision: 0.3630 - val_recall: 0.9440 - val_auc: 0.8514 - val_prc: 0.5751 - val_f1_m: 0.4600\n",
      "Epoch 8/30\n",
      "108/108 [==============================] - 1s 13ms/step - loss: 0.4408 - tp: 24716.6606 - fp: 39986.4404 - tn: 44751.3119 - fn: 509.8073 - accuracy: 0.6309 - precision: 0.3824 - recall: 0.9802 - auc: 0.8550 - prc: 0.6075 - f1_m: 0.5501 - val_loss: 0.5038 - val_tp: 20996.0000 - val_fp: 37023.0000 - val_tn: 49629.0000 - val_fn: 1072.0000 - val_accuracy: 0.6496 - val_precision: 0.3619 - val_recall: 0.9514 - val_auc: 0.8540 - val_prc: 0.5809 - val_f1_m: 0.4604\n",
      "Epoch 9/30\n",
      "108/108 [==============================] - 2s 14ms/step - loss: 0.4404 - tp: 24675.3670 - fp: 40363.8349 - tn: 44485.5138 - fn: 439.5046 - accuracy: 0.6286 - precision: 0.3790 - recall: 0.9815 - auc: 0.8536 - prc: 0.6048 - f1_m: 0.5467 - val_loss: 0.4679 - val_tp: 21308.0000 - val_fp: 38844.0000 - val_tn: 47808.0000 - val_fn: 760.0000 - val_accuracy: 0.6357 - val_precision: 0.3542 - val_recall: 0.9656 - val_auc: 0.8529 - val_prc: 0.5789 - val_f1_m: 0.4555\n",
      "Epoch 10/30\n",
      "108/108 [==============================] - 1s 14ms/step - loss: 0.4397 - tp: 24487.0826 - fp: 39620.1927 - tn: 45192.1468 - fn: 664.7982 - accuracy: 0.6370 - precision: 0.3838 - recall: 0.9675 - auc: 0.8539 - prc: 0.6103 - f1_m: 0.5504 - val_loss: 0.4599 - val_tp: 20968.0000 - val_fp: 36967.0000 - val_tn: 49685.0000 - val_fn: 1100.0000 - val_accuracy: 0.6499 - val_precision: 0.3619 - val_recall: 0.9502 - val_auc: 0.8544 - val_prc: 0.5796 - val_f1_m: 0.4595\n",
      "Epoch 11/30\n",
      "108/108 [==============================] - 2s 14ms/step - loss: 0.4378 - tp: 24038.9450 - fp: 37844.5505 - tn: 47053.3761 - fn: 1027.3486 - accuracy: 0.6456 - precision: 0.3884 - recall: 0.9610 - auc: 0.8556 - prc: 0.6096 - f1_m: 0.5545 - val_loss: 0.4566 - val_tp: 21272.0000 - val_fp: 38329.0000 - val_tn: 48323.0000 - val_fn: 796.0000 - val_accuracy: 0.6401 - val_precision: 0.3569 - val_recall: 0.9639 - val_auc: 0.8535 - val_prc: 0.5802 - val_f1_m: 0.4592\n",
      "Epoch 12/30\n",
      "108/108 [==============================] - 2s 14ms/step - loss: 0.4382 - tp: 24556.4495 - fp: 39787.6147 - tn: 45050.7156 - fn: 569.4404 - accuracy: 0.6330 - precision: 0.3810 - recall: 0.9770 - auc: 0.8552 - prc: 0.6091 - f1_m: 0.5485 - val_loss: 0.4592 - val_tp: 20597.0000 - val_fp: 35158.0000 - val_tn: 51494.0000 - val_fn: 1471.0000 - val_accuracy: 0.6631 - val_precision: 0.3694 - val_recall: 0.9333 - val_auc: 0.8526 - val_prc: 0.5758 - val_f1_m: 0.4629\n",
      "Restoring model weights from the end of the best epoch.\n",
      "Epoch 00012: early stopping\n"
     ]
    }
   ],
   "source": [
    "b_size=2000 # important to be high enough to contain information on positive class\n",
    "e=30\n",
    "early_stop= tf.keras.callbacks.EarlyStopping(monitor='val_f1_m', verbose = 1, patience=10, mode='max', restore_best_weights=True)\n",
    "\n",
    "cw_history = cw_model.fit(\n",
    "    x=X_tr_arr, \n",
    "    y=y_tr_arr_delay_binary,\n",
    "    batch_size=b_size,\n",
    "    epochs=e,\n",
    "    callbacks=[early_stop],\n",
    "    validation_data=(X_va_arr_reindex, y_va_arr_delay_binary),\n",
    "    shuffle=True, # Shuffle training samples\n",
    "    class_weight=class_weight_d\n",
    "    )"
   ]
  },
  {
   "cell_type": "code",
   "execution_count": 128,
   "metadata": {},
   "outputs": [
    {
     "data": {
      "image/png": "[encoded data removed]",
      "text/plain": [
       "<Figure size 432x288 with 4 Axes>"
      ]
     },
     "metadata": {
      "needs_background": "light"
     },
     "output_type": "display_data"
    }
   ],
   "source": [
    "# check training history\n",
    "def plot_metrics(history):\n",
    "  metrics = ['f1_m', 'prc', 'precision', 'recall']\n",
    "  for n, metric in enumerate(metrics):\n",
    "    name = metric.replace(\"_\",\" \").capitalize()\n",
    "    plt.subplot(2,2,n+1)\n",
    "    plt.plot(history.epoch, history.history[metric], label='Train')\n",
    "    plt.plot(history.epoch, history.history['val_'+metric], linestyle=\"--\", label='Val')\n",
    "    plt.xlabel('Epoch')\n",
    "    plt.ylabel(name)\n",
    "    if metric == 'loss':\n",
    "      plt.ylim([0, plt.ylim()[1]])\n",
    "    elif metric == 'auc':\n",
    "      plt.ylim([0.8,1])\n",
    "    else:\n",
    "      plt.ylim([0,1])\n",
    "\n",
    "    plt.legend()\n",
    "\n",
    "plot_metrics(cw_history)"
   ]
  },
  {
   "cell_type": "code",
   "execution_count": 129,
   "metadata": {},
   "outputs": [
    {
     "data": {
      "text/plain": [
       "[0.9034348130226135,\n",
       " 0.8935109376907349,\n",
       " 0.9730831980705261,\n",
       " 0.9777052998542786,\n",
       " 0.97344571352005,\n",
       " 0.9671922922134399,\n",
       " 0.944036602973938,\n",
       " 0.9514228701591492,\n",
       " 0.9655609726905823,\n",
       " 0.9501540660858154,\n",
       " 0.9639296531677246,\n",
       " 0.9333423972129822]"
      ]
     },
     "execution_count": 129,
     "metadata": {},
     "output_type": "execute_result"
    }
   ],
   "source": [
    "cw_history.history['val_recall']"
   ]
  },
  {
   "cell_type": "code",
   "execution_count": 130,
   "metadata": {},
   "outputs": [],
   "source": [
    "# prediction\n",
    "y_pred_va_keras_d = cw_model.predict(X_va_arr_reindex)"
   ]
  },
  {
   "cell_type": "code",
   "execution_count": 131,
   "metadata": {},
   "outputs": [
    {
     "name": "stdout",
     "output_type": "stream",
     "text": [
      "              precision    recall  f1-score   support\n",
      "\n",
      "    no_delay       0.96      0.65      0.77     86652\n",
      "       delay       0.39      0.89      0.54     22068\n",
      "\n",
      "    accuracy                           0.70    108720\n",
      "   macro avg       0.68      0.77      0.66    108720\n",
      "weighted avg       0.84      0.70      0.73    108720\n",
      "\n"
     ]
    }
   ],
   "source": [
    "report_keras_d = classification_report(y_true=y_va_arr_delay_binary, y_pred=(y_pred_va_keras_d > 0.5)*1, target_names=['no_delay','delay'])\n",
    "print(report_keras_d)"
   ]
  },
  {
   "cell_type": "code",
   "execution_count": 132,
   "metadata": {},
   "outputs": [
    {
     "name": "stdout",
     "output_type": "stream",
     "text": [
      "Area Under PR Curve: 0.568\n"
     ]
    }
   ],
   "source": [
    "# Precision-recall curve metrics\n",
    "keras_precision_d, keras_recall_d, keras_thres_d = precision_recall_curve(y_va_arr_delay_binary, y_pred_va_keras_d, pos_label=1)\n",
    "keras_auprc_d = auc(keras_recall_d, keras_precision_d)\n",
    "print('Area Under PR Curve: {:.3f}'.format(keras_auprc_d))"
   ]
  },
  {
   "cell_type": "markdown",
   "metadata": {},
   "source": [
    "#### Optimize threshold (Keras - Delay) <a name='keras_delay_thres' />\n",
    "*<a href=#top>Back to top</a>*"
   ]
  },
  {
   "cell_type": "code",
   "execution_count": 133,
   "metadata": {},
   "outputs": [
    {
     "name": "stdout",
     "output_type": "stream",
     "text": [
      "Best Threshold: 0.569\n",
      "Probabilities: [[0.5925672 ]\n",
      " [0.54520875]\n",
      " [0.5689906 ]\n",
      " [0.56060505]\n",
      " [0.9215561 ]\n",
      " [0.48765883]\n",
      " [0.8491559 ]\n",
      " [0.9017005 ]\n",
      " [0.6197516 ]\n",
      " [0.5346859 ]]\n",
      "Predictions: [[1]\n",
      " [0]\n",
      " [1]\n",
      " [0]\n",
      " [1]\n",
      " [0]\n",
      " [1]\n",
      " [1]\n",
      " [1]\n",
      " [0]]\n"
     ]
    }
   ],
   "source": [
    "from numpy import argmax\n",
    "fscores_keras_d = (2 * keras_precision_d * keras_recall_d) / (keras_precision_d + keras_recall_d)\n",
    "keras_bt_d = keras_thres_d[argmax(fscores_keras_d)]\n",
    "print('Best Threshold: {:.3f}'.format(keras_bt_d))\n",
    "# use threshold in model\n",
    "keras_curve_d = np.where(y_pred_va_keras_d > keras_bt_d, 1,0)\n",
    "print('Probabilities:',y_pred_va_keras_d[0:10])\n",
    "print('Predictions:',keras_curve_d[0:10])"
   ]
  },
  {
   "cell_type": "markdown",
   "metadata": {},
   "source": [
    "#### Classification report (Keras - Delay) <a name='keras_delay_report' />\n",
    "*<a href=#top>Back to top</a>*"
   ]
  },
  {
   "cell_type": "code",
   "execution_count": 134,
   "metadata": {},
   "outputs": [
    {
     "name": "stdout",
     "output_type": "stream",
     "text": [
      "Classification report: Keras delay - optimzed threshold at 0.569 on PR curve\n",
      "              precision    recall  f1-score   support\n",
      "\n",
      "    no_delay       0.92      0.78      0.84     86652\n",
      "       delay       0.45      0.73      0.56     22068\n",
      "\n",
      "    accuracy                           0.77    108720\n",
      "   macro avg       0.69      0.75      0.70    108720\n",
      "weighted avg       0.82      0.77      0.78    108720\n",
      "\n"
     ]
    }
   ],
   "source": [
    "print('Classification report: Keras delay - optimzed threshold at {:.3f} on PR curve'.format(keras_bt_d))\n",
    "report_keras_preds_d = classification_report(y_true=y_va_arr_delay_binary, y_pred=keras_curve_d, target_names=['no_delay','delay'])\n",
    "#f1_logreg_pr_d = classification_report(y_true=y_va_arr_delay_binary, y_pred=lr_curve_d, target_names=['no_delay','delay'], output_dict=True)['delay']['f1-score']\n",
    "print(report_keras_preds_d)"
   ]
  },
  {
   "cell_type": "markdown",
   "metadata": {},
   "source": [
    "#### Confusion Matrix (Keras - Delay) <a name='keras_delay_matrix' />\n",
    "*<a href=#top>Back to top</a>*"
   ]
  },
  {
   "cell_type": "code",
   "execution_count": 135,
   "metadata": {},
   "outputs": [
    {
     "name": "stdout",
     "output_type": "stream",
     "text": [
      "Confusion matrix (normalized): Keras delay\n"
     ]
    },
    {
     "data": {
      "text/html": [
       "<div>\n",
       "<style scoped>\n",
       "    .dataframe tbody tr th:only-of-type {\n",
       "        vertical-align: middle;\n",
       "    }\n",
       "\n",
       "    .dataframe tbody tr th {\n",
       "        vertical-align: top;\n",
       "    }\n",
       "\n",
       "    .dataframe thead th {\n",
       "        text-align: right;\n",
       "    }\n",
       "</style>\n",
       "<table border=\"1\" class=\"dataframe\">\n",
       "  <thead>\n",
       "    <tr style=\"text-align: right;\">\n",
       "      <th></th>\n",
       "      <th>pred: no delay</th>\n",
       "      <th>pred: delay</th>\n",
       "    </tr>\n",
       "  </thead>\n",
       "  <tbody>\n",
       "    <tr>\n",
       "      <th>true: no delay</th>\n",
       "      <td>0.618561</td>\n",
       "      <td>0.178458</td>\n",
       "    </tr>\n",
       "    <tr>\n",
       "      <th>true: delay</th>\n",
       "      <td>0.055537</td>\n",
       "      <td>0.147443</td>\n",
       "    </tr>\n",
       "  </tbody>\n",
       "</table>\n",
       "</div>"
      ],
      "text/plain": [
       "                pred: no delay  pred: delay\n",
       "true: no delay        0.618561     0.178458\n",
       "true: delay           0.055537     0.147443"
      ]
     },
     "execution_count": 135,
     "metadata": {},
     "output_type": "execute_result"
    }
   ],
   "source": [
    "# Confusion matrix 'RF important delay'\n",
    "matrix_keras_d = confusion_matrix(y_true=y_va_arr_delay_binary, y_pred=keras_curve_d,normalize='all') # normalize either on columns/rows or all\n",
    "matrix_keras_d = pd.DataFrame(\n",
    "    matrix_keras_d, \n",
    "    columns=['pred: no delay', 'pred: delay'],\n",
    "    index=['true: no delay', 'true: delay']\n",
    ")\n",
    "print('Confusion matrix (normalized): Keras delay')\n",
    "matrix_keras_d"
   ]
  },
  {
   "cell_type": "markdown",
   "metadata": {},
   "source": [
    "#### Important delay <a name='keras_imp_delay' />\n",
    "*<a href=#top>Back to top</a>*"
   ]
  },
  {
   "cell_type": "code",
   "execution_count": 136,
   "metadata": {},
   "outputs": [
    {
     "name": "stdout",
     "output_type": "stream",
     "text": [
      "Weight for class no_delay: 0.53\n",
      "Weight for class delay: 9.59\n"
     ]
    }
   ],
   "source": [
    "# Scaling by total/2 to help keep loss to similar magnitude\n",
    "weight_no_delay_i = (1 / neg_i)*(total_i)/2.0\n",
    "weight_imp_delay = (1 / pos_i)*(total_i)/2.0\n",
    "\n",
    "class_weight_i = {0: weight_no_delay_d, 1: weight_imp_delay}\n",
    "\n",
    "print('Weight for class no_delay: {:.2f}'.format(weight_no_delay_i))\n",
    "print('Weight for class delay: {:.2f}'.format(weight_imp_delay))"
   ]
  },
  {
   "cell_type": "code",
   "execution_count": 137,
   "metadata": {},
   "outputs": [
    {
     "name": "stdout",
     "output_type": "stream",
     "text": [
      "Model: \"sequential_1\"\n",
      "_________________________________________________________________\n",
      "Layer (type)                 Output Shape              Param #   \n",
      "=================================================================\n",
      "dense_2 (Dense)              (None, 16)                6960      \n",
      "_________________________________________________________________\n",
      "dropout_1 (Dropout)          (None, 16)                0         \n",
      "_________________________________________________________________\n",
      "dense_3 (Dense)              (None, 1)                 17        \n",
      "=================================================================\n",
      "Total params: 6,977\n",
      "Trainable params: 6,977\n",
      "Non-trainable params: 0\n",
      "_________________________________________________________________\n"
     ]
    }
   ],
   "source": [
    "# class weight model\n",
    "cw_model_i = Sequential()\n",
    "cw_model_i.add(Dense(16, activation='relu', input_dim=X_tr_arr.shape[1]))\n",
    "cw_model_i.add(Dropout(0.5))\n",
    "cw_model_i.add(Dense(1, activation='sigmoid', bias_initializer=None))\n",
    "\n",
    "cw_model_i.compile(\n",
    "    optimizer=tf.keras.optimizers.Adam(learning_rate=0.1),\n",
    "    loss='BinaryCrossentropy',\n",
    "    metrics=metrics)\n",
    "\n",
    "cw_model_i.summary()"
   ]
  },
  {
   "cell_type": "code",
   "execution_count": 138,
   "metadata": {},
   "outputs": [],
   "source": [
    "# define if want to add \"initial_weights\"\n",
    "# model.load_weights(initial_weights)"
   ]
  },
  {
   "cell_type": "markdown",
   "metadata": {},
   "source": [
    "#### Fit model (Keras - Important delay) <a name='keras_imp_delay_fit' />\n",
    "*<a href=#top>Back to top</a>*"
   ]
  },
  {
   "cell_type": "code",
   "execution_count": 139,
   "metadata": {},
   "outputs": [
    {
     "name": "stdout",
     "output_type": "stream",
     "text": [
      "Epoch 1/30\n",
      "108/108 [==============================] - 5s 27ms/step - loss: 0.6069 - tp: 25774.9266 - fp: 86551.0826 - tn: 104312.0092 - fn: 2046.2018 - accuracy: 0.6008 - precision: 0.2427 - recall: 0.9267 - auc: 0.8486 - prc: 0.4748 - f1_m: 0.1600 - val_loss: 0.4868 - val_tp: 4330.0000 - val_fp: 46681.0000 - val_tn: 56800.0000 - val_fn: 909.0000 - val_accuracy: 0.5623 - val_precision: 0.0849 - val_recall: 0.8265 - val_auc: 0.7925 - val_prc: 0.2092 - val_f1_m: 0.1339\n",
      "Epoch 2/30\n",
      "108/108 [==============================] - 1s 14ms/step - loss: 0.5595 - tp: 5322.7982 - fp: 50153.6789 - tn: 54023.8073 - fn: 463.9358 - accuracy: 0.5354 - precision: 0.0961 - recall: 0.9273 - auc: 0.7949 - prc: 0.2213 - f1_m: 0.1751 - val_loss: 0.5166 - val_tp: 4688.0000 - val_fp: 50842.0000 - val_tn: 52639.0000 - val_fn: 551.0000 - val_accuracy: 0.5273 - val_precision: 0.0844 - val_recall: 0.8948 - val_auc: 0.8008 - val_prc: 0.2158 - val_f1_m: 0.1374\n",
      "Epoch 3/30\n",
      "108/108 [==============================] - 2s 14ms/step - loss: 0.5483 - tp: 5164.1651 - fp: 48742.1193 - tn: 55468.8624 - fn: 589.0734 - accuracy: 0.5423 - precision: 0.0945 - recall: 0.9113 - auc: 0.8024 - prc: 0.2226 - f1_m: 0.1750 - val_loss: 0.4459 - val_tp: 4615.0000 - val_fp: 49557.0000 - val_tn: 53924.0000 - val_fn: 624.0000 - val_accuracy: 0.5384 - val_precision: 0.0852 - val_recall: 0.8809 - val_auc: 0.7969 - val_prc: 0.2175 - val_f1_m: 0.1369\n",
      "Epoch 4/30\n",
      "108/108 [==============================] - 2s 14ms/step - loss: 0.5478 - tp: 5450.5138 - fp: 51319.6147 - tn: 52888.4312 - fn: 305.6606 - accuracy: 0.5251 - precision: 0.0962 - recall: 0.9510 - auc: 0.8044 - prc: 0.2320 - f1_m: 0.1746 - val_loss: 0.4247 - val_tp: 2748.0000 - val_fp: 15797.0000 - val_tn: 87684.0000 - val_fn: 2491.0000 - val_accuracy: 0.8318 - val_precision: 0.1482 - val_recall: 0.5245 - val_auc: 0.7939 - val_prc: 0.2223 - val_f1_m: 0.1865\n",
      "Epoch 5/30\n",
      "108/108 [==============================] - 1s 14ms/step - loss: 0.5436 - tp: 4996.5780 - fp: 46361.5963 - tn: 57889.8716 - fn: 716.1743 - accuracy: 0.5957 - precision: 0.1027 - recall: 0.8440 - auc: 0.8039 - prc: 0.2340 - f1_m: 0.1906 - val_loss: 0.4869 - val_tp: 4936.0000 - val_fp: 54538.0000 - val_tn: 48943.0000 - val_fn: 303.0000 - val_accuracy: 0.4956 - val_precision: 0.0830 - val_recall: 0.9422 - val_auc: 0.8034 - val_prc: 0.2274 - val_f1_m: 0.1347\n",
      "Epoch 6/30\n",
      "108/108 [==============================] - 1s 14ms/step - loss: 0.5403 - tp: 5102.2385 - fp: 48134.6789 - tn: 56108.2294 - fn: 619.0734 - accuracy: 0.5382 - precision: 0.0945 - recall: 0.9182 - auc: 0.8034 - prc: 0.2435 - f1_m: 0.1772 - val_loss: 0.4483 - val_tp: 2904.0000 - val_fp: 17319.0000 - val_tn: 86162.0000 - val_fn: 2335.0000 - val_accuracy: 0.8192 - val_precision: 0.1436 - val_recall: 0.5543 - val_auc: 0.8001 - val_prc: 0.2260 - val_f1_m: 0.1797\n",
      "Epoch 7/30\n",
      "108/108 [==============================] - 1s 14ms/step - loss: 0.5353 - tp: 4481.2569 - fp: 37852.7706 - tn: 66398.9358 - fn: 1231.2569 - accuracy: 0.6908 - precision: 0.1212 - recall: 0.7204 - auc: 0.8084 - prc: 0.2436 - f1_m: 0.2180 - val_loss: 0.4391 - val_tp: 4343.0000 - val_fp: 44249.0000 - val_tn: 59232.0000 - val_fn: 896.0000 - val_accuracy: 0.5848 - val_precision: 0.0894 - val_recall: 0.8290 - val_auc: 0.8010 - val_prc: 0.2221 - val_f1_m: 0.1413\n",
      "Epoch 8/30\n",
      "108/108 [==============================] - 2s 14ms/step - loss: 0.5327 - tp: 4354.4679 - fp: 35702.2202 - tn: 68576.6422 - fn: 1330.8899 - accuracy: 0.6405 - precision: 0.1069 - recall: 0.7988 - auc: 0.8134 - prc: 0.2383 - f1_m: 0.2039 - val_loss: 0.4594 - val_tp: 4331.0000 - val_fp: 44763.0000 - val_tn: 58718.0000 - val_fn: 908.0000 - val_accuracy: 0.5799 - val_precision: 0.0882 - val_recall: 0.8267 - val_auc: 0.7989 - val_prc: 0.2202 - val_f1_m: 0.1422\n",
      "Epoch 9/30\n",
      "108/108 [==============================] - 2s 15ms/step - loss: 0.5473 - tp: 4797.7982 - fp: 42515.7339 - tn: 61681.5505 - fn: 969.1376 - accuracy: 0.5795 - precision: 0.1004 - recall: 0.8683 - auc: 0.8077 - prc: 0.2438 - f1_m: 0.1918 - val_loss: 0.4813 - val_tp: 4695.0000 - val_fp: 48675.0000 - val_tn: 54806.0000 - val_fn: 544.0000 - val_accuracy: 0.5473 - val_precision: 0.0880 - val_recall: 0.8962 - val_auc: 0.8063 - val_prc: 0.2201 - val_f1_m: 0.1422\n",
      "Epoch 10/30\n",
      "108/108 [==============================] - 2s 16ms/step - loss: 0.5314 - tp: 5346.3303 - fp: 50575.7982 - tn: 53691.7798 - fn: 350.3119 - accuracy: 0.5309 - precision: 0.0949 - recall: 0.9469 - auc: 0.8093 - prc: 0.2368 - f1_m: 0.1750 - val_loss: 0.4842 - val_tp: 4697.0000 - val_fp: 47919.0000 - val_tn: 55562.0000 - val_fn: 542.0000 - val_accuracy: 0.5543 - val_precision: 0.0893 - val_recall: 0.8965 - val_auc: 0.8104 - val_prc: 0.2289 - val_f1_m: 0.1424\n",
      "Epoch 11/30\n",
      "108/108 [==============================] - 2s 16ms/step - loss: 0.5310 - tp: 5236.6330 - fp: 48681.2477 - tn: 55572.8165 - fn: 473.5229 - accuracy: 0.5530 - precision: 0.0965 - recall: 0.9174 - auc: 0.8114 - prc: 0.2416 - f1_m: 0.1800 - val_loss: 0.4617 - val_tp: 4552.0000 - val_fp: 46477.0000 - val_tn: 57004.0000 - val_fn: 687.0000 - val_accuracy: 0.5662 - val_precision: 0.0892 - val_recall: 0.8689 - val_auc: 0.8067 - val_prc: 0.2236 - val_f1_m: 0.1420\n",
      "Epoch 12/30\n",
      "108/108 [==============================] - 1s 14ms/step - loss: 0.5304 - tp: 5132.4587 - fp: 46817.6147 - tn: 57409.3486 - fn: 604.7982 - accuracy: 0.5568 - precision: 0.0980 - recall: 0.9128 - auc: 0.8128 - prc: 0.2518 - f1_m: 0.1838 - val_loss: 0.4842 - val_tp: 4647.0000 - val_fp: 46271.0000 - val_tn: 57210.0000 - val_fn: 592.0000 - val_accuracy: 0.5690 - val_precision: 0.0913 - val_recall: 0.8870 - val_auc: 0.8096 - val_prc: 0.2215 - val_f1_m: 0.1446\n",
      "Epoch 13/30\n",
      "108/108 [==============================] - 2s 14ms/step - loss: 0.5358 - tp: 5234.1651 - fp: 46804.3028 - tn: 57389.8532 - fn: 535.8991 - accuracy: 0.5592 - precision: 0.1002 - recall: 0.9244 - auc: 0.8143 - prc: 0.2349 - f1_m: 0.1875 - val_loss: 0.4449 - val_tp: 4393.0000 - val_fp: 42581.0000 - val_tn: 60900.0000 - val_fn: 846.0000 - val_accuracy: 0.6006 - val_precision: 0.0935 - val_recall: 0.8385 - val_auc: 0.8097 - val_prc: 0.2256 - val_f1_m: 0.1467\n",
      "Epoch 14/30\n",
      "108/108 [==============================] - 2s 15ms/step - loss: 0.5331 - tp: 5538.3028 - fp: 51282.4679 - tn: 52924.8165 - fn: 218.6330 - accuracy: 0.5351 - precision: 0.0986 - recall: 0.9631 - auc: 0.8147 - prc: 0.2436 - f1_m: 0.1791 - val_loss: 0.4133 - val_tp: 4578.0000 - val_fp: 46734.0000 - val_tn: 56747.0000 - val_fn: 661.0000 - val_accuracy: 0.5641 - val_precision: 0.0892 - val_recall: 0.8738 - val_auc: 0.8067 - val_prc: 0.2241 - val_f1_m: 0.1417\n",
      "Restoring model weights from the end of the best epoch.\n",
      "Epoch 00014: early stopping\n"
     ]
    }
   ],
   "source": [
    "b_size=2000 # important to be high enough to contain information on positive class\n",
    "e=30\n",
    "early_stop= tf.keras.callbacks.EarlyStopping(monitor='val_f1_m', verbose = 1, patience=10, mode='max', restore_best_weights=True)\n",
    "\n",
    "cw_history_i = cw_model_i.fit(\n",
    "    x=X_tr_arr, \n",
    "    y=y_tr_arr_imp_delay_binary,\n",
    "    batch_size=b_size,\n",
    "    epochs=e,\n",
    "    callbacks=[early_stop],\n",
    "    validation_data=(X_va_arr_reindex, y_va_arr_imp_delay_binary),\n",
    "    shuffle=True, # Shuffle training samples\n",
    "    class_weight=class_weight_i\n",
    "    )"
   ]
  },
  {
   "cell_type": "code",
   "execution_count": 140,
   "metadata": {},
   "outputs": [
    {
     "data": {
      "image/png": "[encoded data removed]",
      "text/plain": [
       "<Figure size 432x288 with 4 Axes>"
      ]
     },
     "metadata": {
      "needs_background": "light"
     },
     "output_type": "display_data"
    }
   ],
   "source": [
    "# check training history\n",
    "\n",
    "plot_metrics(cw_history_i)"
   ]
  },
  {
   "cell_type": "code",
   "execution_count": 141,
   "metadata": {},
   "outputs": [
    {
     "data": {
      "text/plain": [
       "[0.8264936208724976,\n",
       " 0.8948272466659546,\n",
       " 0.8808932900428772,\n",
       " 0.5245276093482971,\n",
       " 0.9421645402908325,\n",
       " 0.5543042421340942,\n",
       " 0.8289750218391418,\n",
       " 0.8266844749450684,\n",
       " 0.8961634039878845,\n",
       " 0.8965451717376709,\n",
       " 0.8688681125640869,\n",
       " 0.8870013356208801,\n",
       " 0.8385187983512878,\n",
       " 0.8738308548927307]"
      ]
     },
     "execution_count": 141,
     "metadata": {},
     "output_type": "execute_result"
    }
   ],
   "source": [
    "cw_history_i.history['val_recall']"
   ]
  },
  {
   "cell_type": "code",
   "execution_count": 142,
   "metadata": {},
   "outputs": [],
   "source": [
    "# prediction\n",
    "y_pred_va_keras_i = cw_model_i.predict(X_va_arr_reindex)"
   ]
  },
  {
   "cell_type": "code",
   "execution_count": 143,
   "metadata": {},
   "outputs": [
    {
     "name": "stdout",
     "output_type": "stream",
     "text": [
      "                 precision    recall  f1-score   support\n",
      "\n",
      "       no_delay       0.97      0.85      0.91    103481\n",
      "important_delay       0.15      0.52      0.23      5239\n",
      "\n",
      "       accuracy                           0.83    108720\n",
      "      macro avg       0.56      0.69      0.57    108720\n",
      "   weighted avg       0.93      0.83      0.87    108720\n",
      "\n"
     ]
    }
   ],
   "source": [
    "report_keras_i = classification_report(y_true=y_va_arr_imp_delay_binary, y_pred=(y_pred_va_keras_i > 0.5)*1 , target_names=['no_delay','important_delay'])\n",
    "print(report_keras_i)\n",
    "# why f1-score better for \"important delay\" in multi-class over binary?"
   ]
  },
  {
   "cell_type": "code",
   "execution_count": 144,
   "metadata": {},
   "outputs": [
    {
     "name": "stdout",
     "output_type": "stream",
     "text": [
      "Area Under PR Curve: 0.226\n"
     ]
    }
   ],
   "source": [
    "# Precision-recall curve metrics\n",
    "keras_precision_i, keras_recall_i, keras_thres_i = precision_recall_curve(y_va_arr_imp_delay_binary, y_pred_va_keras_i, pos_label=1)\n",
    "keras_auprc_i = auc(keras_recall_i, keras_precision_i)\n",
    "print('Area Under PR Curve: {:.3f}'.format(keras_auprc_i))"
   ]
  },
  {
   "cell_type": "markdown",
   "metadata": {},
   "source": [
    "#### Optimize threshold (Keras - Important delay) <a name='keras_imp_delay_thres' />\n",
    "*<a href=#top>Back to top</a>*"
   ]
  },
  {
   "cell_type": "code",
   "execution_count": 145,
   "metadata": {},
   "outputs": [
    {
     "name": "stdout",
     "output_type": "stream",
     "text": [
      "Best Threshold: 0.604\n",
      "Probabilities: [[0.49247447]\n",
      " [0.492954  ]\n",
      " [0.5895435 ]\n",
      " [0.59583604]\n",
      " [0.728505  ]\n",
      " [0.5253348 ]\n",
      " [0.6661505 ]\n",
      " [0.6897077 ]\n",
      " [0.5935712 ]\n",
      " [0.5493499 ]]\n",
      "Predictions: [[0]\n",
      " [0]\n",
      " [0]\n",
      " [0]\n",
      " [1]\n",
      " [0]\n",
      " [1]\n",
      " [1]\n",
      " [0]\n",
      " [0]]\n"
     ]
    }
   ],
   "source": [
    "from numpy import argmax\n",
    "fscores_keras_i = (2 * keras_precision_i * keras_recall_i) / (keras_precision_i + keras_recall_i)\n",
    "keras_bt_i = keras_thres_i[argmax(fscores_keras_i)]\n",
    "print('Best Threshold: {:.3f}'.format(keras_bt_i))\n",
    "# use threshold in model\n",
    "keras_curve_i = np.where(y_pred_va_keras_i > keras_bt_i, 1,0)\n",
    "print('Probabilities:',y_pred_va_keras_i[0:10])\n",
    "print('Predictions:',keras_curve_i[0:10])"
   ]
  },
  {
   "cell_type": "markdown",
   "metadata": {},
   "source": [
    "#### Classification report (Keras - Important delay) <a name='keras_imp_delay_report' />\n",
    "*<a href=#top>Back to top</a>*"
   ]
  },
  {
   "cell_type": "code",
   "execution_count": 146,
   "metadata": {},
   "outputs": [
    {
     "name": "stdout",
     "output_type": "stream",
     "text": [
      "Classification report: Keras delay - optimzed threshold at 0.604 on PR curve\n",
      "                 precision    recall  f1-score   support\n",
      "\n",
      "       no_delay       0.96      0.94      0.95    103481\n",
      "important_delay       0.22      0.32      0.26      5239\n",
      "\n",
      "       accuracy                           0.91    108720\n",
      "      macro avg       0.59      0.63      0.61    108720\n",
      "   weighted avg       0.93      0.91      0.92    108720\n",
      "\n"
     ]
    }
   ],
   "source": [
    "print('Classification report: Keras delay - optimzed threshold at {:.3f} on PR curve'.format(keras_bt_i))\n",
    "report_keras_preds_i = classification_report(y_true=y_va_arr_imp_delay_binary, y_pred=keras_curve_i, target_names=['no_delay','important_delay'])\n",
    "#f1_logreg_pr_d = classification_report(y_true=y_va_arr_delay_binary, y_pred=lr_curve_d, target_names=['no_delay','delay'], output_dict=True)['delay']['f1-score']\n",
    "print(report_keras_preds_i)"
   ]
  },
  {
   "cell_type": "markdown",
   "metadata": {},
   "source": [
    "#### Confusion Matrix (Keras - Important delay) <a name='keras_imp_delay_matrix' />\n",
    "*<a href=#top>Back to top</a>*"
   ]
  },
  {
   "cell_type": "code",
   "execution_count": 147,
   "metadata": {},
   "outputs": [
    {
     "name": "stdout",
     "output_type": "stream",
     "text": [
      "Confusion matrix (normalized): Keras Important delay\n"
     ]
    },
    {
     "data": {
      "text/html": [
       "<div>\n",
       "<style scoped>\n",
       "    .dataframe tbody tr th:only-of-type {\n",
       "        vertical-align: middle;\n",
       "    }\n",
       "\n",
       "    .dataframe tbody tr th {\n",
       "        vertical-align: top;\n",
       "    }\n",
       "\n",
       "    .dataframe thead th {\n",
       "        text-align: right;\n",
       "    }\n",
       "</style>\n",
       "<table border=\"1\" class=\"dataframe\">\n",
       "  <thead>\n",
       "    <tr style=\"text-align: right;\">\n",
       "      <th></th>\n",
       "      <th>pred: no delay</th>\n",
       "      <th>pred: delay</th>\n",
       "    </tr>\n",
       "  </thead>\n",
       "  <tbody>\n",
       "    <tr>\n",
       "      <th>true: no delay</th>\n",
       "      <td>0.618561</td>\n",
       "      <td>0.178458</td>\n",
       "    </tr>\n",
       "    <tr>\n",
       "      <th>true: delay</th>\n",
       "      <td>0.055537</td>\n",
       "      <td>0.147443</td>\n",
       "    </tr>\n",
       "  </tbody>\n",
       "</table>\n",
       "</div>"
      ],
      "text/plain": [
       "                pred: no delay  pred: delay\n",
       "true: no delay        0.618561     0.178458\n",
       "true: delay           0.055537     0.147443"
      ]
     },
     "execution_count": 147,
     "metadata": {},
     "output_type": "execute_result"
    }
   ],
   "source": [
    "# Confusion matrix 'RF important delay'\n",
    "matrix_keras_i = confusion_matrix(y_true=y_va_arr_imp_delay_binary, y_pred=keras_curve_i,normalize='all') # normalize either on columns/rows or all\n",
    "matrix_keras_i = pd.DataFrame(\n",
    "    matrix_keras_i, \n",
    "    columns=['pred: no delay', 'pred: important_delay'],\n",
    "    index=['true: no delay', 'true: important_delay']\n",
    ")\n",
    "print('Confusion matrix (normalized): Keras Important delay')\n",
    "matrix_keras_d"
   ]
  },
  {
   "cell_type": "markdown",
   "metadata": {},
   "source": [
    "**Comments (Keras):**\n",
    "* Model seems to be able to capture patterns from early iterations/epochs and has therefore low improvements (as can be seen on 4-box line graphs)\n",
    "* Overall strong performance on both delay and important delay with high f1 scores on par with best classifiers at 0.56 and 0.23"
   ]
  },
  {
   "cell_type": "markdown",
   "metadata": {},
   "source": [
    "#### Performance on test set (Keras) <a name='keras_test' />\n",
    "*<a href=#top>Back to top</a>*"
   ]
  },
  {
   "cell_type": "code",
   "execution_count": 262,
   "metadata": {},
   "outputs": [
    {
     "name": "stdout",
     "output_type": "stream",
     "text": [
      "Area Under PR Curve: 0.647\n",
      "Probabilities: [[0.5925672 ]\n",
      " [0.54520875]\n",
      " [0.5689906 ]\n",
      " [0.56060505]\n",
      " [0.9215561 ]\n",
      " [0.48765883]\n",
      " [0.8491559 ]\n",
      " [0.9017005 ]\n",
      " [0.6197516 ]\n",
      " [0.5346859 ]]\n",
      "Predictions: [[1]\n",
      " [0]\n",
      " [1]\n",
      " [0]\n",
      " [1]\n",
      " [0]\n",
      " [1]\n",
      " [1]\n",
      " [1]\n",
      " [0]]\n",
      "Classification report: Keras delay TEST - optimzed threshold at 0.569 on PR curve\n",
      "              precision    recall  f1-score   support\n",
      "\n",
      "    no_delay       0.89      0.80      0.84     80088\n",
      "       delay       0.55      0.71      0.62     27278\n",
      "\n",
      "    accuracy                           0.78    107366\n",
      "   macro avg       0.72      0.76      0.73    107366\n",
      "weighted avg       0.80      0.78      0.79    107366\n",
      "\n"
     ]
    }
   ],
   "source": [
    "# delay\n",
    "keras_test_probs_pos_d = cw_model.predict(X_te_arr_reindex)\n",
    "keras_precision_test_d, keras_recall_test_d, _ = precision_recall_curve(y_te_arr_delay_binary, keras_test_probs_pos_d, pos_label=1)\n",
    "keras_test_auc_pr_d = auc(keras_recall_test_d, keras_precision_test_d)\n",
    "print('Area Under PR Curve: {:.3f}'.format(keras_test_auc_pr_d))\n",
    "# use threshold in model\n",
    "keras_test_d = np.where(cw_model.predict(X_te_arr_reindex) > keras_bt_d, 1,0) # with Keras 'predict' gives probability (shouldn't use 'predict_proba')\n",
    "print('Probabilities:',cw_model.predict(X_te_arr_reindex)[0:10])\n",
    "print('Predictions:',keras_test_d[0:10])\n",
    "print('Classification report: Keras delay TEST - optimzed threshold at {:.3f} on PR curve'.format(keras_bt_d))\n",
    "report_keras_test_d = classification_report(y_true=y_te_arr_delay_binary, y_pred=keras_test_d, target_names=['no_delay','delay'])\n",
    "f1_keras_test_d = classification_report(y_true=y_te_arr_delay_binary, y_pred=keras_test_d, target_names=['no_delay','delay'], output_dict=True)['delay']['f1-score']\n",
    "precision_keras_test_d = classification_report(y_true=y_te_arr_delay_binary, y_pred=keras_test_d, target_names=['no_delay','delay'], output_dict=True)['delay']['precision']\n",
    "recall_keras_test_d = classification_report(y_true=y_te_arr_delay_binary, y_pred=keras_test_d, target_names=['no_delay','delay'], output_dict=True)['delay']['recall']\n",
    "print(report_keras_test_d)"
   ]
  },
  {
   "cell_type": "code",
   "execution_count": 264,
   "metadata": {},
   "outputs": [
    {
     "name": "stdout",
     "output_type": "stream",
     "text": [
      "Area Under PR Curve: 0.288\n",
      "Probabilities: [[0.49247447]\n",
      " [0.492954  ]\n",
      " [0.5895435 ]\n",
      " [0.59583604]\n",
      " [0.728505  ]\n",
      " [0.5253348 ]\n",
      " [0.6661505 ]\n",
      " [0.6897077 ]\n",
      " [0.5935712 ]\n",
      " [0.5493499 ]]\n",
      "Predictions: [[0]\n",
      " [0]\n",
      " [0]\n",
      " [0]\n",
      " [1]\n",
      " [0]\n",
      " [1]\n",
      " [1]\n",
      " [0]\n",
      " [0]]\n",
      "Classification report: Keras important delay TEST - optimzed threshold at 0.604 on PR curve\n",
      "                 precision    recall  f1-score   support\n",
      "\n",
      "       no_delay       0.95      0.95      0.95    100362\n",
      "important_delay       0.30      0.33      0.31      7004\n",
      "\n",
      "       accuracy                           0.91    107366\n",
      "      macro avg       0.63      0.64      0.63    107366\n",
      "   weighted avg       0.91      0.91      0.91    107366\n",
      "\n"
     ]
    }
   ],
   "source": [
    "# important delay\n",
    "keras_test_probs_pos_i = cw_model_i.predict(X_te_arr_reindex)\n",
    "keras_precision_test_i, keras_recall_test_i, _ = precision_recall_curve(y_te_arr_imp_delay_binary, keras_test_probs_pos_i, pos_label=1)\n",
    "keras_test_auc_pr_i = auc(keras_recall_test_i, keras_precision_test_i)\n",
    "print('Area Under PR Curve: {:.3f}'.format(keras_test_auc_pr_i))\n",
    "# use threshold in model\n",
    "keras_test_i = np.where(cw_model_i.predict(X_te_arr_reindex) > keras_bt_i, 1,0) # with Keras 'predict' gives probability (shouldn't use 'predict_proba')\n",
    "print('Probabilities:',cw_model_i.predict(X_te_arr_reindex)[0:10])\n",
    "print('Predictions:',keras_test_i[0:10])\n",
    "print('Classification report: Keras important delay TEST - optimzed threshold at {:.3f} on PR curve'.format(keras_bt_i))\n",
    "report_keras_test_i = classification_report(y_true=y_te_arr_imp_delay_binary, y_pred=keras_test_i, target_names=['no_delay','important_delay'])\n",
    "f1_keras_test_i = classification_report(y_true=y_te_arr_imp_delay_binary, y_pred=keras_test_i, target_names=['no_delay','important_delay'], output_dict=True)['important_delay']['f1-score']\n",
    "precision_keras_test_i = classification_report(y_true=y_te_arr_imp_delay_binary, y_pred=keras_test_i, target_names=['no_delay','important_delay'], output_dict=True)['important_delay']['precision']\n",
    "recall_keras_test_i = classification_report(y_true=y_te_arr_imp_delay_binary, y_pred=keras_test_i, target_names=['no_delay','important_delay'], output_dict=True)['important_delay']['recall']\n",
    "print(report_keras_test_i)"
   ]
  },
  {
   "cell_type": "markdown",
   "metadata": {},
   "source": [
    "## Final comparison and comments\n",
    "*<a href=#top>Back to top</a>*\n",
    "\n",
    "### Final comments\n",
    "- **F1 scores:**\n",
    "    * Delay: \n",
    "        * Two classifiers (k-NN untuned and RandomForest) are under-performing slightly\n",
    "        * All other clasifiers are reaching almost same f1 score ~0.63 with LogisticRegression reaching the highest score at 0.635\n",
    "        * From all classifiers performing well, Keras is the one with the best balance between precision (0.55) and recall (0.71)\n",
    "    * Important delay:\n",
    "        * Two classifiers (k-NN untuned and DecisionTree) are under-performing slightly\n",
    "        * All other clasifiers are reaching almost same f1 score ~0.30 with Keras reaching the highest score at 0.313\n",
    "        * From all classifiers performing well LogisticRegression, RandomForest and Keras have the strongest balance between precision and recall (0.55)\n",
    "- **Area under Precision-Recall:**\n",
    "    * Delay:\n",
    "        * Baseline (0.25) is largely over-performed by all classifiers (0.58 to 0.64)\n",
    "        * SVC Linear and LogisticRegression achieve the highest AUC with 0.652, Keras is very second with 0.647\n",
    "    * Important delay: \n",
    "        * Baseline (0.06) is largely over-performed by all classifiers (0.22 to 0.29)\n",
    "        * Keras achieves the highst AUC with 0.288, SVC Linear (0.281) very close\n",
    "\n",
    "\n",
    "* **Overall comment:** link back to initial question. How often trains are delay at arrival? Is it possible to predict?\n",
    "    * Classifiers: Keras, LogisticRegression and Linear SVC seem to be over-performing other classifiers on those tasks and getting very close results one to another. DecisionTree and RandomForest have good results on train-validatoin sets but seems to have over-fitting impacting performance on test set. K-NN achieves good performance given the fact is has not been tuned.\n",
    "    * Optimization: hyper-parameters (incl. class_weight) tuning and threshold optimization prove to have significant impact on final performance of the models\n",
    "    * Preditions: Overall performance relatively low with precision and recall between 0.5 and 0.7 seems to indicate there are limited number of patterns to extract from the data to perdict delay. This would indicate that delays are not a systematic issues in some connection, don't happen frequently on same connection and are therefore relatively hard to precit\n",
    "    \n",
    "\n",
    "- **Limitations and additional steps:**\n",
    "    * Limitation - scope: would have needed to use more data points to get to better models. It seems there was very few patterns to identify from 2-3 weeks of data (which probably indicates that delays on swiss trian network is rather rare and not frequent on same lines). Could have limited to even smaller scope but include 2-3 months of data.\n",
    "    * Limitation - features: additional feature engineering or external data points could have helped enhanced a data set which had alsmot only categorical variables\n",
    "    * Additional steps: didn't cover over- and under-sampling which would also improve performance\n",
    "    * Alternative steps: could have thought of aggregating data and buildling model for example at \"stop\" level instead of each connections. This could have allowed to take into consideration data for a longer time period\n",
    "    \n",
    "\n"
   ]
  },
  {
   "cell_type": "markdown",
   "metadata": {},
   "source": [
    "### Final comparison <a name='final' />\n",
    "*<a href=#top>Back to top</a>*"
   ]
  },
  {
   "cell_type": "markdown",
   "metadata": {},
   "source": [
    "#### F1 scores <a name='final_f1' />"
   ]
  },
  {
   "cell_type": "code",
   "execution_count": 150,
   "metadata": {},
   "outputs": [
    {
     "name": "stdout",
     "output_type": "stream",
     "text": [
      "DELAY - F1 SCORE\n",
      "LogisticRegression - delay: 0.635\n",
      "k-nn - delay: 0.537\n",
      "SVC Linear - delay: 0.628\n",
      "DecisionTree - delay: 0.627\n",
      "RandomForest - delay: 0.595\n",
      "Keras - delay: 0.620\n",
      "***\n",
      "IMPORTANT DELAY - F1 SCORE\n",
      "LogisticRegression - important delay: 0.298\n",
      "k-nn - important delay: 0.163\n",
      "SVC Linear - important delay: 0.322\n",
      "DecisionTree - important delay: 0.216\n",
      "RandomForest - important delay: 0.296\n",
      "Keras - important delay: 0.313\n"
     ]
    }
   ],
   "source": [
    "print('DELAY - F1 SCORE')\n",
    "print('LogisticRegression - delay: {:.3f}'.format(f1_logreg_test_d))\n",
    "print('k-nn - delay: {:.3f}'.format(f1_knn_test_d))\n",
    "print('SVC Linear - delay: {:.3f}'.format(f1_svc_test_d))\n",
    "print('DecisionTree - delay: {:.3f}'.format(f1_dt_test_d))\n",
    "print('RandomForest - delay: {:.3f}'.format(f1_rf_test_d))\n",
    "print('Keras - delay: {:.3f}'.format(f1_keras_test_d))\n",
    "print('***')\n",
    "print('IMPORTANT DELAY - F1 SCORE')\n",
    "print('LogisticRegression - important delay: {:.3f}'.format(f1_logreg_test_i))\n",
    "print('k-nn - important delay: {:.3f}'.format(f1_knn_test_i))\n",
    "print('SVC Linear - important delay: {:.3f}'.format(f1_svc_test_i))\n",
    "print('DecisionTree - important delay: {:.3f}'.format(f1_dt_test_i))\n",
    "print('RandomForest - important delay: {:.3f}'.format(f1_rf_test_i))\n",
    "print('Keras - important delay: {:.3f}'.format(f1_keras_test_i))"
   ]
  },
  {
   "cell_type": "markdown",
   "metadata": {},
   "source": [
    "### bar charts comparison on f1, precision and recall <a name='final_bar' />\n",
    "*<a href=#top>Back to top</a>*"
   ]
  },
  {
   "cell_type": "code",
   "execution_count": 242,
   "metadata": {},
   "outputs": [
    {
     "data": {
      "image/png": "[encoded data removed]",
      "text/plain": [
       "<Figure size 432x288 with 1 Axes>"
      ]
     },
     "metadata": {
      "needs_background": "light"
     },
     "output_type": "display_data"
    }
   ],
   "source": [
    "x_f1=[1,2,3,4,5,6]\n",
    "x_precision = []\n",
    "for x_p in x_f1: x_precision.append(x_p + 0.2)\n",
    "x_recall = []\n",
    "for x_r in x_f1: x_recall.append(x_r - 0.2)\n",
    "    \n",
    "h_f1_d = [f1_logreg_test_d,f1_knn_test_d,f1_svc_test_d,f1_dt_test_d,f1_rf_test_d,f1_keras_test_d]\n",
    "h_precision_d = [precision_logreg_test_d,precision_knn_test_d,precision_svc_test_d,precision_dt_test_d,precision_rf_test_d,precision_keras_test_d]\n",
    "h_recall_d = [recall_logreg_test_d,recall_knn_test_d,recall_svc_test_d,recall_dt_test_d,recall_rf_test_d,recall_keras_test_d]\n",
    "\n",
    "plt.bar(x=x_f1, height=h_f1_d, label='F1 score', alpha=0.8)\n",
    "plt.bar(x=x_precision, height=h_recall_d, color='orange', alpha=0.2, width=0.4, label='Precision')\n",
    "plt.bar(x=x_recall, height=h_precision_d, color='red', alpha=0.2, width=0.4, label='Recall')\n",
    "plt.xticks(ticks=[1,2,3,4,5,6],labels=['LogisticRegression','K-NN','SVC Linear','DecisionTree','RandomForest','Keras'], rotation=70)\n",
    "plt.ylabel('F1, Precision and Recall - Delay')\n",
    "plt.ylim((0.4,1))\n",
    "plt.title('Delay prediction - classifiers comparison')\n",
    "plt.legend()\n",
    "plt.show()"
   ]
  },
  {
   "cell_type": "code",
   "execution_count": 271,
   "metadata": {},
   "outputs": [
    {
     "data": {
      "image/png": "[encoded data removed]",
      "text/plain": [
       "<Figure size 432x288 with 1 Axes>"
      ]
     },
     "metadata": {
      "needs_background": "light"
     },
     "output_type": "display_data"
    }
   ],
   "source": [
    "x_f1=[1,2,3,4,5,6,7]\n",
    "x_precision = []\n",
    "for x_p in x_f1: x_precision.append(x_p + 0.2)\n",
    "x_recall = []\n",
    "for x_r in x_f1: x_recall.append(x_r - 0.2)\n",
    "    \n",
    "h_f1_i = [f1_logreg_test_i,f1_knn_test_i,f1_svc_test_i,f1_dt_test_i,f1_rf_test_i,f1_rf_test_m,f1_keras_test_i]\n",
    "h_precision_i = [precision_logreg_test_i,precision_knn_test_i,precision_svc_test_i,precision_dt_test_i,precision_rf_test_i,precision_rf_test_m,precision_keras_test_i]\n",
    "h_recall_i = [recall_logreg_test_i,recall_knn_test_i,recall_svc_test_i,recall_dt_test_i,recall_rf_test_i,recall_rf_test_m,recall_keras_test_i]\n",
    "\n",
    "plt.bar(x=x_f1, height=h_f1_i, label='F1 score', alpha=0.8)\n",
    "plt.bar(x=x_precision, height=h_recall_i, color='orange', alpha=0.2, width=0.4, label='Precision')\n",
    "plt.bar(x=x_recall, height=h_precision_i, color='red', alpha=0.2, width=0.4, label='Recall')\n",
    "plt.xticks(ticks=[1,2,3,4,5,6,7],labels=['LogisticRegression','K-NN','SVC Linear','DecisionTree','RandomForest','RandomForest Multi','Keras'], rotation=70)\n",
    "plt.ylabel('F1, Precision and Recall - Important delay')\n",
    "plt.ylim((0,1))\n",
    "plt.title('Important delay prediction - classifiers comparison')\n",
    "plt.legend()\n",
    "plt.show()\n",
    "# have area under curve directly after name of classifier?"
   ]
  },
  {
   "cell_type": "markdown",
   "metadata": {},
   "source": [
    "#### Area under precision-recall cuvre comparison <a name='final_auprc' />\n",
    "*<a href=#top>Back to top</a>*\n",
    "<br>*<a href=#logreg_a_pr>Initial area under pr curve</a>*"
   ]
  },
  {
   "cell_type": "code",
   "execution_count": 267,
   "metadata": {},
   "outputs": [
    {
     "name": "stdout",
     "output_type": "stream",
     "text": [
      "DELAY - AUPRC\n",
      "LogisticRegression - delay: 0.652\n",
      "k-nn - delay: 0.610\n",
      "SVC Linear - delay: 0.652\n",
      "DecisionTree - delay: 0.591\n",
      "RandomForest - delay: 0.583\n",
      "Keras - delay: 0.647\n",
      "***\n",
      "IMPORTANT DELAY - AUPRC\n",
      "LogisticRegression - important delay: 0.270\n",
      "k-nn - important delay: 0.223\n",
      "SVC Linear - important delay: 0.281\n",
      "DecisionTree - important delay: 0.256\n",
      "RandomForest - important delay: 0.263\n",
      "Keras - important delay: 0.288\n"
     ]
    }
   ],
   "source": [
    "## probably still needs to be calculated for test test for all classifiers \n",
    "\n",
    "print('DELAY - AUPRC')\n",
    "print('LogisticRegression - delay: {:.3f}'.format(lr_test_auc_pr_d)) # on validation data\n",
    "print('k-nn - delay: {:.3f}'.format(knn_test_auc_pr_d))\n",
    "print('SVC Linear - delay: {:.3f}'.format(svc_test_auc_pr_d))\n",
    "print('DecisionTree - delay: {:.3f}'.format(dt_test_auc_pr_d))\n",
    "print('RandomForest - delay: {:.3f}'.format(rf_test_auc_pr_d))\n",
    "print('Keras - delay: {:.3f}'.format(keras_test_auc_pr_d))\n",
    "print('***')\n",
    "print('IMPORTANT DELAY - AUPRC')\n",
    "print('LogisticRegression - important delay: {:.3f}'.format(lr_test_auc_pr_i)) # on validation data\n",
    "print('k-nn - important delay: {:.3f}'.format(knn_test_auc_pr_i))\n",
    "print('SVC Linear - important delay: {:.3f}'.format(svc_test_auc_pr_i))\n",
    "print('DecisionTree - important delay: {:.3f}'.format(dt_test_auc_pr_i))\n",
    "print('RandomForest - important delay: {:.3f}'.format(rf_test_auc_pr_i))\n",
    "print('Keras - important delay: {:.3f}'.format(keras_test_auc_pr_i))"
   ]
  },
  {
   "cell_type": "code",
   "execution_count": 269,
   "metadata": {},
   "outputs": [
    {
     "data": {
      "image/png": "[encoded data removed]",
      "text/plain": [
       "<Figure size 864x360 with 2 Axes>"
      ]
     },
     "metadata": {
      "needs_background": "light"
     },
     "output_type": "display_data"
    }
   ],
   "source": [
    "# plot the precision-recall curves for all models on test set\n",
    "fig, (ax1, ax2) = plt.subplots(1, 2, figsize=(12,5))\n",
    "\n",
    "lr_precision_test_d, lr_recall_test_d, _ = precision_recall_curve(y_te_arr_delay_binary, lr_test_probs_pos_d, pos_label=1)\n",
    "lr_test_auc_pr_d\n",
    "\n",
    "ax1.plot([0,1], [(27278/107366),(27278/107366)], linestyle='--', label='Baseline, {:.3f}'.format(27278/107366))  # baseline is share of positive classes\n",
    "ax1.plot(lr_recall_test_d, lr_precision_test_d, marker='.', label='logistic, {:.3f}'.format(lr_test_auc_pr_d))\n",
    "ax1.plot(knn_recall_test_d, knn_precision_test_d, marker='.', label='knn, {:.3f}'.format(knn_test_auc_pr_d))\n",
    "ax1.plot(svc_recall_test_d, svc_precision_test_d, marker='.', label='SVC Linear, {:.3f}'.format(svc_test_auc_pr_d))\n",
    "ax1.plot(dt_recall_test_d, dt_precision_test_d, marker='.', label='DecisionTree, {:.3f}'.format(dt_test_auc_pr_d))\n",
    "ax1.plot(rf_recall_test_d, rf_precision_test_d, marker='.', label='RandomForest, {:.3f}'.format(rf_test_auc_pr_d))\n",
    "ax1.plot(keras_recall_test_d, keras_precision_test_d, marker='.', label='Keras, {:.3f}'.format(keras_test_auc_pr_d))\n",
    "ax1.set_xlabel('Recall')\n",
    "ax1.set_ylabel('Precision')\n",
    "ax1.legend(title='Area under curve')\n",
    "ax1.set_title('PR curve: Delay')\n",
    "\n",
    "ax2.plot([0,1], [(7004/107366),(7004/107366)], linestyle='--', label='Baseline, {:.3f}'.format(7004/107366))  # baseline is share of positive classes\n",
    "ax2.plot(lr_recall_test_i, lr_precision_test_i, marker='.', label='logistic, {:.3f}'.format(lr_test_auc_pr_i))\n",
    "ax2.plot(knn_recall_test_i, knn_precision_test_i, marker='.', label='knn, {:.3f}'.format(knn_test_auc_pr_i))\n",
    "ax2.plot(svc_recall_test_i, svc_precision_test_i, marker='.', label='SVC Linear, {:.3f}'.format(svc_test_auc_pr_i))\n",
    "ax2.plot(dt_recall_test_i, dt_precision_test_i, marker='.', label='DecisionTree, {:.3f}'.format(dt_test_auc_pr_i))\n",
    "ax2.plot(rf_recall_test_i, rf_precision_test_i, marker='.', label='RandomForest, {:.3f}'.format(rf_test_auc_pr_i))\n",
    "ax2.plot(keras_recall_test_i, keras_precision_test_i, marker='.', label='Keras, {:.3f}'.format(keras_test_auc_pr_i))\n",
    "ax2.set_xlabel('Recall')\n",
    "ax2.set_ylabel('Precision')\n",
    "ax2.legend(title='Area under curve')\n",
    "ax2.set_title('PR curve: Important delay')\n",
    "\n",
    "plt.show()"
   ]
  },
  {
   "cell_type": "code",
   "execution_count": 1,
   "metadata": {},
   "outputs": [],
   "source": [
    "# Note: incorrect title above, please ignore 'Logistic Regression'"
   ]
  },
  {
   "cell_type": "code",
   "execution_count": null,
   "metadata": {},
   "outputs": [],
   "source": []
  }
 ],
 "metadata": {
  "kernelspec": {
   "display_name": "Python 3",
   "language": "python",
   "name": "python3"
  },
  "language_info": {
   "codemirror_mode": {
    "name": "ipython",
    "version": 3
   },
   "file_extension": ".py",
   "mimetype": "text/x-python",
   "name": "python",
   "nbconvert_exporter": "python",
   "pygments_lexer": "ipython3",
   "version": "3.6.10"
  }
 },
 "nbformat": 4,
 "nbformat_minor": 4
}
